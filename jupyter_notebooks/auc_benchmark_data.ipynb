{
 "cells": [
  {
   "cell_type": "code",
   "execution_count": 147,
   "metadata": {},
   "outputs": [],
   "source": [
    "import pandas as pd\n",
    "import numpy as np\n",
    "import matplotlib.pyplot as plt\n",
    "import re\n",
    "\n",
    "%matplotlib inline"
   ]
  },
  {
   "cell_type": "code",
   "execution_count": 153,
   "metadata": {},
   "outputs": [],
   "source": [
    "interpretability_bounds = dict(\n",
    "    fraction_overlap=0.1,\n",
    "    fraction_classes=1,\n",
    "    fraction_uncovered=0.15,\n",
    "    average_rule_width=8,\n",
    "    ruleset_length=10\n",
    ")\n",
    "\n",
    "def is_solution_interpretable(metrics):\n",
    "    return (\n",
    "        metrics[\"fraction_overlap\"] <= interpretability_bounds[\"fraction_overlap\"] and\n",
    "        metrics[\"fraction_classes\"] >= interpretability_bounds[\"fraction_classes\"] and\n",
    "        metrics[\"fraction_uncovered\"] <= interpretability_bounds[\"fraction_uncovered\"] and\n",
    "        metrics[\"average_rule_width\"] <= interpretability_bounds[\"average_rule_width\"] and\n",
    "        metrics[\"ruleset_length\"] <= interpretability_bounds[\"ruleset_length\"]\n",
    "    )\n",
    "\n",
    "is_solution_interpretable_np = np.vectorize(is_solution_interpretable)"
   ]
  },
  {
   "cell_type": "code",
   "execution_count": 210,
   "metadata": {},
   "outputs": [],
   "source": [
    "def process_numbers(x):\n",
    "    if type(x) == float:\n",
    "        x_rounded = round(x, 2)\n",
    "        x_rounded_str = str(x_rounded)\n",
    "        \n",
    "        m_d0 = re.search(\"^(\\d\\.\\d)0$\", x_rounded_str)\n",
    "        \n",
    "        if x_rounded_str in [\"0.00\", \"0.0\"]:\n",
    "            return \"0\"\n",
    "        elif int(x_rounded) == float(x_rounded):\n",
    "            return str(int(x_rounded))\n",
    "        elif m_d0:\n",
    "            return m_d0.group(1)\n",
    "        else:\n",
    "            return x_rounded\n",
    "    \n",
    "    return x\n",
    "\n",
    "def swap_comma(x):\n",
    "    return str(x).replace(\".\", \",\")"
   ]
  },
  {
   "cell_type": "code",
   "execution_count": 211,
   "metadata": {},
   "outputs": [],
   "source": [
    "def get_interpretable_column(auc_df):\n",
    "    interpretable_arr = []\n",
    "    \n",
    "    for row in auc_df.iterrows():\n",
    "        interpretable = is_solution_interpretable(row[1])\n",
    "        interpretable_arr.append(interpretable)\n",
    "        \n",
    "    return interpretable_arr\n",
    "    \n"
   ]
  },
  {
   "cell_type": "code",
   "execution_count": 219,
   "metadata": {},
   "outputs": [],
   "source": [
    "def process_auc_dataframe(auc_df):\n",
    "    auc_df = auc_df[auc_df.columns[1:]]\n",
    "    dataset_mask = auc_df[\"dataset_name\"].isin([\"iris\", \"lymph\", \"anneal\"])\n",
    "    \n",
    "    auc_df_processed = auc_df[dataset_mask].groupby([\"dataset_name\", \"algorithm\"]).mean()\n",
    "    auc_df_processed[\"Interpretable\"] = get_interpretable_column(auc_df_processed)\n",
    "    \n",
    "    selected_columns = [\"auc\", \"fraction_classes\", \"fraction_overlap\", \"fraction_uncovered\", \"average_rule_width\", \"ruleset_length\", \"Interpretable\", \"rule_cutoff\"]\n",
    "\n",
    "    auc_df_processed = auc_df_processed[selected_columns]\n",
    "    auc_df_processed = auc_df_processed.applymap(lambda x: round(x, 2))\n",
    "    auc_df_processed.columns = [\n",
    "        \"AUC\",\n",
    "        \"Fraction Classes\",\n",
    "        \"Fraction Overlap\",\n",
    "        \"Fraction Uncovered\",\n",
    "        \"Average Rule Width\",\n",
    "        \"Ruleset Length\",\n",
    "        \"Interpretable\",\n",
    "        \"Rule Cutoff\"\n",
    "    ]\n",
    "    auc_df_processed.index.names = [\"Dataset\", \"Algorithm\"]\n",
    "    \n",
    "    auc_df_processed[\"Interpretable\"]  = auc_df_processed[\"Interpretable\"].apply(lambda x: \"Y\" if x else \"N\") \n",
    "\n",
    "    auc_df_processed = auc_df_processed.applymap(process_numbers).applymap(swap_comma)\n",
    "    \n",
    "    return auc_df_processed\n",
    "\n",
    "def preprocess_to_latex(df):\n",
    "    processed_df = df.copy()\n",
    "    new_cols = [ f\"\\rot{{90}}{{0em}}{{{col}}}\" for col in processed_df.columns ]\n",
    "    \n",
    "    processed_df.columns = new_cols\n",
    "    \n",
    "    return processed_df"
   ]
  },
  {
   "cell_type": "code",
   "execution_count": null,
   "metadata": {},
   "outputs": [],
   "source": [
    "def to_latex(input_path, output_path):\n",
    "    df = pd.read_csv(input_path)\n",
    "    processed_df = process_auc_dataframe(df)\n",
    "    processed_df_prelatex = preprocess_to_latex(processed_df)\n",
    "    processed_df_latex = processed_df_prelatex.to_latex(escape=False, column_format=\"ccllllllll\")\n",
    "\n",
    "    open(output_path, \"w\").write(processed_df_latex)"
   ]
  },
  {
   "cell_type": "code",
   "execution_count": 225,
   "metadata": {},
   "outputs": [
    {
     "data": {
      "text/plain": [
       "3838"
      ]
     },
     "execution_count": 225,
     "metadata": {},
     "output_type": "execute_result"
    }
   ],
   "source": [
    "benchmark_auc_only_df = pd.read_csv(\"../output_data/auc_only_pyids_benchmark.csv\")\n",
    "processed_auc_only_pyids = process_auc_dataframe(benchmark_auc_only_df)\n",
    "processed_auc_only_pyids_prelatex = preprocess_to_latex(processed_auc_only_pyids)\n",
    "processed_auc_only_pyids_latex = processed_auc_only_pyids_prelatex.to_latex(escape=False, column_format=\"ccllllllll\")\n",
    "\n",
    "open(\"../output_data/auc_only_pyids_benchmark_table.tex\", \"w\").write(processed_auc_only_pyids_latex)"
   ]
  },
  {
   "cell_type": "code",
   "execution_count": null,
   "metadata": {},
   "outputs": [],
   "source": [
    "benchmark_cba_auc_only_df = pd.read_csv(\"../output_data/cba_auc_interpretability_benchmark.csv\")\n",
    "\n",
    "processed_cba_auc_only = process_auc_dataframe(benchmark_cba_auc_only_df)\n",
    "\n",
    "processed_cba_auc_only_prelatex = preprocess_to_latex(processed_cba_auc_only)\n",
    "\n",
    "processed_auc_only_pyids_latex = processed_cba_auc_only_prelatex.to_latex(escape=False, column_format=\"ccllllllll\")"
   ]
  }
 ],
 "metadata": {
  "kernelspec": {
   "display_name": "Python 3",
   "language": "python",
   "name": "python3"
  },
  "language_info": {
   "codemirror_mode": {
    "name": "ipython",
    "version": 3
   },
   "file_extension": ".py",
   "mimetype": "text/x-python",
   "name": "python",
   "nbconvert_exporter": "python",
   "pygments_lexer": "ipython3",
   "version": "3.7.3"
  }
 },
 "nbformat": 4,
 "nbformat_minor": 2
}
