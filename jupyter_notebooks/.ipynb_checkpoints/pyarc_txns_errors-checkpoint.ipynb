{
 "cells": [
  {
   "cell_type": "code",
   "execution_count": 17,
   "metadata": {
    "collapsed": true
   },
   "outputs": [],
   "source": [
    "import pandas as pd\n",
    "\n",
    "iris = pd.read_csv(\"../data/iris0.csv\")"
   ]
  },
  {
   "cell_type": "code",
   "execution_count": 18,
   "metadata": {
    "collapsed": true
   },
   "outputs": [],
   "source": [
    "from pyarc.algorithms import top_rules"
   ]
  },
  {
   "cell_type": "code",
   "execution_count": 38,
   "metadata": {
    "collapsed": true
   },
   "outputs": [],
   "source": [
    "from pyarc.data_structures import TransactionDB\n",
    "txns = TransactionDB.from_DataFrame(iris.iloc[:,:-1])\n",
    "\n",
    "\n",
    "output = fim.apriori(txns.string_representation, supp=0.2*100, report=\"s\")"
   ]
  },
  {
   "cell_type": "code",
   "execution_count": 39,
   "metadata": {},
   "outputs": [
    {
     "data": {
      "text/plain": [
       "[(('sepalwidth:=:3.35_to_inf',), 0.23703703703703705),\n",
       " (('sepalwidth:=:3.35_to_inf',\n",
       "   'petalwidth:=:-inf_to_0.8',\n",
       "   'petallength:=:-inf_to_2.45'),\n",
       "  0.2),\n",
       " (('sepalwidth:=:3.35_to_inf', 'petalwidth:=:-inf_to_0.8'), 0.2),\n",
       " (('sepalwidth:=:3.35_to_inf', 'petallength:=:-inf_to_2.45'), 0.2),\n",
       " (('sepallength:=:5.55_to_6.25',), 0.25925925925925924),\n",
       " (('petallength:=:2.45_to_4.75', 'petalwidth:=:0.8_to_1.75'),\n",
       "  0.3037037037037037),\n",
       " (('petallength:=:2.45_to_4.75',), 0.3037037037037037),\n",
       " (('petallength:=:2.45_to_4.75',\n",
       "   'sepalwidth:=:-inf_to_2.95',\n",
       "   'petalwidth:=:0.8_to_1.75'),\n",
       "  0.21481481481481482),\n",
       " (('petallength:=:2.45_to_4.75', 'sepalwidth:=:-inf_to_2.95'),\n",
       "  0.21481481481481482),\n",
       " (('petalwidth:=:1.75_to_inf', 'petallength:=:4.75_to_inf'),\n",
       "  0.3037037037037037),\n",
       " (('petalwidth:=:1.75_to_inf',), 0.3037037037037037),\n",
       " (('petalwidth:=:1.75_to_inf',\n",
       "   'sepallength:=:6.25_to_inf',\n",
       "   'petallength:=:4.75_to_inf'),\n",
       "  0.23703703703703705),\n",
       " (('petalwidth:=:1.75_to_inf', 'sepallength:=:6.25_to_inf'),\n",
       "  0.23703703703703705),\n",
       " (('petalwidth:=:-inf_to_0.8', 'petallength:=:-inf_to_2.45'),\n",
       "  0.3333333333333333),\n",
       " (('petalwidth:=:-inf_to_0.8',), 0.3333333333333333),\n",
       " (('petalwidth:=:-inf_to_0.8',\n",
       "   'sepallength:=:-inf_to_5.55',\n",
       "   'petallength:=:-inf_to_2.45'),\n",
       "  0.3111111111111111),\n",
       " (('petalwidth:=:-inf_to_0.8', 'sepallength:=:-inf_to_5.55'),\n",
       "  0.3111111111111111),\n",
       " (('petallength:=:-inf_to_2.45',), 0.3333333333333333),\n",
       " (('petallength:=:-inf_to_2.45', 'sepallength:=:-inf_to_5.55'),\n",
       "  0.3111111111111111),\n",
       " (('sepallength:=:6.25_to_inf',), 0.34814814814814815),\n",
       " (('sepallength:=:6.25_to_inf', 'petallength:=:4.75_to_inf'),\n",
       "  0.2740740740740741),\n",
       " (('petalwidth:=:0.8_to_1.75',), 0.362962962962963),\n",
       " (('petalwidth:=:0.8_to_1.75', 'sepalwidth:=:-inf_to_2.95'),\n",
       "  0.25925925925925924),\n",
       " (('petallength:=:4.75_to_inf',), 0.362962962962963),\n",
       " (('sepalwidth:=:2.95_to_3.35',), 0.37777777777777777),\n",
       " (('sepalwidth:=:-inf_to_2.95',), 0.3851851851851852),\n",
       " (('sepallength:=:-inf_to_5.55',), 0.3925925925925926)]"
      ]
     },
     "execution_count": 39,
     "metadata": {},
     "output_type": "execute_result"
    }
   ],
   "source": [
    "fim_rules = []\n",
    "for itemset in output:\n",
    "    pass\n",
    "\n",
    "output"
   ]
  }
 ],
 "metadata": {
  "kernelspec": {
   "display_name": "Python 3",
   "language": "python",
   "name": "python3"
  },
  "language_info": {
   "codemirror_mode": {
    "name": "ipython",
    "version": 3
   },
   "file_extension": ".py",
   "mimetype": "text/x-python",
   "name": "python",
   "nbconvert_exporter": "python",
   "pygments_lexer": "ipython3",
   "version": "3.6.1"
  }
 },
 "nbformat": 4,
 "nbformat_minor": 2
}
