{
 "cells": [
  {
   "cell_type": "code",
   "execution_count": 29,
   "metadata": {},
   "outputs": [],
   "source": [
    "from pyids.data_structures import (\n",
    "    IDS,\n",
    "    IDSRuleSet,\n",
    "    ObjectiveFunctionParameters,\n",
    "    IDSObjectiveFunction,\n",
    "    mine_IDS_ruleset,\n",
    "    mine_CARs\n",
    ")\n",
    "\n",
    "from pyarc.qcba.data_structures import QuantitativeDataFrame\n",
    "\n",
    "import pandas as pd\n",
    "import matplotlib.pyplot as plt\n",
    "import numpy as np\n",
    "\n",
    "\n",
    "%matplotlib inline"
   ]
  },
  {
   "cell_type": "code",
   "execution_count": 16,
   "metadata": {},
   "outputs": [
    {
     "name": "stdout",
     "output_type": "stream",
     "text": [
      "Running apriori with setting: confidence=0.5, support=0.0, minlen=2, maxlen=3, MAX_RULE_LEN=4\n",
      "Rule count: 52, Iteration: 1\n",
      "Increasing maxlen 4\n",
      "Running apriori with setting: confidence=0.5, support=0.0, minlen=2, maxlen=4, MAX_RULE_LEN=4\n",
      "Rule count: 76, Iteration: 2\n",
      "Decreasing confidence to 0.45\n",
      "Running apriori with setting: confidence=0.45, support=0.0, minlen=2, maxlen=4, MAX_RULE_LEN=4\n",
      "Rule count: 76, Iteration: 3\n",
      "Decreasing confidence to 0.4\n",
      "Running apriori with setting: confidence=0.4, support=0.0, minlen=2, maxlen=4, MAX_RULE_LEN=4\n",
      "Rule count: 76, Iteration: 4\n",
      "Decreasing confidence to 0.35000000000000003\n",
      "Running apriori with setting: confidence=0.35000000000000003, support=0.0, minlen=2, maxlen=4, MAX_RULE_LEN=4\n",
      "Rule count: 76, Iteration: 5\n",
      "Decreasing confidence to 0.30000000000000004\n",
      "Running apriori with setting: confidence=0.30000000000000004, support=0.0, minlen=2, maxlen=4, MAX_RULE_LEN=4\n",
      "Rule count: 76, Iteration: 6\n",
      "Decreasing confidence to 0.25000000000000006\n",
      "Running apriori with setting: confidence=0.25000000000000006, support=0.0, minlen=2, maxlen=4, MAX_RULE_LEN=4\n",
      "Rule count: 76, Iteration: 7\n",
      "Decreasing confidence to 0.20000000000000007\n",
      "Running apriori with setting: confidence=0.20000000000000007, support=0.0, minlen=2, maxlen=4, MAX_RULE_LEN=4\n",
      "Rule count: 76, Iteration: 8\n",
      "Decreasing confidence to 0.15000000000000008\n",
      "Running apriori with setting: confidence=0.15000000000000008, support=0.0, minlen=2, maxlen=4, MAX_RULE_LEN=4\n",
      "Rule count: 76, Iteration: 9\n",
      "Decreasing confidence to 0.10000000000000007\n",
      "Running apriori with setting: confidence=0.10000000000000007, support=0.0, minlen=2, maxlen=4, MAX_RULE_LEN=4\n",
      "Rule count: 76, Iteration: 10\n",
      "Decreasing confidence to 0.05000000000000007\n",
      "Running apriori with setting: confidence=0.05000000000000007, support=0.0, minlen=2, maxlen=4, MAX_RULE_LEN=4\n",
      "Rule count: 76, Iteration: 11\n",
      "Decreasing confidence to 6.938893903907228e-17\n",
      "Running apriori with setting: confidence=6.938893903907228e-17, support=0.0, minlen=2, maxlen=4, MAX_RULE_LEN=4\n",
      "Rule count: 76, Iteration: 12\n",
      "All options exhausted\n"
     ]
    }
   ],
   "source": [
    "df = pd.read_csv(\"../data/titanic.csv\")\n",
    "quant_df = QuantitativeDataFrame(df)\n",
    "\n",
    "cars = mine_CARs(df, 20)"
   ]
  },
  {
   "cell_type": "code",
   "execution_count": 17,
   "metadata": {},
   "outputs": [
    {
     "name": "stdout",
     "output_type": "stream",
     "text": [
      "cover cache prepared\n",
      "overlap cache prepared\n",
      "INFO - Number of input rules: 20\n",
      "INFO - RandomOptimizer estimated the OPTIMUM value as: 1431608.0\n",
      "INFO - Threshold value (2/(n*n) * OPT) = 7158.04. This is the standard error treshold value.\n",
      "INFO - Estimating omega for rule: IDSRule {Passenger_Cat=2nd_class,Gender=male,Age_Cat=child} => {Died=0} sup: 0.01 conf: 1.00, f1: 0.01, len: 4, id: 301\n",
      "INFO - stardard error of omega estimate: 1556.4995656921976\n",
      "INFO - omega succesfully estimated\n",
      "INFO - Estimating omega for rule: IDSRule {Age_Cat=adult,Gender=male,Passenger_Cat=2nd_class} => {Died=1} sup: 0.07 conf: 0.90, f1: 0.13, len: 4, id: 275\n",
      "INFO - stardard error of omega estimate: 1514.9813190267396\n",
      "INFO - omega succesfully estimated\n",
      "INFO - Estimating omega for rule: IDSRule {Age_Cat=adult,Gender=male,Passenger_Cat=crew} => {Died=1} sup: 0.30 conf: 0.77, f1: 0.43, len: 4, id: 232\n",
      "INFO - stardard error of omega estimate: 1997.4617618367568\n",
      "INFO - omega succesfully estimated\n",
      "INFO - Estimating omega for rule: IDSRule {Age_Cat=adult,Passenger_Cat=3rd_class,Gender=male} => {Died=1} sup: 0.17 conf: 0.83, f1: 0.29, len: 4, id: 243\n",
      "INFO - stardard error of omega estimate: 1378.5409159687645\n",
      "INFO - omega succesfully estimated\n",
      "INFO - Estimating omega for rule: IDSRule {Gender=male,Passenger_Cat=2nd_class} => {Died=1} sup: 0.07 conf: 0.85, f1: 0.13, len: 3, id: 276\n",
      "INFO - stardard error of omega estimate: 1121.851482149041\n",
      "INFO - omega succesfully estimated\n",
      "INFO - Estimating omega for rule: IDSRule {Passenger_Cat=2nd_class,Age_Cat=child} => {Died=0} sup: 0.01 conf: 1.00, f1: 0.02, len: 3, id: 302\n",
      "INFO - stardard error of omega estimate: 1768.249865827791\n",
      "INFO - omega succesfully estimated\n",
      "INFO - Estimating omega for rule: IDSRule {Gender=male,Passenger_Cat=crew} => {Died=1} sup: 0.30 conf: 0.77, f1: 0.43, len: 3, id: 233\n",
      "INFO - stardard error of omega estimate: 2117.6648311288545\n",
      "INFO - omega succesfully estimated\n",
      "INFO - Estimating omega for rule: IDSRule {Passenger_Cat=3rd_class,Gender=male} => {Died=1} sup: 0.19 conf: 0.82, f1: 0.30, len: 3, id: 244\n",
      "INFO - stardard error of omega estimate: 1423.6360813072981\n",
      "INFO - omega succesfully estimated\n",
      "INFO - Estimating omega for rule: IDSRule {Age_Cat=adult,Gender=female,Passenger_Cat=crew} => {Died=0} sup: 0.01 conf: 0.84, f1: 0.02, len: 4, id: 255\n",
      "INFO - stardard error of omega estimate: 941.3990067978615\n",
      "INFO - omega succesfully estimated\n",
      "INFO - Estimating omega for rule: IDSRule {Gender=female,Passenger_Cat=2nd_class,Age_Cat=child} => {Died=0} sup: 0.01 conf: 1.00, f1: 0.01, len: 4, id: 303\n",
      "INFO - stardard error of omega estimate: 1489.426571536845\n",
      "INFO - omega succesfully estimated\n",
      "INFO - Estimating omega for rule: IDSRule {Passenger_Cat=1st_class,Gender=male,Age_Cat=child} => {Died=0} sup: 0.00 conf: 1.00, f1: 0.00, len: 4, id: 298\n",
      "INFO - stardard error of omega estimate: 1314.4635704347231\n",
      "INFO - omega succesfully estimated\n",
      "INFO - Estimating omega for rule: IDSRule {Age_Cat=adult,Passenger_Cat=1st_class,Gender=female} => {Died=0} sup: 0.06 conf: 0.97, f1: 0.12, len: 4, id: 272\n",
      "INFO - stardard error of omega estimate: 1527.313454402861\n",
      "INFO - omega succesfully estimated\n",
      "INFO - Estimating omega for rule: IDSRule {Age_Cat=adult,Gender=male} => {Died=1} sup: 0.60 conf: 0.79, f1: 0.68, len: 3, id: 229\n",
      "INFO - stardard error of omega estimate: 1571.1549653041866\n",
      "INFO - omega succesfully estimated\n",
      "INFO - Estimating omega for rule: IDSRule {Gender=female,Passenger_Cat=crew} => {Died=0} sup: 0.01 conf: 0.84, f1: 0.02, len: 3, id: 256\n",
      "INFO - stardard error of omega estimate: 1862.2624959978118\n",
      "INFO - omega succesfully estimated\n",
      "INFO - Estimating omega for rule: IDSRule {Age_Cat=adult,Gender=female,Passenger_Cat=2nd_class} => {Died=0} sup: 0.04 conf: 0.87, f1: 0.07, len: 4, id: 284\n",
      "INFO - stardard error of omega estimate: 1608.3750775238966\n",
      "INFO - omega succesfully estimated\n",
      "INFO - Estimating omega for rule: IDSRule {Gender=male} => {Died=1} sup: 0.61 conf: 0.78, f1: 0.68, len: 2, id: 230\n",
      "INFO - stardard error of omega estimate: 1449.943203025553\n",
      "INFO - omega succesfully estimated\n",
      "INFO - Estimating omega for rule: IDSRule {Passenger_Cat=1st_class,Age_Cat=child} => {Died=0} sup: 0.00 conf: 1.00, f1: 0.00, len: 3, id: 299\n",
      "INFO - stardard error of omega estimate: 1176.0956444949534\n",
      "INFO - omega succesfully estimated\n",
      "INFO - Estimating omega for rule: IDSRule {Passenger_Cat=1st_class,Gender=female} => {Died=0} sup: 0.06 conf: 0.97, f1: 0.12, len: 3, id: 273\n",
      "INFO - stardard error of omega estimate: 2037.6521371421568\n",
      "INFO - omega succesfully estimated\n",
      "INFO - Estimating omega for rule: IDSRule {Gender=female,Passenger_Cat=2nd_class} => {Died=0} sup: 0.04 conf: 0.89, f1: 0.08, len: 3, id: 285\n",
      "INFO - stardard error of omega estimate: 1407.9393126125856\n",
      "INFO - omega succesfully estimated\n",
      "INFO - Estimating omega for rule: IDSRule {Passenger_Cat=1st_class,Gender=female,Age_Cat=child} => {Died=0} sup: 0.00 conf: 1.00, f1: 0.00, len: 4, id: 300\n",
      "INFO - stardard error of omega estimate: 1793.5828179930807\n",
      "INFO - omega succesfully estimated\n",
      "INFO - Number of input rules: 20\n",
      "INFO - RandomOptimizer estimated the OPTIMUM value as: 1434061.0\n",
      "INFO - Threshold value (2/(n*n) * OPT) = 7170.305. This is the standard error treshold value.\n",
      "INFO - Estimating omega for rule: IDSRule {Passenger_Cat=2nd_class,Gender=male,Age_Cat=child} => {Died=0} sup: 0.01 conf: 1.00, f1: 0.01, len: 4, id: 301\n",
      "INFO - stardard error of omega estimate: 1479.991146595141\n",
      "INFO - omega succesfully estimated\n",
      "INFO - Estimating omega for rule: IDSRule {Age_Cat=adult,Gender=male,Passenger_Cat=2nd_class} => {Died=1} sup: 0.07 conf: 0.90, f1: 0.13, len: 4, id: 275\n",
      "INFO - stardard error of omega estimate: 1562.5014793592998\n",
      "INFO - omega succesfully estimated\n",
      "INFO - Estimating omega for rule: IDSRule {Age_Cat=adult,Gender=male,Passenger_Cat=crew} => {Died=1} sup: 0.30 conf: 0.77, f1: 0.43, len: 4, id: 232\n",
      "INFO - stardard error of omega estimate: 1064.8640687900029\n",
      "INFO - omega succesfully estimated\n",
      "INFO - Estimating omega for rule: IDSRule {Age_Cat=adult,Passenger_Cat=3rd_class,Gender=male} => {Died=1} sup: 0.17 conf: 0.83, f1: 0.29, len: 4, id: 243\n",
      "INFO - stardard error of omega estimate: 1224.9277644008237\n",
      "INFO - omega succesfully estimated\n",
      "INFO - Estimating omega for rule: IDSRule {Gender=male,Passenger_Cat=2nd_class} => {Died=1} sup: 0.07 conf: 0.85, f1: 0.13, len: 3, id: 276\n",
      "INFO - stardard error of omega estimate: 890.1934042667358\n",
      "INFO - omega succesfully estimated\n",
      "INFO - Estimating omega for rule: IDSRule {Passenger_Cat=2nd_class,Age_Cat=child} => {Died=0} sup: 0.01 conf: 1.00, f1: 0.02, len: 3, id: 302\n",
      "INFO - stardard error of omega estimate: 1597.1498113827645\n",
      "INFO - omega succesfully estimated\n",
      "INFO - Estimating omega for rule: IDSRule {Gender=male,Passenger_Cat=crew} => {Died=1} sup: 0.30 conf: 0.77, f1: 0.43, len: 3, id: 233\n",
      "INFO - stardard error of omega estimate: 1706.068051983859\n",
      "INFO - omega succesfully estimated\n",
      "INFO - Estimating omega for rule: IDSRule {Passenger_Cat=3rd_class,Gender=male} => {Died=1} sup: 0.19 conf: 0.82, f1: 0.30, len: 3, id: 244\n",
      "INFO - stardard error of omega estimate: 1578.2186096989226\n",
      "INFO - omega succesfully estimated\n",
      "INFO - Estimating omega for rule: IDSRule {Age_Cat=adult,Gender=female,Passenger_Cat=crew} => {Died=0} sup: 0.01 conf: 0.84, f1: 0.02, len: 4, id: 255\n",
      "INFO - stardard error of omega estimate: 1359.931111858244\n",
      "INFO - omega succesfully estimated\n",
      "INFO - Estimating omega for rule: IDSRule {Gender=female,Passenger_Cat=2nd_class,Age_Cat=child} => {Died=0} sup: 0.01 conf: 1.00, f1: 0.01, len: 4, id: 303\n",
      "INFO - stardard error of omega estimate: 1471.0797327133564\n",
      "INFO - omega succesfully estimated\n",
      "INFO - Estimating omega for rule: IDSRule {Passenger_Cat=1st_class,Gender=male,Age_Cat=child} => {Died=0} sup: 0.00 conf: 1.00, f1: 0.00, len: 4, id: 298\n",
      "INFO - stardard error of omega estimate: 1544.1188930908136\n",
      "INFO - omega succesfully estimated\n",
      "INFO - Estimating omega for rule: IDSRule {Age_Cat=adult,Passenger_Cat=1st_class,Gender=female} => {Died=0} sup: 0.06 conf: 0.97, f1: 0.12, len: 4, id: 272\n",
      "INFO - stardard error of omega estimate: 1688.2051267544473\n",
      "INFO - omega succesfully estimated\n",
      "INFO - Estimating omega for rule: IDSRule {Age_Cat=adult,Gender=male} => {Died=1} sup: 0.60 conf: 0.79, f1: 0.68, len: 3, id: 229\n",
      "INFO - stardard error of omega estimate: 1325.1107908397698\n",
      "INFO - omega succesfully estimated\n",
      "INFO - Estimating omega for rule: IDSRule {Gender=female,Passenger_Cat=crew} => {Died=0} sup: 0.01 conf: 0.84, f1: 0.02, len: 3, id: 256\n",
      "INFO - stardard error of omega estimate: 1788.1139429577747\n",
      "INFO - omega succesfully estimated\n",
      "INFO - Estimating omega for rule: IDSRule {Age_Cat=adult,Gender=female,Passenger_Cat=2nd_class} => {Died=0} sup: 0.04 conf: 0.87, f1: 0.07, len: 4, id: 284\n"
     ]
    },
    {
     "name": "stdout",
     "output_type": "stream",
     "text": [
      "INFO - stardard error of omega estimate: 1246.7393749296602\n",
      "INFO - omega succesfully estimated\n",
      "INFO - Estimating omega for rule: IDSRule {Gender=male} => {Died=1} sup: 0.61 conf: 0.78, f1: 0.68, len: 2, id: 230\n",
      "INFO - stardard error of omega estimate: 1468.2862517234164\n",
      "INFO - omega succesfully estimated\n",
      "INFO - Estimating omega for rule: IDSRule {Passenger_Cat=1st_class,Age_Cat=child} => {Died=0} sup: 0.00 conf: 1.00, f1: 0.00, len: 3, id: 299\n",
      "INFO - stardard error of omega estimate: 1475.245455170088\n",
      "INFO - omega succesfully estimated\n",
      "INFO - Estimating omega for rule: IDSRule {Passenger_Cat=1st_class,Gender=female} => {Died=0} sup: 0.06 conf: 0.97, f1: 0.12, len: 3, id: 273\n",
      "INFO - stardard error of omega estimate: 1687.923710657564\n",
      "INFO - omega succesfully estimated\n",
      "INFO - Estimating omega for rule: IDSRule {Gender=female,Passenger_Cat=2nd_class} => {Died=0} sup: 0.04 conf: 0.89, f1: 0.08, len: 3, id: 285\n",
      "INFO - stardard error of omega estimate: 1564.2235981470167\n",
      "INFO - omega succesfully estimated\n",
      "INFO - Estimating omega for rule: IDSRule {Passenger_Cat=1st_class,Gender=female,Age_Cat=child} => {Died=0} sup: 0.00 conf: 1.00, f1: 0.00, len: 4, id: 300\n",
      "INFO - stardard error of omega estimate: 1472.755909511145\n",
      "INFO - omega succesfully estimated\n"
     ]
    },
    {
     "data": {
      "text/plain": [
       "<pyids.data_structures.ids_classifier.IDS at 0x1bf2258cf28>"
      ]
     },
     "execution_count": 17,
     "metadata": {},
     "output_type": "execute_result"
    }
   ],
   "source": [
    "ids = IDS(algorithm=\"SLS\")\n",
    "ids.fit(quant_df, cars)"
   ]
  },
  {
   "cell_type": "code",
   "execution_count": 20,
   "metadata": {},
   "outputs": [],
   "source": [
    "final_rules = ids.clf.rules\n",
    "final_ruleset = IDSRuleSet(final_rules)"
   ]
  },
  {
   "cell_type": "code",
   "execution_count": 24,
   "metadata": {},
   "outputs": [
    {
     "name": "stdout",
     "output_type": "stream",
     "text": [
      "cover cache prepared\n",
      "overlap cache prepared\n"
     ]
    }
   ],
   "source": [
    "params = ObjectiveFunctionParameters()\n",
    "params.params[\"all_rules\"] = IDSRuleSet.from_cba_rules(cars)\n",
    "params.params[\"len_all_rules\"] = len(cars)\n",
    "params.params[\"lambda_array\"] = 7 * [1]\n",
    "params.params[\"quant_dataframe\"] = quant_df\n",
    "\n",
    "obj_func = IDSObjectiveFunction(params)"
   ]
  },
  {
   "cell_type": "code",
   "execution_count": 26,
   "metadata": {},
   "outputs": [],
   "source": [
    "all_f = obj_func.evaluate(final_ruleset)\n",
    "f0 = obj_func.f0(final_ruleset)\n",
    "f1 = obj_func.f1(final_ruleset)\n",
    "f2 = obj_func.f2(final_ruleset)\n",
    "f3 = obj_func.f3(final_ruleset)\n",
    "f4 = obj_func.f4(final_ruleset)\n",
    "f5 = obj_func.f5(final_ruleset)\n",
    "f6 = obj_func.f6(final_ruleset)"
   ]
  },
  {
   "cell_type": "code",
   "execution_count": 27,
   "metadata": {},
   "outputs": [
    {
     "data": {
      "text/plain": [
       "True"
      ]
     },
     "execution_count": 27,
     "metadata": {},
     "output_type": "execute_result"
    }
   ],
   "source": [
    "f0 + f1 + f2 + f3 + f4 + f5 + f6 == all_f"
   ]
  },
  {
   "cell_type": "code",
   "execution_count": 38,
   "metadata": {},
   "outputs": [],
   "source": [
    "f0_array = [f0, f0]\n",
    "f1_array = [f1, f1]\n",
    "f2_array = [f2, f2]\n",
    "f3_array = [f3, f3]\n",
    "f4_array = [f4, f4]\n",
    "f5_array = [f5, f5]\n",
    "f6_array = [f6, f6]"
   ]
  },
  {
   "cell_type": "code",
   "execution_count": 40,
   "metadata": {},
   "outputs": [
    {
     "data": {
      "image/png": "[encoded data removed]",
      "text/plain": [
       "<Figure size 432x288 with 1 Axes>"
      ]
     },
     "metadata": {
      "needs_background": "light"
     },
     "output_type": "display_data"
    }
   ],
   "source": [
    "N = 1\n",
    "ind = np.arange(N) # the x locations for the groups\n",
    "width = 0.2\n",
    "fig = plt.figure()\n",
    "ax = fig.add_axes([0,0,1,1])\n",
    "ax.bar(ind, f0, width)\n",
    "ax.bar(ind, f1, width, bottom=f0)\n",
    "ax.bar(ind, f2, width, bottom=f0)\n",
    "ax.bar(ind, f3, width, bottom=f0)\n",
    "ax.bar(ind, f4, width, bottom=f0)\n",
    "ax.bar(ind, f5, width, bottom=f0)\n",
    "ax.bar(ind, f6, width, bottom=f0)\n",
    "ax.set_ylabel('Scores')\n",
    "ax.set_title('Scores by group and gender')\n",
    "ax.set_xticks(ind, ('G1', 'G2', 'G3', 'G4', 'G5'))\n",
    "ax.set_yticks(np.arange(0, 81, 10))\n",
    "ax.legend(labels=['f0', 'f1', \"f2\", \"f3\", \"f4\", \"f5\", \"f6\"])\n",
    "plt.show()"
   ]
  },
  {
   "cell_type": "code",
   "execution_count": 69,
   "metadata": {},
   "outputs": [
    {
     "data": {
      "image/png": "[encoded data removed]",
      "text/plain": [
       "<Figure size 288x288 with 1 Axes>"
      ]
     },
     "metadata": {},
     "output_type": "display_data"
    }
   ],
   "source": [
    "plt.rcParams[\"figure.figsize\"] = (4, 4)\n",
    "labels = \"ostatní\", \"f3\", \"f4\"\n",
    "sizes = [f0 + f1 + f4 + f5 + f6, f2, f3]\n",
    "\n",
    "fig1, ax1 = plt.subplots()\n",
    "ax1.pie(sizes, labels=labels, autopct='%1.1f%%', startangle=180)\n",
    "ax1.axis('equal')  # Equal aspect ratio ensures that pie is drawn as a circle.\n",
    "\n",
    "plt.show()"
   ]
  },
  {
   "cell_type": "code",
   "execution_count": 83,
   "metadata": {},
   "outputs": [
    {
     "data": {
      "image/png": "[encoded data removed]",
      "text/plain": [
       "<Figure size 432x432 with 1 Axes>"
      ]
     },
     "metadata": {},
     "output_type": "display_data"
    }
   ],
   "source": [
    "\n",
    "plt.rcParams['font.size'] = 20\n",
    "\n",
    "fig, ax = plt.subplots(figsize=(6, 6), subplot_kw=dict(aspect=\"equal\"))\n",
    "\n",
    "recipe = [\"Ostatní kritéria\", \"$f_6$\", \"$f_3$\", \"$f_4$\"]\n",
    "\n",
    "data = [f0 + f1 + f4 + f6, f2, f5, f3]\n",
    "\n",
    "wedges, texts = ax.pie(data, wedgeprops=dict(width=0.5), startangle=-40)\n",
    "\n",
    "bbox_props = dict(boxstyle=\"square,pad=0.3\", fc=\"w\", ec=\"k\", lw=0.72)\n",
    "kw = dict(arrowprops=dict(arrowstyle=\"-\"),\n",
    "          bbox=bbox_props, zorder=0, va=\"center\")\n",
    "\n",
    "for i, p in enumerate(wedges):\n",
    "    ang = (p.theta2 - p.theta1)/2. + p.theta1\n",
    "    y = np.sin(np.deg2rad(ang))\n",
    "    x = np.cos(np.deg2rad(ang))\n",
    "    horizontalalignment = {-1: \"right\", 1: \"left\"}[int(np.sign(x))]\n",
    "    connectionstyle = \"angle,angleA=0,angleB={}\".format(ang)\n",
    "    kw[\"arrowprops\"].update({\"connectionstyle\": connectionstyle})\n",
    "    ax.annotate(recipe[i], xy=(x, y), xytext=(1.35*np.sign(x), 1.4*y),\n",
    "                horizontalalignment=horizontalalignment, **kw)\n",
    "\n",
    "plt.show()"
   ]
  },
  {
   "cell_type": "code",
   "execution_count": 84,
   "metadata": {},
   "outputs": [
    {
     "data": {
      "image/png": "[encoded data removed]",
      "text/plain": [
       "<Figure size 432x432 with 1 Axes>"
      ]
     },
     "metadata": {},
     "output_type": "display_data"
    }
   ],
   "source": [
    "\n",
    "plt.rcParams['font.size'] = 20\n",
    "\n",
    "fig, ax = plt.subplots(figsize=(6, 6), subplot_kw=dict(aspect=\"equal\"))\n",
    "\n",
    "recipe = [\"$f_1$\", \"$f_2$\", \"$f_5$\", \"$f_7$\"]\n",
    "\n",
    "data = [f0, f1, f4, f6]\n",
    "\n",
    "wedges, texts = ax.pie(data, wedgeprops=dict(width=0.5), startangle=-40)\n",
    "\n",
    "bbox_props = dict(boxstyle=\"square,pad=0.3\", fc=\"w\", ec=\"k\", lw=0.72)\n",
    "kw = dict(arrowprops=dict(arrowstyle=\"-\"),\n",
    "          bbox=bbox_props, zorder=0, va=\"center\")\n",
    "\n",
    "for i, p in enumerate(wedges):\n",
    "    ang = (p.theta2 - p.theta1)/2. + p.theta1\n",
    "    y = np.sin(np.deg2rad(ang))\n",
    "    x = np.cos(np.deg2rad(ang))\n",
    "    horizontalalignment = {-1: \"right\", 1: \"left\"}[int(np.sign(x))]\n",
    "    connectionstyle = \"angle,angleA=0,angleB={}\".format(ang)\n",
    "    kw[\"arrowprops\"].update({\"connectionstyle\": connectionstyle})\n",
    "    ax.annotate(recipe[i], xy=(x, y), xytext=(1.35*np.sign(x), 1.4*y),\n",
    "                horizontalalignment=horizontalalignment, **kw)\n",
    "\n",
    "plt.show()"
   ]
  }
 ],
 "metadata": {
  "kernelspec": {
   "display_name": "Python 3",
   "language": "python",
   "name": "python3"
  },
  "language_info": {
   "codemirror_mode": {
    "name": "ipython",
    "version": 3
   },
   "file_extension": ".py",
   "mimetype": "text/x-python",
   "name": "python",
   "nbconvert_exporter": "python",
   "pygments_lexer": "ipython3",
   "version": "3.7.3"
  }
 },
 "nbformat": 4,
 "nbformat_minor": 2
}
