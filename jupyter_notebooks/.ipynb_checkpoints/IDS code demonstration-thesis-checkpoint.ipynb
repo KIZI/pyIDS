{
 "cells": [
  {
   "cell_type": "code",
   "execution_count": 1,
   "metadata": {},
   "outputs": [],
   "source": [
    "from pyarc.data_structures import ClassAssocationRule\n",
    "from pyids.data_structures import (\n",
    "    IDSRule,\n",
    "    IDSRuleSet,\n",
    "    IDSClassifier,\n",
    "    IDSObjectiveFunction,\n",
    "    ObjectiveFunctionParameters,\n",
    "    ObjectiveFunctionParameters,\n",
    "    RSOptimizer,\n",
    "    DLSOptimizer,\n",
    "    SLSOptimizer,\n",
    "    RandomizedUSMOptimizer,\n",
    "    DeterministicUSMOptimizer\n",
    ")"
   ]
  },
  {
   "cell_type": "code",
   "execution_count": 3,
   "metadata": {},
   "outputs": [],
   "source": [
    "def print_cars(ids_cars):\n",
    "    cars = ids_cars\n",
    "    is_ids = False\n",
    "    if type(ids_cars[0]) == IDSRule:\n",
    "        is_ids = [ r.calc_f1() for r in ids_cars ]\n",
    "        cars = [ r.car for r in ids_cars ]\n",
    "    latex = []\n",
    "    for idx, car in enumerate(cars):\n",
    "        if is_ids:\n",
    "            latex.append(car_to_latex(car, is_ids=is_ids[idx]))\n",
    "        else:\n",
    "            latex.append(car_to_latex(car))\n",
    "        \n",
    "    return \"\\n\\n\".join(latex)\n",
    "        \n",
    "def car_to_latex(car, is_ids=False):\n",
    "    trans = {\n",
    "        \"-\":  r\"\\-\",\n",
    "        \"_\":  r\"\\_\",\n",
    "        \"]\":  r\"\\]\",\n",
    "        \"\\\\\": r\"\\\\\",\n",
    "        \"^\":  r\"\\^\",\n",
    "        \"$\":  r\"\\$\",\n",
    "        \"*\":  r\"\\*\",\n",
    "        \".\":  r\"\\.\"\n",
    "    }\n",
    "    latex = []\n",
    "    \n",
    "    latex.append(\"If\")\n",
    "    \n",
    "    for idx, predicate in enumerate(car.antecedent):\n",
    "       \n",
    "        name, interval = predicate\n",
    "        name = name.translate(str.maketrans(trans))\n",
    "        \n",
    "        interval_string = interval.translate(str.maketrans(trans))\n",
    "        \n",
    "        if idx != 0:\n",
    "            latex.append(\"and\")\n",
    "        latex.append(\n",
    "            f\"\\\\textcolor{{blue}}{{{name}}}=\\\\textcolor{{gray}}{{{interval_string}}}\"\n",
    "        )\n",
    "\n",
    "        \n",
    "    class_name, class_value = car.consequent\n",
    "    \n",
    "    latex.append(\"then\")\n",
    "    latex.append(\n",
    "        f\"\\\\textcolor{{red}}{{{class_name}}}=\\\\textcolor{{gray}}{{{class_value}}}\"\n",
    "    )\n",
    "    \n",
    "    if is_ids:\n",
    "        latex.append(\n",
    "            f\"$\\mid$ f1-score: \\\\textit{{{round(is_ids, 2)}}}\"\n",
    "        )\n",
    "    \n",
    "    return \" \".join(latex)"
   ]
  },
  {
   "cell_type": "markdown",
   "metadata": {},
   "source": [
    "# IDS Demonstration"
   ]
  },
  {
   "cell_type": "markdown",
   "metadata": {},
   "source": [
    "## Importing required libraries"
   ]
  },
  {
   "cell_type": "code",
   "execution_count": 4,
   "metadata": {},
   "outputs": [],
   "source": [
    "import pandas as pd\n",
    "import pyarc\n",
    "from pyids import IDS\n",
    "from pyids.data_structures import mine_CARs\n",
    "from pyids.rule_mining import RuleMiner\n",
    "from pyarc.qcba.data_structures import QuantitativeDataFrame\n",
    "\n",
    "from sklearn.model_selection import train_test_split"
   ]
  },
  {
   "cell_type": "markdown",
   "metadata": {},
   "source": [
    "## Loading the test and train data"
   ]
  },
  {
   "cell_type": "code",
   "execution_count": 5,
   "metadata": {},
   "outputs": [],
   "source": [
    "data = pd.read_csv(\"../data/titanic.csv\").sample(frac=1).reset_index(drop=True)\n",
    "\n",
    "\n",
    "data_train, data_test = train_test_split(data, test_size=0.8)"
   ]
  },
  {
   "cell_type": "code",
   "execution_count": 6,
   "metadata": {},
   "outputs": [
    {
     "data": {
      "text/html": [
       "<div>\n",
       "<style scoped>\n",
       "    .dataframe tbody tr th:only-of-type {\n",
       "        vertical-align: middle;\n",
       "    }\n",
       "\n",
       "    .dataframe tbody tr th {\n",
       "        vertical-align: top;\n",
       "    }\n",
       "\n",
       "    .dataframe thead th {\n",
       "        text-align: right;\n",
       "    }\n",
       "</style>\n",
       "<table border=\"1\" class=\"dataframe\">\n",
       "  <thead>\n",
       "    <tr style=\"text-align: right;\">\n",
       "      <th></th>\n",
       "      <th>Passenger_Cat</th>\n",
       "      <th>Age_Cat</th>\n",
       "      <th>Gender</th>\n",
       "      <th>Died</th>\n",
       "    </tr>\n",
       "  </thead>\n",
       "  <tbody>\n",
       "    <tr>\n",
       "      <th>0</th>\n",
       "      <td>3rd_class</td>\n",
       "      <td>adult</td>\n",
       "      <td>female</td>\n",
       "      <td>1</td>\n",
       "    </tr>\n",
       "    <tr>\n",
       "      <th>1</th>\n",
       "      <td>crew</td>\n",
       "      <td>adult</td>\n",
       "      <td>male</td>\n",
       "      <td>0</td>\n",
       "    </tr>\n",
       "    <tr>\n",
       "      <th>2</th>\n",
       "      <td>3rd_class</td>\n",
       "      <td>adult</td>\n",
       "      <td>female</td>\n",
       "      <td>1</td>\n",
       "    </tr>\n",
       "    <tr>\n",
       "      <th>3</th>\n",
       "      <td>1st_class</td>\n",
       "      <td>adult</td>\n",
       "      <td>male</td>\n",
       "      <td>1</td>\n",
       "    </tr>\n",
       "    <tr>\n",
       "      <th>4</th>\n",
       "      <td>2nd_class</td>\n",
       "      <td>adult</td>\n",
       "      <td>male</td>\n",
       "      <td>1</td>\n",
       "    </tr>\n",
       "  </tbody>\n",
       "</table>\n",
       "</div>"
      ],
      "text/plain": [
       "  Passenger_Cat Age_Cat  Gender  Died\n",
       "0     3rd_class   adult  female     1\n",
       "1          crew   adult    male     0\n",
       "2     3rd_class   adult  female     1\n",
       "3     1st_class   adult    male     1\n",
       "4     2nd_class   adult    male     1"
      ]
     },
     "execution_count": 6,
     "metadata": {},
     "output_type": "execute_result"
    }
   ],
   "source": [
    "data.head()"
   ]
  },
  {
   "cell_type": "code",
   "execution_count": 7,
   "metadata": {},
   "outputs": [
    {
     "name": "stdout",
     "output_type": "stream",
     "text": [
      "Running apriori with setting: confidence=0.5, support=0.0, minlen=2, maxlen=3, MAX_RULE_LEN=4\n",
      "Rule count: 50, Iteration: 1\n",
      "Increasing maxlen 4\n",
      "Running apriori with setting: confidence=0.5, support=0.0, minlen=2, maxlen=4, MAX_RULE_LEN=4\n",
      "Rule count: 71, Iteration: 2\n",
      "Decreasing confidence to 0.45\n",
      "Running apriori with setting: confidence=0.45, support=0.0, minlen=2, maxlen=4, MAX_RULE_LEN=4\n",
      "Rule count: 71, Iteration: 3\n",
      "Decreasing confidence to 0.4\n",
      "Running apriori with setting: confidence=0.4, support=0.0, minlen=2, maxlen=4, MAX_RULE_LEN=4\n",
      "Rule count: 71, Iteration: 4\n",
      "Decreasing confidence to 0.35000000000000003\n",
      "Running apriori with setting: confidence=0.35000000000000003, support=0.0, minlen=2, maxlen=4, MAX_RULE_LEN=4\n",
      "Rule count: 71, Iteration: 5\n",
      "Decreasing confidence to 0.30000000000000004\n",
      "Running apriori with setting: confidence=0.30000000000000004, support=0.0, minlen=2, maxlen=4, MAX_RULE_LEN=4\n",
      "Rule count: 71, Iteration: 6\n",
      "Decreasing confidence to 0.25000000000000006\n",
      "Running apriori with setting: confidence=0.25000000000000006, support=0.0, minlen=2, maxlen=4, MAX_RULE_LEN=4\n",
      "Rule count: 71, Iteration: 7\n",
      "Decreasing confidence to 0.20000000000000007\n",
      "Running apriori with setting: confidence=0.20000000000000007, support=0.0, minlen=2, maxlen=4, MAX_RULE_LEN=4\n",
      "Rule count: 71, Iteration: 8\n",
      "Decreasing confidence to 0.15000000000000008\n",
      "Running apriori with setting: confidence=0.15000000000000008, support=0.0, minlen=2, maxlen=4, MAX_RULE_LEN=4\n",
      "Rule count: 71, Iteration: 9\n",
      "Decreasing confidence to 0.10000000000000007\n",
      "Running apriori with setting: confidence=0.10000000000000007, support=0.0, minlen=2, maxlen=4, MAX_RULE_LEN=4\n",
      "Rule count: 71, Iteration: 10\n",
      "Decreasing confidence to 0.05000000000000007\n",
      "Running apriori with setting: confidence=0.05000000000000007, support=0.0, minlen=2, maxlen=4, MAX_RULE_LEN=4\n",
      "Rule count: 71, Iteration: 11\n",
      "Decreasing confidence to 6.938893903907228e-17\n",
      "Running apriori with setting: confidence=6.938893903907228e-17, support=0.0, minlen=2, maxlen=4, MAX_RULE_LEN=4\n",
      "Rule count: 71, Iteration: 12\n",
      "All options exhausted\n"
     ]
    }
   ],
   "source": [
    "cars = mine_CARs(data_train, 20)\n",
    "car = cars[0]"
   ]
  },
  {
   "cell_type": "code",
   "execution_count": 8,
   "metadata": {},
   "outputs": [],
   "source": [
    "ids_rule = IDSRule(car)"
   ]
  },
  {
   "cell_type": "code",
   "execution_count": 9,
   "metadata": {},
   "outputs": [
    {
     "name": "stderr",
     "output_type": "stream",
     "text": [
      "D:\\programy\\Anaconda\\lib\\site-packages\\pandas\\core\\indexing.py:543: SettingWithCopyWarning: \n",
      "A value is trying to be set on a copy of a slice from a DataFrame.\n",
      "Try using .loc[row_indexer,col_indexer] = value instead\n",
      "\n",
      "See the caveats in the documentation: http://pandas.pydata.org/pandas-docs/stable/indexing.html#indexing-view-versus-copy\n",
      "  self.obj[item] = s\n"
     ]
    }
   ],
   "source": [
    "quant_dataframe_train = QuantitativeDataFrame(data_train)\n",
    "quant_dataframe_test = QuantitativeDataFrame(data_test)"
   ]
  },
  {
   "cell_type": "code",
   "execution_count": 10,
   "metadata": {},
   "outputs": [
    {
     "data": {
      "text/plain": [
       "pyarc.qcba.data_structures.quant_dataset.QuantitativeDataFrame"
      ]
     },
     "execution_count": 10,
     "metadata": {},
     "output_type": "execute_result"
    }
   ],
   "source": [
    "type(quant_dataframe_train)"
   ]
  },
  {
   "cell_type": "code",
   "execution_count": 11,
   "metadata": {},
   "outputs": [
    {
     "data": {
      "text/plain": [
       "False"
      ]
     },
     "execution_count": 11,
     "metadata": {},
     "output_type": "execute_result"
    }
   ],
   "source": [
    "ids_rule.cache_prepared"
   ]
  },
  {
   "cell_type": "code",
   "execution_count": 12,
   "metadata": {},
   "outputs": [
    {
     "data": {
      "text/plain": [
       "{'cover': None,\n",
       " 'correct_cover': None,\n",
       " 'incorrect_cover': None,\n",
       " 'rule_cover': None}"
      ]
     },
     "execution_count": 12,
     "metadata": {},
     "output_type": "execute_result"
    }
   ],
   "source": [
    "ids_rule.cover_cache"
   ]
  },
  {
   "cell_type": "code",
   "execution_count": 13,
   "metadata": {},
   "outputs": [
    {
     "data": {
      "text/plain": [
       "{'cover': None,\n",
       " 'correct_cover': None,\n",
       " 'incorrect_cover': None,\n",
       " 'rule_cover': None}"
      ]
     },
     "execution_count": 13,
     "metadata": {},
     "output_type": "execute_result"
    }
   ],
   "source": [
    "ids_rule1 = IDSRule(cars[0])\n",
    "ids_rule1.cover_cache"
   ]
  },
  {
   "cell_type": "code",
   "execution_count": 14,
   "metadata": {},
   "outputs": [
    {
     "name": "stdout",
     "output_type": "stream",
     "text": [
      "IDSRule {Passenger_Cat=1st_class,Gender=female} => {Died=0} sup: 0.07 conf: 1.00, f1: 0.13, len: 3, id: 43\n",
      "IDSRule {Passenger_Cat=1st_class,Gender=female,Age_Cat=adult} => {Died=0} sup: 0.07 conf: 1.00, f1: 0.13, len: 4, id: 42\n"
     ]
    }
   ],
   "source": [
    "ids_rule1 = IDSRule(cars[0])\n",
    "ids_rule2 = IDSRule(cars[1])\n",
    "\n",
    "print(ids_rule1)\n",
    "print(ids_rule2)"
   ]
  },
  {
   "cell_type": "code",
   "execution_count": 15,
   "metadata": {},
   "outputs": [],
   "source": [
    "ids_rule1.calculate_cover(quant_dataframe_train)\n",
    "ids_rule2.calculate_cover(quant_dataframe_train)"
   ]
  },
  {
   "cell_type": "code",
   "execution_count": 16,
   "metadata": {},
   "outputs": [
    {
     "data": {
      "text/plain": [
       "array([False, False,  True, False, False, False, False,  True, False,\n",
       "       False, False, False, False, False, False, False, False, False,\n",
       "        True, False, False, False, False,  True, False, False, False,\n",
       "       False, False, False, False, False, False, False, False, False,\n",
       "       False, False, False, False, False, False, False, False, False,\n",
       "        True,  True, False, False, False,  True, False, False, False,\n",
       "       False, False, False, False, False, False, False, False, False,\n",
       "       False, False, False, False, False, False, False, False, False,\n",
       "       False, False,  True, False, False, False, False, False, False,\n",
       "       False, False, False, False, False, False, False, False, False,\n",
       "       False, False, False, False, False, False, False, False, False,\n",
       "       False, False,  True, False, False, False, False, False, False,\n",
       "       False, False, False, False, False,  True, False, False, False,\n",
       "       False,  True, False, False, False, False, False, False, False,\n",
       "       False, False, False, False, False, False,  True, False, False,\n",
       "       False, False, False, False,  True, False, False, False, False,\n",
       "       False, False, False, False, False, False, False, False, False,\n",
       "       False, False, False, False, False, False, False, False, False,\n",
       "       False, False,  True,  True, False, False, False, False, False,\n",
       "       False, False, False, False, False, False, False, False, False,\n",
       "       False, False, False,  True, False, False, False, False, False,\n",
       "       False, False, False, False, False, False, False, False, False,\n",
       "       False, False, False, False, False, False, False, False, False,\n",
       "       False,  True, False, False, False, False, False, False, False,\n",
       "       False, False, False,  True, False,  True,  True, False, False,\n",
       "       False, False, False, False, False, False, False, False, False,\n",
       "       False, False, False, False, False, False, False, False, False,\n",
       "       False, False, False, False, False, False, False, False, False,\n",
       "       False, False,  True, False,  True, False, False, False, False,\n",
       "       False, False, False, False, False, False, False, False, False,\n",
       "       False, False, False, False, False, False, False, False, False,\n",
       "       False, False, False, False, False, False, False, False, False,\n",
       "       False, False, False, False, False, False, False, False, False,\n",
       "       False, False, False, False, False, False, False,  True, False,\n",
       "       False, False, False, False, False, False, False, False, False,\n",
       "       False, False, False, False, False, False, False, False, False,\n",
       "       False, False, False, False, False, False, False, False, False,\n",
       "       False, False, False, False, False, False, False, False, False,\n",
       "        True, False, False, False, False, False, False, False, False,\n",
       "       False])"
      ]
     },
     "execution_count": 16,
     "metadata": {},
     "output_type": "execute_result"
    }
   ],
   "source": [
    "ids_rule1.rule_overlap(ids_rule2, quant_dataframe_train)"
   ]
  },
  {
   "cell_type": "code",
   "execution_count": 17,
   "metadata": {},
   "outputs": [
    {
     "data": {
      "text/plain": [
       "pandas.core.frame.DataFrame"
      ]
     },
     "execution_count": 17,
     "metadata": {},
     "output_type": "execute_result"
    }
   ],
   "source": [
    "type(data_train)"
   ]
  },
  {
   "cell_type": "code",
   "execution_count": 18,
   "metadata": {},
   "outputs": [
    {
     "name": "stdout",
     "output_type": "stream",
     "text": [
      "Running apriori with setting: confidence=0.5, support=0.0, minlen=2, maxlen=3, MAX_RULE_LEN=4\n",
      "Rule count: 50, Iteration: 1\n",
      "Increasing maxlen 4\n",
      "Running apriori with setting: confidence=0.5, support=0.0, minlen=2, maxlen=4, MAX_RULE_LEN=4\n",
      "Rule count: 71, Iteration: 2\n",
      "Decreasing confidence to 0.45\n",
      "Running apriori with setting: confidence=0.45, support=0.0, minlen=2, maxlen=4, MAX_RULE_LEN=4\n",
      "Rule count: 71, Iteration: 3\n",
      "Decreasing confidence to 0.4\n",
      "Running apriori with setting: confidence=0.4, support=0.0, minlen=2, maxlen=4, MAX_RULE_LEN=4\n",
      "Rule count: 71, Iteration: 4\n",
      "Decreasing confidence to 0.35000000000000003\n",
      "Running apriori with setting: confidence=0.35000000000000003, support=0.0, minlen=2, maxlen=4, MAX_RULE_LEN=4\n",
      "Rule count: 71, Iteration: 5\n",
      "Decreasing confidence to 0.30000000000000004\n",
      "Running apriori with setting: confidence=0.30000000000000004, support=0.0, minlen=2, maxlen=4, MAX_RULE_LEN=4\n",
      "Rule count: 71, Iteration: 6\n",
      "Decreasing confidence to 0.25000000000000006\n",
      "Running apriori with setting: confidence=0.25000000000000006, support=0.0, minlen=2, maxlen=4, MAX_RULE_LEN=4\n",
      "Rule count: 71, Iteration: 7\n",
      "Decreasing confidence to 0.20000000000000007\n",
      "Running apriori with setting: confidence=0.20000000000000007, support=0.0, minlen=2, maxlen=4, MAX_RULE_LEN=4\n",
      "Rule count: 71, Iteration: 8\n",
      "Decreasing confidence to 0.15000000000000008\n",
      "Running apriori with setting: confidence=0.15000000000000008, support=0.0, minlen=2, maxlen=4, MAX_RULE_LEN=4\n",
      "Rule count: 71, Iteration: 9\n",
      "Decreasing confidence to 0.10000000000000007\n",
      "Running apriori with setting: confidence=0.10000000000000007, support=0.0, minlen=2, maxlen=4, MAX_RULE_LEN=4\n",
      "Rule count: 71, Iteration: 10\n",
      "Decreasing confidence to 0.05000000000000007\n",
      "Running apriori with setting: confidence=0.05000000000000007, support=0.0, minlen=2, maxlen=4, MAX_RULE_LEN=4\n",
      "Rule count: 71, Iteration: 11\n",
      "Decreasing confidence to 6.938893903907228e-17\n",
      "Running apriori with setting: confidence=6.938893903907228e-17, support=0.0, minlen=2, maxlen=4, MAX_RULE_LEN=4\n",
      "Rule count: 71, Iteration: 12\n",
      "All options exhausted\n"
     ]
    },
    {
     "data": {
      "text/plain": [
       "pyarc.data_structures.car.ClassAssocationRule"
      ]
     },
     "execution_count": 18,
     "metadata": {},
     "output_type": "execute_result"
    }
   ],
   "source": [
    "type(mine_CARs(data_train, rule_cutoff=20)[0])"
   ]
  },
  {
   "cell_type": "code",
   "execution_count": 19,
   "metadata": {},
   "outputs": [],
   "source": [
    "ruleset = IDSRuleSet.from_cba_rules(cars)"
   ]
  },
  {
   "cell_type": "code",
   "execution_count": 20,
   "metadata": {},
   "outputs": [
    {
     "data": {
      "text/plain": [
       "(45, 3)"
      ]
     },
     "execution_count": 20,
     "metadata": {},
     "output_type": "execute_result"
    }
   ],
   "source": [
    "ruleset.sum_rule_length(), ruleset.max_rule_length()"
   ]
  },
  {
   "cell_type": "code",
   "execution_count": 21,
   "metadata": {},
   "outputs": [],
   "source": [
    "ids_ruleset = IDSRuleSet.from_cba_rules(cars)"
   ]
  },
  {
   "cell_type": "code",
   "execution_count": 22,
   "metadata": {},
   "outputs": [
    {
     "data": {
      "text/plain": [
       "pyids.data_structures.ids_ruleset.IDSRuleSet"
      ]
     },
     "execution_count": 22,
     "metadata": {},
     "output_type": "execute_result"
    }
   ],
   "source": [
    "type(ids_ruleset)"
   ]
  },
  {
   "cell_type": "code",
   "execution_count": 23,
   "metadata": {},
   "outputs": [],
   "source": [
    "params = ObjectiveFunctionParameters()\n",
    "\n",
    "params.params[\"all_rules\"] = ids_ruleset\n",
    "params.params[\"len_all_rules\"] = len(ids_ruleset.ruleset)\n",
    "params.params[\"quant_dataframe\"] = quant_dataframe_train\n",
    "params.params[\"lambda_array\"] = 7 * [1]\n"
   ]
  },
  {
   "cell_type": "code",
   "execution_count": 24,
   "metadata": {},
   "outputs": [
    {
     "name": "stdout",
     "output_type": "stream",
     "text": [
      "cover cache prepared\n",
      "overlap cache prepared\n"
     ]
    }
   ],
   "source": [
    "obj_func = IDSObjectiveFunction(params)"
   ]
  },
  {
   "cell_type": "code",
   "execution_count": 25,
   "metadata": {},
   "outputs": [],
   "source": [
    "rule_subset = IDSRuleSet(list(ids_ruleset.ruleset)[2:5])"
   ]
  },
  {
   "cell_type": "code",
   "execution_count": 26,
   "metadata": {},
   "outputs": [
    {
     "data": {
      "text/plain": [
       "{IDSRule {Passenger_Cat=2nd_class,Age_Cat=child,Gender=male} => {Died=0} sup: 0.00 conf: 1.00, f1: 0.01, len: 4, id: 68,\n",
       " IDSRule {Passenger_Cat=1st_class,Gender=female,Age_Cat=adult} => {Died=0} sup: 0.07 conf: 1.00, f1: 0.13, len: 4, id: 42,\n",
       " IDSRule {Gender=male,Passenger_Cat=crew,Age_Cat=adult} => {Died=1} sup: 0.32 conf: 0.78, f1: 0.45, len: 4, id: 4}"
      ]
     },
     "execution_count": 26,
     "metadata": {},
     "output_type": "execute_result"
    }
   ],
   "source": [
    "rule_subset.ruleset"
   ]
  },
  {
   "cell_type": "code",
   "execution_count": 27,
   "metadata": {},
   "outputs": [
    {
     "data": {
      "text/plain": [
       "280276.0"
      ]
     },
     "execution_count": 27,
     "metadata": {},
     "output_type": "execute_result"
    }
   ],
   "source": [
    "obj_func.evaluate(ids_ruleset)"
   ]
  },
  {
   "cell_type": "code",
   "execution_count": 28,
   "metadata": {},
   "outputs": [],
   "source": [
    "rs_opt = RSOptimizer(input_set=ids_ruleset.ruleset)\n",
    "\n",
    "solution_set = rs_opt.optimize()"
   ]
  },
  {
   "cell_type": "code",
   "execution_count": 29,
   "metadata": {},
   "outputs": [
    {
     "data": {
      "text/plain": [
       "{IDSRule {Passenger_Cat=2nd_class,Age_Cat=child,Gender=female} => {Died=0} sup: 0.01 conf: 1.00, f1: 0.02, len: 4, id: 70,\n",
       " IDSRule {Passenger_Cat=2nd_class,Age_Cat=child} => {Died=0} sup: 0.01 conf: 1.00, f1: 0.02, len: 3, id: 69,\n",
       " IDSRule {Passenger_Cat=3rd_class,Age_Cat=child,Gender=female} => {Died=1} sup: 0.01 conf: 0.83, f1: 0.03, len: 4, id: 66,\n",
       " IDSRule {Passenger_Cat=3rd_class,Age_Cat=child} => {Died=1} sup: 0.02 conf: 0.78, f1: 0.04, len: 3, id: 61,\n",
       " IDSRule {Passenger_Cat=2nd_class,Gender=female} => {Died=0} sup: 0.05 conf: 0.86, f1: 0.10, len: 3, id: 55,\n",
       " IDSRule {Passenger_Cat=3rd_class,Gender=male,Age_Cat=adult} => {Died=1} sup: 0.18 conf: 0.86, f1: 0.30, len: 4, id: 15,\n",
       " IDSRule {Passenger_Cat=3rd_class} => {Died=1} sup: 0.23 conf: 0.82, f1: 0.36, len: 2, id: 17,\n",
       " IDSRule {Passenger_Cat=crew} => {Died=1} sup: 0.32 conf: 0.76, f1: 0.45, len: 2, id: 6,\n",
       " IDSRule {Gender=male,Age_Cat=adult} => {Died=1} sup: 0.62 conf: 0.79, f1: 0.69, len: 3, id: 1}"
      ]
     },
     "execution_count": 29,
     "metadata": {},
     "output_type": "execute_result"
    }
   ],
   "source": [
    "solution_set"
   ]
  },
  {
   "cell_type": "code",
   "execution_count": 30,
   "metadata": {},
   "outputs": [
    {
     "data": {
      "text/plain": [
       "285902.0"
      ]
     },
     "execution_count": 30,
     "metadata": {},
     "output_type": "execute_result"
    }
   ],
   "source": [
    "obj_func.evaluate(IDSRuleSet(solution_set))"
   ]
  },
  {
   "cell_type": "code",
   "execution_count": 31,
   "metadata": {},
   "outputs": [],
   "source": [
    "dls_opt = DLSOptimizer(obj_func, params)"
   ]
  },
  {
   "cell_type": "code",
   "execution_count": 32,
   "metadata": {},
   "outputs": [
    {
     "name": "stdout",
     "output_type": "stream",
     "text": [
      "Testing if rule is good to add IDSRule {Passenger_Cat=2nd_class,Gender=male} => {Died=1} sup: 0.07 conf: 0.86, f1: 0.13, len: 3, id: 46\n",
      "Testing if rule is good to add IDSRule {Passenger_Cat=3rd_class,Gender=male} => {Died=1} sup: 0.18 conf: 0.86, f1: 0.30, len: 3, id: 16\n",
      "Testing if rule is good to add IDSRule {Passenger_Cat=2nd_class,Gender=female} => {Died=0} sup: 0.05 conf: 0.86, f1: 0.10, len: 3, id: 55\n",
      "Testing if rule is good to add IDSRule {Passenger_Cat=2nd_class,Age_Cat=child,Gender=female} => {Died=0} sup: 0.01 conf: 1.00, f1: 0.02, len: 4, id: 70\n",
      "Testing if rule is good to add IDSRule {Passenger_Cat=3rd_class,Age_Cat=adult} => {Died=1} sup: 0.21 conf: 0.82, f1: 0.33, len: 3, id: 14\n",
      "Testing if rule is good to add IDSRule {Gender=male,Age_Cat=adult} => {Died=1} sup: 0.62 conf: 0.79, f1: 0.69, len: 3, id: 1\n",
      "Testing if rule is good to add IDSRule {Passenger_Cat=3rd_class,Age_Cat=child} => {Died=1} sup: 0.02 conf: 0.78, f1: 0.04, len: 3, id: 61\n",
      "Testing if rule is good to add IDSRule {Gender=male,Passenger_Cat=crew,Age_Cat=adult} => {Died=1} sup: 0.32 conf: 0.78, f1: 0.45, len: 4, id: 4\n",
      "Testing if rule is good to add IDSRule {Passenger_Cat=2nd_class,Age_Cat=child,Gender=male} => {Died=0} sup: 0.00 conf: 1.00, f1: 0.01, len: 4, id: 68\n",
      "Testing if rule is good to add IDSRule {Passenger_Cat=crew} => {Died=1} sup: 0.32 conf: 0.76, f1: 0.45, len: 2, id: 6\n",
      "Testing if rule is good to add IDSRule {Passenger_Cat=3rd_class} => {Died=1} sup: 0.23 conf: 0.82, f1: 0.36, len: 2, id: 17\n",
      "Testing if rule is good to add IDSRule {Passenger_Cat=3rd_class,Age_Cat=child,Gender=female} => {Died=1} sup: 0.01 conf: 0.83, f1: 0.03, len: 4, id: 66\n",
      "Testing if rule is good to add IDSRule {Passenger_Cat=1st_class,Gender=female,Age_Cat=adult} => {Died=0} sup: 0.07 conf: 1.00, f1: 0.13, len: 4, id: 42\n",
      "Testing if rule is good to add IDSRule {Passenger_Cat=3rd_class,Gender=male,Age_Cat=adult} => {Died=1} sup: 0.18 conf: 0.86, f1: 0.30, len: 4, id: 15\n",
      "Testing if rule is good to add IDSRule {Passenger_Cat=2nd_class,Gender=male,Age_Cat=adult} => {Died=1} sup: 0.07 conf: 0.89, f1: 0.13, len: 4, id: 45\n",
      "Testing if rule is good to add IDSRule {Passenger_Cat=2nd_class,Gender=female,Age_Cat=adult} => {Died=0} sup: 0.04 conf: 0.83, f1: 0.08, len: 4, id: 54\n",
      "Testing if rule is good to add IDSRule {Passenger_Cat=2nd_class,Age_Cat=child} => {Died=0} sup: 0.01 conf: 1.00, f1: 0.02, len: 3, id: 69\n",
      "Testing if rule is good to add IDSRule {Passenger_Cat=1st_class,Gender=female} => {Died=0} sup: 0.07 conf: 1.00, f1: 0.13, len: 3, id: 43\n",
      "Testing if rule is good to add IDSRule {Gender=male,Passenger_Cat=crew} => {Died=1} sup: 0.32 conf: 0.78, f1: 0.45, len: 3, id: 5\n",
      "Testing should remove rule IDSRule {Gender=male} => {Died=1} sup: 0.62 conf: 0.79, f1: 0.70, len: 2, id: 2\n",
      "Objective value of solution set: 288805.0\n"
     ]
    }
   ],
   "source": [
    "solution_set = dls_opt.optimize()"
   ]
  },
  {
   "cell_type": "code",
   "execution_count": 33,
   "metadata": {},
   "outputs": [
    {
     "data": {
      "text/plain": [
       "288805.0"
      ]
     },
     "execution_count": 33,
     "metadata": {},
     "output_type": "execute_result"
    }
   ],
   "source": [
    "obj_func.evaluate(IDSRuleSet(solution_set))"
   ]
  },
  {
   "cell_type": "code",
   "execution_count": 34,
   "metadata": {},
   "outputs": [
    {
     "name": "stdout",
     "output_type": "stream",
     "text": [
      "INFO - Number of input rules: 20\n",
      "INFO - RandomOptimizer estimated the OPTIMUM value as: 286851.0\n",
      "INFO - Threshold value (2/(n*n) * OPT) = 1434.255. This is the standard error treshold value.\n",
      "INFO - Estimating omega for rule: IDSRule {Passenger_Cat=2nd_class,Gender=male} => {Died=1} sup: 0.07 conf: 0.86, f1: 0.13, len: 3, id: 46\n",
      "INFO - stardard error of omega estimate: 343.61607209209524\n",
      "INFO - omega succesfully estimated\n",
      "INFO - Estimating omega for rule: IDSRule {Passenger_Cat=3rd_class,Age_Cat=adult} => {Died=1} sup: 0.21 conf: 0.82, f1: 0.33, len: 3, id: 14\n",
      "INFO - stardard error of omega estimate: 401.4816720598837\n",
      "INFO - omega succesfully estimated\n",
      "INFO - Estimating omega for rule: IDSRule {Gender=male,Passenger_Cat=crew,Age_Cat=adult} => {Died=1} sup: 0.32 conf: 0.78, f1: 0.45, len: 4, id: 4\n",
      "INFO - stardard error of omega estimate: 324.60143252918647\n",
      "INFO - omega succesfully estimated\n",
      "INFO - Estimating omega for rule: IDSRule {Passenger_Cat=2nd_class,Age_Cat=child,Gender=male} => {Died=0} sup: 0.00 conf: 1.00, f1: 0.01, len: 4, id: 68\n",
      "INFO - stardard error of omega estimate: 454.16433149246757\n",
      "INFO - omega succesfully estimated\n",
      "INFO - Estimating omega for rule: IDSRule {Passenger_Cat=1st_class,Gender=female,Age_Cat=adult} => {Died=0} sup: 0.07 conf: 1.00, f1: 0.13, len: 4, id: 42\n",
      "INFO - stardard error of omega estimate: 375.89392918747706\n",
      "INFO - omega succesfully estimated\n",
      "INFO - Estimating omega for rule: IDSRule {Passenger_Cat=3rd_class,Gender=male,Age_Cat=adult} => {Died=1} sup: 0.18 conf: 0.86, f1: 0.30, len: 4, id: 15\n",
      "INFO - stardard error of omega estimate: 268.34730108573854\n",
      "INFO - omega succesfully estimated\n",
      "INFO - Estimating omega for rule: IDSRule {Passenger_Cat=2nd_class,Gender=female,Age_Cat=adult} => {Died=0} sup: 0.04 conf: 0.83, f1: 0.08, len: 4, id: 54\n",
      "INFO - stardard error of omega estimate: 242.83446213418722\n",
      "INFO - omega succesfully estimated\n",
      "INFO - Estimating omega for rule: IDSRule {Passenger_Cat=2nd_class,Age_Cat=child} => {Died=0} sup: 0.01 conf: 1.00, f1: 0.02, len: 3, id: 69\n",
      "INFO - stardard error of omega estimate: 313.8381939789993\n",
      "INFO - omega succesfully estimated\n",
      "INFO - Estimating omega for rule: IDSRule {Passenger_Cat=1st_class,Gender=female} => {Died=0} sup: 0.07 conf: 1.00, f1: 0.13, len: 3, id: 43\n",
      "INFO - stardard error of omega estimate: 275.03524319621295\n",
      "INFO - omega succesfully estimated\n",
      "INFO - Estimating omega for rule: IDSRule {Gender=male,Passenger_Cat=crew} => {Died=1} sup: 0.32 conf: 0.78, f1: 0.45, len: 3, id: 5\n",
      "INFO - stardard error of omega estimate: 320.59984404238253\n",
      "INFO - omega succesfully estimated\n",
      "INFO - Estimating omega for rule: IDSRule {Passenger_Cat=3rd_class,Gender=male} => {Died=1} sup: 0.18 conf: 0.86, f1: 0.30, len: 3, id: 16\n",
      "INFO - stardard error of omega estimate: 445.2939175421106\n",
      "INFO - omega succesfully estimated\n",
      "INFO - Estimating omega for rule: IDSRule {Passenger_Cat=2nd_class,Gender=female} => {Died=0} sup: 0.05 conf: 0.86, f1: 0.10, len: 3, id: 55\n",
      "INFO - stardard error of omega estimate: 317.7242404979513\n",
      "INFO - omega succesfully estimated\n",
      "INFO - Estimating omega for rule: IDSRule {Passenger_Cat=2nd_class,Age_Cat=child,Gender=female} => {Died=0} sup: 0.01 conf: 1.00, f1: 0.02, len: 4, id: 70\n",
      "INFO - stardard error of omega estimate: 273.29149273257667\n",
      "INFO - omega succesfully estimated\n",
      "INFO - Estimating omega for rule: IDSRule {Gender=male,Age_Cat=adult} => {Died=1} sup: 0.62 conf: 0.79, f1: 0.69, len: 3, id: 1\n",
      "INFO - stardard error of omega estimate: 333.57044983031693\n",
      "INFO - omega succesfully estimated\n",
      "INFO - Estimating omega for rule: IDSRule {Passenger_Cat=3rd_class,Age_Cat=child} => {Died=1} sup: 0.02 conf: 0.78, f1: 0.04, len: 3, id: 61\n",
      "INFO - stardard error of omega estimate: 280.1018600438062\n",
      "INFO - omega succesfully estimated\n",
      "INFO - Estimating omega for rule: IDSRule {Passenger_Cat=crew} => {Died=1} sup: 0.32 conf: 0.76, f1: 0.45, len: 2, id: 6\n",
      "INFO - stardard error of omega estimate: 350.4540497697237\n",
      "INFO - omega succesfully estimated\n",
      "INFO - Estimating omega for rule: IDSRule {Passenger_Cat=3rd_class} => {Died=1} sup: 0.23 conf: 0.82, f1: 0.36, len: 2, id: 17\n",
      "INFO - stardard error of omega estimate: 408.39891038052485\n",
      "INFO - omega succesfully estimated\n",
      "INFO - Estimating omega for rule: IDSRule {Passenger_Cat=3rd_class,Age_Cat=child,Gender=female} => {Died=1} sup: 0.01 conf: 0.83, f1: 0.03, len: 4, id: 66\n",
      "INFO - stardard error of omega estimate: 351.361124770513\n",
      "INFO - omega succesfully estimated\n",
      "INFO - Estimating omega for rule: IDSRule {Passenger_Cat=2nd_class,Gender=male,Age_Cat=adult} => {Died=1} sup: 0.07 conf: 0.89, f1: 0.13, len: 4, id: 45\n",
      "INFO - stardard error of omega estimate: 363.9702803801431\n",
      "INFO - omega succesfully estimated\n",
      "INFO - Estimating omega for rule: IDSRule {Gender=male} => {Died=1} sup: 0.62 conf: 0.79, f1: 0.70, len: 2, id: 2\n",
      "INFO - stardard error of omega estimate: 432.37433550107943\n",
      "INFO - omega succesfully estimated\n",
      "INFO - Number of input rules: 20\n",
      "INFO - RandomOptimizer estimated the OPTIMUM value as: 285065.0\n",
      "INFO - Threshold value (2/(n*n) * OPT) = 1425.325. This is the standard error treshold value.\n",
      "INFO - Estimating omega for rule: IDSRule {Passenger_Cat=2nd_class,Gender=male} => {Died=1} sup: 0.07 conf: 0.86, f1: 0.13, len: 3, id: 46\n",
      "INFO - stardard error of omega estimate: 275.37973781671013\n",
      "INFO - omega succesfully estimated\n",
      "INFO - Estimating omega for rule: IDSRule {Passenger_Cat=3rd_class,Age_Cat=adult} => {Died=1} sup: 0.21 conf: 0.82, f1: 0.33, len: 3, id: 14\n",
      "INFO - stardard error of omega estimate: 258.06944414246334\n",
      "INFO - omega succesfully estimated\n",
      "INFO - Estimating omega for rule: IDSRule {Gender=male,Passenger_Cat=crew,Age_Cat=adult} => {Died=1} sup: 0.32 conf: 0.78, f1: 0.45, len: 4, id: 4\n",
      "INFO - stardard error of omega estimate: 267.4698207274982\n",
      "INFO - omega succesfully estimated\n",
      "INFO - Estimating omega for rule: IDSRule {Passenger_Cat=2nd_class,Age_Cat=child,Gender=male} => {Died=0} sup: 0.00 conf: 1.00, f1: 0.01, len: 4, id: 68\n",
      "INFO - stardard error of omega estimate: 343.48481771397115\n",
      "INFO - omega succesfully estimated\n",
      "INFO - Estimating omega for rule: IDSRule {Passenger_Cat=1st_class,Gender=female,Age_Cat=adult} => {Died=0} sup: 0.07 conf: 1.00, f1: 0.13, len: 4, id: 42\n",
      "INFO - stardard error of omega estimate: 356.0584741303035\n",
      "INFO - omega succesfully estimated\n",
      "INFO - Estimating omega for rule: IDSRule {Passenger_Cat=3rd_class,Gender=male,Age_Cat=adult} => {Died=1} sup: 0.18 conf: 0.86, f1: 0.30, len: 4, id: 15\n",
      "INFO - stardard error of omega estimate: 368.38610722990086\n",
      "INFO - omega succesfully estimated\n",
      "INFO - Estimating omega for rule: IDSRule {Passenger_Cat=2nd_class,Gender=female,Age_Cat=adult} => {Died=0} sup: 0.04 conf: 0.83, f1: 0.08, len: 4, id: 54\n",
      "INFO - stardard error of omega estimate: 257.1487604481111\n",
      "INFO - omega succesfully estimated\n",
      "INFO - Estimating omega for rule: IDSRule {Passenger_Cat=2nd_class,Age_Cat=child} => {Died=0} sup: 0.01 conf: 1.00, f1: 0.02, len: 3, id: 69\n",
      "INFO - stardard error of omega estimate: 349.28931417952083\n",
      "INFO - omega succesfully estimated\n",
      "INFO - Estimating omega for rule: IDSRule {Passenger_Cat=1st_class,Gender=female} => {Died=0} sup: 0.07 conf: 1.00, f1: 0.13, len: 3, id: 43\n",
      "INFO - stardard error of omega estimate: 476.18897614287545\n",
      "INFO - omega succesfully estimated\n",
      "INFO - Estimating omega for rule: IDSRule {Gender=male,Passenger_Cat=crew} => {Died=1} sup: 0.32 conf: 0.78, f1: 0.45, len: 3, id: 5\n",
      "INFO - stardard error of omega estimate: 361.0774501405481\n",
      "INFO - omega succesfully estimated\n",
      "INFO - Estimating omega for rule: IDSRule {Passenger_Cat=3rd_class,Gender=male} => {Died=1} sup: 0.18 conf: 0.86, f1: 0.30, len: 3, id: 16\n",
      "INFO - stardard error of omega estimate: 287.27403815868917\n",
      "INFO - omega succesfully estimated\n",
      "INFO - Estimating omega for rule: IDSRule {Passenger_Cat=2nd_class,Gender=female} => {Died=0} sup: 0.05 conf: 0.86, f1: 0.10, len: 3, id: 55\n",
      "INFO - stardard error of omega estimate: 309.6674425896271\n",
      "INFO - omega succesfully estimated\n",
      "INFO - Estimating omega for rule: IDSRule {Passenger_Cat=2nd_class,Age_Cat=child,Gender=female} => {Died=0} sup: 0.01 conf: 1.00, f1: 0.02, len: 4, id: 70\n",
      "INFO - stardard error of omega estimate: 324.99678921490903\n",
      "INFO - omega succesfully estimated\n",
      "INFO - Estimating omega for rule: IDSRule {Gender=male,Age_Cat=adult} => {Died=1} sup: 0.62 conf: 0.79, f1: 0.69, len: 3, id: 1\n",
      "INFO - stardard error of omega estimate: 236.83439361714338\n",
      "INFO - omega succesfully estimated\n",
      "INFO - Estimating omega for rule: IDSRule {Passenger_Cat=3rd_class,Age_Cat=child} => {Died=1} sup: 0.02 conf: 0.78, f1: 0.04, len: 3, id: 61\n",
      "INFO - stardard error of omega estimate: 212.85032299717093\n",
      "INFO - omega succesfully estimated\n",
      "INFO - Estimating omega for rule: IDSRule {Passenger_Cat=crew} => {Died=1} sup: 0.32 conf: 0.76, f1: 0.45, len: 2, id: 6\n",
      "INFO - stardard error of omega estimate: 217.98589174531458\n",
      "INFO - omega succesfully estimated\n",
      "INFO - Estimating omega for rule: IDSRule {Passenger_Cat=3rd_class} => {Died=1} sup: 0.23 conf: 0.82, f1: 0.36, len: 2, id: 17\n"
     ]
    },
    {
     "name": "stdout",
     "output_type": "stream",
     "text": [
      "INFO - stardard error of omega estimate: 423.4204730524966\n",
      "INFO - omega succesfully estimated\n",
      "INFO - Estimating omega for rule: IDSRule {Passenger_Cat=3rd_class,Age_Cat=child,Gender=female} => {Died=1} sup: 0.01 conf: 0.83, f1: 0.03, len: 4, id: 66\n",
      "INFO - stardard error of omega estimate: 247.37878850055031\n",
      "INFO - omega succesfully estimated\n",
      "INFO - Estimating omega for rule: IDSRule {Passenger_Cat=2nd_class,Gender=male,Age_Cat=adult} => {Died=1} sup: 0.07 conf: 0.89, f1: 0.13, len: 4, id: 45\n",
      "INFO - stardard error of omega estimate: 387.25856607698165\n",
      "INFO - omega succesfully estimated\n",
      "INFO - Estimating omega for rule: IDSRule {Gender=male} => {Died=1} sup: 0.62 conf: 0.79, f1: 0.70, len: 2, id: 2\n",
      "INFO - stardard error of omega estimate: 266.4906546203825\n",
      "INFO - omega succesfully estimated\n"
     ]
    },
    {
     "data": {
      "text/plain": [
       "286719.0"
      ]
     },
     "execution_count": 34,
     "metadata": {},
     "output_type": "execute_result"
    }
   ],
   "source": [
    "sls_opt = SLSOptimizer(obj_func, params)\n",
    "solution_set = sls_opt.optimize()\n",
    "obj_func.evaluate(IDSRuleSet(solution_set))"
   ]
  },
  {
   "cell_type": "code",
   "execution_count": 35,
   "metadata": {},
   "outputs": [],
   "source": [
    "ids_clf = IDSClassifier(solution_set)\n",
    "\n",
    "ids_clf.quant_dataframe_train = quant_dataframe_train\n",
    "\n",
    "ids_clf.calculate_default_class()"
   ]
  },
  {
   "cell_type": "code",
   "execution_count": 36,
   "metadata": {},
   "outputs": [
    {
     "data": {
      "text/plain": [
       "'1'"
      ]
     },
     "execution_count": 36,
     "metadata": {},
     "output_type": "execute_result"
    }
   ],
   "source": [
    "ids_clf.default_class"
   ]
  },
  {
   "cell_type": "code",
   "execution_count": 37,
   "metadata": {},
   "outputs": [
    {
     "data": {
      "text/plain": [
       "0.6060606060606061"
      ]
     },
     "execution_count": 37,
     "metadata": {},
     "output_type": "execute_result"
    }
   ],
   "source": [
    "ids_clf.default_class_confidence"
   ]
  },
  {
   "cell_type": "code",
   "execution_count": 38,
   "metadata": {},
   "outputs": [],
   "source": [
    "import numpy as np\n",
    "\n",
    "class RandomizedUSMOptimizer:\n",
    "\n",
    "    def __init__(self, objective_function, objective_func_params, debug=True, random_seed=None):\n",
    "        self.objective_function_params = objective_func_params \n",
    "        self.objective_function = objective_function\n",
    "        self.debug = debug\n",
    "\n",
    "        if random_seed:\n",
    "            np.random.seed(random_seed)\n",
    "\n",
    "    def optimize(self):\n",
    "        all_rules = self.objective_function_params.params[\"all_rules\"]\n",
    "\n",
    "        x0 = IDSRuleSet(set())\n",
    "        y0 = IDSRuleSet({rule for rule in all_rules.ruleset})\n",
    "\n",
    "        n = len(y0)\n",
    "\n",
    "        for rule in all_rules.ruleset:\n",
    "            a_set = IDSRuleSet(x0.ruleset | {rule})\n",
    "            b_set = IDSRuleSet(y0.ruleset - {rule})\n",
    "\n",
    "            a_value = self.objective_function.evaluate(a_set) - self.objective_function.evaluate(x0)\n",
    "            b_value = self.objective_function.evaluate(b_set) - self.objective_function.evaluate(y0)\n",
    "\n",
    "            a_max = max(a_value, 0)\n",
    "            b_max = max(b_value, 0)\n",
    "\n",
    "            x_probability = 1\n",
    "            y_probability = 0\n",
    "            \n",
    "            if not (a_max == 0 and b_max == 0):\n",
    "                x_probability = a_max / (a_max + b_max)\n",
    "                y_probability = b_max / (a_max + b_max)\n",
    "\n",
    "            if np.random.uniform() <= x_probability:\n",
    "                x0.ruleset.add(rule)\n",
    "\n",
    "            if np.random.uniform() <= y_probability:\n",
    "                y0.ruleset.remove(rule)                \n",
    "\n",
    "        x_value = self.objective_function.evaluate(x0)\n",
    "        y_value = self.objective_function.evaluate(y0)\n",
    "\n",
    "        if x_value > y_value:\n",
    "            return x0.ruleset\n",
    "        else:\n",
    "            return y0.ruleset"
   ]
  },
  {
   "cell_type": "code",
   "execution_count": 39,
   "metadata": {},
   "outputs": [
    {
     "data": {
      "text/plain": [
       "140800.0"
      ]
     },
     "execution_count": 39,
     "metadata": {},
     "output_type": "execute_result"
    }
   ],
   "source": [
    "params.params[\"lambda_array\"] = [0, 0, 1, 0, 0, 0, 0]\n",
    "\n",
    "rusm_opt = RandomizedUSMOptimizer(obj_func, params)\n",
    "solution_set = rusm_opt.optimize()\n",
    "obj_func.evaluate(IDSRuleSet(solution_set))"
   ]
  },
  {
   "cell_type": "code",
   "execution_count": 40,
   "metadata": {},
   "outputs": [
    {
     "data": {
      "text/plain": [
       "{IDSRule {Passenger_Cat=2nd_class,Age_Cat=child,Gender=male} => {Died=0} sup: 0.00 conf: 1.00, f1: 0.01, len: 4, id: 68,\n",
       " IDSRule {Passenger_Cat=2nd_class,Age_Cat=child,Gender=female} => {Died=0} sup: 0.01 conf: 1.00, f1: 0.02, len: 4, id: 70,\n",
       " IDSRule {Passenger_Cat=2nd_class,Age_Cat=child} => {Died=0} sup: 0.01 conf: 1.00, f1: 0.02, len: 3, id: 69,\n",
       " IDSRule {Passenger_Cat=3rd_class,Age_Cat=child,Gender=female} => {Died=1} sup: 0.01 conf: 0.83, f1: 0.03, len: 4, id: 66,\n",
       " IDSRule {Passenger_Cat=3rd_class,Age_Cat=child} => {Died=1} sup: 0.02 conf: 0.78, f1: 0.04, len: 3, id: 61,\n",
       " IDSRule {Passenger_Cat=2nd_class,Gender=female,Age_Cat=adult} => {Died=0} sup: 0.04 conf: 0.83, f1: 0.08, len: 4, id: 54,\n",
       " IDSRule {Passenger_Cat=2nd_class,Gender=female} => {Died=0} sup: 0.05 conf: 0.86, f1: 0.10, len: 3, id: 55,\n",
       " IDSRule {Passenger_Cat=2nd_class,Gender=male} => {Died=1} sup: 0.07 conf: 0.86, f1: 0.13, len: 3, id: 46,\n",
       " IDSRule {Passenger_Cat=2nd_class,Gender=male,Age_Cat=adult} => {Died=1} sup: 0.07 conf: 0.89, f1: 0.13, len: 4, id: 45,\n",
       " IDSRule {Passenger_Cat=1st_class,Gender=female} => {Died=0} sup: 0.07 conf: 1.00, f1: 0.13, len: 3, id: 43,\n",
       " IDSRule {Passenger_Cat=1st_class,Gender=female,Age_Cat=adult} => {Died=0} sup: 0.07 conf: 1.00, f1: 0.13, len: 4, id: 42,\n",
       " IDSRule {Passenger_Cat=3rd_class,Gender=male,Age_Cat=adult} => {Died=1} sup: 0.18 conf: 0.86, f1: 0.30, len: 4, id: 15,\n",
       " IDSRule {Passenger_Cat=3rd_class,Gender=male} => {Died=1} sup: 0.18 conf: 0.86, f1: 0.30, len: 3, id: 16,\n",
       " IDSRule {Passenger_Cat=3rd_class,Age_Cat=adult} => {Died=1} sup: 0.21 conf: 0.82, f1: 0.33, len: 3, id: 14,\n",
       " IDSRule {Passenger_Cat=3rd_class} => {Died=1} sup: 0.23 conf: 0.82, f1: 0.36, len: 2, id: 17,\n",
       " IDSRule {Gender=male,Passenger_Cat=crew} => {Died=1} sup: 0.32 conf: 0.78, f1: 0.45, len: 3, id: 5,\n",
       " IDSRule {Gender=male,Passenger_Cat=crew,Age_Cat=adult} => {Died=1} sup: 0.32 conf: 0.78, f1: 0.45, len: 4, id: 4,\n",
       " IDSRule {Passenger_Cat=crew} => {Died=1} sup: 0.32 conf: 0.76, f1: 0.45, len: 2, id: 6,\n",
       " IDSRule {Gender=male,Age_Cat=adult} => {Died=1} sup: 0.62 conf: 0.79, f1: 0.69, len: 3, id: 1,\n",
       " IDSRule {Gender=male} => {Died=1} sup: 0.62 conf: 0.79, f1: 0.70, len: 2, id: 2}"
      ]
     },
     "execution_count": 40,
     "metadata": {},
     "output_type": "execute_result"
    }
   ],
   "source": [
    "ids_ruleset.ruleset"
   ]
  },
  {
   "cell_type": "code",
   "execution_count": 41,
   "metadata": {},
   "outputs": [
    {
     "data": {
      "text/plain": [
       "{IDSRule {Passenger_Cat=2nd_class,Age_Cat=child,Gender=female} => {Died=0} sup: 0.01 conf: 1.00, f1: 0.02, len: 4, id: 70,\n",
       " IDSRule {Passenger_Cat=3rd_class,Age_Cat=child,Gender=female} => {Died=1} sup: 0.01 conf: 0.83, f1: 0.03, len: 4, id: 66,\n",
       " IDSRule {Passenger_Cat=1st_class,Gender=female} => {Died=0} sup: 0.07 conf: 1.00, f1: 0.13, len: 3, id: 43,\n",
       " IDSRule {Gender=male} => {Died=1} sup: 0.62 conf: 0.79, f1: 0.70, len: 2, id: 2}"
      ]
     },
     "execution_count": 41,
     "metadata": {},
     "output_type": "execute_result"
    }
   ],
   "source": [
    "solution_set"
   ]
  },
  {
   "cell_type": "code",
   "execution_count": 42,
   "metadata": {},
   "outputs": [
    {
     "name": "stdout",
     "output_type": "stream",
     "text": [
      "cover cache prepared\n",
      "overlap cache prepared\n",
      "INFO - Number of input rules: 20\n",
      "INFO - RandomOptimizer estimated the OPTIMUM value as: 284732.0\n",
      "INFO - Threshold value (2/(n*n) * OPT) = 1423.66. This is the standard error treshold value.\n",
      "INFO - Estimating omega for rule: IDSRule {Passenger_Cat=2nd_class,Gender=male} => {Died=1} sup: 0.07 conf: 0.86, f1: 0.13, len: 3, id: 46\n",
      "INFO - stardard error of omega estimate: 391.4272767705388\n",
      "INFO - omega succesfully estimated\n",
      "INFO - Estimating omega for rule: IDSRule {Passenger_Cat=3rd_class,Age_Cat=adult} => {Died=1} sup: 0.21 conf: 0.82, f1: 0.33, len: 3, id: 14\n",
      "INFO - stardard error of omega estimate: 278.15152884713757\n",
      "INFO - omega succesfully estimated\n",
      "INFO - Estimating omega for rule: IDSRule {Gender=male,Passenger_Cat=crew,Age_Cat=adult} => {Died=1} sup: 0.32 conf: 0.78, f1: 0.45, len: 4, id: 4\n",
      "INFO - stardard error of omega estimate: 338.7727261749387\n",
      "INFO - omega succesfully estimated\n",
      "INFO - Estimating omega for rule: IDSRule {Passenger_Cat=2nd_class,Age_Cat=child,Gender=male} => {Died=0} sup: 0.00 conf: 1.00, f1: 0.01, len: 4, id: 68\n",
      "INFO - stardard error of omega estimate: 297.87380717344047\n",
      "INFO - omega succesfully estimated\n",
      "INFO - Estimating omega for rule: IDSRule {Passenger_Cat=1st_class,Gender=female,Age_Cat=adult} => {Died=0} sup: 0.07 conf: 1.00, f1: 0.13, len: 4, id: 42\n",
      "INFO - stardard error of omega estimate: 383.0079581418642\n",
      "INFO - omega succesfully estimated\n",
      "INFO - Estimating omega for rule: IDSRule {Passenger_Cat=3rd_class,Gender=male,Age_Cat=adult} => {Died=1} sup: 0.18 conf: 0.86, f1: 0.30, len: 4, id: 15\n",
      "INFO - stardard error of omega estimate: 343.6016254327095\n",
      "INFO - omega succesfully estimated\n",
      "INFO - Estimating omega for rule: IDSRule {Passenger_Cat=2nd_class,Gender=female,Age_Cat=adult} => {Died=0} sup: 0.04 conf: 0.83, f1: 0.08, len: 4, id: 54\n",
      "INFO - stardard error of omega estimate: 273.2276285444062\n",
      "INFO - omega succesfully estimated\n",
      "INFO - Estimating omega for rule: IDSRule {Passenger_Cat=2nd_class,Age_Cat=child} => {Died=0} sup: 0.01 conf: 1.00, f1: 0.02, len: 3, id: 69\n",
      "INFO - stardard error of omega estimate: 331.9054458727666\n",
      "INFO - omega succesfully estimated\n",
      "INFO - Estimating omega for rule: IDSRule {Passenger_Cat=1st_class,Gender=female} => {Died=0} sup: 0.07 conf: 1.00, f1: 0.13, len: 3, id: 43\n",
      "INFO - stardard error of omega estimate: 429.9260401510939\n",
      "INFO - omega succesfully estimated\n",
      "INFO - Estimating omega for rule: IDSRule {Gender=male,Passenger_Cat=crew} => {Died=1} sup: 0.32 conf: 0.78, f1: 0.45, len: 3, id: 5\n",
      "INFO - stardard error of omega estimate: 300.06983353879474\n",
      "INFO - omega succesfully estimated\n",
      "INFO - Estimating omega for rule: IDSRule {Passenger_Cat=3rd_class,Gender=male} => {Died=1} sup: 0.18 conf: 0.86, f1: 0.30, len: 3, id: 16\n",
      "INFO - stardard error of omega estimate: 232.82866876740073\n",
      "INFO - omega succesfully estimated\n",
      "INFO - Estimating omega for rule: IDSRule {Passenger_Cat=2nd_class,Gender=female} => {Died=0} sup: 0.05 conf: 0.86, f1: 0.10, len: 3, id: 55\n",
      "INFO - stardard error of omega estimate: 316.1116843775314\n",
      "INFO - omega succesfully estimated\n",
      "INFO - Estimating omega for rule: IDSRule {Passenger_Cat=2nd_class,Age_Cat=child,Gender=female} => {Died=0} sup: 0.01 conf: 1.00, f1: 0.02, len: 4, id: 70\n",
      "INFO - stardard error of omega estimate: 442.69515131747266\n",
      "INFO - omega succesfully estimated\n",
      "INFO - Estimating omega for rule: IDSRule {Gender=male,Age_Cat=adult} => {Died=1} sup: 0.62 conf: 0.79, f1: 0.69, len: 3, id: 1\n",
      "INFO - stardard error of omega estimate: 349.89962846507854\n",
      "INFO - omega succesfully estimated\n",
      "INFO - Estimating omega for rule: IDSRule {Passenger_Cat=3rd_class,Age_Cat=child} => {Died=1} sup: 0.02 conf: 0.78, f1: 0.04, len: 3, id: 61\n",
      "INFO - stardard error of omega estimate: 388.7377830877776\n",
      "INFO - omega succesfully estimated\n",
      "INFO - Estimating omega for rule: IDSRule {Passenger_Cat=crew} => {Died=1} sup: 0.32 conf: 0.76, f1: 0.45, len: 2, id: 6\n",
      "INFO - stardard error of omega estimate: 462.8968286778383\n",
      "INFO - omega succesfully estimated\n",
      "INFO - Estimating omega for rule: IDSRule {Passenger_Cat=3rd_class} => {Died=1} sup: 0.23 conf: 0.82, f1: 0.36, len: 2, id: 17\n",
      "INFO - stardard error of omega estimate: 369.10898796967814\n",
      "INFO - omega succesfully estimated\n",
      "INFO - Estimating omega for rule: IDSRule {Passenger_Cat=3rd_class,Age_Cat=child,Gender=female} => {Died=1} sup: 0.01 conf: 0.83, f1: 0.03, len: 4, id: 66\n",
      "INFO - stardard error of omega estimate: 321.7255989193275\n",
      "INFO - omega succesfully estimated\n",
      "INFO - Estimating omega for rule: IDSRule {Passenger_Cat=2nd_class,Gender=male,Age_Cat=adult} => {Died=1} sup: 0.07 conf: 0.89, f1: 0.13, len: 4, id: 45\n",
      "INFO - stardard error of omega estimate: 282.99791695346454\n",
      "INFO - omega succesfully estimated\n",
      "INFO - Estimating omega for rule: IDSRule {Gender=male} => {Died=1} sup: 0.62 conf: 0.79, f1: 0.70, len: 2, id: 2\n",
      "INFO - stardard error of omega estimate: 290.01298591614824\n",
      "INFO - omega succesfully estimated\n",
      "INFO - Number of input rules: 20\n",
      "INFO - RandomOptimizer estimated the OPTIMUM value as: 286333.0\n",
      "INFO - Threshold value (2/(n*n) * OPT) = 1431.665. This is the standard error treshold value.\n",
      "INFO - Estimating omega for rule: IDSRule {Passenger_Cat=2nd_class,Gender=male} => {Died=1} sup: 0.07 conf: 0.86, f1: 0.13, len: 3, id: 46\n",
      "INFO - stardard error of omega estimate: 347.6177570263061\n",
      "INFO - omega succesfully estimated\n",
      "INFO - Estimating omega for rule: IDSRule {Passenger_Cat=3rd_class,Age_Cat=adult} => {Died=1} sup: 0.21 conf: 0.82, f1: 0.33, len: 3, id: 14\n",
      "INFO - stardard error of omega estimate: 355.40990700879456\n",
      "INFO - omega succesfully estimated\n",
      "INFO - Estimating omega for rule: IDSRule {Gender=male,Passenger_Cat=crew,Age_Cat=adult} => {Died=1} sup: 0.32 conf: 0.78, f1: 0.45, len: 4, id: 4\n",
      "INFO - stardard error of omega estimate: 342.16316867833683\n",
      "INFO - omega succesfully estimated\n",
      "INFO - Estimating omega for rule: IDSRule {Passenger_Cat=2nd_class,Age_Cat=child,Gender=male} => {Died=0} sup: 0.00 conf: 1.00, f1: 0.01, len: 4, id: 68\n",
      "INFO - stardard error of omega estimate: 380.94926827597396\n",
      "INFO - omega succesfully estimated\n",
      "INFO - Estimating omega for rule: IDSRule {Passenger_Cat=1st_class,Gender=female,Age_Cat=adult} => {Died=0} sup: 0.07 conf: 1.00, f1: 0.13, len: 4, id: 42\n",
      "INFO - stardard error of omega estimate: 234.92978951167518\n",
      "INFO - omega succesfully estimated\n",
      "INFO - Estimating omega for rule: IDSRule {Passenger_Cat=3rd_class,Gender=male,Age_Cat=adult} => {Died=1} sup: 0.18 conf: 0.86, f1: 0.30, len: 4, id: 15\n",
      "INFO - stardard error of omega estimate: 304.8008677809169\n",
      "INFO - omega succesfully estimated\n",
      "INFO - Estimating omega for rule: IDSRule {Passenger_Cat=2nd_class,Gender=female,Age_Cat=adult} => {Died=0} sup: 0.04 conf: 0.83, f1: 0.08, len: 4, id: 54\n",
      "INFO - stardard error of omega estimate: 370.82829989093335\n",
      "INFO - omega succesfully estimated\n",
      "INFO - Estimating omega for rule: IDSRule {Passenger_Cat=2nd_class,Age_Cat=child} => {Died=0} sup: 0.01 conf: 1.00, f1: 0.02, len: 3, id: 69\n",
      "INFO - stardard error of omega estimate: 347.5148701854353\n",
      "INFO - omega succesfully estimated\n",
      "INFO - Estimating omega for rule: IDSRule {Passenger_Cat=1st_class,Gender=female} => {Died=0} sup: 0.07 conf: 1.00, f1: 0.13, len: 3, id: 43\n",
      "INFO - stardard error of omega estimate: 231.2081616206487\n",
      "INFO - omega succesfully estimated\n",
      "INFO - Estimating omega for rule: IDSRule {Gender=male,Passenger_Cat=crew} => {Died=1} sup: 0.32 conf: 0.78, f1: 0.45, len: 3, id: 5\n",
      "INFO - stardard error of omega estimate: 354.0786522794053\n",
      "INFO - omega succesfully estimated\n",
      "INFO - Estimating omega for rule: IDSRule {Passenger_Cat=3rd_class,Gender=male} => {Died=1} sup: 0.18 conf: 0.86, f1: 0.30, len: 3, id: 16\n",
      "INFO - stardard error of omega estimate: 351.4683456586098\n",
      "INFO - omega succesfully estimated\n",
      "INFO - Estimating omega for rule: IDSRule {Passenger_Cat=2nd_class,Gender=female} => {Died=0} sup: 0.05 conf: 0.86, f1: 0.10, len: 3, id: 55\n",
      "INFO - stardard error of omega estimate: 336.15617352653214\n",
      "INFO - omega succesfully estimated\n",
      "INFO - Estimating omega for rule: IDSRule {Passenger_Cat=2nd_class,Age_Cat=child,Gender=female} => {Died=0} sup: 0.01 conf: 1.00, f1: 0.02, len: 4, id: 70\n",
      "INFO - stardard error of omega estimate: 388.9274289632964\n",
      "INFO - omega succesfully estimated\n",
      "INFO - Estimating omega for rule: IDSRule {Gender=male,Age_Cat=adult} => {Died=1} sup: 0.62 conf: 0.79, f1: 0.69, len: 3, id: 1\n"
     ]
    },
    {
     "name": "stdout",
     "output_type": "stream",
     "text": [
      "INFO - stardard error of omega estimate: 337.6761362607669\n",
      "INFO - omega succesfully estimated\n",
      "INFO - Estimating omega for rule: IDSRule {Passenger_Cat=3rd_class,Age_Cat=child} => {Died=1} sup: 0.02 conf: 0.78, f1: 0.04, len: 3, id: 61\n",
      "INFO - stardard error of omega estimate: 408.5011872687765\n",
      "INFO - omega succesfully estimated\n",
      "INFO - Estimating omega for rule: IDSRule {Passenger_Cat=crew} => {Died=1} sup: 0.32 conf: 0.76, f1: 0.45, len: 2, id: 6\n",
      "INFO - stardard error of omega estimate: 392.4117187342906\n",
      "INFO - omega succesfully estimated\n",
      "INFO - Estimating omega for rule: IDSRule {Passenger_Cat=3rd_class} => {Died=1} sup: 0.23 conf: 0.82, f1: 0.36, len: 2, id: 17\n",
      "INFO - stardard error of omega estimate: 428.5205771021971\n",
      "INFO - omega succesfully estimated\n",
      "INFO - Estimating omega for rule: IDSRule {Passenger_Cat=3rd_class,Age_Cat=child,Gender=female} => {Died=1} sup: 0.01 conf: 0.83, f1: 0.03, len: 4, id: 66\n",
      "INFO - stardard error of omega estimate: 315.6288643327793\n",
      "INFO - omega succesfully estimated\n",
      "INFO - Estimating omega for rule: IDSRule {Passenger_Cat=2nd_class,Gender=male,Age_Cat=adult} => {Died=1} sup: 0.07 conf: 0.89, f1: 0.13, len: 4, id: 45\n",
      "INFO - stardard error of omega estimate: 300.5636005906237\n",
      "INFO - omega succesfully estimated\n",
      "INFO - Estimating omega for rule: IDSRule {Gender=male} => {Died=1} sup: 0.62 conf: 0.79, f1: 0.70, len: 2, id: 2\n",
      "INFO - stardard error of omega estimate: 371.28579423403744\n",
      "INFO - omega succesfully estimated\n"
     ]
    },
    {
     "data": {
      "text/plain": [
       "<pyids.data_structures.ids_classifier.IDS at 0x26410fab208>"
      ]
     },
     "execution_count": 42,
     "metadata": {},
     "output_type": "execute_result"
    }
   ],
   "source": [
    "ids = IDS()\n",
    "ids.fit(quant_dataframe_train, class_association_rules=cars)"
   ]
  },
  {
   "cell_type": "code",
   "execution_count": 43,
   "metadata": {},
   "outputs": [
    {
     "data": {
      "text/plain": [
       "0.7926136363636364"
      ]
     },
     "execution_count": 43,
     "metadata": {},
     "output_type": "execute_result"
    }
   ],
   "source": [
    "ids.score(quant_dataframe_train)"
   ]
  },
  {
   "cell_type": "code",
   "execution_count": 44,
   "metadata": {},
   "outputs": [
    {
     "data": {
      "text/plain": [
       "array([1, 1, 1, 1, 1, 1])"
      ]
     },
     "execution_count": 44,
     "metadata": {},
     "output_type": "execute_result"
    }
   ],
   "source": [
    "np.where([True, True, True, False, False, True], [1, 1, 1, 0, 0, 1], [0, 0, 0, 1, 1, 0])"
   ]
  },
  {
   "cell_type": "code",
   "execution_count": 45,
   "metadata": {},
   "outputs": [
    {
     "name": "stderr",
     "output_type": "stream",
     "text": [
      "D:\\programy\\Anaconda\\lib\\site-packages\\pyids\\data_structures\\ids_classifier.py:193: FutureWarning: elementwise comparison failed; returning scalar instead, but in the future will perform elementwise comparison\n",
      "  corrected_confidences = np.where(pred == \"1\", predicted_classes, 1 - predicted_classes)\n"
     ]
    },
    {
     "ename": "TypeError",
     "evalue": "unsupported operand type(s) for -: 'int' and 'list'",
     "output_type": "error",
     "traceback": [
      "\u001b[1;31m---------------------------------------------------------------------------\u001b[0m",
      "\u001b[1;31mTypeError\u001b[0m                                 Traceback (most recent call last)",
      "\u001b[1;32m<ipython-input-45-bb22f401ea9b>\u001b[0m in \u001b[0;36m<module>\u001b[1;34m\u001b[0m\n\u001b[1;32m----> 1\u001b[1;33m \u001b[0mids\u001b[0m\u001b[1;33m.\u001b[0m\u001b[0mscore_auc\u001b[0m\u001b[1;33m(\u001b[0m\u001b[0mquant_dataframe_train\u001b[0m\u001b[1;33m,\u001b[0m \u001b[0mconfidence_based\u001b[0m\u001b[1;33m=\u001b[0m\u001b[1;32mTrue\u001b[0m\u001b[1;33m)\u001b[0m\u001b[1;33m\u001b[0m\u001b[1;33m\u001b[0m\u001b[0m\n\u001b[0m",
      "\u001b[1;32mD:\\programy\\Anaconda\\lib\\site-packages\\pyids\\data_structures\\ids_classifier.py\u001b[0m in \u001b[0;36mscore_auc\u001b[1;34m(self, quant_dataframe, confidence_based)\u001b[0m\n\u001b[0;32m    207\u001b[0m     \u001b[1;32mdef\u001b[0m \u001b[0mscore_auc\u001b[0m\u001b[1;33m(\u001b[0m\u001b[0mself\u001b[0m\u001b[1;33m,\u001b[0m \u001b[0mquant_dataframe\u001b[0m\u001b[1;33m,\u001b[0m \u001b[0mconfidence_based\u001b[0m\u001b[1;33m=\u001b[0m\u001b[1;32mFalse\u001b[0m\u001b[1;33m)\u001b[0m\u001b[1;33m:\u001b[0m\u001b[1;33m\u001b[0m\u001b[1;33m\u001b[0m\u001b[0m\n\u001b[0;32m    208\u001b[0m         \u001b[1;32mif\u001b[0m \u001b[0mconfidence_based\u001b[0m\u001b[1;33m:\u001b[0m\u001b[1;33m\u001b[0m\u001b[1;33m\u001b[0m\u001b[0m\n\u001b[1;32m--> 209\u001b[1;33m             \u001b[1;32mreturn\u001b[0m \u001b[0mself\u001b[0m\u001b[1;33m.\u001b[0m\u001b[0m_calculate_auc_for_ruleconf\u001b[0m\u001b[1;33m(\u001b[0m\u001b[0mquant_dataframe\u001b[0m\u001b[1;33m)\u001b[0m\u001b[1;33m\u001b[0m\u001b[1;33m\u001b[0m\u001b[0m\n\u001b[0m\u001b[0;32m    210\u001b[0m         \u001b[1;32melse\u001b[0m\u001b[1;33m:\u001b[0m\u001b[1;33m\u001b[0m\u001b[1;33m\u001b[0m\u001b[0m\n\u001b[0;32m    211\u001b[0m             \u001b[1;32mreturn\u001b[0m \u001b[0mself\u001b[0m\u001b[1;33m.\u001b[0m\u001b[0m_calcutate_auc_classical\u001b[0m\u001b[1;33m(\u001b[0m\u001b[0mquant_dataframe\u001b[0m\u001b[1;33m)\u001b[0m\u001b[1;33m\u001b[0m\u001b[1;33m\u001b[0m\u001b[0m\n",
      "\u001b[1;32mD:\\programy\\Anaconda\\lib\\site-packages\\pyids\\data_structures\\ids_classifier.py\u001b[0m in \u001b[0;36m_calculate_auc_for_ruleconf\u001b[1;34m(self, quant_dataframe)\u001b[0m\n\u001b[0;32m    191\u001b[0m         \u001b[0mactual\u001b[0m\u001b[1;33m,\u001b[0m \u001b[0mpred\u001b[0m \u001b[1;33m=\u001b[0m \u001b[0mencode_label\u001b[0m\u001b[1;33m(\u001b[0m\u001b[0mactual_classes\u001b[0m\u001b[1;33m,\u001b[0m \u001b[0mpredicted_classes\u001b[0m\u001b[1;33m)\u001b[0m\u001b[1;33m\u001b[0m\u001b[1;33m\u001b[0m\u001b[0m\n\u001b[0;32m    192\u001b[0m \u001b[1;33m\u001b[0m\u001b[0m\n\u001b[1;32m--> 193\u001b[1;33m         \u001b[0mcorrected_confidences\u001b[0m \u001b[1;33m=\u001b[0m \u001b[0mnp\u001b[0m\u001b[1;33m.\u001b[0m\u001b[0mwhere\u001b[0m\u001b[1;33m(\u001b[0m\u001b[0mpred\u001b[0m \u001b[1;33m==\u001b[0m \u001b[1;34m\"1\"\u001b[0m\u001b[1;33m,\u001b[0m \u001b[0mpredicted_classes\u001b[0m\u001b[1;33m,\u001b[0m \u001b[1;36m1\u001b[0m \u001b[1;33m-\u001b[0m \u001b[0mpredicted_classes\u001b[0m\u001b[1;33m)\u001b[0m\u001b[1;33m\u001b[0m\u001b[1;33m\u001b[0m\u001b[0m\n\u001b[0m\u001b[0;32m    194\u001b[0m \u001b[1;33m\u001b[0m\u001b[0m\n\u001b[0;32m    195\u001b[0m         \u001b[1;32mreturn\u001b[0m \u001b[0mcorrected_confidences\u001b[0m\u001b[1;33m\u001b[0m\u001b[1;33m\u001b[0m\u001b[0m\n",
      "\u001b[1;31mTypeError\u001b[0m: unsupported operand type(s) for -: 'int' and 'list'"
     ]
    }
   ],
   "source": [
    "ids.score_auc(quant_dataframe_train, confidence_based=True)"
   ]
  }
 ],
 "metadata": {
  "kernelspec": {
   "display_name": "Python 3",
   "language": "python",
   "name": "python3"
  },
  "language_info": {
   "codemirror_mode": {
    "name": "ipython",
    "version": 3
   },
   "file_extension": ".py",
   "mimetype": "text/x-python",
   "name": "python",
   "nbconvert_exporter": "python",
   "pygments_lexer": "ipython3",
   "version": "3.7.3"
  }
 },
 "nbformat": 4,
 "nbformat_minor": 2
}
