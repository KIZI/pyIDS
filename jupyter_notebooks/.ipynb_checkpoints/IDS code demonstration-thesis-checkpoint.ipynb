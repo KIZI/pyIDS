{
 "cells": [
  {
   "cell_type": "code",
   "execution_count": 38,
   "metadata": {},
   "outputs": [],
   "source": [
    "from pyarc.data_structures import ClassAssocationRule\n",
    "from pyids.data_structures import (\n",
    "    IDSRule,\n",
    "    IDSRuleSet,\n",
    "    IDSObjectiveFunction,\n",
    "    ObjectiveFunctionParameters,\n",
    "    ObjectiveFunctionParameters,\n",
    "    RSOptimizer,\n",
    "    DLSOptimizer,\n",
    "    SLSOptimizer,\n",
    "    RandomizedUSMOptimizer,\n",
    "    DeterministicUSMOptimizer\n",
    ")"
   ]
  },
  {
   "cell_type": "code",
   "execution_count": 39,
   "metadata": {},
   "outputs": [],
   "source": [
    "def print_cars(ids_cars):\n",
    "    cars = ids_cars\n",
    "    is_ids = False\n",
    "    if type(ids_cars[0]) == IDSRule:\n",
    "        is_ids = [ r.calc_f1() for r in ids_cars ]\n",
    "        cars = [ r.car for r in ids_cars ]\n",
    "    latex = []\n",
    "    for idx, car in enumerate(cars):\n",
    "        if is_ids:\n",
    "            latex.append(car_to_latex(car, is_ids=is_ids[idx]))\n",
    "        else:\n",
    "            latex.append(car_to_latex(car))\n",
    "        \n",
    "    return \"\\n\\n\".join(latex)\n",
    "        \n",
    "def car_to_latex(car, is_ids=False):\n",
    "    trans = {\n",
    "        \"-\":  r\"\\-\",\n",
    "        \"_\":  r\"\\_\",\n",
    "        \"]\":  r\"\\]\",\n",
    "        \"\\\\\": r\"\\\\\",\n",
    "        \"^\":  r\"\\^\",\n",
    "        \"$\":  r\"\\$\",\n",
    "        \"*\":  r\"\\*\",\n",
    "        \".\":  r\"\\.\"\n",
    "    }\n",
    "    latex = []\n",
    "    \n",
    "    latex.append(\"If\")\n",
    "    \n",
    "    for idx, predicate in enumerate(car.antecedent):\n",
    "       \n",
    "        name, interval = predicate\n",
    "        name = name.translate(str.maketrans(trans))\n",
    "        \n",
    "        interval_string = interval.translate(str.maketrans(trans))\n",
    "        \n",
    "        if idx != 0:\n",
    "            latex.append(\"and\")\n",
    "        latex.append(\n",
    "            f\"\\\\textcolor{{blue}}{{{name}}}=\\\\textcolor{{gray}}{{{interval_string}}}\"\n",
    "        )\n",
    "\n",
    "        \n",
    "    class_name, class_value = car.consequent\n",
    "    \n",
    "    latex.append(\"then\")\n",
    "    latex.append(\n",
    "        f\"\\\\textcolor{{red}}{{{class_name}}}=\\\\textcolor{{gray}}{{{class_value}}}\"\n",
    "    )\n",
    "    \n",
    "    if is_ids:\n",
    "        latex.append(\n",
    "            f\"$\\mid$ f1-score: \\\\textit{{{round(is_ids, 2)}}}\"\n",
    "        )\n",
    "    \n",
    "    return \" \".join(latex)"
   ]
  },
  {
   "cell_type": "markdown",
   "metadata": {},
   "source": [
    "# IDS Demonstration"
   ]
  },
  {
   "cell_type": "markdown",
   "metadata": {},
   "source": [
    "## Importing required libraries"
   ]
  },
  {
   "cell_type": "code",
   "execution_count": 40,
   "metadata": {},
   "outputs": [],
   "source": [
    "import pandas as pd\n",
    "import pyarc\n",
    "from pyids import IDS\n",
    "from pyids.data_structures import mine_CARs\n",
    "from pyids.rule_mining import RuleMiner\n",
    "from pyarc.qcba.data_structures import QuantitativeDataFrame\n",
    "\n",
    "from sklearn.model_selection import train_test_split"
   ]
  },
  {
   "cell_type": "markdown",
   "metadata": {},
   "source": [
    "## Loading the test and train data"
   ]
  },
  {
   "cell_type": "code",
   "execution_count": 41,
   "metadata": {},
   "outputs": [],
   "source": [
    "data = pd.read_csv(\"../data/titanic.csv\").sample(frac=1).reset_index(drop=True)\n",
    "\n",
    "\n",
    "data_train, data_test = train_test_split(data, test_size=0.8)"
   ]
  },
  {
   "cell_type": "code",
   "execution_count": 42,
   "metadata": {},
   "outputs": [
    {
     "data": {
      "text/html": [
       "<div>\n",
       "<style scoped>\n",
       "    .dataframe tbody tr th:only-of-type {\n",
       "        vertical-align: middle;\n",
       "    }\n",
       "\n",
       "    .dataframe tbody tr th {\n",
       "        vertical-align: top;\n",
       "    }\n",
       "\n",
       "    .dataframe thead th {\n",
       "        text-align: right;\n",
       "    }\n",
       "</style>\n",
       "<table border=\"1\" class=\"dataframe\">\n",
       "  <thead>\n",
       "    <tr style=\"text-align: right;\">\n",
       "      <th></th>\n",
       "      <th>Passenger_Cat</th>\n",
       "      <th>Age_Cat</th>\n",
       "      <th>Gender</th>\n",
       "      <th>Died</th>\n",
       "    </tr>\n",
       "  </thead>\n",
       "  <tbody>\n",
       "    <tr>\n",
       "      <th>0</th>\n",
       "      <td>crew</td>\n",
       "      <td>adult</td>\n",
       "      <td>male</td>\n",
       "      <td>1</td>\n",
       "    </tr>\n",
       "    <tr>\n",
       "      <th>1</th>\n",
       "      <td>crew</td>\n",
       "      <td>adult</td>\n",
       "      <td>male</td>\n",
       "      <td>1</td>\n",
       "    </tr>\n",
       "    <tr>\n",
       "      <th>2</th>\n",
       "      <td>1st_class</td>\n",
       "      <td>adult</td>\n",
       "      <td>male</td>\n",
       "      <td>1</td>\n",
       "    </tr>\n",
       "    <tr>\n",
       "      <th>3</th>\n",
       "      <td>1st_class</td>\n",
       "      <td>adult</td>\n",
       "      <td>female</td>\n",
       "      <td>0</td>\n",
       "    </tr>\n",
       "    <tr>\n",
       "      <th>4</th>\n",
       "      <td>3rd_class</td>\n",
       "      <td>adult</td>\n",
       "      <td>female</td>\n",
       "      <td>1</td>\n",
       "    </tr>\n",
       "  </tbody>\n",
       "</table>\n",
       "</div>"
      ],
      "text/plain": [
       "  Passenger_Cat Age_Cat  Gender  Died\n",
       "0          crew   adult    male     1\n",
       "1          crew   adult    male     1\n",
       "2     1st_class   adult    male     1\n",
       "3     1st_class   adult  female     0\n",
       "4     3rd_class   adult  female     1"
      ]
     },
     "execution_count": 42,
     "metadata": {},
     "output_type": "execute_result"
    }
   ],
   "source": [
    "data.head()"
   ]
  },
  {
   "cell_type": "code",
   "execution_count": 43,
   "metadata": {},
   "outputs": [
    {
     "name": "stdout",
     "output_type": "stream",
     "text": [
      "Running apriori with setting: confidence=0.5, support=0.0, minlen=2, maxlen=3, MAX_RULE_LEN=4\n",
      "Rule count: 51, Iteration: 1\n",
      "Increasing maxlen 4\n",
      "Running apriori with setting: confidence=0.5, support=0.0, minlen=2, maxlen=4, MAX_RULE_LEN=4\n",
      "Rule count: 73, Iteration: 2\n",
      "Decreasing confidence to 0.45\n",
      "Running apriori with setting: confidence=0.45, support=0.0, minlen=2, maxlen=4, MAX_RULE_LEN=4\n",
      "Rule count: 73, Iteration: 3\n",
      "Decreasing confidence to 0.4\n",
      "Running apriori with setting: confidence=0.4, support=0.0, minlen=2, maxlen=4, MAX_RULE_LEN=4\n",
      "Rule count: 73, Iteration: 4\n",
      "Decreasing confidence to 0.35000000000000003\n",
      "Running apriori with setting: confidence=0.35000000000000003, support=0.0, minlen=2, maxlen=4, MAX_RULE_LEN=4\n",
      "Rule count: 73, Iteration: 5\n",
      "Decreasing confidence to 0.30000000000000004\n",
      "Running apriori with setting: confidence=0.30000000000000004, support=0.0, minlen=2, maxlen=4, MAX_RULE_LEN=4\n",
      "Rule count: 73, Iteration: 6\n",
      "Decreasing confidence to 0.25000000000000006\n",
      "Running apriori with setting: confidence=0.25000000000000006, support=0.0, minlen=2, maxlen=4, MAX_RULE_LEN=4\n",
      "Rule count: 73, Iteration: 7\n",
      "Decreasing confidence to 0.20000000000000007\n",
      "Running apriori with setting: confidence=0.20000000000000007, support=0.0, minlen=2, maxlen=4, MAX_RULE_LEN=4\n",
      "Rule count: 73, Iteration: 8\n",
      "Decreasing confidence to 0.15000000000000008\n",
      "Running apriori with setting: confidence=0.15000000000000008, support=0.0, minlen=2, maxlen=4, MAX_RULE_LEN=4\n",
      "Rule count: 73, Iteration: 9\n",
      "Decreasing confidence to 0.10000000000000007\n",
      "Running apriori with setting: confidence=0.10000000000000007, support=0.0, minlen=2, maxlen=4, MAX_RULE_LEN=4\n",
      "Rule count: 73, Iteration: 10\n",
      "Decreasing confidence to 0.05000000000000007\n",
      "Running apriori with setting: confidence=0.05000000000000007, support=0.0, minlen=2, maxlen=4, MAX_RULE_LEN=4\n",
      "Rule count: 73, Iteration: 11\n",
      "Decreasing confidence to 6.938893903907228e-17\n",
      "Running apriori with setting: confidence=6.938893903907228e-17, support=0.0, minlen=2, maxlen=4, MAX_RULE_LEN=4\n",
      "Rule count: 73, Iteration: 12\n",
      "All options exhausted\n"
     ]
    }
   ],
   "source": [
    "cars = mine_CARs(data_train, 20)\n",
    "car = cars[0]"
   ]
  },
  {
   "cell_type": "code",
   "execution_count": 44,
   "metadata": {},
   "outputs": [],
   "source": [
    "ids_rule = IDSRule(car)"
   ]
  },
  {
   "cell_type": "code",
   "execution_count": 45,
   "metadata": {},
   "outputs": [
    {
     "name": "stderr",
     "output_type": "stream",
     "text": [
      "D:\\programy\\Anaconda\\lib\\site-packages\\pandas\\core\\indexing.py:543: SettingWithCopyWarning: \n",
      "A value is trying to be set on a copy of a slice from a DataFrame.\n",
      "Try using .loc[row_indexer,col_indexer] = value instead\n",
      "\n",
      "See the caveats in the documentation: http://pandas.pydata.org/pandas-docs/stable/indexing.html#indexing-view-versus-copy\n",
      "  self.obj[item] = s\n"
     ]
    }
   ],
   "source": [
    "quant_dataframe_train = QuantitativeDataFrame(data_train)\n",
    "quant_dataframe_test = QuantitativeDataFrame(data_test)"
   ]
  },
  {
   "cell_type": "code",
   "execution_count": 46,
   "metadata": {},
   "outputs": [
    {
     "data": {
      "text/plain": [
       "pyarc.qcba.data_structures.quant_dataset.QuantitativeDataFrame"
      ]
     },
     "execution_count": 46,
     "metadata": {},
     "output_type": "execute_result"
    }
   ],
   "source": [
    "type(quant_dataframe_train)"
   ]
  },
  {
   "cell_type": "code",
   "execution_count": 47,
   "metadata": {},
   "outputs": [
    {
     "data": {
      "text/plain": [
       "False"
      ]
     },
     "execution_count": 47,
     "metadata": {},
     "output_type": "execute_result"
    }
   ],
   "source": [
    "ids_rule.cache_prepared"
   ]
  },
  {
   "cell_type": "code",
   "execution_count": 48,
   "metadata": {},
   "outputs": [
    {
     "data": {
      "text/plain": [
       "{'cover': None,\n",
       " 'correct_cover': None,\n",
       " 'incorrect_cover': None,\n",
       " 'rule_cover': None}"
      ]
     },
     "execution_count": 48,
     "metadata": {},
     "output_type": "execute_result"
    }
   ],
   "source": [
    "ids_rule.cover_cache"
   ]
  },
  {
   "cell_type": "code",
   "execution_count": 49,
   "metadata": {},
   "outputs": [
    {
     "data": {
      "text/plain": [
       "{'cover': None,\n",
       " 'correct_cover': None,\n",
       " 'incorrect_cover': None,\n",
       " 'rule_cover': None}"
      ]
     },
     "execution_count": 49,
     "metadata": {},
     "output_type": "execute_result"
    }
   ],
   "source": [
    "ids_rule1 = IDSRule(cars[0])\n",
    "ids_rule1.cover_cache"
   ]
  },
  {
   "cell_type": "code",
   "execution_count": 50,
   "metadata": {},
   "outputs": [
    {
     "name": "stdout",
     "output_type": "stream",
     "text": [
      "IDSRule {Passenger_Cat=crew,Gender=female} => {Died=0} sup: 0.02 conf: 1.00, f1: 0.04, len: 3, id: 166\n",
      "IDSRule {Passenger_Cat=crew,Age_Cat=adult,Gender=female} => {Died=0} sup: 0.02 conf: 1.00, f1: 0.04, len: 4, id: 165\n"
     ]
    }
   ],
   "source": [
    "ids_rule1 = IDSRule(cars[0])\n",
    "ids_rule2 = IDSRule(cars[1])\n",
    "\n",
    "print(ids_rule1)\n",
    "print(ids_rule2)"
   ]
  },
  {
   "cell_type": "code",
   "execution_count": 51,
   "metadata": {},
   "outputs": [],
   "source": [
    "ids_rule1.calculate_cover(quant_dataframe_train)\n",
    "ids_rule2.calculate_cover(quant_dataframe_train)"
   ]
  },
  {
   "cell_type": "code",
   "execution_count": 52,
   "metadata": {},
   "outputs": [
    {
     "data": {
      "text/plain": [
       "array([False, False, False, False, False, False, False, False, False,\n",
       "       False,  True,  True, False, False, False,  True, False, False,\n",
       "       False, False, False, False, False, False, False, False, False,\n",
       "       False, False, False, False, False, False, False, False, False,\n",
       "       False, False, False, False, False, False, False, False, False,\n",
       "       False, False, False, False, False, False, False, False, False,\n",
       "       False, False, False, False, False, False, False, False, False,\n",
       "       False, False, False, False, False, False, False, False, False,\n",
       "       False, False, False, False, False, False, False, False, False,\n",
       "       False, False, False, False, False, False, False, False, False,\n",
       "       False, False, False, False, False, False, False, False, False,\n",
       "       False, False, False, False, False, False, False, False, False,\n",
       "       False, False, False, False, False, False,  True, False, False,\n",
       "       False, False, False, False, False, False, False, False, False,\n",
       "       False, False, False, False, False, False, False, False, False,\n",
       "       False, False, False, False, False, False, False, False, False,\n",
       "       False, False, False, False, False, False, False, False, False,\n",
       "       False, False, False, False, False, False, False, False, False,\n",
       "       False, False, False, False, False, False, False, False, False,\n",
       "       False, False, False, False, False, False, False, False, False,\n",
       "       False, False, False, False, False, False, False, False, False,\n",
       "       False, False, False, False, False, False, False, False, False,\n",
       "       False, False, False, False, False, False, False, False, False,\n",
       "       False, False, False, False, False, False, False, False, False,\n",
       "       False, False, False, False, False, False, False, False, False,\n",
       "       False, False, False, False, False, False, False, False, False,\n",
       "       False, False, False, False, False,  True, False, False, False,\n",
       "       False, False, False, False, False, False, False, False, False,\n",
       "       False, False, False, False, False, False, False, False, False,\n",
       "       False, False, False, False, False, False, False, False, False,\n",
       "       False, False, False, False, False, False, False, False, False,\n",
       "       False, False, False, False, False, False, False, False, False,\n",
       "       False, False, False, False, False, False, False, False, False,\n",
       "       False, False, False, False, False, False, False, False, False,\n",
       "       False, False, False, False,  True, False, False, False, False,\n",
       "       False, False, False, False, False, False,  True, False, False,\n",
       "       False, False, False, False, False, False, False,  True, False,\n",
       "       False, False, False, False, False, False, False, False, False,\n",
       "       False, False, False, False, False, False, False, False, False,\n",
       "       False])"
      ]
     },
     "execution_count": 52,
     "metadata": {},
     "output_type": "execute_result"
    }
   ],
   "source": [
    "ids_rule1.rule_overlap(ids_rule2, quant_dataframe_train)"
   ]
  },
  {
   "cell_type": "code",
   "execution_count": 53,
   "metadata": {},
   "outputs": [
    {
     "data": {
      "text/plain": [
       "pandas.core.frame.DataFrame"
      ]
     },
     "execution_count": 53,
     "metadata": {},
     "output_type": "execute_result"
    }
   ],
   "source": [
    "type(data_train)"
   ]
  },
  {
   "cell_type": "code",
   "execution_count": 54,
   "metadata": {},
   "outputs": [
    {
     "name": "stdout",
     "output_type": "stream",
     "text": [
      "Running apriori with setting: confidence=0.5, support=0.0, minlen=2, maxlen=3, MAX_RULE_LEN=4\n",
      "Rule count: 51, Iteration: 1\n",
      "Increasing maxlen 4\n",
      "Running apriori with setting: confidence=0.5, support=0.0, minlen=2, maxlen=4, MAX_RULE_LEN=4\n",
      "Rule count: 73, Iteration: 2\n",
      "Decreasing confidence to 0.45\n",
      "Running apriori with setting: confidence=0.45, support=0.0, minlen=2, maxlen=4, MAX_RULE_LEN=4\n",
      "Rule count: 73, Iteration: 3\n",
      "Decreasing confidence to 0.4\n",
      "Running apriori with setting: confidence=0.4, support=0.0, minlen=2, maxlen=4, MAX_RULE_LEN=4\n",
      "Rule count: 73, Iteration: 4\n",
      "Decreasing confidence to 0.35000000000000003\n",
      "Running apriori with setting: confidence=0.35000000000000003, support=0.0, minlen=2, maxlen=4, MAX_RULE_LEN=4\n",
      "Rule count: 73, Iteration: 5\n",
      "Decreasing confidence to 0.30000000000000004\n",
      "Running apriori with setting: confidence=0.30000000000000004, support=0.0, minlen=2, maxlen=4, MAX_RULE_LEN=4\n",
      "Rule count: 73, Iteration: 6\n",
      "Decreasing confidence to 0.25000000000000006\n",
      "Running apriori with setting: confidence=0.25000000000000006, support=0.0, minlen=2, maxlen=4, MAX_RULE_LEN=4\n",
      "Rule count: 73, Iteration: 7\n",
      "Decreasing confidence to 0.20000000000000007\n",
      "Running apriori with setting: confidence=0.20000000000000007, support=0.0, minlen=2, maxlen=4, MAX_RULE_LEN=4\n",
      "Rule count: 73, Iteration: 8\n",
      "Decreasing confidence to 0.15000000000000008\n",
      "Running apriori with setting: confidence=0.15000000000000008, support=0.0, minlen=2, maxlen=4, MAX_RULE_LEN=4\n",
      "Rule count: 73, Iteration: 9\n",
      "Decreasing confidence to 0.10000000000000007\n",
      "Running apriori with setting: confidence=0.10000000000000007, support=0.0, minlen=2, maxlen=4, MAX_RULE_LEN=4\n",
      "Rule count: 73, Iteration: 10\n",
      "Decreasing confidence to 0.05000000000000007\n",
      "Running apriori with setting: confidence=0.05000000000000007, support=0.0, minlen=2, maxlen=4, MAX_RULE_LEN=4\n",
      "Rule count: 73, Iteration: 11\n",
      "Decreasing confidence to 6.938893903907228e-17\n",
      "Running apriori with setting: confidence=6.938893903907228e-17, support=0.0, minlen=2, maxlen=4, MAX_RULE_LEN=4\n",
      "Rule count: 73, Iteration: 12\n",
      "All options exhausted\n"
     ]
    },
    {
     "data": {
      "text/plain": [
       "pyarc.data_structures.car.ClassAssocationRule"
      ]
     },
     "execution_count": 54,
     "metadata": {},
     "output_type": "execute_result"
    }
   ],
   "source": [
    "type(mine_CARs(data_train, rule_cutoff=20)[0])"
   ]
  },
  {
   "cell_type": "code",
   "execution_count": 55,
   "metadata": {},
   "outputs": [],
   "source": [
    "ruleset = IDSRuleSet.from_cba_rules(cars)"
   ]
  },
  {
   "cell_type": "code",
   "execution_count": 56,
   "metadata": {},
   "outputs": [
    {
     "data": {
      "text/plain": [
       "(50, 3)"
      ]
     },
     "execution_count": 56,
     "metadata": {},
     "output_type": "execute_result"
    }
   ],
   "source": [
    "ruleset.sum_rule_length(), ruleset.max_rule_length()"
   ]
  },
  {
   "cell_type": "code",
   "execution_count": 57,
   "metadata": {},
   "outputs": [],
   "source": [
    "ids_ruleset = IDSRuleSet.from_cba_rules(cars)"
   ]
  },
  {
   "cell_type": "code",
   "execution_count": 58,
   "metadata": {},
   "outputs": [
    {
     "data": {
      "text/plain": [
       "pyids.data_structures.ids_ruleset.IDSRuleSet"
      ]
     },
     "execution_count": 58,
     "metadata": {},
     "output_type": "execute_result"
    }
   ],
   "source": [
    "type(ids_ruleset)"
   ]
  },
  {
   "cell_type": "code",
   "execution_count": 59,
   "metadata": {},
   "outputs": [],
   "source": [
    "params = ObjectiveFunctionParameters()\n",
    "\n",
    "params.params[\"all_rules\"] = ids_ruleset\n",
    "params.params[\"len_all_rules\"] = len(ids_ruleset.ruleset)\n",
    "params.params[\"quant_dataframe\"] = quant_dataframe_train\n",
    "params.params[\"lambda_array\"] = 7 * [1]\n"
   ]
  },
  {
   "cell_type": "code",
   "execution_count": 60,
   "metadata": {},
   "outputs": [
    {
     "name": "stdout",
     "output_type": "stream",
     "text": [
      "cover cache prepared\n",
      "overlap cache prepared\n"
     ]
    }
   ],
   "source": [
    "obj_func = IDSObjectiveFunction(params)"
   ]
  },
  {
   "cell_type": "code",
   "execution_count": 61,
   "metadata": {},
   "outputs": [],
   "source": [
    "rule_subset = IDSRuleSet(list(ids_ruleset.ruleset)[2:5])"
   ]
  },
  {
   "cell_type": "code",
   "execution_count": 62,
   "metadata": {},
   "outputs": [
    {
     "data": {
      "text/plain": [
       "{IDSRule {Passenger_Cat=2nd_class,Gender=male,Age_Cat=child} => {Died=0} sup: 0.00 conf: 1.00, f1: 0.01, len: 4, id: 210,\n",
       " IDSRule {Passenger_Cat=2nd_class,Age_Cat=child,Gender=female} => {Died=0} sup: 0.00 conf: 1.00, f1: 0.01, len: 4, id: 212,\n",
       " IDSRule {Passenger_Cat=crew,Age_Cat=adult,Gender=female} => {Died=0} sup: 0.02 conf: 1.00, f1: 0.04, len: 4, id: 165}"
      ]
     },
     "execution_count": 62,
     "metadata": {},
     "output_type": "execute_result"
    }
   ],
   "source": [
    "rule_subset.ruleset"
   ]
  },
  {
   "cell_type": "code",
   "execution_count": 63,
   "metadata": {},
   "outputs": [
    {
     "data": {
      "text/plain": [
       "281799.0"
      ]
     },
     "execution_count": 63,
     "metadata": {},
     "output_type": "execute_result"
    }
   ],
   "source": [
    "obj_func.evaluate(ids_ruleset)"
   ]
  },
  {
   "cell_type": "code",
   "execution_count": 64,
   "metadata": {},
   "outputs": [],
   "source": [
    "rs_opt = RSOptimizer(input_set=ids_ruleset.ruleset)\n",
    "\n",
    "solution_set = rs_opt.optimize()"
   ]
  },
  {
   "cell_type": "code",
   "execution_count": 65,
   "metadata": {},
   "outputs": [
    {
     "data": {
      "text/plain": [
       "{IDSRule {Gender=male,Passenger_Cat=1st_class,Age_Cat=child} => {Died=0} sup: 0.00 conf: 1.00, f1: 0.01, len: 4, id: 208,\n",
       " IDSRule {Passenger_Cat=1st_class,Age_Cat=child} => {Died=0} sup: 0.00 conf: 1.00, f1: 0.01, len: 3, id: 209,\n",
       " IDSRule {Passenger_Cat=2nd_class,Age_Cat=child} => {Died=0} sup: 0.01 conf: 1.00, f1: 0.01, len: 3, id: 211,\n",
       " IDSRule {Gender=male,Age_Cat=child,Passenger_Cat=3rd_class} => {Died=1} sup: 0.02 conf: 0.88, f1: 0.04, len: 4, id: 200,\n",
       " IDSRule {Passenger_Cat=crew,Age_Cat=adult,Gender=female} => {Died=0} sup: 0.02 conf: 1.00, f1: 0.04, len: 4, id: 165,\n",
       " IDSRule {Passenger_Cat=2nd_class,Age_Cat=adult,Gender=female} => {Died=0} sup: 0.03 conf: 0.90, f1: 0.05, len: 4, id: 194,\n",
       " IDSRule {Passenger_Cat=2nd_class,Gender=female} => {Died=0} sup: 0.03 conf: 0.91, f1: 0.06, len: 3, id: 195,\n",
       " IDSRule {Passenger_Cat=2nd_class,Age_Cat=adult,Gender=male} => {Died=1} sup: 0.07 conf: 0.89, f1: 0.13, len: 4, id: 185,\n",
       " IDSRule {Age_Cat=adult,Passenger_Cat=3rd_class,Gender=male} => {Died=1} sup: 0.17 conf: 0.80, f1: 0.28, len: 4, id: 155,\n",
       " IDSRule {Passenger_Cat=crew,Age_Cat=adult,Gender=male} => {Died=1} sup: 0.30 conf: 0.79, f1: 0.43, len: 4, id: 144,\n",
       " IDSRule {Age_Cat=adult,Gender=male} => {Died=1} sup: 0.60 conf: 0.79, f1: 0.68, len: 3, id: 141}"
      ]
     },
     "execution_count": 65,
     "metadata": {},
     "output_type": "execute_result"
    }
   ],
   "source": [
    "solution_set"
   ]
  },
  {
   "cell_type": "code",
   "execution_count": 66,
   "metadata": {},
   "outputs": [
    {
     "data": {
      "text/plain": [
       "285239.0"
      ]
     },
     "execution_count": 66,
     "metadata": {},
     "output_type": "execute_result"
    }
   ],
   "source": [
    "obj_func.evaluate(IDSRuleSet(solution_set))"
   ]
  },
  {
   "cell_type": "code",
   "execution_count": 69,
   "metadata": {},
   "outputs": [],
   "source": [
    "dls_opt = DLSOptimizer(obj_func, params)"
   ]
  },
  {
   "cell_type": "code",
   "execution_count": 73,
   "metadata": {},
   "outputs": [
    {
     "name": "stdout",
     "output_type": "stream",
     "text": [
      "Testing if rule is good to add IDSRule {Passenger_Cat=1st_class,Age_Cat=child} => {Died=0} sup: 0.00 conf: 1.00, f1: 0.01, len: 3, id: 209\n",
      "Testing if rule is good to add IDSRule {Passenger_Cat=2nd_class,Age_Cat=child} => {Died=0} sup: 0.01 conf: 1.00, f1: 0.01, len: 3, id: 211\n",
      "Testing if rule is good to add IDSRule {Age_Cat=adult,Passenger_Cat=1st_class,Gender=female} => {Died=0} sup: 0.07 conf: 0.96, f1: 0.13, len: 4, id: 182\n",
      "Testing if rule is good to add IDSRule {Passenger_Cat=crew,Gender=female} => {Died=0} sup: 0.02 conf: 1.00, f1: 0.04, len: 3, id: 166\n",
      "Testing if rule is good to add IDSRule {Passenger_Cat=2nd_class,Gender=male} => {Died=1} sup: 0.07 conf: 0.86, f1: 0.13, len: 3, id: 186\n",
      "Testing if rule is good to add IDSRule {Passenger_Cat=2nd_class,Age_Cat=adult,Gender=male} => {Died=1} sup: 0.07 conf: 0.89, f1: 0.13, len: 4, id: 185\n",
      "Testing if rule is good to add IDSRule {Passenger_Cat=crew,Gender=male} => {Died=1} sup: 0.30 conf: 0.79, f1: 0.43, len: 3, id: 145\n",
      "Testing if rule is good to add IDSRule {Passenger_Cat=2nd_class,Gender=male,Age_Cat=child} => {Died=0} sup: 0.00 conf: 1.00, f1: 0.01, len: 4, id: 210\n",
      "Testing if rule is good to add IDSRule {Gender=male,Age_Cat=child,Passenger_Cat=3rd_class} => {Died=1} sup: 0.02 conf: 0.88, f1: 0.04, len: 4, id: 200\n",
      "Testing if rule is good to add IDSRule {Passenger_Cat=crew,Age_Cat=adult,Gender=female} => {Died=0} sup: 0.02 conf: 1.00, f1: 0.04, len: 4, id: 165\n",
      "Testing if rule is good to add IDSRule {Passenger_Cat=2nd_class,Age_Cat=child,Gender=female} => {Died=0} sup: 0.00 conf: 1.00, f1: 0.01, len: 4, id: 212\n",
      "Testing if rule is good to add IDSRule {Passenger_Cat=crew,Age_Cat=adult,Gender=male} => {Died=1} sup: 0.30 conf: 0.79, f1: 0.43, len: 4, id: 144\n",
      "Testing if rule is good to add IDSRule {Age_Cat=child,Passenger_Cat=3rd_class} => {Died=1} sup: 0.03 conf: 0.83, f1: 0.05, len: 3, id: 201\n",
      "Testing if rule is good to add IDSRule {Gender=male,Passenger_Cat=3rd_class} => {Died=1} sup: 0.19 conf: 0.81, f1: 0.31, len: 3, id: 156\n",
      "Testing if rule is good to add IDSRule {Passenger_Cat=1st_class,Gender=female} => {Died=0} sup: 0.07 conf: 0.96, f1: 0.13, len: 3, id: 183\n",
      "Testing if rule is good to add IDSRule {Passenger_Cat=2nd_class,Age_Cat=adult,Gender=female} => {Died=0} sup: 0.03 conf: 0.90, f1: 0.05, len: 4, id: 194\n",
      "Testing if rule is good to add IDSRule {Passenger_Cat=2nd_class,Gender=female} => {Died=0} sup: 0.03 conf: 0.91, f1: 0.06, len: 3, id: 195\n",
      "Testing if rule is good to add IDSRule {Gender=male,Passenger_Cat=1st_class,Age_Cat=child} => {Died=0} sup: 0.00 conf: 1.00, f1: 0.01, len: 4, id: 208\n",
      "Testing if rule is good to add IDSRule {Age_Cat=adult,Passenger_Cat=3rd_class,Gender=male} => {Died=1} sup: 0.17 conf: 0.80, f1: 0.28, len: 4, id: 155\n",
      "Testing should remove rule IDSRule {Age_Cat=adult,Gender=male} => {Died=1} sup: 0.60 conf: 0.79, f1: 0.68, len: 3, id: 141\n",
      "Objective value of solution set: 288788.0\n"
     ]
    }
   ],
   "source": [
    "solution_set = dls_opt.optimize()"
   ]
  },
  {
   "cell_type": "code",
   "execution_count": 75,
   "metadata": {},
   "outputs": [
    {
     "data": {
      "text/plain": [
       "288788.0"
      ]
     },
     "execution_count": 75,
     "metadata": {},
     "output_type": "execute_result"
    }
   ],
   "source": [
    "obj_func.evaluate(IDSRuleSet(solution_set))"
   ]
  },
  {
   "cell_type": "code",
   "execution_count": 78,
   "metadata": {},
   "outputs": [
    {
     "name": "stdout",
     "output_type": "stream",
     "text": [
      "INFO - Number of input rules: 20\n",
      "INFO - RandomOptimizer estimated the OPTIMUM value as: 284125.0\n",
      "INFO - Threshold value (2/(n*n) * OPT) = 1420.625. This is the standard error treshold value.\n",
      "INFO - Estimating omega for rule: IDSRule {Passenger_Cat=2nd_class,Gender=male} => {Died=1} sup: 0.07 conf: 0.86, f1: 0.13, len: 3, id: 186\n",
      "INFO - stardard error of omega estimate: 273.49112965505844\n",
      "INFO - omega succesfully estimated\n",
      "INFO - Estimating omega for rule: IDSRule {Passenger_Cat=2nd_class,Age_Cat=adult,Gender=male} => {Died=1} sup: 0.07 conf: 0.89, f1: 0.13, len: 4, id: 185\n",
      "INFO - stardard error of omega estimate: 250.28810199448156\n",
      "INFO - omega succesfully estimated\n",
      "INFO - Estimating omega for rule: IDSRule {Passenger_Cat=2nd_class,Gender=male,Age_Cat=child} => {Died=0} sup: 0.00 conf: 1.00, f1: 0.01, len: 4, id: 210\n",
      "INFO - stardard error of omega estimate: 397.3355408216084\n",
      "INFO - omega succesfully estimated\n",
      "INFO - Estimating omega for rule: IDSRule {Passenger_Cat=crew,Age_Cat=adult,Gender=female} => {Died=0} sup: 0.02 conf: 1.00, f1: 0.04, len: 4, id: 165\n",
      "INFO - stardard error of omega estimate: 298.0147060129751\n",
      "INFO - omega succesfully estimated\n",
      "INFO - Estimating omega for rule: IDSRule {Passenger_Cat=2nd_class,Age_Cat=child,Gender=female} => {Died=0} sup: 0.00 conf: 1.00, f1: 0.01, len: 4, id: 212\n",
      "INFO - stardard error of omega estimate: 264.45421153764977\n",
      "INFO - omega succesfully estimated\n",
      "INFO - Estimating omega for rule: IDSRule {Age_Cat=child,Passenger_Cat=3rd_class} => {Died=1} sup: 0.03 conf: 0.83, f1: 0.05, len: 3, id: 201\n",
      "INFO - stardard error of omega estimate: 361.55402085995394\n",
      "INFO - omega succesfully estimated\n",
      "INFO - Estimating omega for rule: IDSRule {Age_Cat=adult,Gender=male} => {Died=1} sup: 0.60 conf: 0.79, f1: 0.68, len: 3, id: 141\n",
      "INFO - stardard error of omega estimate: 359.1515000664761\n",
      "INFO - omega succesfully estimated\n",
      "INFO - Estimating omega for rule: IDSRule {Passenger_Cat=2nd_class,Gender=female} => {Died=0} sup: 0.03 conf: 0.91, f1: 0.06, len: 3, id: 195\n",
      "INFO - stardard error of omega estimate: 273.29150919851133\n",
      "INFO - omega succesfully estimated\n",
      "INFO - Estimating omega for rule: IDSRule {Passenger_Cat=1st_class,Age_Cat=child} => {Died=0} sup: 0.00 conf: 1.00, f1: 0.01, len: 3, id: 209\n",
      "INFO - stardard error of omega estimate: 328.78415716089484\n",
      "INFO - omega succesfully estimated\n",
      "INFO - Estimating omega for rule: IDSRule {Passenger_Cat=2nd_class,Age_Cat=child} => {Died=0} sup: 0.01 conf: 1.00, f1: 0.01, len: 3, id: 211\n",
      "INFO - stardard error of omega estimate: 290.6360834445716\n",
      "INFO - omega succesfully estimated\n",
      "INFO - Estimating omega for rule: IDSRule {Age_Cat=adult,Passenger_Cat=1st_class,Gender=female} => {Died=0} sup: 0.07 conf: 0.96, f1: 0.13, len: 4, id: 182\n",
      "INFO - stardard error of omega estimate: 344.6029918616494\n",
      "INFO - omega succesfully estimated\n",
      "INFO - Estimating omega for rule: IDSRule {Passenger_Cat=crew,Gender=female} => {Died=0} sup: 0.02 conf: 1.00, f1: 0.04, len: 3, id: 166\n",
      "INFO - stardard error of omega estimate: 256.25094146168516\n",
      "INFO - omega succesfully estimated\n",
      "INFO - Estimating omega for rule: IDSRule {Passenger_Cat=crew,Gender=male} => {Died=1} sup: 0.30 conf: 0.79, f1: 0.43, len: 3, id: 145\n",
      "INFO - stardard error of omega estimate: 274.39353855366204\n",
      "INFO - omega succesfully estimated\n",
      "INFO - Estimating omega for rule: IDSRule {Gender=male,Age_Cat=child,Passenger_Cat=3rd_class} => {Died=1} sup: 0.02 conf: 0.88, f1: 0.04, len: 4, id: 200\n",
      "INFO - stardard error of omega estimate: 297.1569551600635\n",
      "INFO - omega succesfully estimated\n",
      "INFO - Estimating omega for rule: IDSRule {Passenger_Cat=crew,Age_Cat=adult,Gender=male} => {Died=1} sup: 0.30 conf: 0.79, f1: 0.43, len: 4, id: 144\n",
      "INFO - stardard error of omega estimate: 339.7097879072665\n",
      "INFO - omega succesfully estimated\n",
      "INFO - Estimating omega for rule: IDSRule {Gender=male,Passenger_Cat=3rd_class} => {Died=1} sup: 0.19 conf: 0.81, f1: 0.31, len: 3, id: 156\n",
      "INFO - stardard error of omega estimate: 282.63259719996915\n",
      "INFO - omega succesfully estimated\n",
      "INFO - Estimating omega for rule: IDSRule {Passenger_Cat=1st_class,Gender=female} => {Died=0} sup: 0.07 conf: 0.96, f1: 0.13, len: 3, id: 183\n",
      "INFO - stardard error of omega estimate: 369.7773140688866\n",
      "INFO - omega succesfully estimated\n",
      "INFO - Estimating omega for rule: IDSRule {Passenger_Cat=2nd_class,Age_Cat=adult,Gender=female} => {Died=0} sup: 0.03 conf: 0.90, f1: 0.05, len: 4, id: 194\n",
      "INFO - stardard error of omega estimate: 266.29128787851846\n",
      "INFO - omega succesfully estimated\n",
      "INFO - Estimating omega for rule: IDSRule {Gender=male,Passenger_Cat=1st_class,Age_Cat=child} => {Died=0} sup: 0.00 conf: 1.00, f1: 0.01, len: 4, id: 208\n",
      "INFO - stardard error of omega estimate: 282.27833781570985\n",
      "INFO - omega succesfully estimated\n",
      "INFO - Estimating omega for rule: IDSRule {Age_Cat=adult,Passenger_Cat=3rd_class,Gender=male} => {Died=1} sup: 0.17 conf: 0.80, f1: 0.28, len: 4, id: 155\n",
      "INFO - stardard error of omega estimate: 201.44019708092026\n",
      "INFO - omega succesfully estimated\n",
      "INFO - Number of input rules: 20\n",
      "INFO - RandomOptimizer estimated the OPTIMUM value as: 284191.0\n",
      "INFO - Threshold value (2/(n*n) * OPT) = 1420.955. This is the standard error treshold value.\n",
      "INFO - Estimating omega for rule: IDSRule {Passenger_Cat=2nd_class,Gender=male} => {Died=1} sup: 0.07 conf: 0.86, f1: 0.13, len: 3, id: 186\n",
      "INFO - stardard error of omega estimate: 241.20934061515945\n",
      "INFO - omega succesfully estimated\n",
      "INFO - Estimating omega for rule: IDSRule {Passenger_Cat=2nd_class,Age_Cat=adult,Gender=male} => {Died=1} sup: 0.07 conf: 0.89, f1: 0.13, len: 4, id: 185\n",
      "INFO - stardard error of omega estimate: 285.50467596871334\n",
      "INFO - omega succesfully estimated\n",
      "INFO - Estimating omega for rule: IDSRule {Passenger_Cat=2nd_class,Gender=male,Age_Cat=child} => {Died=0} sup: 0.00 conf: 1.00, f1: 0.01, len: 4, id: 210\n",
      "INFO - stardard error of omega estimate: 303.51943100895534\n",
      "INFO - omega succesfully estimated\n",
      "INFO - Estimating omega for rule: IDSRule {Passenger_Cat=crew,Age_Cat=adult,Gender=female} => {Died=0} sup: 0.02 conf: 1.00, f1: 0.04, len: 4, id: 165\n",
      "INFO - stardard error of omega estimate: 208.90796298848926\n",
      "INFO - omega succesfully estimated\n",
      "INFO - Estimating omega for rule: IDSRule {Passenger_Cat=2nd_class,Age_Cat=child,Gender=female} => {Died=0} sup: 0.00 conf: 1.00, f1: 0.01, len: 4, id: 212\n",
      "INFO - stardard error of omega estimate: 300.05278535617697\n",
      "INFO - omega succesfully estimated\n",
      "INFO - Estimating omega for rule: IDSRule {Age_Cat=child,Passenger_Cat=3rd_class} => {Died=1} sup: 0.03 conf: 0.83, f1: 0.05, len: 3, id: 201\n",
      "INFO - stardard error of omega estimate: 242.64257664309451\n",
      "INFO - omega succesfully estimated\n",
      "INFO - Estimating omega for rule: IDSRule {Age_Cat=adult,Gender=male} => {Died=1} sup: 0.60 conf: 0.79, f1: 0.68, len: 3, id: 141\n",
      "INFO - stardard error of omega estimate: 325.7937230825665\n",
      "INFO - omega succesfully estimated\n",
      "INFO - Estimating omega for rule: IDSRule {Passenger_Cat=2nd_class,Gender=female} => {Died=0} sup: 0.03 conf: 0.91, f1: 0.06, len: 3, id: 195\n",
      "INFO - stardard error of omega estimate: 292.9987662090064\n",
      "INFO - omega succesfully estimated\n",
      "INFO - Estimating omega for rule: IDSRule {Passenger_Cat=1st_class,Age_Cat=child} => {Died=0} sup: 0.00 conf: 1.00, f1: 0.01, len: 3, id: 209\n",
      "INFO - stardard error of omega estimate: 354.5479234179774\n",
      "INFO - omega succesfully estimated\n",
      "INFO - Estimating omega for rule: IDSRule {Passenger_Cat=2nd_class,Age_Cat=child} => {Died=0} sup: 0.01 conf: 1.00, f1: 0.01, len: 3, id: 211\n",
      "INFO - stardard error of omega estimate: 258.10143354890533\n",
      "INFO - omega succesfully estimated\n",
      "INFO - Estimating omega for rule: IDSRule {Age_Cat=adult,Passenger_Cat=1st_class,Gender=female} => {Died=0} sup: 0.07 conf: 0.96, f1: 0.13, len: 4, id: 182\n",
      "INFO - stardard error of omega estimate: 272.8177358604092\n",
      "INFO - omega succesfully estimated\n",
      "INFO - Estimating omega for rule: IDSRule {Passenger_Cat=crew,Gender=female} => {Died=0} sup: 0.02 conf: 1.00, f1: 0.04, len: 3, id: 166\n",
      "INFO - stardard error of omega estimate: 276.63024418888114\n",
      "INFO - omega succesfully estimated\n",
      "INFO - Estimating omega for rule: IDSRule {Passenger_Cat=crew,Gender=male} => {Died=1} sup: 0.30 conf: 0.79, f1: 0.43, len: 3, id: 145\n",
      "INFO - stardard error of omega estimate: 304.88990799959254\n",
      "INFO - omega succesfully estimated\n",
      "INFO - Estimating omega for rule: IDSRule {Gender=male,Age_Cat=child,Passenger_Cat=3rd_class} => {Died=1} sup: 0.02 conf: 0.88, f1: 0.04, len: 4, id: 200\n"
     ]
    },
    {
     "name": "stdout",
     "output_type": "stream",
     "text": [
      "INFO - stardard error of omega estimate: 309.11058377221576\n",
      "INFO - omega succesfully estimated\n",
      "INFO - Estimating omega for rule: IDSRule {Passenger_Cat=crew,Age_Cat=adult,Gender=male} => {Died=1} sup: 0.30 conf: 0.79, f1: 0.43, len: 4, id: 144\n",
      "INFO - stardard error of omega estimate: 346.72690117728104\n",
      "INFO - omega succesfully estimated\n",
      "INFO - Estimating omega for rule: IDSRule {Gender=male,Passenger_Cat=3rd_class} => {Died=1} sup: 0.19 conf: 0.81, f1: 0.31, len: 3, id: 156\n",
      "INFO - stardard error of omega estimate: 306.72874335477593\n",
      "INFO - omega succesfully estimated\n",
      "INFO - Estimating omega for rule: IDSRule {Passenger_Cat=1st_class,Gender=female} => {Died=0} sup: 0.07 conf: 0.96, f1: 0.13, len: 3, id: 183\n",
      "INFO - stardard error of omega estimate: 265.92731525738384\n",
      "INFO - omega succesfully estimated\n",
      "INFO - Estimating omega for rule: IDSRule {Passenger_Cat=2nd_class,Age_Cat=adult,Gender=female} => {Died=0} sup: 0.03 conf: 0.90, f1: 0.05, len: 4, id: 194\n",
      "INFO - stardard error of omega estimate: 341.62732326323083\n",
      "INFO - omega succesfully estimated\n",
      "INFO - Estimating omega for rule: IDSRule {Gender=male,Passenger_Cat=1st_class,Age_Cat=child} => {Died=0} sup: 0.00 conf: 1.00, f1: 0.01, len: 4, id: 208\n",
      "INFO - stardard error of omega estimate: 320.8465193827104\n",
      "INFO - omega succesfully estimated\n",
      "INFO - Estimating omega for rule: IDSRule {Age_Cat=adult,Passenger_Cat=3rd_class,Gender=male} => {Died=1} sup: 0.17 conf: 0.80, f1: 0.28, len: 4, id: 155\n",
      "INFO - stardard error of omega estimate: 271.58901487357696\n",
      "INFO - omega succesfully estimated\n"
     ]
    },
    {
     "data": {
      "text/plain": [
       "287367.0"
      ]
     },
     "execution_count": 78,
     "metadata": {},
     "output_type": "execute_result"
    }
   ],
   "source": [
    "sls_opt = SLSOptimizer(obj_func, params)\n",
    "solution_set = sls_opt.optimize()\n",
    "obj_func.evaluate(IDSRuleSet(solution_set))"
   ]
  },
  {
   "cell_type": "code",
   "execution_count": 100,
   "metadata": {},
   "outputs": [],
   "source": [
    "import numpy as np\n",
    "\n",
    "class RandomizedUSMOptimizer:\n",
    "\n",
    "    def __init__(self, objective_function, objective_func_params, debug=True, random_seed=None):\n",
    "        self.objective_function_params = objective_func_params \n",
    "        self.objective_function = objective_function\n",
    "        self.debug = debug\n",
    "\n",
    "        if random_seed:\n",
    "            np.random.seed(random_seed)\n",
    "\n",
    "    def optimize(self):\n",
    "        all_rules = self.objective_function_params.params[\"all_rules\"]\n",
    "\n",
    "        x0 = IDSRuleSet(set())\n",
    "        y0 = IDSRuleSet({rule for rule in all_rules.ruleset})\n",
    "\n",
    "        n = len(y0)\n",
    "\n",
    "        for rule in all_rules.ruleset:\n",
    "            a_set = IDSRuleSet(x0.ruleset | {rule})\n",
    "            b_set = IDSRuleSet(y0.ruleset - {rule})\n",
    "\n",
    "            print(\"x0\", self.objective_function.evaluate(x0))\n",
    "            print(\"a_set\", self.objective_function.evaluate(a_set))\n",
    "            \n",
    "            a_value = self.objective_function.evaluate(a_set) - self.objective_function.evaluate(x0)\n",
    "            b_value = self.objective_function.evaluate(b_set) - self.objective_function.evaluate(y0)\n",
    "\n",
    "            a_max = max(a_value, 0)\n",
    "            b_max = max(b_value, 0)\n",
    "\n",
    "            x_probability = 1\n",
    "            y_probability = 0\n",
    "            \n",
    "            print(\"--------\")\n",
    "            print(a_value)\n",
    "            print(b_value)\n",
    "            \n",
    "            if not (a_max == 0 and b_max == 0):\n",
    "                print(\"real_prob\")\n",
    "                x_probability = a_max / (a_max + b_max)\n",
    "                y_probability = b_max / (a_max + b_max)\n",
    "\n",
    "            if np.random.uniform() <= x_probability:\n",
    "                x0.ruleset.add(rule)\n",
    "\n",
    "            if np.random.uniform() <= y_probability:\n",
    "                y0.ruleset.remove(rule)                \n",
    "\n",
    "        x_value = self.objective_function.evaluate(x0)\n",
    "        y_value = self.objective_function.evaluate(y0)\n",
    "\n",
    "        if x_value > y_value:\n",
    "            return x0.ruleset\n",
    "        else:\n",
    "            return y0.ruleset"
   ]
  },
  {
   "cell_type": "code",
   "execution_count": 102,
   "metadata": {},
   "outputs": [
    {
     "name": "stdout",
     "output_type": "stream",
     "text": [
      "-304.0\n",
      "388.0\n",
      "real_prob\n",
      "-305.0\n",
      "359.0\n",
      "real_prob\n",
      "-353.0\n",
      "356.0\n",
      "real_prob\n",
      "-339.0\n",
      "356.0\n",
      "real_prob\n",
      "-353.0\n",
      "357.0\n",
      "real_prob\n",
      "-334.0\n",
      "358.0\n",
      "real_prob\n",
      "68.0\n",
      "514.0\n",
      "real_prob\n",
      "-334.0\n",
      "356.0\n",
      "real_prob\n",
      "-352.0\n",
      "355.0\n",
      "real_prob\n",
      "-350.0\n",
      "351.0\n",
      "real_prob\n",
      "-307.0\n",
      "357.0\n",
      "real_prob\n",
      "-338.0\n",
      "339.0\n",
      "real_prob\n",
      "-144.0\n",
      "383.0\n",
      "real_prob\n",
      "-341.0\n",
      "357.0\n",
      "real_prob\n",
      "-145.0\n",
      "146.0\n",
      "real_prob\n",
      "-220.0\n",
      "356.0\n",
      "real_prob\n",
      "-306.0\n",
      "307.0\n",
      "real_prob\n",
      "-337.0\n",
      "338.0\n",
      "real_prob\n",
      "-353.0\n",
      "353.0\n",
      "real_prob\n",
      "-235.0\n",
      "235.0\n",
      "real_prob\n"
     ]
    },
    {
     "data": {
      "text/plain": [
       "288720.0"
      ]
     },
     "execution_count": 102,
     "metadata": {},
     "output_type": "execute_result"
    }
   ],
   "source": [
    "rusm_opt = RandomizedUSMOptimizer(obj_func, params)\n",
    "solution_set = rusm_opt.optimize()\n",
    "obj_func.evaluate(IDSRuleSet(solution_set))"
   ]
  },
  {
   "cell_type": "code",
   "execution_count": 87,
   "metadata": {},
   "outputs": [
    {
     "data": {
      "text/plain": [
       "{IDSRule {Gender=male,Passenger_Cat=1st_class,Age_Cat=child} => {Died=0} sup: 0.00 conf: 1.00, f1: 0.01, len: 4, id: 208,\n",
       " IDSRule {Passenger_Cat=1st_class,Age_Cat=child} => {Died=0} sup: 0.00 conf: 1.00, f1: 0.01, len: 3, id: 209,\n",
       " IDSRule {Passenger_Cat=2nd_class,Age_Cat=child,Gender=female} => {Died=0} sup: 0.00 conf: 1.00, f1: 0.01, len: 4, id: 212,\n",
       " IDSRule {Passenger_Cat=2nd_class,Gender=male,Age_Cat=child} => {Died=0} sup: 0.00 conf: 1.00, f1: 0.01, len: 4, id: 210,\n",
       " IDSRule {Passenger_Cat=2nd_class,Age_Cat=child} => {Died=0} sup: 0.01 conf: 1.00, f1: 0.01, len: 3, id: 211,\n",
       " IDSRule {Gender=male,Age_Cat=child,Passenger_Cat=3rd_class} => {Died=1} sup: 0.02 conf: 0.88, f1: 0.04, len: 4, id: 200,\n",
       " IDSRule {Passenger_Cat=crew,Gender=female} => {Died=0} sup: 0.02 conf: 1.00, f1: 0.04, len: 3, id: 166,\n",
       " IDSRule {Passenger_Cat=crew,Age_Cat=adult,Gender=female} => {Died=0} sup: 0.02 conf: 1.00, f1: 0.04, len: 4, id: 165,\n",
       " IDSRule {Passenger_Cat=2nd_class,Age_Cat=adult,Gender=female} => {Died=0} sup: 0.03 conf: 0.90, f1: 0.05, len: 4, id: 194,\n",
       " IDSRule {Age_Cat=child,Passenger_Cat=3rd_class} => {Died=1} sup: 0.03 conf: 0.83, f1: 0.05, len: 3, id: 201,\n",
       " IDSRule {Passenger_Cat=2nd_class,Gender=female} => {Died=0} sup: 0.03 conf: 0.91, f1: 0.06, len: 3, id: 195,\n",
       " IDSRule {Passenger_Cat=1st_class,Gender=female} => {Died=0} sup: 0.07 conf: 0.96, f1: 0.13, len: 3, id: 183,\n",
       " IDSRule {Age_Cat=adult,Passenger_Cat=1st_class,Gender=female} => {Died=0} sup: 0.07 conf: 0.96, f1: 0.13, len: 4, id: 182,\n",
       " IDSRule {Passenger_Cat=2nd_class,Gender=male} => {Died=1} sup: 0.07 conf: 0.86, f1: 0.13, len: 3, id: 186,\n",
       " IDSRule {Passenger_Cat=2nd_class,Age_Cat=adult,Gender=male} => {Died=1} sup: 0.07 conf: 0.89, f1: 0.13, len: 4, id: 185,\n",
       " IDSRule {Age_Cat=adult,Passenger_Cat=3rd_class,Gender=male} => {Died=1} sup: 0.17 conf: 0.80, f1: 0.28, len: 4, id: 155,\n",
       " IDSRule {Gender=male,Passenger_Cat=3rd_class} => {Died=1} sup: 0.19 conf: 0.81, f1: 0.31, len: 3, id: 156,\n",
       " IDSRule {Passenger_Cat=crew,Age_Cat=adult,Gender=male} => {Died=1} sup: 0.30 conf: 0.79, f1: 0.43, len: 4, id: 144,\n",
       " IDSRule {Passenger_Cat=crew,Gender=male} => {Died=1} sup: 0.30 conf: 0.79, f1: 0.43, len: 3, id: 145,\n",
       " IDSRule {Age_Cat=adult,Gender=male} => {Died=1} sup: 0.60 conf: 0.79, f1: 0.68, len: 3, id: 141}"
      ]
     },
     "execution_count": 87,
     "metadata": {},
     "output_type": "execute_result"
    }
   ],
   "source": [
    "ids_ruleset.ruleset"
   ]
  },
  {
   "cell_type": "code",
   "execution_count": 85,
   "metadata": {},
   "outputs": [
    {
     "data": {
      "text/plain": [
       "{IDSRule {Gender=male,Passenger_Cat=1st_class,Age_Cat=child} => {Died=0} sup: 0.00 conf: 1.00, f1: 0.01, len: 4, id: 208,\n",
       " IDSRule {Passenger_Cat=2nd_class,Age_Cat=child,Gender=female} => {Died=0} sup: 0.00 conf: 1.00, f1: 0.01, len: 4, id: 212,\n",
       " IDSRule {Passenger_Cat=2nd_class,Gender=male,Age_Cat=child} => {Died=0} sup: 0.00 conf: 1.00, f1: 0.01, len: 4, id: 210,\n",
       " IDSRule {Passenger_Cat=1st_class,Age_Cat=child} => {Died=0} sup: 0.00 conf: 1.00, f1: 0.01, len: 3, id: 209,\n",
       " IDSRule {Passenger_Cat=2nd_class,Age_Cat=child} => {Died=0} sup: 0.01 conf: 1.00, f1: 0.01, len: 3, id: 211,\n",
       " IDSRule {Gender=male,Age_Cat=child,Passenger_Cat=3rd_class} => {Died=1} sup: 0.02 conf: 0.88, f1: 0.04, len: 4, id: 200,\n",
       " IDSRule {Passenger_Cat=crew,Age_Cat=adult,Gender=female} => {Died=0} sup: 0.02 conf: 1.00, f1: 0.04, len: 4, id: 165,\n",
       " IDSRule {Passenger_Cat=crew,Gender=female} => {Died=0} sup: 0.02 conf: 1.00, f1: 0.04, len: 3, id: 166,\n",
       " IDSRule {Passenger_Cat=2nd_class,Age_Cat=adult,Gender=female} => {Died=0} sup: 0.03 conf: 0.90, f1: 0.05, len: 4, id: 194,\n",
       " IDSRule {Age_Cat=child,Passenger_Cat=3rd_class} => {Died=1} sup: 0.03 conf: 0.83, f1: 0.05, len: 3, id: 201,\n",
       " IDSRule {Passenger_Cat=2nd_class,Gender=female} => {Died=0} sup: 0.03 conf: 0.91, f1: 0.06, len: 3, id: 195,\n",
       " IDSRule {Passenger_Cat=1st_class,Gender=female} => {Died=0} sup: 0.07 conf: 0.96, f1: 0.13, len: 3, id: 183,\n",
       " IDSRule {Age_Cat=adult,Passenger_Cat=1st_class,Gender=female} => {Died=0} sup: 0.07 conf: 0.96, f1: 0.13, len: 4, id: 182,\n",
       " IDSRule {Passenger_Cat=2nd_class,Gender=male} => {Died=1} sup: 0.07 conf: 0.86, f1: 0.13, len: 3, id: 186,\n",
       " IDSRule {Passenger_Cat=2nd_class,Age_Cat=adult,Gender=male} => {Died=1} sup: 0.07 conf: 0.89, f1: 0.13, len: 4, id: 185,\n",
       " IDSRule {Age_Cat=adult,Passenger_Cat=3rd_class,Gender=male} => {Died=1} sup: 0.17 conf: 0.80, f1: 0.28, len: 4, id: 155,\n",
       " IDSRule {Gender=male,Passenger_Cat=3rd_class} => {Died=1} sup: 0.19 conf: 0.81, f1: 0.31, len: 3, id: 156,\n",
       " IDSRule {Passenger_Cat=crew,Age_Cat=adult,Gender=male} => {Died=1} sup: 0.30 conf: 0.79, f1: 0.43, len: 4, id: 144,\n",
       " IDSRule {Passenger_Cat=crew,Gender=male} => {Died=1} sup: 0.30 conf: 0.79, f1: 0.43, len: 3, id: 145,\n",
       " IDSRule {Age_Cat=adult,Gender=male} => {Died=1} sup: 0.60 conf: 0.79, f1: 0.68, len: 3, id: 141}"
      ]
     },
     "execution_count": 85,
     "metadata": {},
     "output_type": "execute_result"
    }
   ],
   "source": [
    "solution_set"
   ]
  },
  {
   "cell_type": "markdown",
   "metadata": {},
   "source": [
    "## Mining the Class Association Rules (CARs)"
   ]
  },
  {
   "cell_type": "markdown",
   "metadata": {},
   "source": [
    "## Training the IDS Model"
   ]
  },
  {
   "cell_type": "code",
   "execution_count": 23,
   "metadata": {},
   "outputs": [
    {
     "ename": "NameError",
     "evalue": "name 'rules' is not defined",
     "output_type": "error",
     "traceback": [
      "\u001b[1;31m---------------------------------------------------------------------------\u001b[0m",
      "\u001b[1;31mNameError\u001b[0m                                 Traceback (most recent call last)",
      "\u001b[1;32m<ipython-input-23-cdf873680cb9>\u001b[0m in \u001b[0;36m<module>\u001b[1;34m\u001b[0m\n\u001b[0;32m      1\u001b[0m \u001b[0mids\u001b[0m \u001b[1;33m=\u001b[0m \u001b[0mIDS\u001b[0m\u001b[1;33m(\u001b[0m\u001b[1;33m)\u001b[0m\u001b[1;33m\u001b[0m\u001b[1;33m\u001b[0m\u001b[0m\n\u001b[1;32m----> 2\u001b[1;33m \u001b[0mids\u001b[0m\u001b[1;33m.\u001b[0m\u001b[0mfit\u001b[0m\u001b[1;33m(\u001b[0m\u001b[0mclass_association_rules\u001b[0m\u001b[1;33m=\u001b[0m\u001b[0mrules\u001b[0m\u001b[1;33m,\u001b[0m \u001b[0mquant_dataframe\u001b[0m\u001b[1;33m=\u001b[0m\u001b[0mquant_dataframe_train\u001b[0m\u001b[1;33m,\u001b[0m \u001b[0mdebug\u001b[0m\u001b[1;33m=\u001b[0m\u001b[1;32mTrue\u001b[0m\u001b[1;33m,\u001b[0m \u001b[0mrandom_seed\u001b[0m\u001b[1;33m=\u001b[0m\u001b[1;36m5\u001b[0m\u001b[1;33m)\u001b[0m\u001b[1;33m\u001b[0m\u001b[1;33m\u001b[0m\u001b[0m\n\u001b[0m",
      "\u001b[1;31mNameError\u001b[0m: name 'rules' is not defined"
     ]
    }
   ],
   "source": [
    "ids = IDS()\n",
    "ids.fit(class_association_rules=rules, quant_dataframe=quant_dataframe_train, debug=True, random_seed=5)"
   ]
  },
  {
   "cell_type": "code",
   "execution_count": null,
   "metadata": {},
   "outputs": [],
   "source": [
    "print(print_cars(ids.clf.rules))"
   ]
  },
  {
   "cell_type": "code",
   "execution_count": 24,
   "metadata": {},
   "outputs": [
    {
     "ename": "AttributeError",
     "evalue": "'NoneType' object has no attribute 'default_class'",
     "output_type": "error",
     "traceback": [
      "\u001b[1;31m---------------------------------------------------------------------------\u001b[0m",
      "\u001b[1;31mAttributeError\u001b[0m                            Traceback (most recent call last)",
      "\u001b[1;32m<ipython-input-24-19d4b117c84a>\u001b[0m in \u001b[0;36m<module>\u001b[1;34m\u001b[0m\n\u001b[1;32m----> 1\u001b[1;33m \u001b[0mids\u001b[0m\u001b[1;33m.\u001b[0m\u001b[0mclf\u001b[0m\u001b[1;33m.\u001b[0m\u001b[0mdefault_class\u001b[0m\u001b[1;33m\u001b[0m\u001b[1;33m\u001b[0m\u001b[0m\n\u001b[0m",
      "\u001b[1;31mAttributeError\u001b[0m: 'NoneType' object has no attribute 'default_class'"
     ]
    }
   ],
   "source": [
    "ids.clf.default_class"
   ]
  },
  {
   "cell_type": "code",
   "execution_count": 13,
   "metadata": {},
   "outputs": [
    {
     "data": {
      "text/plain": [
       "1"
      ]
     },
     "execution_count": 13,
     "metadata": {},
     "output_type": "execute_result"
    }
   ],
   "source": [
    "ids.clf.default_class_confidence"
   ]
  },
  {
   "cell_type": "markdown",
   "metadata": {},
   "source": [
    "## Evaluating the IDS model"
   ]
  },
  {
   "cell_type": "code",
   "execution_count": 30,
   "metadata": {},
   "outputs": [
    {
     "name": "stdout",
     "output_type": "stream",
     "text": [
      "Accuracy on train data:  0.6590909090909091\n",
      "Accuracy on test data:  0.681334279630944\n"
     ]
    }
   ],
   "source": [
    "print(\"Accuracy on train data: \", ids.score(quant_dataframe_train))\n",
    "print(\"Accuracy on test data: \", ids.score(quant_dataframe_test))"
   ]
  },
  {
   "cell_type": "code",
   "execution_count": 15,
   "metadata": {},
   "outputs": [
    {
     "name": "stdout",
     "output_type": "stream",
     "text": [
      "AUC on train data:  0.6735958005249345\n"
     ]
    },
    {
     "ename": "IndexError",
     "evalue": "index 352 is out of bounds for axis 1 with size 352",
     "output_type": "error",
     "traceback": [
      "\u001b[1;31m---------------------------------------------------------------------------\u001b[0m",
      "\u001b[1;31mIndexError\u001b[0m                                Traceback (most recent call last)",
      "\u001b[1;32m<ipython-input-15-475e4ceebe60>\u001b[0m in \u001b[0;36m<module>\u001b[1;34m\u001b[0m\n\u001b[0;32m      1\u001b[0m \u001b[0mprint\u001b[0m\u001b[1;33m(\u001b[0m\u001b[1;34m\"AUC on train data: \"\u001b[0m\u001b[1;33m,\u001b[0m \u001b[0mids\u001b[0m\u001b[1;33m.\u001b[0m\u001b[0mscore_auc\u001b[0m\u001b[1;33m(\u001b[0m\u001b[0mquant_dataframe_train\u001b[0m\u001b[1;33m,\u001b[0m \u001b[0mconfidence_based\u001b[0m\u001b[1;33m=\u001b[0m\u001b[1;32mTrue\u001b[0m\u001b[1;33m)\u001b[0m\u001b[1;33m)\u001b[0m\u001b[1;33m\u001b[0m\u001b[1;33m\u001b[0m\u001b[0m\n\u001b[1;32m----> 2\u001b[1;33m \u001b[0mprint\u001b[0m\u001b[1;33m(\u001b[0m\u001b[1;34m\"AUC on test data: \"\u001b[0m\u001b[1;33m,\u001b[0m \u001b[0mids\u001b[0m\u001b[1;33m.\u001b[0m\u001b[0mscore_auc\u001b[0m\u001b[1;33m(\u001b[0m\u001b[0mquant_dataframe_test\u001b[0m\u001b[1;33m,\u001b[0m \u001b[0mconfidence_based\u001b[0m\u001b[1;33m=\u001b[0m\u001b[1;32mTrue\u001b[0m\u001b[1;33m)\u001b[0m\u001b[1;33m)\u001b[0m\u001b[1;33m\u001b[0m\u001b[1;33m\u001b[0m\u001b[0m\n\u001b[0m",
      "\u001b[1;32mD:\\programy\\Anaconda\\lib\\site-packages\\pyids\\data_structures\\ids_classifier.py\u001b[0m in \u001b[0;36mscore_auc\u001b[1;34m(self, quant_dataframe, confidence_based)\u001b[0m\n\u001b[0;32m    257\u001b[0m     \u001b[1;32mdef\u001b[0m \u001b[0mscore_auc\u001b[0m\u001b[1;33m(\u001b[0m\u001b[0mself\u001b[0m\u001b[1;33m,\u001b[0m \u001b[0mquant_dataframe\u001b[0m\u001b[1;33m,\u001b[0m \u001b[0mconfidence_based\u001b[0m\u001b[1;33m=\u001b[0m\u001b[1;32mFalse\u001b[0m\u001b[1;33m)\u001b[0m\u001b[1;33m:\u001b[0m\u001b[1;33m\u001b[0m\u001b[1;33m\u001b[0m\u001b[0m\n\u001b[0;32m    258\u001b[0m         \u001b[1;32mif\u001b[0m \u001b[0mconfidence_based\u001b[0m\u001b[1;33m:\u001b[0m\u001b[1;33m\u001b[0m\u001b[1;33m\u001b[0m\u001b[0m\n\u001b[1;32m--> 259\u001b[1;33m             \u001b[1;32mreturn\u001b[0m \u001b[0mself\u001b[0m\u001b[1;33m.\u001b[0m\u001b[0m_calculate_auc_for_ruleconf\u001b[0m\u001b[1;33m(\u001b[0m\u001b[0mquant_dataframe\u001b[0m\u001b[1;33m)\u001b[0m\u001b[1;33m\u001b[0m\u001b[1;33m\u001b[0m\u001b[0m\n\u001b[0m\u001b[0;32m    260\u001b[0m         \u001b[1;32melse\u001b[0m\u001b[1;33m:\u001b[0m\u001b[1;33m\u001b[0m\u001b[1;33m\u001b[0m\u001b[0m\n\u001b[0;32m    261\u001b[0m             \u001b[1;32mreturn\u001b[0m \u001b[0mself\u001b[0m\u001b[1;33m.\u001b[0m\u001b[0m_calcutate_auc_classical\u001b[0m\u001b[1;33m(\u001b[0m\u001b[0mquant_dataframe\u001b[0m\u001b[1;33m)\u001b[0m\u001b[1;33m\u001b[0m\u001b[1;33m\u001b[0m\u001b[0m\n",
      "\u001b[1;32mD:\\programy\\Anaconda\\lib\\site-packages\\pyids\\data_structures\\ids_classifier.py\u001b[0m in \u001b[0;36m_calculate_auc_for_ruleconf\u001b[1;34m(self, quant_dataframe)\u001b[0m\n\u001b[0;32m    217\u001b[0m \u001b[1;33m\u001b[0m\u001b[0m\n\u001b[0;32m    218\u001b[0m     \u001b[1;32mdef\u001b[0m \u001b[0m_calculate_auc_for_ruleconf\u001b[0m\u001b[1;33m(\u001b[0m\u001b[0mself\u001b[0m\u001b[1;33m,\u001b[0m \u001b[0mquant_dataframe\u001b[0m\u001b[1;33m)\u001b[0m\u001b[1;33m:\u001b[0m\u001b[1;33m\u001b[0m\u001b[1;33m\u001b[0m\u001b[0m\n\u001b[1;32m--> 219\u001b[1;33m         \u001b[0mconf_pred\u001b[0m \u001b[1;33m=\u001b[0m \u001b[0mself\u001b[0m\u001b[1;33m.\u001b[0m\u001b[0mclf\u001b[0m\u001b[1;33m.\u001b[0m\u001b[0mget_prediction_rules\u001b[0m\u001b[1;33m(\u001b[0m\u001b[0mquant_dataframe\u001b[0m\u001b[1;33m)\u001b[0m\u001b[1;33m\u001b[0m\u001b[1;33m\u001b[0m\u001b[0m\n\u001b[0m\u001b[0;32m    220\u001b[0m \u001b[1;33m\u001b[0m\u001b[0m\n\u001b[0;32m    221\u001b[0m         \u001b[0mconfidences\u001b[0m \u001b[1;33m=\u001b[0m \u001b[1;33m[\u001b[0m\u001b[1;33m]\u001b[0m\u001b[1;33m\u001b[0m\u001b[1;33m\u001b[0m\u001b[0m\n",
      "\u001b[1;32mD:\\programy\\Anaconda\\lib\\site-packages\\pyids\\data_structures\\ids_classifier.py\u001b[0m in \u001b[0;36mget_prediction_rules\u001b[1;34m(self, quant_dataframe)\u001b[0m\n\u001b[0;32m     82\u001b[0m         \u001b[1;32mif\u001b[0m \u001b[0my_pred_dict\u001b[0m\u001b[1;33m:\u001b[0m\u001b[1;33m\u001b[0m\u001b[1;33m\u001b[0m\u001b[0m\n\u001b[0;32m     83\u001b[0m             \u001b[1;32mfor\u001b[0m \u001b[0mi\u001b[0m \u001b[1;32min\u001b[0m \u001b[0mrange\u001b[0m\u001b[1;33m(\u001b[0m\u001b[0mlen\u001b[0m\u001b[1;33m(\u001b[0m\u001b[0mY\u001b[0m\u001b[1;33m)\u001b[0m\u001b[1;33m)\u001b[0m\u001b[1;33m:\u001b[0m\u001b[1;33m\u001b[0m\u001b[1;33m\u001b[0m\u001b[0m\n\u001b[1;32m---> 84\u001b[1;33m                 \u001b[0mall_NA\u001b[0m \u001b[1;33m=\u001b[0m \u001b[0mnp\u001b[0m\u001b[1;33m.\u001b[0m\u001b[0mall\u001b[0m\u001b[1;33m(\u001b[0m\u001b[0my_pred_array\u001b[0m\u001b[1;33m[\u001b[0m\u001b[1;33m:\u001b[0m\u001b[1;33m,\u001b[0m\u001b[0mi\u001b[0m\u001b[1;33m]\u001b[0m \u001b[1;33m==\u001b[0m \u001b[0mIDSRule\u001b[0m\u001b[1;33m.\u001b[0m\u001b[0mDUMMY_LABEL\u001b[0m\u001b[1;33m)\u001b[0m\u001b[1;33m\u001b[0m\u001b[1;33m\u001b[0m\u001b[0m\n\u001b[0m\u001b[0;32m     85\u001b[0m                 \u001b[1;32mif\u001b[0m \u001b[0mall_NA\u001b[0m\u001b[1;33m:\u001b[0m\u001b[1;33m\u001b[0m\u001b[1;33m\u001b[0m\u001b[0m\n\u001b[0;32m     86\u001b[0m                     \u001b[0mminority_classes\u001b[0m\u001b[1;33m.\u001b[0m\u001b[0mappend\u001b[0m\u001b[1;33m(\u001b[0m\u001b[0mY\u001b[0m\u001b[1;33m[\u001b[0m\u001b[0mi\u001b[0m\u001b[1;33m]\u001b[0m\u001b[1;33m)\u001b[0m\u001b[1;33m\u001b[0m\u001b[1;33m\u001b[0m\u001b[0m\n",
      "\u001b[1;31mIndexError\u001b[0m: index 352 is out of bounds for axis 1 with size 352"
     ]
    }
   ],
   "source": [
    "print(\"AUC on train data: \", ids.score_auc(quant_dataframe_train, confidence_based=True))\n",
    "print(\"AUC on test data: \", ids.score_auc(quant_dataframe_test, confidence_based=True))"
   ]
  },
  {
   "cell_type": "code",
   "execution_count": 32,
   "metadata": {},
   "outputs": [
    {
     "data": {
      "text/plain": [
       "{'fraction_overlap': 0.1952651515151515,\n",
       " 'fraction_classes': 1.0,\n",
       " 'fraction_uncovered': 0.14204545454545447,\n",
       " 'average_rule_width': 1.8333333333333333,\n",
       " 'ruleset_length': 6}"
      ]
     },
     "execution_count": 32,
     "metadata": {},
     "output_type": "execute_result"
    }
   ],
   "source": [
    "ids.score_interpretable_metrics(quant_dataframe_train)"
   ]
  },
  {
   "cell_type": "code",
   "execution_count": 67,
   "metadata": {},
   "outputs": [
    {
     "data": {
      "text/plain": [
       "{'fraction_overlap': 0.32008516678495386,\n",
       " 'fraction_classes': 1.0,\n",
       " 'fraction_uncovered': 0.00709723207948898,\n",
       " 'average_rule_width': 1.4285714285714286,\n",
       " 'ruleset_length': 7}"
      ]
     },
     "execution_count": 67,
     "metadata": {},
     "output_type": "execute_result"
    }
   ],
   "source": [
    "ids.score_interpretable_metrics(quant_dataframe_test)"
   ]
  }
 ],
 "metadata": {
  "kernelspec": {
   "display_name": "Python 3",
   "language": "python",
   "name": "python3"
  },
  "language_info": {
   "codemirror_mode": {
    "name": "ipython",
    "version": 3
   },
   "file_extension": ".py",
   "mimetype": "text/x-python",
   "name": "python",
   "nbconvert_exporter": "python",
   "pygments_lexer": "ipython3",
   "version": "3.7.3"
  }
 },
 "nbformat": 4,
 "nbformat_minor": 2
}
