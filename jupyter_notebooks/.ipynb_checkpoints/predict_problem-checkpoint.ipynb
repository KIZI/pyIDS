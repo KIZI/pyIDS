{
 "cells": [
  {
   "cell_type": "code",
   "execution_count": null,
   "metadata": {},
   "outputs": [],
   "source": [
    "import pandas as pd\n",
    "import pyarc\n",
    "from pyids import IDS\n",
    "from pyids.ids_classifier import mine_CARs\n",
    "import scipy\n",
    "from pyids.model_selection import mode\n",
    "import numpy as np\n",
    "from pyids.ids_rule import IDSRule\n",
    "from pyids.ids_ruleset import IDSRuleSet\n",
    "from sklearn.metrics import f1_score, accuracy_score, roc_auc_score"
   ]
  },
  {
   "cell_type": "code",
   "execution_count": 4,
   "metadata": {},
   "outputs": [],
   "source": [
    "from pyarc.qcba.transformation import QCBATransformation\n",
    "\n",
    "from pyarc import CBA\n",
    "from pyarc.data_structures import TransactionDB\n",
    "from pyarc.qcba.data_structures import QuantitativeDataFrame\n",
    "import pandas as pd\n",
    "\n",
    "from pyarc.qcba.data_structures import (\n",
    "    IntervalReader,\n",
    "    Interval,\n",
    "    QuantitativeDataFrame,\n",
    "    QuantitativeCAR\n",
    ")\n",
    "\n",
    "from pyarc.qcba.classifier import QuantitativeClassifier\n",
    "from sklearn.metrics import accuracy_score\n",
    "\n",
    "interval_reader = IntervalReader()\n",
    "\n",
    "interval_reader.closed_bracket = \"\", \"NULL\"\n",
    "interval_reader.open_bracket = \"NULL\", \"\"\n",
    "interval_reader.infinity_symbol = \"inf\", \"inf\"\n",
    "interval_reader.members_separator = \"_to_\"\n",
    "\n",
    "interval_reader.compile_reader()\n",
    "\n",
    "QuantitativeCAR.interval_reader = interval_reader"
   ]
  },
  {
   "cell_type": "code",
   "execution_count": 8,
   "metadata": {},
   "outputs": [],
   "source": [
    "data_train_disc = pd.read_csv(\"../data/iris0.csv\")"
   ]
  },
  {
   "cell_type": "code",
   "execution_count": 9,
   "metadata": {},
   "outputs": [],
   "source": [
    "quant_dataframe_train_disc = QuantitativeDataFrame(data_train_disc)"
   ]
  },
  {
   "cell_type": "code",
   "execution_count": 10,
   "metadata": {},
   "outputs": [
    {
     "name": "stdout",
     "output_type": "stream",
     "text": [
      "Running apriori with setting: confidence=0.5, support=0.0, minlen=2, maxlen=3, MAX_RULE_LEN=5\n",
      "Rule count: 96, Iteration: 1\n",
      "Increasing maxlen 4\n",
      "Running apriori with setting: confidence=0.5, support=0.0, minlen=2, maxlen=4, MAX_RULE_LEN=5\n",
      "Rule count: 166, Iteration: 2\n",
      "Increasing maxlen 5\n",
      "Running apriori with setting: confidence=0.5, support=0.0, minlen=2, maxlen=5, MAX_RULE_LEN=5\n",
      "Rule count: 190, Iteration: 3\n",
      "Decreasing confidence to 0.45\n",
      "Running apriori with setting: confidence=0.45, support=0.0, minlen=2, maxlen=5, MAX_RULE_LEN=5\n",
      "Rule count: 190, Iteration: 4\n",
      "Decreasing confidence to 0.4\n",
      "Running apriori with setting: confidence=0.4, support=0.0, minlen=2, maxlen=5, MAX_RULE_LEN=5\n",
      "Rule count: 190, Iteration: 5\n",
      "Decreasing confidence to 0.35000000000000003\n",
      "Running apriori with setting: confidence=0.35000000000000003, support=0.0, minlen=2, maxlen=5, MAX_RULE_LEN=5\n",
      "Rule count: 190, Iteration: 6\n",
      "Decreasing confidence to 0.30000000000000004\n",
      "Running apriori with setting: confidence=0.30000000000000004, support=0.0, minlen=2, maxlen=5, MAX_RULE_LEN=5\n",
      "Rule count: 190, Iteration: 7\n",
      "Decreasing confidence to 0.25000000000000006\n",
      "Running apriori with setting: confidence=0.25000000000000006, support=0.0, minlen=2, maxlen=5, MAX_RULE_LEN=5\n",
      "Rule count: 190, Iteration: 8\n",
      "Decreasing confidence to 0.20000000000000007\n",
      "Running apriori with setting: confidence=0.20000000000000007, support=0.0, minlen=2, maxlen=5, MAX_RULE_LEN=5\n",
      "Rule count: 190, Iteration: 9\n",
      "Decreasing confidence to 0.15000000000000008\n",
      "Running apriori with setting: confidence=0.15000000000000008, support=0.0, minlen=2, maxlen=5, MAX_RULE_LEN=5\n",
      "Rule count: 190, Iteration: 10\n",
      "Decreasing confidence to 0.10000000000000007\n",
      "Running apriori with setting: confidence=0.10000000000000007, support=0.0, minlen=2, maxlen=5, MAX_RULE_LEN=5\n",
      "Rule count: 190, Iteration: 11\n",
      "Decreasing confidence to 0.05000000000000007\n",
      "Running apriori with setting: confidence=0.05000000000000007, support=0.0, minlen=2, maxlen=5, MAX_RULE_LEN=5\n",
      "Rule count: 190, Iteration: 12\n",
      "Decreasing confidence to 6.938893903907228e-17\n",
      "Running apriori with setting: confidence=6.938893903907228e-17, support=0.0, minlen=2, maxlen=5, MAX_RULE_LEN=5\n",
      "Rule count: 190, Iteration: 13\n",
      "All options exhausted\n"
     ]
    }
   ],
   "source": [
    "cars = mine_CARs(data_train_disc, 50, sample=True)"
   ]
  },
  {
   "cell_type": "code",
   "execution_count": 11,
   "metadata": {
    "scrolled": true
   },
   "outputs": [
    {
     "name": "stdout",
     "output_type": "stream",
     "text": [
      "cover cache prepared\n",
      "overlap cache prepared\n"
     ]
    },
    {
     "data": {
      "text/plain": [
       "<pyids.ids_classifier.IDS at 0x15b7d7eb8d0>"
      ]
     },
     "execution_count": 11,
     "metadata": {},
     "output_type": "execute_result"
    }
   ],
   "source": [
    "ids = IDS()\n",
    "ids.fit(class_association_rules=cars, quant_dataframe=quant_dataframe_train_disc, debug=False)"
   ]
  },
  {
   "cell_type": "code",
   "execution_count": 15,
   "metadata": {},
   "outputs": [
    {
     "data": {
      "text/plain": [
       "{'c': 2, 'b': 3, 'a': 10}"
      ]
     },
     "execution_count": 15,
     "metadata": {},
     "output_type": "execute_result"
    }
   ],
   "source": [
    "mydict = dict(c=2, b=3, a=10)\n",
    "dict(sorted(mydict.items(), key=lambda item: item[1]))"
   ]
  },
  {
   "cell_type": "code",
   "execution_count": 31,
   "metadata": {
    "scrolled": true
   },
   "outputs": [
    {
     "data": {
      "text/plain": [
       "{IDS-CAR {petallength=4.75_to_inf,sepalwidth=2.95_to_3.35,petalwidth=1.75_to_inf,sepallength=5.55_to_6.25} => {class=Iris-versicolor} sup: 0.01 conf: 0.33 len: 5, id: 533,\n",
       " IDS-CAR {sepallength=5.55_to_6.25,petallength=2.45_to_4.75,sepalwidth=3.35_to_inf} => {class=Iris-versicolor} sup: 0.01 conf: 1.00 len: 4, id: 569,\n",
       " IDS-CAR {sepalwidth=-inf_to_2.95,petalwidth=1.75_to_inf} => {class=Iris-virginica} sup: 0.12 conf: 1.00 len: 3, id: 489,\n",
       " IDS-CAR {petallength=2.45_to_4.75,petalwidth=0.8_to_1.75,sepallength=-inf_to_5.55} => {class=Iris-virginica} sup: 0.01 conf: 0.09 len: 4, id: 480,\n",
       " IDS-CAR {petallength=4.75_to_inf} => {class=Iris-virginica} sup: 0.33 conf: 0.90 len: 2, id: 423,\n",
       " IDS-CAR {sepallength=6.25_to_inf,sepalwidth=-inf_to_2.95} => {class=Iris-versicolor} sup: 0.04 conf: 0.35 len: 3, id: 397,\n",
       " IDS-CAR {sepallength=6.25_to_inf,petallength=4.75_to_inf,sepalwidth=3.35_to_inf} => {class=Iris-virginica} sup: 0.03 conf: 1.00 len: 4, id: 545,\n",
       " IDS-CAR {petallength=4.75_to_inf,sepalwidth=2.95_to_3.35,petalwidth=1.75_to_inf} => {class=Iris-virginica} sup: 0.15 conf: 0.95 len: 4, id: 492,\n",
       " IDS-CAR {petalwidth=0.8_to_1.75,sepalwidth=-inf_to_2.95} => {class=Iris-virginica} sup: 0.03 conf: 0.11 len: 3, id: 415,\n",
       " IDS-CAR {sepallength=5.55_to_6.25,petalwidth=-inf_to_0.8,sepalwidth=3.35_to_inf} => {class=Iris-setosa} sup: 0.02 conf: 1.00 len: 4, id: 565,\n",
       " IDS-CAR {sepallength=6.25_to_inf,petallength=4.75_to_inf} => {class=Iris-versicolor} sup: 0.02 conf: 0.08 len: 3, id: 407,\n",
       " IDS-CAR {sepalwidth=-inf_to_2.95,petalwidth=-inf_to_0.8} => {class=Iris-setosa} sup: 0.01 conf: 1.00 len: 3, id: 443,\n",
       " IDS-CAR {petallength=2.45_to_4.75,sepalwidth=2.95_to_3.35} => {class=Iris-versicolor} sup: 0.08 conf: 1.00 len: 3, id: 463,\n",
       " IDS-CAR {sepalwidth=-inf_to_2.95,petalwidth=0.8_to_1.75,sepallength=5.55_to_6.25} => {class=Iris-versicolor} sup: 0.12 conf: 0.89 len: 4, id: 503,\n",
       " IDS-CAR {sepallength=-inf_to_5.55,sepalwidth=3.35_to_inf} => {class=Iris-setosa} sup: 0.18 conf: 1.00 len: 3, id: 548,\n",
       " IDS-CAR {petallength=2.45_to_4.75} => {class=Iris-versicolor} sup: 0.30 conf: 0.98 len: 2, id: 476,\n",
       " IDS-CAR {petallength=-inf_to_2.45} => {class=Iris-setosa} sup: 0.33 conf: 1.00 len: 2, id: 452,\n",
       " IDS-CAR {sepalwidth=2.95_to_3.35,petalwidth=0.8_to_1.75,sepallength=5.55_to_6.25} => {class=Iris-versicolor} sup: 0.03 conf: 1.00 len: 4, id: 504,\n",
       " IDS-CAR {petallength=4.75_to_inf,petalwidth=1.75_to_inf,sepalwidth=3.35_to_inf} => {class=Iris-virginica} sup: 0.03 conf: 1.00 len: 4, id: 558,\n",
       " IDS-CAR {sepalwidth=-inf_to_2.95,petalwidth=0.8_to_1.75,sepallength=5.55_to_6.25} => {class=Iris-virginica} sup: 0.01 conf: 0.11 len: 4, id: 514,\n",
       " IDS-CAR {sepalwidth=-inf_to_2.95,sepallength=6.25_to_inf,petallength=4.75_to_inf,petalwidth=1.75_to_inf} => {class=Iris-virginica} sup: 0.07 conf: 1.00 len: 5, id: 496,\n",
       " IDS-CAR {petalwidth=-inf_to_0.8,sepalwidth=3.35_to_inf} => {class=Iris-setosa} sup: 0.20 conf: 1.00 len: 3, id: 551}"
      ]
     },
     "execution_count": 31,
     "metadata": {},
     "output_type": "execute_result"
    }
   ],
   "source": [
    "ids.clf.rules"
   ]
  },
  {
   "cell_type": "code",
   "execution_count": 33,
   "metadata": {},
   "outputs": [
    {
     "name": "stdout",
     "output_type": "stream",
     "text": [
      "Přednost IDS (train): 0.7703703703703704\n",
      "Přednost IDS (test): 0.3333333333333333\n"
     ]
    }
   ],
   "source": [
    "print(\"Přednost IDS (train):\", ids.score(quant_dataframe_train_disc))\n",
    "print(\"Přednost IDS (test):\", ids.score(quant_dataframe_test_disc))"
   ]
  },
  {
   "cell_type": "code",
   "execution_count": 34,
   "metadata": {
    "collapsed": true
   },
   "outputs": [],
   "source": [
    "#iris test dataset obsahuje 1/3 instancí každé třídy, tedy výsledek test \"Přednost IDS (test): 0.3333333333333333\" odpovídá situaci, kdy se použil pouze modus."
   ]
  },
  {
   "cell_type": "code",
   "execution_count": 40,
   "metadata": {},
   "outputs": [
    {
     "data": {
      "text/html": [
       "<div>\n",
       "<style scoped>\n",
       "    .dataframe tbody tr th:only-of-type {\n",
       "        vertical-align: middle;\n",
       "    }\n",
       "\n",
       "    .dataframe tbody tr th {\n",
       "        vertical-align: top;\n",
       "    }\n",
       "\n",
       "    .dataframe thead th {\n",
       "        text-align: right;\n",
       "    }\n",
       "</style>\n",
       "<table border=\"1\" class=\"dataframe\">\n",
       "  <thead>\n",
       "    <tr style=\"text-align: right;\">\n",
       "      <th></th>\n",
       "      <th>sepallength</th>\n",
       "      <th>petalwidth</th>\n",
       "      <th>sepalwidth</th>\n",
       "      <th>petallength</th>\n",
       "      <th>class</th>\n",
       "    </tr>\n",
       "  </thead>\n",
       "  <tbody>\n",
       "    <tr>\n",
       "      <th>0</th>\n",
       "      <td>-inf_to_5.55</td>\n",
       "      <td>-inf_to_0.8</td>\n",
       "      <td>2.95_to_3.35</td>\n",
       "      <td>-inf_to_2.45</td>\n",
       "      <td>Iris-setosa</td>\n",
       "    </tr>\n",
       "    <tr>\n",
       "      <th>1</th>\n",
       "      <td>-inf_to_5.55</td>\n",
       "      <td>-inf_to_0.8</td>\n",
       "      <td>3.35_to_inf</td>\n",
       "      <td>-inf_to_2.45</td>\n",
       "      <td>Iris-setosa</td>\n",
       "    </tr>\n",
       "    <tr>\n",
       "      <th>2</th>\n",
       "      <td>-inf_to_5.55</td>\n",
       "      <td>-inf_to_0.8</td>\n",
       "      <td>3.35_to_inf</td>\n",
       "      <td>-inf_to_2.45</td>\n",
       "      <td>Iris-setosa</td>\n",
       "    </tr>\n",
       "    <tr>\n",
       "      <th>3</th>\n",
       "      <td>-inf_to_5.55</td>\n",
       "      <td>-inf_to_0.8</td>\n",
       "      <td>3.35_to_inf</td>\n",
       "      <td>-inf_to_2.45</td>\n",
       "      <td>Iris-setosa</td>\n",
       "    </tr>\n",
       "    <tr>\n",
       "      <th>4</th>\n",
       "      <td>-inf_to_5.55</td>\n",
       "      <td>-inf_to_0.8</td>\n",
       "      <td>-inf_to_2.95</td>\n",
       "      <td>-inf_to_2.45</td>\n",
       "      <td>Iris-setosa</td>\n",
       "    </tr>\n",
       "    <tr>\n",
       "      <th>5</th>\n",
       "      <td>6.25_to_inf</td>\n",
       "      <td>0.8_to_1.75</td>\n",
       "      <td>2.95_to_3.35</td>\n",
       "      <td>4.75_to_inf</td>\n",
       "      <td>Iris-versicolor</td>\n",
       "    </tr>\n",
       "    <tr>\n",
       "      <th>6</th>\n",
       "      <td>5.55_to_6.25</td>\n",
       "      <td>0.8_to_1.75</td>\n",
       "      <td>-inf_to_2.95</td>\n",
       "      <td>2.45_to_4.75</td>\n",
       "      <td>Iris-versicolor</td>\n",
       "    </tr>\n",
       "    <tr>\n",
       "      <th>7</th>\n",
       "      <td>5.55_to_6.25</td>\n",
       "      <td>0.8_to_1.75</td>\n",
       "      <td>2.95_to_3.35</td>\n",
       "      <td>2.45_to_4.75</td>\n",
       "      <td>Iris-versicolor</td>\n",
       "    </tr>\n",
       "    <tr>\n",
       "      <th>8</th>\n",
       "      <td>5.55_to_6.25</td>\n",
       "      <td>0.8_to_1.75</td>\n",
       "      <td>-inf_to_2.95</td>\n",
       "      <td>2.45_to_4.75</td>\n",
       "      <td>Iris-versicolor</td>\n",
       "    </tr>\n",
       "    <tr>\n",
       "      <th>9</th>\n",
       "      <td>-inf_to_5.55</td>\n",
       "      <td>0.8_to_1.75</td>\n",
       "      <td>-inf_to_2.95</td>\n",
       "      <td>2.45_to_4.75</td>\n",
       "      <td>Iris-versicolor</td>\n",
       "    </tr>\n",
       "    <tr>\n",
       "      <th>10</th>\n",
       "      <td>6.25_to_inf</td>\n",
       "      <td>1.75_to_inf</td>\n",
       "      <td>-inf_to_2.95</td>\n",
       "      <td>4.75_to_inf</td>\n",
       "      <td>Iris-virginica</td>\n",
       "    </tr>\n",
       "    <tr>\n",
       "      <th>11</th>\n",
       "      <td>6.25_to_inf</td>\n",
       "      <td>1.75_to_inf</td>\n",
       "      <td>2.95_to_3.35</td>\n",
       "      <td>4.75_to_inf</td>\n",
       "      <td>Iris-virginica</td>\n",
       "    </tr>\n",
       "    <tr>\n",
       "      <th>12</th>\n",
       "      <td>6.25_to_inf</td>\n",
       "      <td>1.75_to_inf</td>\n",
       "      <td>2.95_to_3.35</td>\n",
       "      <td>4.75_to_inf</td>\n",
       "      <td>Iris-virginica</td>\n",
       "    </tr>\n",
       "    <tr>\n",
       "      <th>13</th>\n",
       "      <td>5.55_to_6.25</td>\n",
       "      <td>1.75_to_inf</td>\n",
       "      <td>2.95_to_3.35</td>\n",
       "      <td>4.75_to_inf</td>\n",
       "      <td>Iris-virginica</td>\n",
       "    </tr>\n",
       "    <tr>\n",
       "      <th>14</th>\n",
       "      <td>5.55_to_6.25</td>\n",
       "      <td>1.75_to_inf</td>\n",
       "      <td>3.35_to_inf</td>\n",
       "      <td>4.75_to_inf</td>\n",
       "      <td>Iris-virginica</td>\n",
       "    </tr>\n",
       "  </tbody>\n",
       "</table>\n",
       "</div>"
      ],
      "text/plain": [
       "     sepallength   petalwidth    sepalwidth   petallength            class\n",
       "0   -inf_to_5.55  -inf_to_0.8  2.95_to_3.35  -inf_to_2.45      Iris-setosa\n",
       "1   -inf_to_5.55  -inf_to_0.8   3.35_to_inf  -inf_to_2.45      Iris-setosa\n",
       "2   -inf_to_5.55  -inf_to_0.8   3.35_to_inf  -inf_to_2.45      Iris-setosa\n",
       "3   -inf_to_5.55  -inf_to_0.8   3.35_to_inf  -inf_to_2.45      Iris-setosa\n",
       "4   -inf_to_5.55  -inf_to_0.8  -inf_to_2.95  -inf_to_2.45      Iris-setosa\n",
       "5    6.25_to_inf  0.8_to_1.75  2.95_to_3.35   4.75_to_inf  Iris-versicolor\n",
       "6   5.55_to_6.25  0.8_to_1.75  -inf_to_2.95  2.45_to_4.75  Iris-versicolor\n",
       "7   5.55_to_6.25  0.8_to_1.75  2.95_to_3.35  2.45_to_4.75  Iris-versicolor\n",
       "8   5.55_to_6.25  0.8_to_1.75  -inf_to_2.95  2.45_to_4.75  Iris-versicolor\n",
       "9   -inf_to_5.55  0.8_to_1.75  -inf_to_2.95  2.45_to_4.75  Iris-versicolor\n",
       "10   6.25_to_inf  1.75_to_inf  -inf_to_2.95   4.75_to_inf   Iris-virginica\n",
       "11   6.25_to_inf  1.75_to_inf  2.95_to_3.35   4.75_to_inf   Iris-virginica\n",
       "12   6.25_to_inf  1.75_to_inf  2.95_to_3.35   4.75_to_inf   Iris-virginica\n",
       "13  5.55_to_6.25  1.75_to_inf  2.95_to_3.35   4.75_to_inf   Iris-virginica\n",
       "14  5.55_to_6.25  1.75_to_inf   3.35_to_inf   4.75_to_inf   Iris-virginica"
      ]
     },
     "execution_count": 40,
     "metadata": {},
     "output_type": "execute_result"
    }
   ],
   "source": [
    "#dataframe \n",
    "quant_dataframe_test_disc.dataframe\n",
    "#pro instanci 6 je predikována třída \"setosa\" ačkoliv žádné z pravidel ve výpisu výše predikující setosa nelze použít (jestli jsem se dobře díval)\n",
    "# lze ale použít pravidlo predikující Iris-versicolor (id 476)"
   ]
  },
  {
   "cell_type": "code",
   "execution_count": null,
   "metadata": {
    "collapsed": true
   },
   "outputs": [],
   "source": [
    "# výpis níže ukazuje, že všechny instance jsou skutečně predikovány jako setosa -stejně jako výchozí třída."
   ]
  },
  {
   "cell_type": "code",
   "execution_count": 38,
   "metadata": {},
   "outputs": [
    {
     "name": "stdout",
     "output_type": "stream",
     "text": [
      "['Iris-setosa', 'Iris-setosa', 'Iris-setosa', 'Iris-setosa', 'Iris-setosa', 'Iris-setosa', 'Iris-setosa', 'Iris-setosa', 'Iris-setosa', 'Iris-setosa', 'Iris-setosa', 'Iris-setosa', 'Iris-setosa', 'Iris-setosa', 'Iris-setosa']\n",
      "Iris-setosa\n"
     ]
    }
   ],
   "source": [
    "#PREDICT FUNCTION FOR DEBUGGING\n",
    "\n",
    "quant_dataframe = quant_dataframe_test_disc\n",
    "if type(quant_dataframe) != QuantitativeDataFrame:\n",
    "    print(\"Type of quant_dataframe must be QuantitativeDataFrame\")\n",
    "\n",
    "\n",
    "Y = quant_dataframe.dataframe.iloc[:,-1]\n",
    "y_pred_dict = dict()\n",
    "\n",
    "for rule in ids.clf.rules:\n",
    "\n",
    "    conf = rule.car.confidence\n",
    "    sup = rule.car.support\n",
    "\n",
    "    y_pred_per_rule = rule.predict(quant_dataframe)\n",
    "    rule_f1_score = scipy.stats.hmean([conf, sup])\n",
    "\n",
    "    y_pred_dict.update({rule_f1_score: y_pred_per_rule})\n",
    "\n",
    "\n",
    "# rules in rows, instances in columns\n",
    "y_pred_array = np.array(list(y_pred_dict.values()))\n",
    "y_pred = []\n",
    "\n",
    "minority_classes = []\n",
    "\n",
    "if y_pred_dict:\n",
    "    for i in range(len(Y)):\n",
    "        all_NA = np.all(y_pred_array[:,i] == IDSRule.DUMMY_LABEL)\n",
    "        if all_NA:\n",
    "            minority_classes.append(Y[i])\n",
    "\n",
    "    # if the ruleset covers all instances                     \n",
    "    default_class = Y[0]\n",
    "\n",
    "    if minority_classes:\n",
    "        default_class = mode(minority_classes)\n",
    "\n",
    "    for i in range(len(Y)):\n",
    "        y_pred_array_datacase = y_pred_array[:,i]\n",
    "        non_na_mask = y_pred_array_datacase != IDSRule.DUMMY_LABEL\n",
    "\n",
    "        y_pred_array_datacase_non_na = y_pred_array_datacase[non_na_mask]\n",
    "\n",
    "        if len(y_pred_array_datacase_non_na) > 0:\n",
    "            y_pred.append(y_pred_array_datacase_non_na[0])\n",
    "        else:\n",
    "            y_pred.append(default_class)\n",
    "\n",
    "else:\n",
    "    y_pred = len(Y) * [mode(Y)]\n",
    "\n",
    "print(y_pred)\n",
    "print(default_class)"
   ]
  }
 ],
 "metadata": {
  "kernelspec": {
   "display_name": "Python 3",
   "language": "python",
   "name": "python3"
  },
  "language_info": {
   "codemirror_mode": {
    "name": "ipython",
    "version": 3
   },
   "file_extension": ".py",
   "mimetype": "text/x-python",
   "name": "python",
   "nbconvert_exporter": "python",
   "pygments_lexer": "ipython3",
   "version": "3.7.3"
  }
 },
 "nbformat": 4,
 "nbformat_minor": 2
}
