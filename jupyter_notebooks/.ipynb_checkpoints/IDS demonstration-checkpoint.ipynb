{
 "cells": [
  {
   "cell_type": "code",
   "execution_count": 3,
   "metadata": {},
   "outputs": [],
   "source": [
    "import pandas as pd\n",
    "import pyarc\n",
    "from pyids import IDS\n",
    "from pyids.data_structures import mine_CARs\n",
    "from pyarc.qcba.data_structures import QuantitativeDataFrame"
   ]
  },
  {
   "cell_type": "code",
   "execution_count": 4,
   "metadata": {},
   "outputs": [],
   "source": [
    "data_train = pd.read_csv(\"c:/code/python/machine_learning/assoc_rules/train/iris0.csv\")\n",
    "data_test = pd.read_csv(\"c:/code/python/machine_learning/assoc_rules/test/iris0.csv\")"
   ]
  },
  {
   "cell_type": "code",
   "execution_count": 18,
   "metadata": {},
   "outputs": [],
   "source": [
    "quant_dataframe_train = QuantitativeDataFrame(data_train)\n",
    "quant_dataframe_test = QuantitativeDataFrame(data_test)"
   ]
  },
  {
   "cell_type": "code",
   "execution_count": 19,
   "metadata": {},
   "outputs": [
    {
     "data": {
      "text/html": [
       "<div>\n",
       "<style scoped>\n",
       "    .dataframe tbody tr th:only-of-type {\n",
       "        vertical-align: middle;\n",
       "    }\n",
       "\n",
       "    .dataframe tbody tr th {\n",
       "        vertical-align: top;\n",
       "    }\n",
       "\n",
       "    .dataframe thead th {\n",
       "        text-align: right;\n",
       "    }\n",
       "</style>\n",
       "<table border=\"1\" class=\"dataframe\">\n",
       "  <thead>\n",
       "    <tr style=\"text-align: right;\">\n",
       "      <th></th>\n",
       "      <th>sepallength</th>\n",
       "      <th>petalwidth</th>\n",
       "      <th>sepalwidth</th>\n",
       "      <th>petallength</th>\n",
       "      <th>class</th>\n",
       "    </tr>\n",
       "  </thead>\n",
       "  <tbody>\n",
       "    <tr>\n",
       "      <th>90</th>\n",
       "      <td>6.25_to_inf</td>\n",
       "      <td>1.75_to_inf</td>\n",
       "      <td>2.95_to_3.35</td>\n",
       "      <td>4.75_to_inf</td>\n",
       "      <td>Iris-virginica</td>\n",
       "    </tr>\n",
       "    <tr>\n",
       "      <th>99</th>\n",
       "      <td>6.25_to_inf</td>\n",
       "      <td>1.75_to_inf</td>\n",
       "      <td>2.95_to_3.35</td>\n",
       "      <td>4.75_to_inf</td>\n",
       "      <td>Iris-virginica</td>\n",
       "    </tr>\n",
       "    <tr>\n",
       "      <th>29</th>\n",
       "      <td>-inf_to_5.55</td>\n",
       "      <td>-inf_to_0.8</td>\n",
       "      <td>3.35_to_inf</td>\n",
       "      <td>-inf_to_2.45</td>\n",
       "      <td>Iris-setosa</td>\n",
       "    </tr>\n",
       "    <tr>\n",
       "      <th>52</th>\n",
       "      <td>6.25_to_inf</td>\n",
       "      <td>0.8_to_1.75</td>\n",
       "      <td>-inf_to_2.95</td>\n",
       "      <td>2.45_to_4.75</td>\n",
       "      <td>Iris-versicolor</td>\n",
       "    </tr>\n",
       "    <tr>\n",
       "      <th>12</th>\n",
       "      <td>5.55_to_6.25</td>\n",
       "      <td>-inf_to_0.8</td>\n",
       "      <td>3.35_to_inf</td>\n",
       "      <td>-inf_to_2.45</td>\n",
       "      <td>Iris-setosa</td>\n",
       "    </tr>\n",
       "    <tr>\n",
       "      <th>132</th>\n",
       "      <td>6.25_to_inf</td>\n",
       "      <td>1.75_to_inf</td>\n",
       "      <td>-inf_to_2.95</td>\n",
       "      <td>4.75_to_inf</td>\n",
       "      <td>Iris-virginica</td>\n",
       "    </tr>\n",
       "    <tr>\n",
       "      <th>28</th>\n",
       "      <td>-inf_to_5.55</td>\n",
       "      <td>-inf_to_0.8</td>\n",
       "      <td>3.35_to_inf</td>\n",
       "      <td>-inf_to_2.45</td>\n",
       "      <td>Iris-setosa</td>\n",
       "    </tr>\n",
       "    <tr>\n",
       "      <th>0</th>\n",
       "      <td>-inf_to_5.55</td>\n",
       "      <td>-inf_to_0.8</td>\n",
       "      <td>3.35_to_inf</td>\n",
       "      <td>-inf_to_2.45</td>\n",
       "      <td>Iris-setosa</td>\n",
       "    </tr>\n",
       "    <tr>\n",
       "      <th>19</th>\n",
       "      <td>-inf_to_5.55</td>\n",
       "      <td>-inf_to_0.8</td>\n",
       "      <td>3.35_to_inf</td>\n",
       "      <td>-inf_to_2.45</td>\n",
       "      <td>Iris-setosa</td>\n",
       "    </tr>\n",
       "    <tr>\n",
       "      <th>91</th>\n",
       "      <td>5.55_to_6.25</td>\n",
       "      <td>1.75_to_inf</td>\n",
       "      <td>-inf_to_2.95</td>\n",
       "      <td>4.75_to_inf</td>\n",
       "      <td>Iris-virginica</td>\n",
       "    </tr>\n",
       "    <tr>\n",
       "      <th>27</th>\n",
       "      <td>-inf_to_5.55</td>\n",
       "      <td>-inf_to_0.8</td>\n",
       "      <td>3.35_to_inf</td>\n",
       "      <td>-inf_to_2.45</td>\n",
       "      <td>Iris-setosa</td>\n",
       "    </tr>\n",
       "    <tr>\n",
       "      <th>120</th>\n",
       "      <td>5.55_to_6.25</td>\n",
       "      <td>0.8_to_1.75</td>\n",
       "      <td>-inf_to_2.95</td>\n",
       "      <td>4.75_to_inf</td>\n",
       "      <td>Iris-virginica</td>\n",
       "    </tr>\n",
       "    <tr>\n",
       "      <th>43</th>\n",
       "      <td>-inf_to_5.55</td>\n",
       "      <td>-inf_to_0.8</td>\n",
       "      <td>3.35_to_inf</td>\n",
       "      <td>-inf_to_2.45</td>\n",
       "      <td>Iris-setosa</td>\n",
       "    </tr>\n",
       "    <tr>\n",
       "      <th>62</th>\n",
       "      <td>5.55_to_6.25</td>\n",
       "      <td>1.75_to_inf</td>\n",
       "      <td>2.95_to_3.35</td>\n",
       "      <td>4.75_to_inf</td>\n",
       "      <td>Iris-versicolor</td>\n",
       "    </tr>\n",
       "    <tr>\n",
       "      <th>48</th>\n",
       "      <td>6.25_to_inf</td>\n",
       "      <td>0.8_to_1.75</td>\n",
       "      <td>-inf_to_2.95</td>\n",
       "      <td>2.45_to_4.75</td>\n",
       "      <td>Iris-versicolor</td>\n",
       "    </tr>\n",
       "    <tr>\n",
       "      <th>110</th>\n",
       "      <td>6.25_to_inf</td>\n",
       "      <td>1.75_to_inf</td>\n",
       "      <td>-inf_to_2.95</td>\n",
       "      <td>4.75_to_inf</td>\n",
       "      <td>Iris-virginica</td>\n",
       "    </tr>\n",
       "    <tr>\n",
       "      <th>73</th>\n",
       "      <td>5.55_to_6.25</td>\n",
       "      <td>0.8_to_1.75</td>\n",
       "      <td>-inf_to_2.95</td>\n",
       "      <td>4.75_to_inf</td>\n",
       "      <td>Iris-versicolor</td>\n",
       "    </tr>\n",
       "    <tr>\n",
       "      <th>106</th>\n",
       "      <td>6.25_to_inf</td>\n",
       "      <td>1.75_to_inf</td>\n",
       "      <td>-inf_to_2.95</td>\n",
       "      <td>4.75_to_inf</td>\n",
       "      <td>Iris-virginica</td>\n",
       "    </tr>\n",
       "    <tr>\n",
       "      <th>61</th>\n",
       "      <td>5.55_to_6.25</td>\n",
       "      <td>0.8_to_1.75</td>\n",
       "      <td>-inf_to_2.95</td>\n",
       "      <td>2.45_to_4.75</td>\n",
       "      <td>Iris-versicolor</td>\n",
       "    </tr>\n",
       "    <tr>\n",
       "      <th>60</th>\n",
       "      <td>5.55_to_6.25</td>\n",
       "      <td>0.8_to_1.75</td>\n",
       "      <td>-inf_to_2.95</td>\n",
       "      <td>2.45_to_4.75</td>\n",
       "      <td>Iris-versicolor</td>\n",
       "    </tr>\n",
       "  </tbody>\n",
       "</table>\n",
       "</div>"
      ],
      "text/plain": [
       "      sepallength   petalwidth    sepalwidth   petallength            class\n",
       "90    6.25_to_inf  1.75_to_inf  2.95_to_3.35   4.75_to_inf   Iris-virginica\n",
       "99    6.25_to_inf  1.75_to_inf  2.95_to_3.35   4.75_to_inf   Iris-virginica\n",
       "29   -inf_to_5.55  -inf_to_0.8   3.35_to_inf  -inf_to_2.45      Iris-setosa\n",
       "52    6.25_to_inf  0.8_to_1.75  -inf_to_2.95  2.45_to_4.75  Iris-versicolor\n",
       "12   5.55_to_6.25  -inf_to_0.8   3.35_to_inf  -inf_to_2.45      Iris-setosa\n",
       "132   6.25_to_inf  1.75_to_inf  -inf_to_2.95   4.75_to_inf   Iris-virginica\n",
       "28   -inf_to_5.55  -inf_to_0.8   3.35_to_inf  -inf_to_2.45      Iris-setosa\n",
       "0    -inf_to_5.55  -inf_to_0.8   3.35_to_inf  -inf_to_2.45      Iris-setosa\n",
       "19   -inf_to_5.55  -inf_to_0.8   3.35_to_inf  -inf_to_2.45      Iris-setosa\n",
       "91   5.55_to_6.25  1.75_to_inf  -inf_to_2.95   4.75_to_inf   Iris-virginica\n",
       "27   -inf_to_5.55  -inf_to_0.8   3.35_to_inf  -inf_to_2.45      Iris-setosa\n",
       "120  5.55_to_6.25  0.8_to_1.75  -inf_to_2.95   4.75_to_inf   Iris-virginica\n",
       "43   -inf_to_5.55  -inf_to_0.8   3.35_to_inf  -inf_to_2.45      Iris-setosa\n",
       "62   5.55_to_6.25  1.75_to_inf  2.95_to_3.35   4.75_to_inf  Iris-versicolor\n",
       "48    6.25_to_inf  0.8_to_1.75  -inf_to_2.95  2.45_to_4.75  Iris-versicolor\n",
       "110   6.25_to_inf  1.75_to_inf  -inf_to_2.95   4.75_to_inf   Iris-virginica\n",
       "73   5.55_to_6.25  0.8_to_1.75  -inf_to_2.95   4.75_to_inf  Iris-versicolor\n",
       "106   6.25_to_inf  1.75_to_inf  -inf_to_2.95   4.75_to_inf   Iris-virginica\n",
       "61   5.55_to_6.25  0.8_to_1.75  -inf_to_2.95  2.45_to_4.75  Iris-versicolor\n",
       "60   5.55_to_6.25  0.8_to_1.75  -inf_to_2.95  2.45_to_4.75  Iris-versicolor"
      ]
     },
     "execution_count": 19,
     "metadata": {},
     "output_type": "execute_result"
    }
   ],
   "source": [
    "data_train.sample(len(data_train)).head(20)"
   ]
  },
  {
   "cell_type": "code",
   "execution_count": 20,
   "metadata": {},
   "outputs": [
    {
     "name": "stdout",
     "output_type": "stream",
     "text": [
      "Running apriori with setting: confidence=0.5, support=0.0, minlen=2, maxlen=3, MAX_RULE_LEN=5\n",
      "Rule count: 96, Iteration: 1\n",
      "Increasing maxlen 4\n",
      "Running apriori with setting: confidence=0.5, support=0.0, minlen=2, maxlen=4, MAX_RULE_LEN=5\n",
      "Rule count: 166, Iteration: 2\n",
      "Increasing maxlen 5\n",
      "Running apriori with setting: confidence=0.5, support=0.0, minlen=2, maxlen=5, MAX_RULE_LEN=5\n",
      "Rule count: 190, Iteration: 3\n",
      "Decreasing confidence to 0.45\n",
      "Running apriori with setting: confidence=0.45, support=0.0, minlen=2, maxlen=5, MAX_RULE_LEN=5\n",
      "Rule count: 190, Iteration: 4\n",
      "Decreasing confidence to 0.4\n",
      "Running apriori with setting: confidence=0.4, support=0.0, minlen=2, maxlen=5, MAX_RULE_LEN=5\n",
      "Rule count: 190, Iteration: 5\n",
      "Decreasing confidence to 0.35000000000000003\n",
      "Running apriori with setting: confidence=0.35000000000000003, support=0.0, minlen=2, maxlen=5, MAX_RULE_LEN=5\n",
      "Rule count: 190, Iteration: 6\n",
      "Decreasing confidence to 0.30000000000000004\n",
      "Running apriori with setting: confidence=0.30000000000000004, support=0.0, minlen=2, maxlen=5, MAX_RULE_LEN=5\n",
      "Rule count: 190, Iteration: 7\n",
      "Decreasing confidence to 0.25000000000000006\n",
      "Running apriori with setting: confidence=0.25000000000000006, support=0.0, minlen=2, maxlen=5, MAX_RULE_LEN=5\n",
      "Rule count: 190, Iteration: 8\n",
      "Decreasing confidence to 0.20000000000000007\n",
      "Running apriori with setting: confidence=0.20000000000000007, support=0.0, minlen=2, maxlen=5, MAX_RULE_LEN=5\n",
      "Rule count: 190, Iteration: 9\n",
      "Decreasing confidence to 0.15000000000000008\n",
      "Running apriori with setting: confidence=0.15000000000000008, support=0.0, minlen=2, maxlen=5, MAX_RULE_LEN=5\n",
      "Rule count: 190, Iteration: 10\n",
      "Decreasing confidence to 0.10000000000000007\n",
      "Running apriori with setting: confidence=0.10000000000000007, support=0.0, minlen=2, maxlen=5, MAX_RULE_LEN=5\n",
      "Rule count: 190, Iteration: 11\n",
      "Decreasing confidence to 0.05000000000000007\n",
      "Running apriori with setting: confidence=0.05000000000000007, support=0.0, minlen=2, maxlen=5, MAX_RULE_LEN=5\n",
      "Rule count: 190, Iteration: 12\n",
      "Decreasing confidence to 6.938893903907228e-17\n",
      "Running apriori with setting: confidence=6.938893903907228e-17, support=0.0, minlen=2, maxlen=5, MAX_RULE_LEN=5\n",
      "Rule count: 190, Iteration: 13\n",
      "All options exhausted\n"
     ]
    }
   ],
   "source": [
    "cars = mine_CARs(data_train, 50, sample=False)"
   ]
  },
  {
   "cell_type": "code",
   "execution_count": 21,
   "metadata": {},
   "outputs": [
    {
     "data": {
      "text/plain": [
       "[CAR {petalwidth=-inf_to_0.8} => {class=Iris-setosa} sup: 0.33 conf: 1.00 len: 2, id: 446,\n",
       " CAR {petallength=-inf_to_2.45} => {class=Iris-setosa} sup: 0.33 conf: 1.00 len: 2, id: 452,\n",
       " CAR {petallength=-inf_to_2.45,petalwidth=-inf_to_0.8} => {class=Iris-setosa} sup: 0.33 conf: 1.00 len: 3, id: 458,\n",
       " CAR {petalwidth=-inf_to_0.8,sepallength=-inf_to_5.55} => {class=Iris-setosa} sup: 0.31 conf: 1.00 len: 3, id: 441,\n",
       " CAR {petallength=-inf_to_2.45,sepallength=-inf_to_5.55} => {class=Iris-setosa} sup: 0.31 conf: 1.00 len: 3, id: 447,\n",
       " CAR {petallength=-inf_to_2.45,petalwidth=-inf_to_0.8,sepallength=-inf_to_5.55} => {class=Iris-setosa} sup: 0.31 conf: 1.00 len: 4, id: 453,\n",
       " CAR {petalwidth=1.75_to_inf,sepallength=6.25_to_inf} => {class=Iris-virginica} sup: 0.24 conf: 1.00 len: 3, id: 499,\n",
       " CAR {petalwidth=1.75_to_inf,sepallength=6.25_to_inf,petallength=4.75_to_inf} => {class=Iris-virginica} sup: 0.24 conf: 1.00 len: 4, id: 498,\n",
       " CAR {petalwidth=-inf_to_0.8,sepalwidth=3.35_to_inf} => {class=Iris-setosa} sup: 0.20 conf: 1.00 len: 3, id: 551,\n",
       " CAR {petallength=-inf_to_2.45,sepalwidth=3.35_to_inf} => {class=Iris-setosa} sup: 0.20 conf: 1.00 len: 3, id: 553,\n",
       " CAR {petallength=-inf_to_2.45,petalwidth=-inf_to_0.8,sepalwidth=3.35_to_inf} => {class=Iris-setosa} sup: 0.20 conf: 1.00 len: 4, id: 555,\n",
       " CAR {sepallength=-inf_to_5.55,sepalwidth=3.35_to_inf} => {class=Iris-setosa} sup: 0.18 conf: 1.00 len: 3, id: 542,\n",
       " CAR {petalwidth=-inf_to_0.8,sepallength=-inf_to_5.55,sepalwidth=3.35_to_inf} => {class=Iris-setosa} sup: 0.18 conf: 1.00 len: 4, id: 550,\n",
       " CAR {petallength=-inf_to_2.45,sepallength=-inf_to_5.55,sepalwidth=3.35_to_inf} => {class=Iris-setosa} sup: 0.18 conf: 1.00 len: 4, id: 552,\n",
       " CAR {petallength=-inf_to_2.45,petalwidth=-inf_to_0.8,sepallength=-inf_to_5.55,sepalwidth=3.35_to_inf} => {class=Iris-setosa} sup: 0.18 conf: 1.00 len: 5, id: 554]"
      ]
     },
     "execution_count": 21,
     "metadata": {},
     "output_type": "execute_result"
    }
   ],
   "source": [
    "cars[:15]"
   ]
  },
  {
   "cell_type": "code",
   "execution_count": 22,
   "metadata": {},
   "outputs": [
    {
     "name": "stdout",
     "output_type": "stream",
     "text": [
      "cover cache prepared\n",
      "overlap cache prepared\n"
     ]
    },
    {
     "data": {
      "text/plain": [
       "<pyids.data_structures.ids_classifier.IDS at 0x1ae96a91da0>"
      ]
     },
     "execution_count": 22,
     "metadata": {},
     "output_type": "execute_result"
    }
   ],
   "source": [
    "ids = IDS()\n",
    "ids.fit(class_association_rules=cars, quant_dataframe=quant_dataframe_train, debug=False)"
   ]
  },
  {
   "cell_type": "code",
   "execution_count": 23,
   "metadata": {},
   "outputs": [
    {
     "data": {
      "text/plain": [
       "[IDS-CAR {petalwidth=-inf_to_0.8} => {class=Iris-setosa} sup: 0.33 conf: 1.00 len: 2, id: 446 f1: 0.5,\n",
       " IDS-CAR {petallength=-inf_to_2.45,petalwidth=-inf_to_0.8,sepallength=-inf_to_5.55} => {class=Iris-setosa} sup: 0.31 conf: 1.00 len: 4, id: 453 f1: 0.4745762711864407,\n",
       " IDS-CAR {petalwidth=-inf_to_0.8,sepallength=-inf_to_5.55} => {class=Iris-setosa} sup: 0.31 conf: 1.00 len: 3, id: 441 f1: 0.4745762711864407,\n",
       " IDS-CAR {petallength=-inf_to_2.45,sepallength=-inf_to_5.55} => {class=Iris-setosa} sup: 0.31 conf: 1.00 len: 3, id: 447 f1: 0.4745762711864407,\n",
       " IDS-CAR {petallength=-inf_to_2.45,petalwidth=-inf_to_0.8,sepalwidth=3.35_to_inf} => {class=Iris-setosa} sup: 0.20 conf: 1.00 len: 4, id: 555 f1: 0.3333333333333333,\n",
       " IDS-CAR {petallength=-inf_to_2.45,petalwidth=-inf_to_0.8,sepallength=-inf_to_5.55,sepalwidth=3.35_to_inf} => {class=Iris-setosa} sup: 0.18 conf: 1.00 len: 5, id: 554 f1: 0.3018867924528302,\n",
       " IDS-CAR {sepallength=-inf_to_5.55,sepalwidth=3.35_to_inf} => {class=Iris-setosa} sup: 0.18 conf: 1.00 len: 3, id: 542 f1: 0.3018867924528302,\n",
       " IDS-CAR {petallength=2.45_to_4.75,sepallength=5.55_to_6.25,petalwidth=0.8_to_1.75} => {class=Iris-versicolor} sup: 0.15 conf: 1.00 len: 4, id: 530 f1: 0.25806451612903225,\n",
       " IDS-CAR {petallength=-inf_to_2.45,sepalwidth=2.95_to_3.35} => {class=Iris-setosa} sup: 0.13 conf: 1.00 len: 3, id: 451 f1: 0.2236842105263158,\n",
       " IDS-CAR {sepalwidth=2.95_to_3.35,petalwidth=-inf_to_0.8} => {class=Iris-setosa} sup: 0.13 conf: 1.00 len: 3, id: 445 f1: 0.2236842105263158,\n",
       " IDS-CAR {petalwidth=1.75_to_inf,sepalwidth=-inf_to_2.95} => {class=Iris-virginica} sup: 0.12 conf: 1.00 len: 3, id: 489 f1: 0.2119205298013245,\n",
       " IDS-CAR {petallength=2.45_to_4.75,sepallength=5.55_to_6.25,petalwidth=0.8_to_1.75,sepalwidth=-inf_to_2.95} => {class=Iris-versicolor} sup: 0.11 conf: 1.00 len: 5, id: 528 f1: 0.2,\n",
       " IDS-CAR {petallength=2.45_to_4.75,sepalwidth=2.95_to_3.35,petalwidth=0.8_to_1.75} => {class=Iris-versicolor} sup: 0.08 conf: 1.00 len: 4, id: 468 f1: 0.15068493150684933,\n",
       " IDS-CAR {petalwidth=1.75_to_inf,sepallength=6.25_to_inf,petallength=4.75_to_inf,sepalwidth=-inf_to_2.95} => {class=Iris-virginica} sup: 0.07 conf: 1.00 len: 5, id: 496 f1: 0.13793103448275862,\n",
       " IDS-CAR {petalwidth=1.75_to_inf,sepallength=5.55_to_6.25,sepalwidth=-inf_to_2.95} => {class=Iris-virginica} sup: 0.04 conf: 1.00 len: 4, id: 536 f1: 0.0851063829787234,\n",
       " IDS-CAR {petallength=2.45_to_4.75,sepallength=6.25_to_inf,sepalwidth=2.95_to_3.35} => {class=Iris-versicolor} sup: 0.04 conf: 1.00 len: 4, id: 471 f1: 0.0851063829787234,\n",
       " IDS-CAR {sepallength=6.25_to_inf,sepalwidth=3.35_to_inf} => {class=Iris-virginica} sup: 0.03 conf: 1.00 len: 3, id: 548 f1: 0.05755395683453238,\n",
       " IDS-CAR {petallength=2.45_to_4.75,sepallength=5.55_to_6.25,sepalwidth=2.95_to_3.35} => {class=Iris-versicolor} sup: 0.03 conf: 1.00 len: 4, id: 527 f1: 0.05755395683453238]"
      ]
     },
     "execution_count": 23,
     "metadata": {},
     "output_type": "execute_result"
    }
   ],
   "source": [
    "ids.clf.rules"
   ]
  },
  {
   "cell_type": "code",
   "execution_count": 29,
   "metadata": {},
   "outputs": [
    {
     "name": "stdout",
     "output_type": "stream",
     "text": [
      "Accuracy on train data:  0.6814814814814815\n",
      "Accuracy on test data:  0.6\n"
     ]
    }
   ],
   "source": [
    "print(\"Accuracy on train data: \", ids.score(quant_dataframe_train))\n",
    "print(\"Accuracy on test data: \", ids.score(quant_dataframe_test))"
   ]
  },
  {
   "cell_type": "code",
   "execution_count": 30,
   "metadata": {},
   "outputs": [
    {
     "data": {
      "text/plain": [
       "{'fraction_overlap': 0.03921568627450981,\n",
       " 'fraction_classes': 1.0,\n",
       " 'fraction_uncovered': 0.4,\n",
       " 'average_rule_width': 2.6666666666666665,\n",
       " 'ruleset_length': 18}"
      ]
     },
     "execution_count": 30,
     "metadata": {},
     "output_type": "execute_result"
    }
   ],
   "source": [
    "ids.score_interpretable_metrics(quant_dataframe_test)"
   ]
  }
 ],
 "metadata": {
  "kernelspec": {
   "display_name": "Python 3",
   "language": "python",
   "name": "python3"
  },
  "language_info": {
   "codemirror_mode": {
    "name": "ipython",
    "version": 3
   },
   "file_extension": ".py",
   "mimetype": "text/x-python",
   "name": "python",
   "nbconvert_exporter": "python",
   "pygments_lexer": "ipython3",
   "version": "3.7.3"
  }
 },
 "nbformat": 4,
 "nbformat_minor": 2
}
