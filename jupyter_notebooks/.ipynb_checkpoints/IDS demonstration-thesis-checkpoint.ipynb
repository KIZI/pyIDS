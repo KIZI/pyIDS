{
 "cells": [
  {
   "cell_type": "code",
   "execution_count": 9,
   "metadata": {},
   "outputs": [],
   "source": [
    "from pyarc.data_structures import ClassAssocationRule\n",
    "from pyids.data_structures import IDSRule"
   ]
  },
  {
   "cell_type": "code",
   "execution_count": 10,
   "metadata": {},
   "outputs": [],
   "source": [
    "def print_cars(ids_cars):\n",
    "    cars = ids_cars\n",
    "    is_ids = False\n",
    "    if type(ids_cars[0]) == IDSRule:\n",
    "        is_ids = [ r.calc_f1() for r in ids_cars ]\n",
    "        cars = [ r.car for r in ids_cars ]\n",
    "    latex = []\n",
    "    for idx, car in enumerate(cars):\n",
    "        if is_ids:\n",
    "            latex.append(car_to_latex(car, is_ids=is_ids[idx]))\n",
    "        else:\n",
    "            latex.append(car_to_latex(car))\n",
    "        \n",
    "    return \"\\n\\n\".join(latex)\n",
    "        \n",
    "def car_to_latex(car, is_ids=False):\n",
    "    trans = {\n",
    "        \"-\":  r\"\\-\",\n",
    "        \"_\":  r\"\\_\",\n",
    "        \"]\":  r\"\\]\",\n",
    "        \"\\\\\": r\"\\\\\",\n",
    "        \"^\":  r\"\\^\",\n",
    "        \"$\":  r\"\\$\",\n",
    "        \"*\":  r\"\\*\",\n",
    "        \".\":  r\"\\.\"\n",
    "    }\n",
    "    latex = []\n",
    "    \n",
    "    latex.append(\"If\")\n",
    "    \n",
    "    for idx, predicate in enumerate(car.antecedent):\n",
    "       \n",
    "        name, interval = predicate\n",
    "        name = name.translate(str.maketrans(trans))\n",
    "        \n",
    "        interval_string = interval.translate(str.maketrans(trans))\n",
    "        \n",
    "        if idx != 0:\n",
    "            latex.append(\"and\")\n",
    "        latex.append(\n",
    "            f\"\\\\textcolor{{blue}}{{{name}}}=\\\\textcolor{{gray}}{{{interval_string}}}\"\n",
    "        )\n",
    "\n",
    "        \n",
    "    class_name, class_value = car.consequent\n",
    "    \n",
    "    latex.append(\"then\")\n",
    "    latex.append(\n",
    "        f\"\\\\textcolor{{red}}{{{class_name}}}=\\\\textcolor{{gray}}{{{class_value}}}\"\n",
    "    )\n",
    "    \n",
    "    if is_ids:\n",
    "        latex.append(\n",
    "            f\"$\\mid$ f1-score: \\\\textit{{{round(is_ids, 2)}}}\"\n",
    "        )\n",
    "    \n",
    "    return \" \".join(latex)"
   ]
  },
  {
   "cell_type": "markdown",
   "metadata": {},
   "source": [
    "# IDS Demonstration"
   ]
  },
  {
   "cell_type": "markdown",
   "metadata": {},
   "source": [
    "## Importing required libraries"
   ]
  },
  {
   "cell_type": "code",
   "execution_count": 11,
   "metadata": {},
   "outputs": [],
   "source": [
    "import pandas as pd\n",
    "import pyarc\n",
    "from pyids import IDS\n",
    "from pyids.data_structures import mine_CARs\n",
    "from pyids.rule_mining import RuleMiner\n",
    "from pyarc.qcba.data_structures import QuantitativeDataFrame\n",
    "\n",
    "from sklearn.model_selection import train_test_split"
   ]
  },
  {
   "cell_type": "markdown",
   "metadata": {},
   "source": [
    "## Loading the test and train data"
   ]
  },
  {
   "cell_type": "code",
   "execution_count": 12,
   "metadata": {},
   "outputs": [],
   "source": [
    "data = pd.read_csv(\"../data/titanic.csv\").sample(frac=1).reset_index(drop=True)\n",
    "\n",
    "\n",
    "data_train, data_test = train_test_split(data, test_size=0.8)"
   ]
  },
  {
   "cell_type": "code",
   "execution_count": 13,
   "metadata": {},
   "outputs": [
    {
     "data": {
      "text/html": [
       "<div>\n",
       "<style scoped>\n",
       "    .dataframe tbody tr th:only-of-type {\n",
       "        vertical-align: middle;\n",
       "    }\n",
       "\n",
       "    .dataframe tbody tr th {\n",
       "        vertical-align: top;\n",
       "    }\n",
       "\n",
       "    .dataframe thead th {\n",
       "        text-align: right;\n",
       "    }\n",
       "</style>\n",
       "<table border=\"1\" class=\"dataframe\">\n",
       "  <thead>\n",
       "    <tr style=\"text-align: right;\">\n",
       "      <th></th>\n",
       "      <th>Passenger_Cat</th>\n",
       "      <th>Age_Cat</th>\n",
       "      <th>Gender</th>\n",
       "      <th>Died</th>\n",
       "    </tr>\n",
       "  </thead>\n",
       "  <tbody>\n",
       "    <tr>\n",
       "      <th>0</th>\n",
       "      <td>crew</td>\n",
       "      <td>adult</td>\n",
       "      <td>male</td>\n",
       "      <td>1</td>\n",
       "    </tr>\n",
       "    <tr>\n",
       "      <th>1</th>\n",
       "      <td>1st_class</td>\n",
       "      <td>adult</td>\n",
       "      <td>male</td>\n",
       "      <td>1</td>\n",
       "    </tr>\n",
       "    <tr>\n",
       "      <th>2</th>\n",
       "      <td>1st_class</td>\n",
       "      <td>adult</td>\n",
       "      <td>male</td>\n",
       "      <td>1</td>\n",
       "    </tr>\n",
       "    <tr>\n",
       "      <th>3</th>\n",
       "      <td>2nd_class</td>\n",
       "      <td>child</td>\n",
       "      <td>female</td>\n",
       "      <td>0</td>\n",
       "    </tr>\n",
       "    <tr>\n",
       "      <th>4</th>\n",
       "      <td>3rd_class</td>\n",
       "      <td>adult</td>\n",
       "      <td>male</td>\n",
       "      <td>1</td>\n",
       "    </tr>\n",
       "  </tbody>\n",
       "</table>\n",
       "</div>"
      ],
      "text/plain": [
       "  Passenger_Cat Age_Cat  Gender  Died\n",
       "0          crew   adult    male     1\n",
       "1     1st_class   adult    male     1\n",
       "2     1st_class   adult    male     1\n",
       "3     2nd_class   child  female     0\n",
       "4     3rd_class   adult    male     1"
      ]
     },
     "execution_count": 13,
     "metadata": {},
     "output_type": "execute_result"
    }
   ],
   "source": [
    "data.head()"
   ]
  },
  {
   "cell_type": "code",
   "execution_count": 14,
   "metadata": {},
   "outputs": [
    {
     "name": "stdout",
     "output_type": "stream",
     "text": [
      "[CAR {Age_Cat=adult} => {Died=0} sup: 0.93 conf: 0.00 len: 2, id: 46, CAR {Age_Cat=adult} => {Died=1} sup: 0.93 conf: 0.00 len: 2, id: 47, CAR {Gender=male} => {Died=0} sup: 0.74 conf: 0.00 len: 2, id: 42, CAR {Gender=male} => {Died=1} sup: 0.74 conf: 0.00 len: 2, id: 43, CAR {Age_Cat=adult,Gender=male} => {Died=0} sup: 0.71 conf: 0.00 len: 3, id: 44, CAR {Age_Cat=adult,Gender=male} => {Died=1} sup: 0.71 conf: 0.00 len: 3, id: 45, CAR {Passenger_Cat=crew} => {Died=0} sup: 0.37 conf: 0.00 len: 2, id: 36, CAR {Passenger_Cat=crew} => {Died=1} sup: 0.37 conf: 0.00 len: 2, id: 37, CAR {Passenger_Cat=crew,Age_Cat=adult} => {Died=0} sup: 0.37 conf: 0.00 len: 3, id: 34, CAR {Passenger_Cat=crew,Age_Cat=adult} => {Died=1} sup: 0.37 conf: 0.00 len: 3, id: 35, CAR {Passenger_Cat=crew,Gender=male} => {Died=0} sup: 0.37 conf: 0.00 len: 3, id: 40, CAR {Passenger_Cat=crew,Gender=male} => {Died=1} sup: 0.37 conf: 0.00 len: 3, id: 41, CAR {Passenger_Cat=crew,Age_Cat=adult,Gender=male} => {Died=0} sup: 0.37 conf: 0.00 len: 4, id: 38, CAR {Passenger_Cat=crew,Age_Cat=adult,Gender=male} => {Died=1} sup: 0.37 conf: 0.00 len: 4, id: 39, CAR {Passenger_Cat=3rd_class} => {Died=0} sup: 0.31 conf: 0.00 len: 2, id: 30, CAR {Passenger_Cat=3rd_class} => {Died=1} sup: 0.31 conf: 0.00 len: 2, id: 31, CAR {Age_Cat=adult,Passenger_Cat=3rd_class} => {Died=0} sup: 0.26 conf: 0.00 len: 3, id: 32, CAR {Age_Cat=adult,Passenger_Cat=3rd_class} => {Died=1} sup: 0.26 conf: 0.00 len: 3, id: 33, CAR {Gender=female} => {Died=0} sup: 0.26 conf: 0.00 len: 2, id: 26, CAR {Gender=female} => {Died=1} sup: 0.26 conf: 0.00 len: 2, id: 27, CAR {Gender=female,Age_Cat=adult} => {Died=0} sup: 0.22 conf: 0.00 len: 3, id: 28, CAR {Gender=female,Age_Cat=adult} => {Died=1} sup: 0.22 conf: 0.00 len: 3, id: 29]\n"
     ]
    }
   ],
   "source": [
    "rm = RuleMiner()\n",
    "rules = rm.mine_rules(data_train)"
   ]
  },
  {
   "cell_type": "code",
   "execution_count": 15,
   "metadata": {},
   "outputs": [
    {
     "ename": "TypeError",
     "evalue": "'bool' object is not subscriptable",
     "output_type": "error",
     "traceback": [
      "\u001b[1;31m---------------------------------------------------------------------------\u001b[0m",
      "\u001b[1;31mTypeError\u001b[0m                                 Traceback (most recent call last)",
      "\u001b[1;32m<ipython-input-15-4b4fd32dd220>\u001b[0m in \u001b[0;36m<module>\u001b[1;34m\u001b[0m\n\u001b[1;32m----> 1\u001b[1;33m \u001b[0mprint\u001b[0m\u001b[1;33m(\u001b[0m\u001b[0mprint_cars\u001b[0m\u001b[1;33m(\u001b[0m\u001b[0mrules\u001b[0m\u001b[1;33m)\u001b[0m\u001b[1;33m)\u001b[0m\u001b[1;33m\u001b[0m\u001b[1;33m\u001b[0m\u001b[0m\n\u001b[0m",
      "\u001b[1;32m<ipython-input-10-9a21459013ea>\u001b[0m in \u001b[0;36mprint_cars\u001b[1;34m(ids_cars)\u001b[0m\n\u001b[0;32m      7\u001b[0m     \u001b[0mlatex\u001b[0m \u001b[1;33m=\u001b[0m \u001b[1;33m[\u001b[0m\u001b[1;33m]\u001b[0m\u001b[1;33m\u001b[0m\u001b[1;33m\u001b[0m\u001b[0m\n\u001b[0;32m      8\u001b[0m     \u001b[1;32mfor\u001b[0m \u001b[0midx\u001b[0m\u001b[1;33m,\u001b[0m \u001b[0mcar\u001b[0m \u001b[1;32min\u001b[0m \u001b[0menumerate\u001b[0m\u001b[1;33m(\u001b[0m\u001b[0mcars\u001b[0m\u001b[1;33m)\u001b[0m\u001b[1;33m:\u001b[0m\u001b[1;33m\u001b[0m\u001b[1;33m\u001b[0m\u001b[0m\n\u001b[1;32m----> 9\u001b[1;33m         \u001b[0mlatex\u001b[0m\u001b[1;33m.\u001b[0m\u001b[0mappend\u001b[0m\u001b[1;33m(\u001b[0m\u001b[0mcar_to_latex\u001b[0m\u001b[1;33m(\u001b[0m\u001b[0mcar\u001b[0m\u001b[1;33m,\u001b[0m \u001b[0mis_ids\u001b[0m\u001b[1;33m=\u001b[0m\u001b[0mis_ids\u001b[0m\u001b[1;33m[\u001b[0m\u001b[0midx\u001b[0m\u001b[1;33m]\u001b[0m\u001b[1;33m)\u001b[0m\u001b[1;33m)\u001b[0m\u001b[1;33m\u001b[0m\u001b[1;33m\u001b[0m\u001b[0m\n\u001b[0m\u001b[0;32m     10\u001b[0m \u001b[1;33m\u001b[0m\u001b[0m\n\u001b[0;32m     11\u001b[0m     \u001b[1;32mreturn\u001b[0m \u001b[1;34m\"\\n\\n\"\u001b[0m\u001b[1;33m.\u001b[0m\u001b[0mjoin\u001b[0m\u001b[1;33m(\u001b[0m\u001b[0mlatex\u001b[0m\u001b[1;33m)\u001b[0m\u001b[1;33m\u001b[0m\u001b[1;33m\u001b[0m\u001b[0m\n",
      "\u001b[1;31mTypeError\u001b[0m: 'bool' object is not subscriptable"
     ]
    }
   ],
   "source": [
    "print(print_cars(rules))"
   ]
  },
  {
   "cell_type": "code",
   "execution_count": null,
   "metadata": {},
   "outputs": [],
   "source": [
    "quant_dataframe_train = QuantitativeDataFrame(data_train)\n",
    "quant_dataframe_test = QuantitativeDataFrame(data_test)"
   ]
  },
  {
   "cell_type": "code",
   "execution_count": null,
   "metadata": {},
   "outputs": [],
   "source": [
    "data_train.sample(len(data_train)).head(20)"
   ]
  },
  {
   "cell_type": "markdown",
   "metadata": {},
   "source": [
    "## Mining the Class Association Rules (CARs)"
   ]
  },
  {
   "cell_type": "markdown",
   "metadata": {},
   "source": [
    "## Training the IDS Model"
   ]
  },
  {
   "cell_type": "code",
   "execution_count": 8,
   "metadata": {},
   "outputs": [
    {
     "ename": "NameError",
     "evalue": "name 'quant_dataframe_train' is not defined",
     "output_type": "error",
     "traceback": [
      "\u001b[1;31m---------------------------------------------------------------------------\u001b[0m",
      "\u001b[1;31mNameError\u001b[0m                                 Traceback (most recent call last)",
      "\u001b[1;32m<ipython-input-8-cdf873680cb9>\u001b[0m in \u001b[0;36m<module>\u001b[1;34m\u001b[0m\n\u001b[0;32m      1\u001b[0m \u001b[0mids\u001b[0m \u001b[1;33m=\u001b[0m \u001b[0mIDS\u001b[0m\u001b[1;33m(\u001b[0m\u001b[1;33m)\u001b[0m\u001b[1;33m\u001b[0m\u001b[1;33m\u001b[0m\u001b[0m\n\u001b[1;32m----> 2\u001b[1;33m \u001b[0mids\u001b[0m\u001b[1;33m.\u001b[0m\u001b[0mfit\u001b[0m\u001b[1;33m(\u001b[0m\u001b[0mclass_association_rules\u001b[0m\u001b[1;33m=\u001b[0m\u001b[0mrules\u001b[0m\u001b[1;33m,\u001b[0m \u001b[0mquant_dataframe\u001b[0m\u001b[1;33m=\u001b[0m\u001b[0mquant_dataframe_train\u001b[0m\u001b[1;33m,\u001b[0m \u001b[0mdebug\u001b[0m\u001b[1;33m=\u001b[0m\u001b[1;32mTrue\u001b[0m\u001b[1;33m,\u001b[0m \u001b[0mrandom_seed\u001b[0m\u001b[1;33m=\u001b[0m\u001b[1;36m5\u001b[0m\u001b[1;33m)\u001b[0m\u001b[1;33m\u001b[0m\u001b[1;33m\u001b[0m\u001b[0m\n\u001b[0m",
      "\u001b[1;31mNameError\u001b[0m: name 'quant_dataframe_train' is not defined"
     ]
    }
   ],
   "source": [
    "ids = IDS()\n",
    "ids.fit(class_association_rules=rules, quant_dataframe=quant_dataframe_train, debug=True, random_seed=5)"
   ]
  },
  {
   "cell_type": "code",
   "execution_count": 65,
   "metadata": {},
   "outputs": [
    {
     "name": "stdout",
     "output_type": "stream",
     "text": [
      "If \\textcolor{blue}{Gender}=\\textcolor{gray}{male} then \\textcolor{red}{Died}=\\textcolor{gray}{1} $\\mid$ f1-score: \\textit{0.77}\n",
      "\n",
      "If \\textcolor{blue}{Age\\_Cat}=\\textcolor{gray}{adult} and \\textcolor{blue}{Gender}=\\textcolor{gray}{male} then \\textcolor{red}{Died}=\\textcolor{gray}{1} $\\mid$ f1-score: \\textit{0.76}\n",
      "\n",
      "If \\textcolor{blue}{Age\\_Cat}=\\textcolor{gray}{adult} and \\textcolor{blue}{Passenger\\_Cat}=\\textcolor{gray}{crew} then \\textcolor{red}{Died}=\\textcolor{gray}{1} $\\mid$ f1-score: \\textit{0.55}\n",
      "\n",
      "If \\textcolor{blue}{Age\\_Cat}=\\textcolor{gray}{adult} then \\textcolor{red}{Died}=\\textcolor{gray}{0} $\\mid$ f1-score: \\textit{0.5}\n",
      "\n",
      "If \\textcolor{blue}{Passenger\\_Cat}=\\textcolor{gray}{3rd\\_class} then \\textcolor{red}{Died}=\\textcolor{gray}{1} $\\mid$ f1-score: \\textit{0.45}\n",
      "\n",
      "If \\textcolor{blue}{Passenger\\_Cat}=\\textcolor{gray}{3rd\\_class} and \\textcolor{blue}{Age\\_Cat}=\\textcolor{gray}{adult} then \\textcolor{red}{Died}=\\textcolor{gray}{1} $\\mid$ f1-score: \\textit{0.42}\n",
      "\n",
      "If \\textcolor{blue}{Passenger\\_Cat}=\\textcolor{gray}{crew} then \\textcolor{red}{Died}=\\textcolor{gray}{0} $\\mid$ f1-score: \\textit{0.35}\n"
     ]
    }
   ],
   "source": [
    "print(print_cars(ids.clf.rules))"
   ]
  },
  {
   "cell_type": "markdown",
   "metadata": {},
   "source": [
    "## Evaluating the IDS model"
   ]
  },
  {
   "cell_type": "code",
   "execution_count": 70,
   "metadata": {},
   "outputs": [
    {
     "name": "stdout",
     "output_type": "stream",
     "text": [
      "Accuracy on train data:  0.7585227272727273\n",
      "Accuracy on test data:  0.7544357700496807\n"
     ]
    }
   ],
   "source": [
    "print(\"Accuracy on train data: \", ids.score(quant_dataframe_train))\n",
    "print(\"Accuracy on test data: \", ids.score(quant_dataframe_test))"
   ]
  },
  {
   "cell_type": "code",
   "execution_count": 73,
   "metadata": {},
   "outputs": [
    {
     "name": "stdout",
     "output_type": "stream",
     "text": [
      "AUC on train data:  0.6708796025715955\n",
      "AUC on test data:  0.6672898110768755\n"
     ]
    }
   ],
   "source": [
    "print(\"AUC on train data: \", ids.score_auc(quant_dataframe_train))\n",
    "print(\"AUC on test data: \", ids.score_auc(quant_dataframe_test))"
   ]
  },
  {
   "cell_type": "code",
   "execution_count": 67,
   "metadata": {},
   "outputs": [
    {
     "data": {
      "text/plain": [
       "{'fraction_overlap': 0.32008516678495386,\n",
       " 'fraction_classes': 1.0,\n",
       " 'fraction_uncovered': 0.00709723207948898,\n",
       " 'average_rule_width': 1.4285714285714286,\n",
       " 'ruleset_length': 7}"
      ]
     },
     "execution_count": 67,
     "metadata": {},
     "output_type": "execute_result"
    }
   ],
   "source": [
    "ids.score_interpretable_metrics(quant_dataframe_test)"
   ]
  }
 ],
 "metadata": {
  "kernelspec": {
   "display_name": "Python 3",
   "language": "python",
   "name": "python3"
  },
  "language_info": {
   "codemirror_mode": {
    "name": "ipython",
    "version": 3
   },
   "file_extension": ".py",
   "mimetype": "text/x-python",
   "name": "python",
   "nbconvert_exporter": "python",
   "pygments_lexer": "ipython3",
   "version": "3.7.3"
  }
 },
 "nbformat": 4,
 "nbformat_minor": 2
}
