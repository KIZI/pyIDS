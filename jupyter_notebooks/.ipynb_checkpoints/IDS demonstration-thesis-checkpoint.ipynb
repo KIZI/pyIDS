{
 "cells": [
  {
   "cell_type": "code",
   "execution_count": 1,
   "metadata": {},
   "outputs": [],
   "source": [
    "from pyarc.data_structures import ClassAssocationRule\n",
    "from pyids.data_structures import IDSRule\n",
    "from pyids.model_selection.utils import encode_label\n",
    "from sklearn.metrics import roc_auc_score\n",
    "import logging\n",
    "import numpy as np\n",
    "\n"
   ]
  },
  {
   "cell_type": "code",
   "execution_count": 2,
   "metadata": {},
   "outputs": [],
   "source": [
    "def print_cars(ids_cars):\n",
    "    cars = ids_cars\n",
    "    is_ids = False\n",
    "    if type(ids_cars[0]) == IDSRule:\n",
    "        is_ids = [ r.f1 for r in ids_cars ]\n",
    "        cars = [ r.car for r in ids_cars ]\n",
    "    latex = []\n",
    "    for idx, car in enumerate(cars):\n",
    "        if is_ids:\n",
    "            latex.append(car_to_latex(car, is_ids=is_ids[idx]))\n",
    "        else:\n",
    "            latex.append(car_to_latex(car))\n",
    "        \n",
    "    return \"\\n\\n\".join(latex)\n",
    "        \n",
    "def car_to_latex(car, is_ids=False):\n",
    "    trans = {\n",
    "        \"-\":  r\"\\-\",\n",
    "        \"_\":  r\"\\_\",\n",
    "        \"]\":  r\"\\]\",\n",
    "        \"\\\\\": r\"\\\\\",\n",
    "        \"^\":  r\"\\^\",\n",
    "        \"$\":  r\"\\$\",\n",
    "        \"*\":  r\"\\*\",\n",
    "        \".\":  r\"\\.\"\n",
    "    }\n",
    "    latex = []\n",
    "    \n",
    "    latex.append(\"If\")\n",
    "    \n",
    "    for idx, predicate in enumerate(car.antecedent):\n",
    "       \n",
    "        name, interval = predicate\n",
    "        name = name.translate(str.maketrans(trans))\n",
    "        \n",
    "        interval_string = interval.translate(str.maketrans(trans))\n",
    "        \n",
    "        if idx != 0:\n",
    "            latex.append(\"and\")\n",
    "        latex.append(\n",
    "            f\"\\\\textcolor{{blue}}{{{name}}}=\\\\textcolor{{gray}}{{{interval_string}}}\"\n",
    "        )\n",
    "\n",
    "        \n",
    "    class_name, class_value = car.consequent\n",
    "    \n",
    "    latex.append(\"then\")\n",
    "    latex.append(\n",
    "        f\"\\\\textcolor{{red}}{{{class_name}}}=\\\\textcolor{{gray}}{{{class_value}}}\"\n",
    "    )\n",
    "    \n",
    "    if is_ids:\n",
    "        latex.append(\n",
    "            f\"$\\mid$ f1-score: \\\\textit{{{round(is_ids, 2)}}}\"\n",
    "        )\n",
    "    \n",
    "    return \" \".join(latex)"
   ]
  },
  {
   "cell_type": "markdown",
   "metadata": {},
   "source": [
    "# IDS Demonstration"
   ]
  },
  {
   "cell_type": "markdown",
   "metadata": {},
   "source": [
    "## Importing required libraries"
   ]
  },
  {
   "cell_type": "code",
   "execution_count": 3,
   "metadata": {},
   "outputs": [],
   "source": [
    "import pandas as pd\n",
    "import pyarc\n",
    "from pyids import IDS\n",
    "from pyids.algorithms.ids_classifier import mine_CARs\n",
    "from pyids.rule_mining import RuleMiner\n",
    "from pyarc.qcba.data_structures import QuantitativeDataFrame\n",
    "\n",
    "from sklearn.model_selection import train_test_split"
   ]
  },
  {
   "cell_type": "markdown",
   "metadata": {},
   "source": [
    "## Loading the test and train data"
   ]
  },
  {
   "cell_type": "code",
   "execution_count": 4,
   "metadata": {},
   "outputs": [],
   "source": [
    "data = pd.read_csv(\"../data/titanic.csv\").sample(frac=1).reset_index(drop=True)\n",
    "\n",
    "\n",
    "data_train, data_test = train_test_split(data, test_size=0.8)"
   ]
  },
  {
   "cell_type": "code",
   "execution_count": 5,
   "metadata": {},
   "outputs": [
    {
     "data": {
      "text/html": [
       "<div>\n",
       "<style scoped>\n",
       "    .dataframe tbody tr th:only-of-type {\n",
       "        vertical-align: middle;\n",
       "    }\n",
       "\n",
       "    .dataframe tbody tr th {\n",
       "        vertical-align: top;\n",
       "    }\n",
       "\n",
       "    .dataframe thead th {\n",
       "        text-align: right;\n",
       "    }\n",
       "</style>\n",
       "<table border=\"1\" class=\"dataframe\">\n",
       "  <thead>\n",
       "    <tr style=\"text-align: right;\">\n",
       "      <th></th>\n",
       "      <th>Passenger_Cat</th>\n",
       "      <th>Age_Cat</th>\n",
       "      <th>Gender</th>\n",
       "      <th>Died</th>\n",
       "    </tr>\n",
       "  </thead>\n",
       "  <tbody>\n",
       "    <tr>\n",
       "      <th>0</th>\n",
       "      <td>1st_class</td>\n",
       "      <td>adult</td>\n",
       "      <td>male</td>\n",
       "      <td>1</td>\n",
       "    </tr>\n",
       "    <tr>\n",
       "      <th>1</th>\n",
       "      <td>1st_class</td>\n",
       "      <td>adult</td>\n",
       "      <td>female</td>\n",
       "      <td>0</td>\n",
       "    </tr>\n",
       "    <tr>\n",
       "      <th>2</th>\n",
       "      <td>crew</td>\n",
       "      <td>adult</td>\n",
       "      <td>male</td>\n",
       "      <td>0</td>\n",
       "    </tr>\n",
       "    <tr>\n",
       "      <th>3</th>\n",
       "      <td>1st_class</td>\n",
       "      <td>adult</td>\n",
       "      <td>male</td>\n",
       "      <td>0</td>\n",
       "    </tr>\n",
       "    <tr>\n",
       "      <th>4</th>\n",
       "      <td>3rd_class</td>\n",
       "      <td>adult</td>\n",
       "      <td>female</td>\n",
       "      <td>0</td>\n",
       "    </tr>\n",
       "  </tbody>\n",
       "</table>\n",
       "</div>"
      ],
      "text/plain": [
       "  Passenger_Cat Age_Cat  Gender  Died\n",
       "0     1st_class   adult    male     1\n",
       "1     1st_class   adult  female     0\n",
       "2          crew   adult    male     0\n",
       "3     1st_class   adult    male     0\n",
       "4     3rd_class   adult  female     0"
      ]
     },
     "execution_count": 5,
     "metadata": {},
     "output_type": "execute_result"
    }
   ],
   "source": [
    "data.head()"
   ]
  },
  {
   "cell_type": "code",
   "execution_count": 6,
   "metadata": {},
   "outputs": [
    {
     "name": "stdout",
     "output_type": "stream",
     "text": [
      "[CAR {Age_Cat=adult} => {Died=0} sup: 0.94 conf: 0.00 len: 2, id: 24, CAR {Age_Cat=adult} => {Died=1} sup: 0.94 conf: 0.00 len: 2, id: 25, CAR {Gender=male} => {Died=0} sup: 0.76 conf: 0.00 len: 2, id: 20, CAR {Gender=male} => {Died=1} sup: 0.76 conf: 0.00 len: 2, id: 21, CAR {Age_Cat=adult,Gender=male} => {Died=0} sup: 0.73 conf: 0.00 len: 3, id: 22, CAR {Age_Cat=adult,Gender=male} => {Died=1} sup: 0.73 conf: 0.00 len: 3, id: 23, CAR {Passenger_Cat=crew} => {Died=0} sup: 0.36 conf: 0.00 len: 2, id: 14, CAR {Passenger_Cat=crew} => {Died=1} sup: 0.36 conf: 0.00 len: 2, id: 15, CAR {Passenger_Cat=crew,Age_Cat=adult} => {Died=0} sup: 0.36 conf: 0.00 len: 3, id: 12, CAR {Passenger_Cat=crew,Age_Cat=adult} => {Died=1} sup: 0.36 conf: 0.00 len: 3, id: 13, CAR {Passenger_Cat=3rd_class} => {Died=0} sup: 0.35 conf: 0.00 len: 2, id: 4, CAR {Passenger_Cat=3rd_class} => {Died=1} sup: 0.35 conf: 0.00 len: 2, id: 5, CAR {Passenger_Cat=crew,Gender=male} => {Died=0} sup: 0.34 conf: 0.00 len: 3, id: 18, CAR {Passenger_Cat=crew,Gender=male} => {Died=1} sup: 0.34 conf: 0.00 len: 3, id: 19, CAR {Passenger_Cat=crew,Age_Cat=adult,Gender=male} => {Died=0} sup: 0.34 conf: 0.00 len: 4, id: 16, CAR {Passenger_Cat=crew,Age_Cat=adult,Gender=male} => {Died=1} sup: 0.34 conf: 0.00 len: 4, id: 17, CAR {Age_Cat=adult,Passenger_Cat=3rd_class} => {Died=0} sup: 0.30 conf: 0.00 len: 3, id: 10, CAR {Age_Cat=adult,Passenger_Cat=3rd_class} => {Died=1} sup: 0.30 conf: 0.00 len: 3, id: 11, CAR {Passenger_Cat=3rd_class,Gender=male} => {Died=0} sup: 0.24 conf: 0.00 len: 3, id: 6, CAR {Passenger_Cat=3rd_class,Gender=male} => {Died=1} sup: 0.24 conf: 0.00 len: 3, id: 7, CAR {Gender=female} => {Died=0} sup: 0.24 conf: 0.00 len: 2, id: 0, CAR {Gender=female} => {Died=1} sup: 0.24 conf: 0.00 len: 2, id: 1, CAR {Age_Cat=adult,Passenger_Cat=3rd_class,Gender=male} => {Died=0} sup: 0.21 conf: 0.00 len: 4, id: 8, CAR {Age_Cat=adult,Passenger_Cat=3rd_class,Gender=male} => {Died=1} sup: 0.21 conf: 0.00 len: 4, id: 9, CAR {Gender=female,Age_Cat=adult} => {Died=0} sup: 0.21 conf: 0.00 len: 3, id: 2, CAR {Gender=female,Age_Cat=adult} => {Died=1} sup: 0.21 conf: 0.00 len: 3, id: 3]\n"
     ]
    },
    {
     "name": "stderr",
     "output_type": "stream",
     "text": [
      "D:\\programy\\Anaconda\\lib\\site-packages\\pandas\\core\\indexing.py:543: SettingWithCopyWarning: \n",
      "A value is trying to be set on a copy of a slice from a DataFrame.\n",
      "Try using .loc[row_indexer,col_indexer] = value instead\n",
      "\n",
      "See the caveats in the documentation: http://pandas.pydata.org/pandas-docs/stable/indexing.html#indexing-view-versus-copy\n",
      "  self.obj[item] = s\n",
      "D:\\programy\\Anaconda\\lib\\site-packages\\pandas\\core\\indexing.py:635: SettingWithCopyWarning: \n",
      "A value is trying to be set on a copy of a slice from a DataFrame.\n",
      "Try using .loc[row_indexer,col_indexer] = value instead\n",
      "\n",
      "See the caveats in the documentation: http://pandas.pydata.org/pandas-docs/stable/indexing.html#indexing-view-versus-copy\n",
      "  self.obj[item_labels[indexer[info_axis]]] = value\n"
     ]
    }
   ],
   "source": [
    "rm = RuleMiner()\n",
    "rules = rm.mine_rules(data_train)"
   ]
  },
  {
   "cell_type": "code",
   "execution_count": 7,
   "metadata": {},
   "outputs": [
    {
     "name": "stdout",
     "output_type": "stream",
     "text": [
      "If \\textcolor{blue}{Age\\_Cat}=\\textcolor{gray}{adult} then \\textcolor{red}{Died}=\\textcolor{gray}{0}\n",
      "\n",
      "If \\textcolor{blue}{Age\\_Cat}=\\textcolor{gray}{adult} then \\textcolor{red}{Died}=\\textcolor{gray}{1}\n",
      "\n",
      "If \\textcolor{blue}{Gender}=\\textcolor{gray}{male} then \\textcolor{red}{Died}=\\textcolor{gray}{0}\n",
      "\n",
      "If \\textcolor{blue}{Gender}=\\textcolor{gray}{male} then \\textcolor{red}{Died}=\\textcolor{gray}{1}\n",
      "\n",
      "If \\textcolor{blue}{Age\\_Cat}=\\textcolor{gray}{adult} and \\textcolor{blue}{Gender}=\\textcolor{gray}{male} then \\textcolor{red}{Died}=\\textcolor{gray}{0}\n",
      "\n",
      "If \\textcolor{blue}{Age\\_Cat}=\\textcolor{gray}{adult} and \\textcolor{blue}{Gender}=\\textcolor{gray}{male} then \\textcolor{red}{Died}=\\textcolor{gray}{1}\n",
      "\n",
      "If \\textcolor{blue}{Passenger\\_Cat}=\\textcolor{gray}{crew} then \\textcolor{red}{Died}=\\textcolor{gray}{0}\n",
      "\n",
      "If \\textcolor{blue}{Passenger\\_Cat}=\\textcolor{gray}{crew} then \\textcolor{red}{Died}=\\textcolor{gray}{1}\n",
      "\n",
      "If \\textcolor{blue}{Passenger\\_Cat}=\\textcolor{gray}{crew} and \\textcolor{blue}{Age\\_Cat}=\\textcolor{gray}{adult} then \\textcolor{red}{Died}=\\textcolor{gray}{0}\n",
      "\n",
      "If \\textcolor{blue}{Passenger\\_Cat}=\\textcolor{gray}{crew} and \\textcolor{blue}{Age\\_Cat}=\\textcolor{gray}{adult} then \\textcolor{red}{Died}=\\textcolor{gray}{1}\n",
      "\n",
      "If \\textcolor{blue}{Passenger\\_Cat}=\\textcolor{gray}{3rd\\_class} then \\textcolor{red}{Died}=\\textcolor{gray}{0}\n",
      "\n",
      "If \\textcolor{blue}{Passenger\\_Cat}=\\textcolor{gray}{3rd\\_class} then \\textcolor{red}{Died}=\\textcolor{gray}{1}\n",
      "\n",
      "If \\textcolor{blue}{Passenger\\_Cat}=\\textcolor{gray}{crew} and \\textcolor{blue}{Gender}=\\textcolor{gray}{male} then \\textcolor{red}{Died}=\\textcolor{gray}{0}\n",
      "\n",
      "If \\textcolor{blue}{Passenger\\_Cat}=\\textcolor{gray}{crew} and \\textcolor{blue}{Gender}=\\textcolor{gray}{male} then \\textcolor{red}{Died}=\\textcolor{gray}{1}\n",
      "\n",
      "If \\textcolor{blue}{Passenger\\_Cat}=\\textcolor{gray}{crew} and \\textcolor{blue}{Age\\_Cat}=\\textcolor{gray}{adult} and \\textcolor{blue}{Gender}=\\textcolor{gray}{male} then \\textcolor{red}{Died}=\\textcolor{gray}{0}\n",
      "\n",
      "If \\textcolor{blue}{Passenger\\_Cat}=\\textcolor{gray}{crew} and \\textcolor{blue}{Age\\_Cat}=\\textcolor{gray}{adult} and \\textcolor{blue}{Gender}=\\textcolor{gray}{male} then \\textcolor{red}{Died}=\\textcolor{gray}{1}\n",
      "\n",
      "If \\textcolor{blue}{Age\\_Cat}=\\textcolor{gray}{adult} and \\textcolor{blue}{Passenger\\_Cat}=\\textcolor{gray}{3rd\\_class} then \\textcolor{red}{Died}=\\textcolor{gray}{0}\n",
      "\n",
      "If \\textcolor{blue}{Age\\_Cat}=\\textcolor{gray}{adult} and \\textcolor{blue}{Passenger\\_Cat}=\\textcolor{gray}{3rd\\_class} then \\textcolor{red}{Died}=\\textcolor{gray}{1}\n",
      "\n",
      "If \\textcolor{blue}{Passenger\\_Cat}=\\textcolor{gray}{3rd\\_class} and \\textcolor{blue}{Gender}=\\textcolor{gray}{male} then \\textcolor{red}{Died}=\\textcolor{gray}{0}\n",
      "\n",
      "If \\textcolor{blue}{Passenger\\_Cat}=\\textcolor{gray}{3rd\\_class} and \\textcolor{blue}{Gender}=\\textcolor{gray}{male} then \\textcolor{red}{Died}=\\textcolor{gray}{1}\n",
      "\n",
      "If \\textcolor{blue}{Gender}=\\textcolor{gray}{female} then \\textcolor{red}{Died}=\\textcolor{gray}{0}\n",
      "\n",
      "If \\textcolor{blue}{Gender}=\\textcolor{gray}{female} then \\textcolor{red}{Died}=\\textcolor{gray}{1}\n",
      "\n",
      "If \\textcolor{blue}{Age\\_Cat}=\\textcolor{gray}{adult} and \\textcolor{blue}{Passenger\\_Cat}=\\textcolor{gray}{3rd\\_class} and \\textcolor{blue}{Gender}=\\textcolor{gray}{male} then \\textcolor{red}{Died}=\\textcolor{gray}{0}\n",
      "\n",
      "If \\textcolor{blue}{Age\\_Cat}=\\textcolor{gray}{adult} and \\textcolor{blue}{Passenger\\_Cat}=\\textcolor{gray}{3rd\\_class} and \\textcolor{blue}{Gender}=\\textcolor{gray}{male} then \\textcolor{red}{Died}=\\textcolor{gray}{1}\n",
      "\n",
      "If \\textcolor{blue}{Gender}=\\textcolor{gray}{female} and \\textcolor{blue}{Age\\_Cat}=\\textcolor{gray}{adult} then \\textcolor{red}{Died}=\\textcolor{gray}{0}\n",
      "\n",
      "If \\textcolor{blue}{Gender}=\\textcolor{gray}{female} and \\textcolor{blue}{Age\\_Cat}=\\textcolor{gray}{adult} then \\textcolor{red}{Died}=\\textcolor{gray}{1}\n"
     ]
    }
   ],
   "source": [
    "print(print_cars(rules))"
   ]
  },
  {
   "cell_type": "code",
   "execution_count": 8,
   "metadata": {},
   "outputs": [],
   "source": [
    "quant_dataframe_train = QuantitativeDataFrame(data_train)\n",
    "quant_dataframe_test = QuantitativeDataFrame(data_test)"
   ]
  },
  {
   "cell_type": "code",
   "execution_count": 9,
   "metadata": {},
   "outputs": [
    {
     "data": {
      "text/html": [
       "<div>\n",
       "<style scoped>\n",
       "    .dataframe tbody tr th:only-of-type {\n",
       "        vertical-align: middle;\n",
       "    }\n",
       "\n",
       "    .dataframe tbody tr th {\n",
       "        vertical-align: top;\n",
       "    }\n",
       "\n",
       "    .dataframe thead th {\n",
       "        text-align: right;\n",
       "    }\n",
       "</style>\n",
       "<table border=\"1\" class=\"dataframe\">\n",
       "  <thead>\n",
       "    <tr style=\"text-align: right;\">\n",
       "      <th></th>\n",
       "      <th>Passenger_Cat</th>\n",
       "      <th>Age_Cat</th>\n",
       "      <th>Gender</th>\n",
       "      <th>Died</th>\n",
       "    </tr>\n",
       "  </thead>\n",
       "  <tbody>\n",
       "    <tr>\n",
       "      <th>248</th>\n",
       "      <td>2nd_class</td>\n",
       "      <td>child</td>\n",
       "      <td>female</td>\n",
       "      <td>0</td>\n",
       "    </tr>\n",
       "    <tr>\n",
       "      <th>1190</th>\n",
       "      <td>crew</td>\n",
       "      <td>adult</td>\n",
       "      <td>male</td>\n",
       "      <td>1</td>\n",
       "    </tr>\n",
       "    <tr>\n",
       "      <th>897</th>\n",
       "      <td>crew</td>\n",
       "      <td>adult</td>\n",
       "      <td>male</td>\n",
       "      <td>1</td>\n",
       "    </tr>\n",
       "    <tr>\n",
       "      <th>1682</th>\n",
       "      <td>crew</td>\n",
       "      <td>adult</td>\n",
       "      <td>male</td>\n",
       "      <td>1</td>\n",
       "    </tr>\n",
       "    <tr>\n",
       "      <th>1629</th>\n",
       "      <td>2nd_class</td>\n",
       "      <td>adult</td>\n",
       "      <td>male</td>\n",
       "      <td>1</td>\n",
       "    </tr>\n",
       "    <tr>\n",
       "      <th>322</th>\n",
       "      <td>crew</td>\n",
       "      <td>adult</td>\n",
       "      <td>male</td>\n",
       "      <td>1</td>\n",
       "    </tr>\n",
       "    <tr>\n",
       "      <th>242</th>\n",
       "      <td>crew</td>\n",
       "      <td>adult</td>\n",
       "      <td>male</td>\n",
       "      <td>1</td>\n",
       "    </tr>\n",
       "    <tr>\n",
       "      <th>1503</th>\n",
       "      <td>2nd_class</td>\n",
       "      <td>adult</td>\n",
       "      <td>male</td>\n",
       "      <td>1</td>\n",
       "    </tr>\n",
       "    <tr>\n",
       "      <th>774</th>\n",
       "      <td>2nd_class</td>\n",
       "      <td>adult</td>\n",
       "      <td>male</td>\n",
       "      <td>1</td>\n",
       "    </tr>\n",
       "    <tr>\n",
       "      <th>22</th>\n",
       "      <td>3rd_class</td>\n",
       "      <td>adult</td>\n",
       "      <td>male</td>\n",
       "      <td>1</td>\n",
       "    </tr>\n",
       "    <tr>\n",
       "      <th>1012</th>\n",
       "      <td>crew</td>\n",
       "      <td>adult</td>\n",
       "      <td>male</td>\n",
       "      <td>1</td>\n",
       "    </tr>\n",
       "    <tr>\n",
       "      <th>1215</th>\n",
       "      <td>3rd_class</td>\n",
       "      <td>adult</td>\n",
       "      <td>female</td>\n",
       "      <td>1</td>\n",
       "    </tr>\n",
       "    <tr>\n",
       "      <th>783</th>\n",
       "      <td>crew</td>\n",
       "      <td>adult</td>\n",
       "      <td>male</td>\n",
       "      <td>1</td>\n",
       "    </tr>\n",
       "    <tr>\n",
       "      <th>1067</th>\n",
       "      <td>3rd_class</td>\n",
       "      <td>adult</td>\n",
       "      <td>female</td>\n",
       "      <td>1</td>\n",
       "    </tr>\n",
       "    <tr>\n",
       "      <th>1693</th>\n",
       "      <td>1st_class</td>\n",
       "      <td>adult</td>\n",
       "      <td>male</td>\n",
       "      <td>1</td>\n",
       "    </tr>\n",
       "    <tr>\n",
       "      <th>622</th>\n",
       "      <td>crew</td>\n",
       "      <td>adult</td>\n",
       "      <td>male</td>\n",
       "      <td>1</td>\n",
       "    </tr>\n",
       "    <tr>\n",
       "      <th>21</th>\n",
       "      <td>2nd_class</td>\n",
       "      <td>adult</td>\n",
       "      <td>male</td>\n",
       "      <td>1</td>\n",
       "    </tr>\n",
       "    <tr>\n",
       "      <th>1355</th>\n",
       "      <td>3rd_class</td>\n",
       "      <td>adult</td>\n",
       "      <td>female</td>\n",
       "      <td>0</td>\n",
       "    </tr>\n",
       "    <tr>\n",
       "      <th>1671</th>\n",
       "      <td>crew</td>\n",
       "      <td>adult</td>\n",
       "      <td>male</td>\n",
       "      <td>1</td>\n",
       "    </tr>\n",
       "    <tr>\n",
       "      <th>828</th>\n",
       "      <td>crew</td>\n",
       "      <td>adult</td>\n",
       "      <td>male</td>\n",
       "      <td>1</td>\n",
       "    </tr>\n",
       "  </tbody>\n",
       "</table>\n",
       "</div>"
      ],
      "text/plain": [
       "     Passenger_Cat Age_Cat  Gender Died\n",
       "248      2nd_class   child  female    0\n",
       "1190          crew   adult    male    1\n",
       "897           crew   adult    male    1\n",
       "1682          crew   adult    male    1\n",
       "1629     2nd_class   adult    male    1\n",
       "322           crew   adult    male    1\n",
       "242           crew   adult    male    1\n",
       "1503     2nd_class   adult    male    1\n",
       "774      2nd_class   adult    male    1\n",
       "22       3rd_class   adult    male    1\n",
       "1012          crew   adult    male    1\n",
       "1215     3rd_class   adult  female    1\n",
       "783           crew   adult    male    1\n",
       "1067     3rd_class   adult  female    1\n",
       "1693     1st_class   adult    male    1\n",
       "622           crew   adult    male    1\n",
       "21       2nd_class   adult    male    1\n",
       "1355     3rd_class   adult  female    0\n",
       "1671          crew   adult    male    1\n",
       "828           crew   adult    male    1"
      ]
     },
     "execution_count": 9,
     "metadata": {},
     "output_type": "execute_result"
    }
   ],
   "source": [
    "data_train.sample(len(data_train)).head(20)"
   ]
  },
  {
   "cell_type": "markdown",
   "metadata": {},
   "source": [
    "## Mining the Class Association Rules (CARs)"
   ]
  },
  {
   "cell_type": "markdown",
   "metadata": {},
   "source": [
    "## Training the IDS Model"
   ]
  },
  {
   "cell_type": "code",
   "execution_count": 10,
   "metadata": {},
   "outputs": [
    {
     "data": {
      "text/plain": [
       "<pyids.algorithms.ids.IDS at 0x2cbba9afd30>"
      ]
     },
     "execution_count": 10,
     "metadata": {},
     "output_type": "execute_result"
    }
   ],
   "source": [
    "ids = IDS()\n",
    "ids.fit(class_association_rules=rules, quant_dataframe=quant_dataframe_train, random_seed=5)"
   ]
  },
  {
   "cell_type": "code",
   "execution_count": 11,
   "metadata": {},
   "outputs": [
    {
     "name": "stdout",
     "output_type": "stream",
     "text": [
      "If \\textcolor{blue}{Passenger\\_Cat}=\\textcolor{gray}{crew} then \\textcolor{red}{Died}=\\textcolor{gray}{1} $\\mid$ f1-score: \\textit{0.28}\n",
      "\n",
      "If \\textcolor{blue}{Age\\_Cat}=\\textcolor{gray}{adult} then \\textcolor{red}{Died}=\\textcolor{gray}{0} $\\mid$ f1-score: \\textit{0.28}\n",
      "\n",
      "If \\textcolor{blue}{Passenger\\_Cat}=\\textcolor{gray}{3rd\\_class} then \\textcolor{red}{Died}=\\textcolor{gray}{1} $\\mid$ f1-score: \\textit{0.27}\n",
      "\n",
      "If \\textcolor{blue}{Age\\_Cat}=\\textcolor{gray}{adult} and \\textcolor{blue}{Passenger\\_Cat}=\\textcolor{gray}{3rd\\_class} and \\textcolor{blue}{Gender}=\\textcolor{gray}{male} then \\textcolor{red}{Died}=\\textcolor{gray}{1} $\\mid$ f1-score: \\textit{0.18}\n",
      "\n",
      "If \\textcolor{blue}{Gender}=\\textcolor{gray}{male} then \\textcolor{red}{Died}=\\textcolor{gray}{0} $\\mid$ f1-score: \\textit{0.14}\n",
      "\n",
      "If \\textcolor{blue}{Gender}=\\textcolor{gray}{female} and \\textcolor{blue}{Age\\_Cat}=\\textcolor{gray}{adult} then \\textcolor{red}{Died}=\\textcolor{gray}{0} $\\mid$ f1-score: \\textit{0.14}\n",
      "\n",
      "If \\textcolor{blue}{Age\\_Cat}=\\textcolor{gray}{adult} and \\textcolor{blue}{Passenger\\_Cat}=\\textcolor{gray}{3rd\\_class} then \\textcolor{red}{Died}=\\textcolor{gray}{0} $\\mid$ f1-score: \\textit{0.07}\n",
      "\n",
      "If \\textcolor{blue}{Gender}=\\textcolor{gray}{female} and \\textcolor{blue}{Age\\_Cat}=\\textcolor{gray}{adult} then \\textcolor{red}{Died}=\\textcolor{gray}{1} $\\mid$ f1-score: \\textit{0.07}\n",
      "\n",
      "If \\textcolor{blue}{Age\\_Cat}=\\textcolor{gray}{adult} and \\textcolor{blue}{Passenger\\_Cat}=\\textcolor{gray}{3rd\\_class} and \\textcolor{blue}{Gender}=\\textcolor{gray}{male} then \\textcolor{red}{Died}=\\textcolor{gray}{0} $\\mid$ f1-score: \\textit{0.03}\n"
     ]
    }
   ],
   "source": [
    "print(print_cars(ids.clf.rules))"
   ]
  },
  {
   "cell_type": "code",
   "execution_count": 12,
   "metadata": {},
   "outputs": [
    {
     "data": {
      "text/plain": [
       "'0'"
      ]
     },
     "execution_count": 12,
     "metadata": {},
     "output_type": "execute_result"
    }
   ],
   "source": [
    "ids.clf.default_class"
   ]
  },
  {
   "cell_type": "code",
   "execution_count": 13,
   "metadata": {},
   "outputs": [
    {
     "data": {
      "text/plain": [
       "1.0"
      ]
     },
     "execution_count": 13,
     "metadata": {},
     "output_type": "execute_result"
    }
   ],
   "source": [
    "ids.clf.default_class_confidence"
   ]
  },
  {
   "cell_type": "code",
   "execution_count": 14,
   "metadata": {},
   "outputs": [
    {
     "data": {
      "text/plain": [
       "0.5568641884431358"
      ]
     },
     "execution_count": 14,
     "metadata": {},
     "output_type": "execute_result"
    }
   ],
   "source": [
    "pred = np.array(ids.predict(quant_dataframe_train)).astype(float)\n",
    "real = data_train[\"Died\"].astype(float)\n",
    "\n",
    "roc_auc_score(pred, real)"
   ]
  },
  {
   "cell_type": "markdown",
   "metadata": {},
   "source": [
    "## Evaluating the IDS model"
   ]
  },
  {
   "cell_type": "code",
   "execution_count": 15,
   "metadata": {},
   "outputs": [
    {
     "name": "stdout",
     "output_type": "stream",
     "text": [
      "Accuracy on train data:  0.5170454545454546\n",
      "Accuracy on test data:  0.5500354861603974\n"
     ]
    }
   ],
   "source": [
    "print(\"Accuracy on train data: \", ids.score(quant_dataframe_train))\n",
    "print(\"Accuracy on test data: \", ids.score(quant_dataframe_test))"
   ]
  },
  {
   "cell_type": "code",
   "execution_count": 16,
   "metadata": {},
   "outputs": [
    {
     "name": "stdout",
     "output_type": "stream",
     "text": [
      "AUC on train data:  0.5655292076344708\n",
      "AUC on test data:  0.5754345830971469\n"
     ]
    }
   ],
   "source": [
    "print(\"AUC on train data: \", ids.score_auc(quant_dataframe_train, confidence_based=False))\n",
    "print(\"AUC on test data: \", ids.score_auc(quant_dataframe_test, confidence_based=False))"
   ]
  },
  {
   "cell_type": "code",
   "execution_count": 17,
   "metadata": {},
   "outputs": [
    {
     "name": "stdout",
     "output_type": "stream",
     "text": [
      "AUC on train data:  0.5573742047426258\n",
      "AUC on test data:  0.571814181985046\n"
     ]
    }
   ],
   "source": [
    "print(\"AUC on train data: \", ids.score_auc(quant_dataframe_train, confidence_based=True))\n",
    "print(\"AUC on test data: \", ids.score_auc(quant_dataframe_test, confidence_based=True))"
   ]
  },
  {
   "cell_type": "code",
   "execution_count": 18,
   "metadata": {},
   "outputs": [
    {
     "data": {
      "text/plain": [
       "{'fraction_overlap': 0.1590119949494949,\n",
       " 'fraction_classes': 1.0,\n",
       " 'fraction_uncovered': 0.0028409090909090606,\n",
       " 'average_rule_width': 1.7777777777777777,\n",
       " 'ruleset_length': 9}"
      ]
     },
     "execution_count": 18,
     "metadata": {},
     "output_type": "execute_result"
    }
   ],
   "source": [
    "ids.score_interpretability_metrics(quant_dataframe_train)"
   ]
  },
  {
   "cell_type": "code",
   "execution_count": 19,
   "metadata": {},
   "outputs": [
    {
     "data": {
      "text/plain": [
       "{'fraction_overlap': 0.1555476697421339,\n",
       " 'fraction_classes': 1.0,\n",
       " 'fraction_uncovered': 0.008516678495386731,\n",
       " 'average_rule_width': 1.7777777777777777,\n",
       " 'ruleset_length': 9}"
      ]
     },
     "execution_count": 19,
     "metadata": {},
     "output_type": "execute_result"
    }
   ],
   "source": [
    "ids.score_interpretability_metrics(quant_dataframe_test)"
   ]
  },
  {
   "cell_type": "code",
   "execution_count": 28,
   "metadata": {},
   "outputs": [],
   "source": [
    "def train_ids(lambda_array):\n",
    "    ids = IDS()\n",
    "    ids.fit(class_association_rules=rules, quant_dataframe=quant_dataframe_train, lambda_array=lambda_array)\n",
    "    \n",
    "    print(\"ids fitted\")\n",
    "    \n",
    "    score_dict = dict()\n",
    "    score_dict[\"acc_train\"] = ids.score(quant_dataframe_train)\n",
    "    score_dict[\"acc_test\"] = ids.score(quant_dataframe_test)\n",
    "    score_dict[\"auc_train_classbased\"] = ids.score_auc(quant_dataframe_train, confidence_based=False)\n",
    "    score_dict[\"auc_train_confbased\"] = ids.score_auc(quant_dataframe_train, confidence_based=True)\n",
    "    score_dict[\"auc_test_classbased\"] = ids.score_auc(quant_dataframe_test, confidence_based=False) \n",
    "    score_dict[\"auc_test_confbased\"] = ids.score_auc(quant_dataframe_test, confidence_based=True)\n",
    "    score_dict.update(ids.score_interpretability_metrics(quant_dataframe_test))\n",
    "    \n",
    "    return score_dict\n",
    "    "
   ]
  },
  {
   "cell_type": "code",
   "execution_count": 30,
   "metadata": {},
   "outputs": [
    {
     "name": "stdout",
     "output_type": "stream",
     "text": [
      "ids fitted\n"
     ]
    },
    {
     "data": {
      "text/plain": [
       "{'acc_train': 0.7727272727272727,\n",
       " 'acc_test': 0.7508871540099361,\n",
       " 'auc_train_classbased': 0.6765374975901292,\n",
       " 'auc_train_confbased': 0.7109697320223636,\n",
       " 'auc_test_classbased': 0.6663618736559864,\n",
       " 'auc_test_confbased': 0.7114532440773432,\n",
       " 'fraction_overlap': 0.18872328680703418,\n",
       " 'fraction_classes': 1.0,\n",
       " 'fraction_uncovered': 0.029808374733853782,\n",
       " 'average_rule_width': 2.0,\n",
       " 'ruleset_length': 10}"
      ]
     },
     "execution_count": 30,
     "metadata": {},
     "output_type": "execute_result"
    }
   ],
   "source": [
    "logging.basicConfig(level=logging.DEBUG)\n",
    "train_ids([1, 1, 1, 1, 1000, 1, 1])"
   ]
  },
  {
   "cell_type": "code",
   "execution_count": 22,
   "metadata": {},
   "outputs": [
    {
     "name": "stdout",
     "output_type": "stream",
     "text": [
      "1    0.701705\n",
      "0    0.298295\n",
      "Name: Died, dtype: float64\n",
      "1    0.661462\n",
      "0    0.338538\n",
      "Name: Died, dtype: float64\n"
     ]
    }
   ],
   "source": [
    "print(data_train[\"Died\"].value_counts(True))\n",
    "print(data_test[\"Died\"].value_counts(True))"
   ]
  }
 ],
 "metadata": {
  "kernelspec": {
   "display_name": "Python 3",
   "language": "python",
   "name": "python3"
  },
  "language_info": {
   "codemirror_mode": {
    "name": "ipython",
    "version": 3
   },
   "file_extension": ".py",
   "mimetype": "text/x-python",
   "name": "python",
   "nbconvert_exporter": "python",
   "pygments_lexer": "ipython3",
   "version": "3.7.3"
  }
 },
 "nbformat": 4,
 "nbformat_minor": 2
}
