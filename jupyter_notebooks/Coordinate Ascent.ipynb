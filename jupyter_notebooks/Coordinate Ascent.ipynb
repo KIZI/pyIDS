{
 "cells": [
  {
   "cell_type": "code",
   "execution_count": 10,
   "metadata": {
    "collapsed": true
   },
   "outputs": [],
   "source": [
    "import numpy as np\n",
    "import matplotlib.pyplot as plt"
   ]
  },
  {
   "cell_type": "code",
   "execution_count": 16,
   "metadata": {},
   "outputs": [],
   "source": [
    "params_n = 3000\n",
    "param_space0 = np.random.exponential(12, size=params_n)\n",
    "param_space1 = np.random.normal(1000, 24, size=params_n)\n",
    "param_space2 = np.sort(np.random.normal(40, 23, size=params_n))\n",
    "param_space3 = np.linspace(-2000, 120000, params_n)\n",
    "param_space4 = np.random.gamma(200, 20, size=params_n)\n",
    "param_space5 = np.random.normal(10000, 50, size=params_n)\n",
    "param_space6 = np.sort(np.random.normal(400, 230, size=params_n))"
   ]
  },
  {
   "cell_type": "code",
   "execution_count": 18,
   "metadata": {},
   "outputs": [],
   "source": [
    "fixed_params = [2000, 200, 10232, 23, 2000, 1, 400]\n",
    "\n",
    "def objective_function(lambdas):\n",
    "    return np.dot(fixed_params, lambdas)"
   ]
  },
  {
   "cell_type": "code",
   "execution_count": null,
   "metadata": {
    "collapsed": true
   },
   "outputs": [],
   "source": [
    "class IDS():\n",
    "    \n",
    "    def __init__():\n",
    "        self.result = 0\n",
    "    \n",
    "    def fit(class_association_rules=None, quant_dataframe=None, lambda_array=7*[1]):\n",
    "        self.result = objective_function(lambdas)\n",
    "        \n",
    "    return score_auc(quant_dataframe):\n",
    "        return self.result\n",
    "    "
   ]
  }
 ],
 "metadata": {
  "kernelspec": {
   "display_name": "Python 3",
   "language": "python",
   "name": "python3"
  },
  "language_info": {
   "codemirror_mode": {
    "name": "ipython",
    "version": 3
   },
   "file_extension": ".py",
   "mimetype": "text/x-python",
   "name": "python",
   "nbconvert_exporter": "python",
   "pygments_lexer": "ipython3",
   "version": "3.6.1"
  }
 },
 "nbformat": 4,
 "nbformat_minor": 2
}
