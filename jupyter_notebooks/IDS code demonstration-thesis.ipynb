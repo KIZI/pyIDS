{
 "cells": [
  {
   "cell_type": "code",
   "execution_count": 2,
   "metadata": {},
   "outputs": [],
   "source": [
    "from pyarc.data_structures import ClassAssocationRule\n",
    "from pyids.data_structures import (\n",
    "    IDSOneVsAll,\n",
    "    IDSRule,\n",
    "    IDSRuleSet,\n",
    "    IDSClassifier,\n",
    "    IDSObjectiveFunction,\n",
    "    ObjectiveFunctionParameters,\n",
    "    ObjectiveFunctionParameters,\n",
    "    RSOptimizer,\n",
    "    DLSOptimizer,\n",
    "    SLSOptimizer,\n",
    "    RandomizedUSMOptimizer,\n",
    "    DeterministicUSMOptimizer\n",
    ")"
   ]
  },
  {
   "cell_type": "code",
   "execution_count": 3,
   "metadata": {},
   "outputs": [],
   "source": [
    "def print_cars(ids_cars):\n",
    "    cars = ids_cars\n",
    "    is_ids = False\n",
    "    if type(ids_cars[0]) == IDSRule:\n",
    "        is_ids = [ r.calc_f1() for r in ids_cars ]\n",
    "        cars = [ r.car for r in ids_cars ]\n",
    "    latex = []\n",
    "    for idx, car in enumerate(cars):\n",
    "        if is_ids:\n",
    "            latex.append(car_to_latex(car, is_ids=is_ids[idx]))\n",
    "        else:\n",
    "            latex.append(car_to_latex(car))\n",
    "        \n",
    "    return \"\\n\\n\".join(latex)\n",
    "        \n",
    "def car_to_latex(car, is_ids=False):\n",
    "    trans = {\n",
    "        \"-\":  r\"\\-\",\n",
    "        \"_\":  r\"\\_\",\n",
    "        \"]\":  r\"\\]\",\n",
    "        \"\\\\\": r\"\\\\\",\n",
    "        \"^\":  r\"\\^\",\n",
    "        \"$\":  r\"\\$\",\n",
    "        \"*\":  r\"\\*\",\n",
    "        \".\":  r\"\\.\"\n",
    "    }\n",
    "    latex = []\n",
    "    \n",
    "    latex.append(\"If\")\n",
    "    \n",
    "    for idx, predicate in enumerate(car.antecedent):\n",
    "       \n",
    "        name, interval = predicate\n",
    "        name = name.translate(str.maketrans(trans))\n",
    "        \n",
    "        interval_string = interval.translate(str.maketrans(trans))\n",
    "        \n",
    "        if idx != 0:\n",
    "            latex.append(\"and\")\n",
    "        latex.append(\n",
    "            f\"\\\\textcolor{{blue}}{{{name}}}=\\\\textcolor{{gray}}{{{interval_string}}}\"\n",
    "        )\n",
    "\n",
    "        \n",
    "    class_name, class_value = car.consequent\n",
    "    \n",
    "    latex.append(\"then\")\n",
    "    latex.append(\n",
    "        f\"\\\\textcolor{{red}}{{{class_name}}}=\\\\textcolor{{gray}}{{{class_value}}}\"\n",
    "    )\n",
    "    \n",
    "    if is_ids:\n",
    "        latex.append(\n",
    "            f\"$\\mid$ f1-score: \\\\textit{{{round(is_ids, 2)}}}\"\n",
    "        )\n",
    "    \n",
    "    return \" \".join(latex)"
   ]
  },
  {
   "cell_type": "markdown",
   "metadata": {},
   "source": [
    "# IDS Demonstration"
   ]
  },
  {
   "cell_type": "markdown",
   "metadata": {},
   "source": [
    "## Importing required libraries"
   ]
  },
  {
   "cell_type": "code",
   "execution_count": 4,
   "metadata": {},
   "outputs": [],
   "source": [
    "import pandas as pd\n",
    "import pyarc\n",
    "from pyids import IDS\n",
    "from pyids.data_structures import mine_CARs\n",
    "from pyids.rule_mining import RuleMiner\n",
    "from pyarc.qcba.data_structures import QuantitativeDataFrame\n",
    "\n",
    "from sklearn.model_selection import train_test_split"
   ]
  },
  {
   "cell_type": "markdown",
   "metadata": {},
   "source": [
    "## Loading the test and train data"
   ]
  },
  {
   "cell_type": "code",
   "execution_count": 5,
   "metadata": {},
   "outputs": [],
   "source": [
    "data = pd.read_csv(\"../data/titanic.csv\").sample(frac=1).reset_index(drop=True)\n",
    "\n",
    "\n",
    "data_train, data_test = train_test_split(data, test_size=0.8)"
   ]
  },
  {
   "cell_type": "code",
   "execution_count": 6,
   "metadata": {},
   "outputs": [
    {
     "data": {
      "text/html": [
       "<div>\n",
       "<style scoped>\n",
       "    .dataframe tbody tr th:only-of-type {\n",
       "        vertical-align: middle;\n",
       "    }\n",
       "\n",
       "    .dataframe tbody tr th {\n",
       "        vertical-align: top;\n",
       "    }\n",
       "\n",
       "    .dataframe thead th {\n",
       "        text-align: right;\n",
       "    }\n",
       "</style>\n",
       "<table border=\"1\" class=\"dataframe\">\n",
       "  <thead>\n",
       "    <tr style=\"text-align: right;\">\n",
       "      <th></th>\n",
       "      <th>Passenger_Cat</th>\n",
       "      <th>Age_Cat</th>\n",
       "      <th>Gender</th>\n",
       "      <th>Died</th>\n",
       "    </tr>\n",
       "  </thead>\n",
       "  <tbody>\n",
       "    <tr>\n",
       "      <th>0</th>\n",
       "      <td>3rd_class</td>\n",
       "      <td>child</td>\n",
       "      <td>male</td>\n",
       "      <td>0</td>\n",
       "    </tr>\n",
       "    <tr>\n",
       "      <th>1</th>\n",
       "      <td>2nd_class</td>\n",
       "      <td>adult</td>\n",
       "      <td>male</td>\n",
       "      <td>1</td>\n",
       "    </tr>\n",
       "    <tr>\n",
       "      <th>2</th>\n",
       "      <td>crew</td>\n",
       "      <td>adult</td>\n",
       "      <td>male</td>\n",
       "      <td>1</td>\n",
       "    </tr>\n",
       "    <tr>\n",
       "      <th>3</th>\n",
       "      <td>3rd_class</td>\n",
       "      <td>adult</td>\n",
       "      <td>female</td>\n",
       "      <td>1</td>\n",
       "    </tr>\n",
       "    <tr>\n",
       "      <th>4</th>\n",
       "      <td>3rd_class</td>\n",
       "      <td>adult</td>\n",
       "      <td>male</td>\n",
       "      <td>1</td>\n",
       "    </tr>\n",
       "  </tbody>\n",
       "</table>\n",
       "</div>"
      ],
      "text/plain": [
       "  Passenger_Cat Age_Cat  Gender  Died\n",
       "0     3rd_class   child    male     0\n",
       "1     2nd_class   adult    male     1\n",
       "2          crew   adult    male     1\n",
       "3     3rd_class   adult  female     1\n",
       "4     3rd_class   adult    male     1"
      ]
     },
     "execution_count": 6,
     "metadata": {},
     "output_type": "execute_result"
    }
   ],
   "source": [
    "data.head()"
   ]
  },
  {
   "cell_type": "code",
   "execution_count": 7,
   "metadata": {},
   "outputs": [
    {
     "name": "stdout",
     "output_type": "stream",
     "text": [
      "Running apriori with setting: confidence=0.5, support=0.0, minlen=2, maxlen=3, MAX_RULE_LEN=4\n",
      "Rule count: 52, Iteration: 1\n",
      "Increasing maxlen 4\n",
      "Running apriori with setting: confidence=0.5, support=0.0, minlen=2, maxlen=4, MAX_RULE_LEN=4\n",
      "Rule count: 75, Iteration: 2\n",
      "Decreasing confidence to 0.45\n",
      "Running apriori with setting: confidence=0.45, support=0.0, minlen=2, maxlen=4, MAX_RULE_LEN=4\n",
      "Rule count: 75, Iteration: 3\n",
      "Decreasing confidence to 0.4\n",
      "Running apriori with setting: confidence=0.4, support=0.0, minlen=2, maxlen=4, MAX_RULE_LEN=4\n",
      "Rule count: 75, Iteration: 4\n",
      "Decreasing confidence to 0.35000000000000003\n",
      "Running apriori with setting: confidence=0.35000000000000003, support=0.0, minlen=2, maxlen=4, MAX_RULE_LEN=4\n",
      "Rule count: 75, Iteration: 5\n",
      "Decreasing confidence to 0.30000000000000004\n",
      "Running apriori with setting: confidence=0.30000000000000004, support=0.0, minlen=2, maxlen=4, MAX_RULE_LEN=4\n",
      "Rule count: 75, Iteration: 6\n",
      "Decreasing confidence to 0.25000000000000006\n",
      "Running apriori with setting: confidence=0.25000000000000006, support=0.0, minlen=2, maxlen=4, MAX_RULE_LEN=4\n",
      "Rule count: 75, Iteration: 7\n",
      "Decreasing confidence to 0.20000000000000007\n",
      "Running apriori with setting: confidence=0.20000000000000007, support=0.0, minlen=2, maxlen=4, MAX_RULE_LEN=4\n",
      "Rule count: 75, Iteration: 8\n",
      "Decreasing confidence to 0.15000000000000008\n",
      "Running apriori with setting: confidence=0.15000000000000008, support=0.0, minlen=2, maxlen=4, MAX_RULE_LEN=4\n",
      "Rule count: 75, Iteration: 9\n",
      "Decreasing confidence to 0.10000000000000007\n",
      "Running apriori with setting: confidence=0.10000000000000007, support=0.0, minlen=2, maxlen=4, MAX_RULE_LEN=4\n",
      "Rule count: 75, Iteration: 10\n",
      "Decreasing confidence to 0.05000000000000007\n",
      "Running apriori with setting: confidence=0.05000000000000007, support=0.0, minlen=2, maxlen=4, MAX_RULE_LEN=4\n",
      "Rule count: 75, Iteration: 11\n",
      "Decreasing confidence to 6.938893903907228e-17\n",
      "Running apriori with setting: confidence=6.938893903907228e-17, support=0.0, minlen=2, maxlen=4, MAX_RULE_LEN=4\n",
      "Rule count: 75, Iteration: 12\n",
      "All options exhausted\n"
     ]
    }
   ],
   "source": [
    "cars = mine_CARs(data_train, 20)\n",
    "car = cars[0]"
   ]
  },
  {
   "cell_type": "code",
   "execution_count": 8,
   "metadata": {},
   "outputs": [],
   "source": [
    "ids_rule = IDSRule(car)"
   ]
  },
  {
   "cell_type": "code",
   "execution_count": 9,
   "metadata": {},
   "outputs": [
    {
     "name": "stderr",
     "output_type": "stream",
     "text": [
      "D:\\programy\\Anaconda\\lib\\site-packages\\pandas\\core\\indexing.py:543: SettingWithCopyWarning: \n",
      "A value is trying to be set on a copy of a slice from a DataFrame.\n",
      "Try using .loc[row_indexer,col_indexer] = value instead\n",
      "\n",
      "See the caveats in the documentation: http://pandas.pydata.org/pandas-docs/stable/indexing.html#indexing-view-versus-copy\n",
      "  self.obj[item] = s\n"
     ]
    }
   ],
   "source": [
    "quant_dataframe_train = QuantitativeDataFrame(data_train)\n",
    "quant_dataframe_test = QuantitativeDataFrame(data_test)"
   ]
  },
  {
   "cell_type": "code",
   "execution_count": 10,
   "metadata": {},
   "outputs": [
    {
     "data": {
      "text/plain": [
       "pyarc.qcba.data_structures.quant_dataset.QuantitativeDataFrame"
      ]
     },
     "execution_count": 10,
     "metadata": {},
     "output_type": "execute_result"
    }
   ],
   "source": [
    "type(quant_dataframe_train)"
   ]
  },
  {
   "cell_type": "code",
   "execution_count": 11,
   "metadata": {},
   "outputs": [
    {
     "data": {
      "text/plain": [
       "False"
      ]
     },
     "execution_count": 11,
     "metadata": {},
     "output_type": "execute_result"
    }
   ],
   "source": [
    "ids_rule.cache_prepared"
   ]
  },
  {
   "cell_type": "code",
   "execution_count": 12,
   "metadata": {},
   "outputs": [
    {
     "data": {
      "text/plain": [
       "{'cover': None,\n",
       " 'correct_cover': None,\n",
       " 'incorrect_cover': None,\n",
       " 'rule_cover': None}"
      ]
     },
     "execution_count": 12,
     "metadata": {},
     "output_type": "execute_result"
    }
   ],
   "source": [
    "ids_rule.cover_cache"
   ]
  },
  {
   "cell_type": "code",
   "execution_count": 13,
   "metadata": {},
   "outputs": [
    {
     "data": {
      "text/plain": [
       "{'cover': None,\n",
       " 'correct_cover': None,\n",
       " 'incorrect_cover': None,\n",
       " 'rule_cover': None}"
      ]
     },
     "execution_count": 13,
     "metadata": {},
     "output_type": "execute_result"
    }
   ],
   "source": [
    "ids_rule1 = IDSRule(cars[0])\n",
    "ids_rule1.cover_cache"
   ]
  },
  {
   "cell_type": "code",
   "execution_count": 14,
   "metadata": {},
   "outputs": [
    {
     "name": "stdout",
     "output_type": "stream",
     "text": [
      "IDSRule {Passenger_Cat=2nd_class,Age_Cat=child} => {Died=0} sup: 0.01 conf: 1.00, f1: 0.02, len: 3, id: 73\n",
      "IDSRule {Passenger_Cat=2nd_class,Gender=male,Age_Cat=child} => {Died=0} sup: 0.01 conf: 1.00, f1: 0.01, len: 4, id: 72\n"
     ]
    }
   ],
   "source": [
    "ids_rule1 = IDSRule(cars[0])\n",
    "ids_rule2 = IDSRule(cars[1])\n",
    "\n",
    "print(ids_rule1)\n",
    "print(ids_rule2)"
   ]
  },
  {
   "cell_type": "code",
   "execution_count": 15,
   "metadata": {},
   "outputs": [],
   "source": [
    "ids_rule1.calculate_cover(quant_dataframe_train)\n",
    "ids_rule2.calculate_cover(quant_dataframe_train)"
   ]
  },
  {
   "cell_type": "code",
   "execution_count": 16,
   "metadata": {},
   "outputs": [
    {
     "data": {
      "text/plain": [
       "array([False, False, False, False, False, False, False, False, False,\n",
       "       False, False, False, False, False, False, False, False, False,\n",
       "       False, False, False, False, False, False, False, False, False,\n",
       "       False, False, False, False, False, False, False, False, False,\n",
       "       False, False, False, False, False, False, False, False, False,\n",
       "       False, False, False, False, False, False, False, False, False,\n",
       "       False, False, False, False, False, False, False, False, False,\n",
       "       False, False, False, False, False, False, False, False, False,\n",
       "       False, False, False, False, False, False, False, False, False,\n",
       "       False, False, False, False, False, False, False, False, False,\n",
       "       False, False, False, False, False, False, False, False, False,\n",
       "       False, False, False, False, False, False, False, False, False,\n",
       "       False, False, False, False, False, False, False, False, False,\n",
       "       False, False, False, False, False, False, False, False, False,\n",
       "       False, False, False, False, False, False, False, False, False,\n",
       "       False, False, False, False, False, False, False, False, False,\n",
       "       False, False, False, False, False, False, False, False, False,\n",
       "       False, False, False, False, False, False, False, False, False,\n",
       "       False, False, False, False, False, False, False, False, False,\n",
       "       False, False, False, False, False, False, False, False, False,\n",
       "       False, False, False, False, False, False, False, False, False,\n",
       "       False, False, False, False, False, False, False, False, False,\n",
       "       False, False, False, False, False, False, False, False, False,\n",
       "       False, False, False, False, False, False, False, False, False,\n",
       "       False, False, False, False, False, False, False, False, False,\n",
       "       False, False, False, False, False, False, False, False, False,\n",
       "       False, False, False, False, False, False, False, False, False,\n",
       "       False, False, False, False, False, False, False, False, False,\n",
       "       False, False, False, False, False, False, False, False, False,\n",
       "       False,  True, False, False, False, False, False, False, False,\n",
       "       False, False, False, False, False, False, False, False, False,\n",
       "       False, False, False, False, False, False, False, False, False,\n",
       "       False, False, False, False, False, False, False, False, False,\n",
       "       False, False, False, False, False, False, False, False, False,\n",
       "       False, False, False, False, False, False, False, False,  True,\n",
       "       False, False, False, False, False, False, False, False, False,\n",
       "       False, False, False, False, False, False, False, False, False,\n",
       "       False, False, False, False, False, False, False, False, False,\n",
       "       False, False, False, False, False, False, False, False, False,\n",
       "       False])"
      ]
     },
     "execution_count": 16,
     "metadata": {},
     "output_type": "execute_result"
    }
   ],
   "source": [
    "ids_rule1.rule_overlap(ids_rule2, quant_dataframe_train)"
   ]
  },
  {
   "cell_type": "code",
   "execution_count": 17,
   "metadata": {},
   "outputs": [
    {
     "data": {
      "text/plain": [
       "pandas.core.frame.DataFrame"
      ]
     },
     "execution_count": 17,
     "metadata": {},
     "output_type": "execute_result"
    }
   ],
   "source": [
    "type(data_train)"
   ]
  },
  {
   "cell_type": "code",
   "execution_count": 18,
   "metadata": {},
   "outputs": [
    {
     "name": "stdout",
     "output_type": "stream",
     "text": [
      "Running apriori with setting: confidence=0.5, support=0.0, minlen=2, maxlen=3, MAX_RULE_LEN=4\n",
      "Rule count: 52, Iteration: 1\n",
      "Increasing maxlen 4\n",
      "Running apriori with setting: confidence=0.5, support=0.0, minlen=2, maxlen=4, MAX_RULE_LEN=4\n",
      "Rule count: 75, Iteration: 2\n",
      "Decreasing confidence to 0.45\n",
      "Running apriori with setting: confidence=0.45, support=0.0, minlen=2, maxlen=4, MAX_RULE_LEN=4\n",
      "Rule count: 75, Iteration: 3\n",
      "Decreasing confidence to 0.4\n",
      "Running apriori with setting: confidence=0.4, support=0.0, minlen=2, maxlen=4, MAX_RULE_LEN=4\n",
      "Rule count: 75, Iteration: 4\n",
      "Decreasing confidence to 0.35000000000000003\n",
      "Running apriori with setting: confidence=0.35000000000000003, support=0.0, minlen=2, maxlen=4, MAX_RULE_LEN=4\n",
      "Rule count: 75, Iteration: 5\n",
      "Decreasing confidence to 0.30000000000000004\n",
      "Running apriori with setting: confidence=0.30000000000000004, support=0.0, minlen=2, maxlen=4, MAX_RULE_LEN=4\n",
      "Rule count: 75, Iteration: 6\n",
      "Decreasing confidence to 0.25000000000000006\n",
      "Running apriori with setting: confidence=0.25000000000000006, support=0.0, minlen=2, maxlen=4, MAX_RULE_LEN=4\n",
      "Rule count: 75, Iteration: 7\n",
      "Decreasing confidence to 0.20000000000000007\n",
      "Running apriori with setting: confidence=0.20000000000000007, support=0.0, minlen=2, maxlen=4, MAX_RULE_LEN=4\n",
      "Rule count: 75, Iteration: 8\n",
      "Decreasing confidence to 0.15000000000000008\n",
      "Running apriori with setting: confidence=0.15000000000000008, support=0.0, minlen=2, maxlen=4, MAX_RULE_LEN=4\n",
      "Rule count: 75, Iteration: 9\n",
      "Decreasing confidence to 0.10000000000000007\n",
      "Running apriori with setting: confidence=0.10000000000000007, support=0.0, minlen=2, maxlen=4, MAX_RULE_LEN=4\n",
      "Rule count: 75, Iteration: 10\n",
      "Decreasing confidence to 0.05000000000000007\n",
      "Running apriori with setting: confidence=0.05000000000000007, support=0.0, minlen=2, maxlen=4, MAX_RULE_LEN=4\n",
      "Rule count: 75, Iteration: 11\n",
      "Decreasing confidence to 6.938893903907228e-17\n",
      "Running apriori with setting: confidence=6.938893903907228e-17, support=0.0, minlen=2, maxlen=4, MAX_RULE_LEN=4\n",
      "Rule count: 75, Iteration: 12\n",
      "All options exhausted\n"
     ]
    },
    {
     "data": {
      "text/plain": [
       "pyarc.data_structures.car.ClassAssocationRule"
      ]
     },
     "execution_count": 18,
     "metadata": {},
     "output_type": "execute_result"
    }
   ],
   "source": [
    "type(mine_CARs(data_train, rule_cutoff=20)[0])"
   ]
  },
  {
   "cell_type": "code",
   "execution_count": 19,
   "metadata": {},
   "outputs": [],
   "source": [
    "ruleset = IDSRuleSet.from_cba_rules(cars)"
   ]
  },
  {
   "cell_type": "code",
   "execution_count": 20,
   "metadata": {},
   "outputs": [
    {
     "data": {
      "text/plain": [
       "(46, 3)"
      ]
     },
     "execution_count": 20,
     "metadata": {},
     "output_type": "execute_result"
    }
   ],
   "source": [
    "ruleset.sum_rule_length(), ruleset.max_rule_length()"
   ]
  },
  {
   "cell_type": "code",
   "execution_count": 21,
   "metadata": {},
   "outputs": [],
   "source": [
    "ids_ruleset = IDSRuleSet.from_cba_rules(cars)"
   ]
  },
  {
   "cell_type": "code",
   "execution_count": 22,
   "metadata": {},
   "outputs": [
    {
     "data": {
      "text/plain": [
       "pyids.data_structures.ids_ruleset.IDSRuleSet"
      ]
     },
     "execution_count": 22,
     "metadata": {},
     "output_type": "execute_result"
    }
   ],
   "source": [
    "type(ids_ruleset)"
   ]
  },
  {
   "cell_type": "code",
   "execution_count": 23,
   "metadata": {},
   "outputs": [],
   "source": [
    "params = ObjectiveFunctionParameters()\n",
    "\n",
    "params.params[\"all_rules\"] = ids_ruleset\n",
    "params.params[\"len_all_rules\"] = len(ids_ruleset.ruleset)\n",
    "params.params[\"quant_dataframe\"] = quant_dataframe_train\n",
    "params.params[\"lambda_array\"] = 7 * [1]\n"
   ]
  },
  {
   "cell_type": "code",
   "execution_count": 24,
   "metadata": {},
   "outputs": [
    {
     "name": "stdout",
     "output_type": "stream",
     "text": [
      "cover cache prepared\n",
      "overlap cache prepared\n"
     ]
    }
   ],
   "source": [
    "obj_func = IDSObjectiveFunction(params)"
   ]
  },
  {
   "cell_type": "code",
   "execution_count": 25,
   "metadata": {},
   "outputs": [],
   "source": [
    "rule_subset = IDSRuleSet(list(ids_ruleset.ruleset)[2:5])"
   ]
  },
  {
   "cell_type": "code",
   "execution_count": 26,
   "metadata": {},
   "outputs": [
    {
     "data": {
      "text/plain": [
       "{IDSRule {Passenger_Cat=2nd_class,Age_Cat=child,Gender=female} => {Died=0} sup: 0.01 conf: 1.00, f1: 0.01, len: 4, id: 74,\n",
       " IDSRule {Passenger_Cat=2nd_class,Age_Cat=child} => {Died=0} sup: 0.01 conf: 1.00, f1: 0.02, len: 3, id: 73,\n",
       " IDSRule {Gender=male,Passenger_Cat=3rd_class,Age_Cat=adult} => {Died=1} sup: 0.18 conf: 0.84, f1: 0.30, len: 4, id: 15}"
      ]
     },
     "execution_count": 26,
     "metadata": {},
     "output_type": "execute_result"
    }
   ],
   "source": [
    "rule_subset.ruleset"
   ]
  },
  {
   "cell_type": "code",
   "execution_count": 27,
   "metadata": {},
   "outputs": [
    {
     "data": {
      "text/plain": [
       "280038.0"
      ]
     },
     "execution_count": 27,
     "metadata": {},
     "output_type": "execute_result"
    }
   ],
   "source": [
    "obj_func.evaluate(ids_ruleset)"
   ]
  },
  {
   "cell_type": "code",
   "execution_count": 28,
   "metadata": {},
   "outputs": [],
   "source": [
    "rs_opt = RSOptimizer(input_set=ids_ruleset.ruleset)\n",
    "\n",
    "solution_set = rs_opt.optimize()"
   ]
  },
  {
   "cell_type": "code",
   "execution_count": 29,
   "metadata": {},
   "outputs": [
    {
     "data": {
      "text/plain": [
       "{IDSRule {Passenger_Cat=2nd_class,Gender=male,Age_Cat=child} => {Died=0} sup: 0.01 conf: 1.00, f1: 0.01, len: 4, id: 72,\n",
       " IDSRule {Passenger_Cat=2nd_class,Gender=male} => {Died=1} sup: 0.05 conf: 0.82, f1: 0.10, len: 3, id: 48,\n",
       " IDSRule {Passenger_Cat=1st_class,Gender=female} => {Died=0} sup: 0.06 conf: 0.96, f1: 0.12, len: 3, id: 45,\n",
       " IDSRule {Passenger_Cat=1st_class,Gender=female,Age_Cat=adult} => {Died=0} sup: 0.06 conf: 0.96, f1: 0.12, len: 4, id: 44,\n",
       " IDSRule {Gender=male,Passenger_Cat=3rd_class,Age_Cat=adult} => {Died=1} sup: 0.18 conf: 0.84, f1: 0.30, len: 4, id: 15,\n",
       " IDSRule {Gender=male,Passenger_Cat=3rd_class} => {Died=1} sup: 0.20 conf: 0.80, f1: 0.32, len: 3, id: 16,\n",
       " IDSRule {Gender=male,Passenger_Cat=crew,Age_Cat=adult} => {Died=1} sup: 0.29 conf: 0.77, f1: 0.42, len: 4, id: 4,\n",
       " IDSRule {Passenger_Cat=crew,Age_Cat=adult} => {Died=1} sup: 0.30 conf: 0.75, f1: 0.43, len: 3, id: 3,\n",
       " IDSRule {Passenger_Cat=crew} => {Died=1} sup: 0.30 conf: 0.75, f1: 0.43, len: 2, id: 6,\n",
       " IDSRule {Gender=male,Age_Cat=adult} => {Died=1} sup: 0.58 conf: 0.78, f1: 0.67, len: 3, id: 1,\n",
       " IDSRule {Gender=male} => {Died=1} sup: 0.60 conf: 0.76, f1: 0.67, len: 2, id: 2}"
      ]
     },
     "execution_count": 29,
     "metadata": {},
     "output_type": "execute_result"
    }
   ],
   "source": [
    "solution_set"
   ]
  },
  {
   "cell_type": "code",
   "execution_count": 30,
   "metadata": {},
   "outputs": [
    {
     "data": {
      "text/plain": [
       "284039.0"
      ]
     },
     "execution_count": 30,
     "metadata": {},
     "output_type": "execute_result"
    }
   ],
   "source": [
    "obj_func.evaluate(IDSRuleSet(solution_set))"
   ]
  },
  {
   "cell_type": "code",
   "execution_count": 31,
   "metadata": {},
   "outputs": [],
   "source": [
    "dls_opt = DLSOptimizer(obj_func, params)"
   ]
  },
  {
   "cell_type": "code",
   "execution_count": 32,
   "metadata": {},
   "outputs": [
    {
     "name": "stdout",
     "output_type": "stream",
     "text": [
      "Testing if rule is good to add IDSRule {Passenger_Cat=1st_class,Gender=female,Age_Cat=adult} => {Died=0} sup: 0.06 conf: 0.96, f1: 0.12, len: 4, id: 44\n",
      "Testing if rule is good to add IDSRule {Gender=male,Age_Cat=adult} => {Died=1} sup: 0.58 conf: 0.78, f1: 0.67, len: 3, id: 1\n",
      "Testing if rule is good to add IDSRule {Passenger_Cat=2nd_class,Gender=male,Age_Cat=adult} => {Died=1} sup: 0.05 conf: 0.90, f1: 0.10, len: 4, id: 47\n",
      "Testing if rule is good to add IDSRule {Gender=male,Passenger_Cat=crew,Age_Cat=adult} => {Died=1} sup: 0.29 conf: 0.77, f1: 0.42, len: 4, id: 4\n",
      "Testing if rule is good to add IDSRule {Passenger_Cat=2nd_class,Age_Cat=child} => {Died=0} sup: 0.01 conf: 1.00, f1: 0.02, len: 3, id: 73\n",
      "Testing if rule is good to add IDSRule {Passenger_Cat=crew} => {Died=1} sup: 0.30 conf: 0.75, f1: 0.43, len: 2, id: 6\n",
      "Testing if rule is good to add IDSRule {Gender=male,Passenger_Cat=3rd_class,Age_Cat=adult} => {Died=1} sup: 0.18 conf: 0.84, f1: 0.30, len: 4, id: 15\n",
      "Testing if rule is good to add IDSRule {Passenger_Cat=2nd_class,Gender=female,Age_Cat=adult} => {Died=0} sup: 0.04 conf: 0.87, f1: 0.07, len: 4, id: 56\n",
      "Testing if rule is good to add IDSRule {Passenger_Cat=1st_class,Age_Cat=child} => {Died=0} sup: 0.00 conf: 1.00, f1: 0.01, len: 3, id: 71\n",
      "Testing if rule is good to add IDSRule {Passenger_Cat=1st_class,Gender=female} => {Died=0} sup: 0.06 conf: 0.96, f1: 0.12, len: 3, id: 45\n",
      "Testing if rule is good to add IDSRule {Passenger_Cat=2nd_class,Age_Cat=child,Gender=female} => {Died=0} sup: 0.01 conf: 1.00, f1: 0.01, len: 4, id: 74\n",
      "Testing if rule is good to add IDSRule {Passenger_Cat=2nd_class,Gender=male} => {Died=1} sup: 0.05 conf: 0.82, f1: 0.10, len: 3, id: 48\n",
      "Testing if rule is good to add IDSRule {Gender=male,Passenger_Cat=crew} => {Died=1} sup: 0.29 conf: 0.77, f1: 0.42, len: 3, id: 5\n",
      "Testing if rule is good to add IDSRule {Passenger_Cat=2nd_class,Gender=female} => {Died=0} sup: 0.04 conf: 0.88, f1: 0.08, len: 3, id: 57\n",
      "Testing if rule is good to add IDSRule {Passenger_Cat=2nd_class,Gender=male,Age_Cat=child} => {Died=0} sup: 0.01 conf: 1.00, f1: 0.01, len: 4, id: 72\n",
      "Testing if rule is good to add IDSRule {Gender=male,Passenger_Cat=3rd_class} => {Died=1} sup: 0.20 conf: 0.80, f1: 0.32, len: 3, id: 16\n",
      "Testing if rule is good to add IDSRule {Passenger_Cat=crew,Age_Cat=adult} => {Died=1} sup: 0.30 conf: 0.75, f1: 0.43, len: 3, id: 3\n",
      "Testing if rule is good to add IDSRule {Gender=male,Passenger_Cat=1st_class,Age_Cat=child} => {Died=0} sup: 0.00 conf: 1.00, f1: 0.01, len: 4, id: 70\n",
      "Testing if rule is good to add IDSRule {Passenger_Cat=3rd_class,Age_Cat=adult} => {Died=1} sup: 0.22 conf: 0.76, f1: 0.35, len: 3, id: 14\n",
      "Testing should remove rule IDSRule {Gender=male} => {Died=1} sup: 0.60 conf: 0.76, f1: 0.67, len: 2, id: 2\n",
      "Objective value of solution set: 288787.0\n"
     ]
    }
   ],
   "source": [
    "solution_set = dls_opt.optimize()"
   ]
  },
  {
   "cell_type": "code",
   "execution_count": 33,
   "metadata": {},
   "outputs": [
    {
     "data": {
      "text/plain": [
       "288787.0"
      ]
     },
     "execution_count": 33,
     "metadata": {},
     "output_type": "execute_result"
    }
   ],
   "source": [
    "obj_func.evaluate(IDSRuleSet(solution_set))"
   ]
  },
  {
   "cell_type": "code",
   "execution_count": 34,
   "metadata": {},
   "outputs": [
    {
     "name": "stdout",
     "output_type": "stream",
     "text": [
      "INFO - Number of input rules: 20\n",
      "INFO - RandomOptimizer estimated the OPTIMUM value as: 285747.0\n",
      "INFO - Threshold value (2/(n*n) * OPT) = 1428.7350000000001. This is the standard error treshold value.\n",
      "INFO - Estimating omega for rule: IDSRule {Passenger_Cat=2nd_class,Gender=male,Age_Cat=adult} => {Died=1} sup: 0.05 conf: 0.90, f1: 0.10, len: 4, id: 47\n",
      "INFO - stardard error of omega estimate: 353.1228129135811\n",
      "INFO - omega succesfully estimated\n",
      "INFO - Estimating omega for rule: IDSRule {Gender=male,Passenger_Cat=crew,Age_Cat=adult} => {Died=1} sup: 0.29 conf: 0.77, f1: 0.42, len: 4, id: 4\n",
      "INFO - stardard error of omega estimate: 342.43635321034475\n",
      "INFO - omega succesfully estimated\n",
      "INFO - Estimating omega for rule: IDSRule {Passenger_Cat=2nd_class,Age_Cat=child} => {Died=0} sup: 0.01 conf: 1.00, f1: 0.02, len: 3, id: 73\n",
      "INFO - stardard error of omega estimate: 242.3867983203706\n",
      "INFO - omega succesfully estimated\n",
      "INFO - Estimating omega for rule: IDSRule {Gender=male,Passenger_Cat=3rd_class,Age_Cat=adult} => {Died=1} sup: 0.18 conf: 0.84, f1: 0.30, len: 4, id: 15\n",
      "INFO - stardard error of omega estimate: 327.2398050360011\n",
      "INFO - omega succesfully estimated\n",
      "INFO - Estimating omega for rule: IDSRule {Passenger_Cat=2nd_class,Age_Cat=child,Gender=female} => {Died=0} sup: 0.01 conf: 1.00, f1: 0.01, len: 4, id: 74\n",
      "INFO - stardard error of omega estimate: 347.5323869799763\n",
      "INFO - omega succesfully estimated\n",
      "INFO - Estimating omega for rule: IDSRule {Passenger_Cat=2nd_class,Gender=male} => {Died=1} sup: 0.05 conf: 0.82, f1: 0.10, len: 3, id: 48\n",
      "INFO - stardard error of omega estimate: 425.4213464319815\n",
      "INFO - omega succesfully estimated\n",
      "INFO - Estimating omega for rule: IDSRule {Gender=male,Passenger_Cat=crew} => {Died=1} sup: 0.29 conf: 0.77, f1: 0.42, len: 3, id: 5\n",
      "INFO - stardard error of omega estimate: 370.3184629477715\n",
      "INFO - omega succesfully estimated\n",
      "INFO - Estimating omega for rule: IDSRule {Gender=male,Passenger_Cat=3rd_class} => {Died=1} sup: 0.20 conf: 0.80, f1: 0.32, len: 3, id: 16\n",
      "INFO - stardard error of omega estimate: 263.2656927896227\n",
      "INFO - omega succesfully estimated\n",
      "INFO - Estimating omega for rule: IDSRule {Gender=male,Passenger_Cat=1st_class,Age_Cat=child} => {Died=0} sup: 0.00 conf: 1.00, f1: 0.01, len: 4, id: 70\n",
      "INFO - stardard error of omega estimate: 367.1448215622822\n",
      "INFO - omega succesfully estimated\n",
      "INFO - Estimating omega for rule: IDSRule {Passenger_Cat=1st_class,Gender=female,Age_Cat=adult} => {Died=0} sup: 0.06 conf: 0.96, f1: 0.12, len: 4, id: 44\n",
      "INFO - stardard error of omega estimate: 297.9241598125268\n",
      "INFO - omega succesfully estimated\n",
      "INFO - Estimating omega for rule: IDSRule {Gender=male,Age_Cat=adult} => {Died=1} sup: 0.58 conf: 0.78, f1: 0.67, len: 3, id: 1\n",
      "INFO - stardard error of omega estimate: 368.2419069036005\n",
      "INFO - omega succesfully estimated\n",
      "INFO - Estimating omega for rule: IDSRule {Passenger_Cat=crew} => {Died=1} sup: 0.30 conf: 0.75, f1: 0.43, len: 2, id: 6\n",
      "INFO - stardard error of omega estimate: 378.5788425150037\n",
      "INFO - omega succesfully estimated\n",
      "INFO - Estimating omega for rule: IDSRule {Passenger_Cat=2nd_class,Gender=female,Age_Cat=adult} => {Died=0} sup: 0.04 conf: 0.87, f1: 0.07, len: 4, id: 56\n",
      "INFO - stardard error of omega estimate: 380.8213557562128\n",
      "INFO - omega succesfully estimated\n",
      "INFO - Estimating omega for rule: IDSRule {Passenger_Cat=1st_class,Age_Cat=child} => {Died=0} sup: 0.00 conf: 1.00, f1: 0.01, len: 3, id: 71\n",
      "INFO - stardard error of omega estimate: 361.0801365348141\n",
      "INFO - omega succesfully estimated\n",
      "INFO - Estimating omega for rule: IDSRule {Gender=male} => {Died=1} sup: 0.60 conf: 0.76, f1: 0.67, len: 2, id: 2\n",
      "INFO - stardard error of omega estimate: 354.8399709728316\n",
      "INFO - omega succesfully estimated\n",
      "INFO - Estimating omega for rule: IDSRule {Passenger_Cat=1st_class,Gender=female} => {Died=0} sup: 0.06 conf: 0.96, f1: 0.12, len: 3, id: 45\n",
      "INFO - stardard error of omega estimate: 396.03843500347284\n",
      "INFO - omega succesfully estimated\n",
      "INFO - Estimating omega for rule: IDSRule {Passenger_Cat=2nd_class,Gender=female} => {Died=0} sup: 0.04 conf: 0.88, f1: 0.08, len: 3, id: 57\n",
      "INFO - stardard error of omega estimate: 397.5864132487427\n",
      "INFO - omega succesfully estimated\n",
      "INFO - Estimating omega for rule: IDSRule {Passenger_Cat=2nd_class,Gender=male,Age_Cat=child} => {Died=0} sup: 0.01 conf: 1.00, f1: 0.01, len: 4, id: 72\n",
      "INFO - stardard error of omega estimate: 328.76256629975376\n",
      "INFO - omega succesfully estimated\n",
      "INFO - Estimating omega for rule: IDSRule {Passenger_Cat=crew,Age_Cat=adult} => {Died=1} sup: 0.30 conf: 0.75, f1: 0.43, len: 3, id: 3\n",
      "INFO - stardard error of omega estimate: 268.52698560852315\n",
      "INFO - omega succesfully estimated\n",
      "INFO - Estimating omega for rule: IDSRule {Passenger_Cat=3rd_class,Age_Cat=adult} => {Died=1} sup: 0.22 conf: 0.76, f1: 0.35, len: 3, id: 14\n",
      "INFO - stardard error of omega estimate: 281.48579537873667\n",
      "INFO - omega succesfully estimated\n",
      "INFO - Number of input rules: 20\n",
      "INFO - RandomOptimizer estimated the OPTIMUM value as: 284644.0\n",
      "INFO - Threshold value (2/(n*n) * OPT) = 1423.22. This is the standard error treshold value.\n",
      "INFO - Estimating omega for rule: IDSRule {Passenger_Cat=2nd_class,Gender=male,Age_Cat=adult} => {Died=1} sup: 0.05 conf: 0.90, f1: 0.10, len: 4, id: 47\n",
      "INFO - stardard error of omega estimate: 265.698296945991\n",
      "INFO - omega succesfully estimated\n",
      "INFO - Estimating omega for rule: IDSRule {Gender=male,Passenger_Cat=crew,Age_Cat=adult} => {Died=1} sup: 0.29 conf: 0.77, f1: 0.42, len: 4, id: 4\n",
      "INFO - stardard error of omega estimate: 392.03254074119917\n",
      "INFO - omega succesfully estimated\n",
      "INFO - Estimating omega for rule: IDSRule {Passenger_Cat=2nd_class,Age_Cat=child} => {Died=0} sup: 0.01 conf: 1.00, f1: 0.02, len: 3, id: 73\n",
      "INFO - stardard error of omega estimate: 358.9378901704304\n",
      "INFO - omega succesfully estimated\n",
      "INFO - Estimating omega for rule: IDSRule {Gender=male,Passenger_Cat=3rd_class,Age_Cat=adult} => {Died=1} sup: 0.18 conf: 0.84, f1: 0.30, len: 4, id: 15\n",
      "INFO - stardard error of omega estimate: 362.6954921142528\n",
      "INFO - omega succesfully estimated\n",
      "INFO - Estimating omega for rule: IDSRule {Passenger_Cat=2nd_class,Age_Cat=child,Gender=female} => {Died=0} sup: 0.01 conf: 1.00, f1: 0.01, len: 4, id: 74\n",
      "INFO - stardard error of omega estimate: 396.7403584209703\n",
      "INFO - omega succesfully estimated\n",
      "INFO - Estimating omega for rule: IDSRule {Passenger_Cat=2nd_class,Gender=male} => {Died=1} sup: 0.05 conf: 0.82, f1: 0.10, len: 3, id: 48\n",
      "INFO - stardard error of omega estimate: 375.3003876896479\n",
      "INFO - omega succesfully estimated\n",
      "INFO - Estimating omega for rule: IDSRule {Gender=male,Passenger_Cat=crew} => {Died=1} sup: 0.29 conf: 0.77, f1: 0.42, len: 3, id: 5\n",
      "INFO - stardard error of omega estimate: 358.02829078160846\n",
      "INFO - omega succesfully estimated\n",
      "INFO - Estimating omega for rule: IDSRule {Gender=male,Passenger_Cat=3rd_class} => {Died=1} sup: 0.20 conf: 0.80, f1: 0.32, len: 3, id: 16\n",
      "INFO - stardard error of omega estimate: 377.58244927432736\n",
      "INFO - omega succesfully estimated\n",
      "INFO - Estimating omega for rule: IDSRule {Gender=male,Passenger_Cat=1st_class,Age_Cat=child} => {Died=0} sup: 0.00 conf: 1.00, f1: 0.01, len: 4, id: 70\n",
      "INFO - stardard error of omega estimate: 239.67223034803177\n",
      "INFO - omega succesfully estimated\n",
      "INFO - Estimating omega for rule: IDSRule {Passenger_Cat=1st_class,Gender=female,Age_Cat=adult} => {Died=0} sup: 0.06 conf: 0.96, f1: 0.12, len: 4, id: 44\n",
      "INFO - stardard error of omega estimate: 342.92234397892474\n",
      "INFO - omega succesfully estimated\n",
      "INFO - Estimating omega for rule: IDSRule {Gender=male,Age_Cat=adult} => {Died=1} sup: 0.58 conf: 0.78, f1: 0.67, len: 3, id: 1\n",
      "INFO - stardard error of omega estimate: 299.7499357798096\n",
      "INFO - omega succesfully estimated\n",
      "INFO - Estimating omega for rule: IDSRule {Passenger_Cat=crew} => {Died=1} sup: 0.30 conf: 0.75, f1: 0.43, len: 2, id: 6\n",
      "INFO - stardard error of omega estimate: 403.7560612548126\n",
      "INFO - omega succesfully estimated\n",
      "INFO - Estimating omega for rule: IDSRule {Passenger_Cat=2nd_class,Gender=female,Age_Cat=adult} => {Died=0} sup: 0.04 conf: 0.87, f1: 0.07, len: 4, id: 56\n",
      "INFO - stardard error of omega estimate: 229.33497334684913\n",
      "INFO - omega succesfully estimated\n",
      "INFO - Estimating omega for rule: IDSRule {Passenger_Cat=1st_class,Age_Cat=child} => {Died=0} sup: 0.00 conf: 1.00, f1: 0.01, len: 3, id: 71\n",
      "INFO - stardard error of omega estimate: 366.95441269999736\n",
      "INFO - omega succesfully estimated\n",
      "INFO - Estimating omega for rule: IDSRule {Gender=male} => {Died=1} sup: 0.60 conf: 0.76, f1: 0.67, len: 2, id: 2\n",
      "INFO - stardard error of omega estimate: 222.03952350876634\n",
      "INFO - omega succesfully estimated\n",
      "INFO - Estimating omega for rule: IDSRule {Passenger_Cat=1st_class,Gender=female} => {Died=0} sup: 0.06 conf: 0.96, f1: 0.12, len: 3, id: 45\n",
      "INFO - stardard error of omega estimate: 308.1813638103382\n",
      "INFO - omega succesfully estimated\n",
      "INFO - Estimating omega for rule: IDSRule {Passenger_Cat=2nd_class,Gender=female} => {Died=0} sup: 0.04 conf: 0.88, f1: 0.08, len: 3, id: 57\n"
     ]
    },
    {
     "name": "stdout",
     "output_type": "stream",
     "text": [
      "INFO - stardard error of omega estimate: 247.92802382949773\n",
      "INFO - omega succesfully estimated\n",
      "INFO - Estimating omega for rule: IDSRule {Passenger_Cat=2nd_class,Gender=male,Age_Cat=child} => {Died=0} sup: 0.01 conf: 1.00, f1: 0.01, len: 4, id: 72\n",
      "INFO - stardard error of omega estimate: 341.02530697882236\n",
      "INFO - omega succesfully estimated\n",
      "INFO - Estimating omega for rule: IDSRule {Passenger_Cat=crew,Age_Cat=adult} => {Died=1} sup: 0.30 conf: 0.75, f1: 0.43, len: 3, id: 3\n",
      "INFO - stardard error of omega estimate: 355.38055940076407\n",
      "INFO - omega succesfully estimated\n",
      "INFO - Estimating omega for rule: IDSRule {Passenger_Cat=3rd_class,Age_Cat=adult} => {Died=1} sup: 0.22 conf: 0.76, f1: 0.35, len: 3, id: 14\n",
      "INFO - stardard error of omega estimate: 338.2313439053217\n",
      "INFO - omega succesfully estimated\n"
     ]
    },
    {
     "data": {
      "text/plain": [
       "285126.0"
      ]
     },
     "execution_count": 34,
     "metadata": {},
     "output_type": "execute_result"
    }
   ],
   "source": [
    "sls_opt = SLSOptimizer(obj_func, params)\n",
    "solution_set = sls_opt.optimize()\n",
    "obj_func.evaluate(IDSRuleSet(solution_set))"
   ]
  },
  {
   "cell_type": "code",
   "execution_count": 35,
   "metadata": {},
   "outputs": [],
   "source": [
    "ids_clf = IDSClassifier(solution_set)\n",
    "\n",
    "ids_clf.quant_dataframe_train = quant_dataframe_train\n",
    "\n",
    "ids_clf.calculate_default_class()"
   ]
  },
  {
   "cell_type": "code",
   "execution_count": 36,
   "metadata": {},
   "outputs": [
    {
     "data": {
      "text/plain": [
       "'0'"
      ]
     },
     "execution_count": 36,
     "metadata": {},
     "output_type": "execute_result"
    }
   ],
   "source": [
    "ids_clf.default_class"
   ]
  },
  {
   "cell_type": "code",
   "execution_count": 37,
   "metadata": {},
   "outputs": [
    {
     "data": {
      "text/plain": [
       "0.6"
      ]
     },
     "execution_count": 37,
     "metadata": {},
     "output_type": "execute_result"
    }
   ],
   "source": [
    "ids_clf.default_class_confidence"
   ]
  },
  {
   "cell_type": "code",
   "execution_count": 38,
   "metadata": {},
   "outputs": [],
   "source": [
    "import numpy as np\n",
    "\n",
    "class RandomizedUSMOptimizer:\n",
    "\n",
    "    def __init__(self, objective_function, objective_func_params, debug=True, random_seed=None):\n",
    "        self.objective_function_params = objective_func_params \n",
    "        self.objective_function = objective_function\n",
    "        self.debug = debug\n",
    "\n",
    "        if random_seed:\n",
    "            np.random.seed(random_seed)\n",
    "\n",
    "    def optimize(self):\n",
    "        all_rules = self.objective_function_params.params[\"all_rules\"]\n",
    "\n",
    "        x0 = IDSRuleSet(set())\n",
    "        y0 = IDSRuleSet({rule for rule in all_rules.ruleset})\n",
    "\n",
    "        n = len(y0)\n",
    "\n",
    "        for rule in all_rules.ruleset:\n",
    "            a_set = IDSRuleSet(x0.ruleset | {rule})\n",
    "            b_set = IDSRuleSet(y0.ruleset - {rule})\n",
    "\n",
    "            a_value = self.objective_function.evaluate(a_set) - self.objective_function.evaluate(x0)\n",
    "            b_value = self.objective_function.evaluate(b_set) - self.objective_function.evaluate(y0)\n",
    "\n",
    "            a_max = max(a_value, 0)\n",
    "            b_max = max(b_value, 0)\n",
    "\n",
    "            x_probability = 1\n",
    "            y_probability = 0\n",
    "            \n",
    "            if not (a_max == 0 and b_max == 0):\n",
    "                x_probability = a_max / (a_max + b_max)\n",
    "                y_probability = b_max / (a_max + b_max)\n",
    "\n",
    "            if np.random.uniform() <= x_probability:\n",
    "                x0.ruleset.add(rule)\n",
    "\n",
    "            if np.random.uniform() <= y_probability:\n",
    "                y0.ruleset.remove(rule)                \n",
    "\n",
    "        x_value = self.objective_function.evaluate(x0)\n",
    "        y_value = self.objective_function.evaluate(y0)\n",
    "\n",
    "        if x_value > y_value:\n",
    "            return x0.ruleset\n",
    "        else:\n",
    "            return y0.ruleset"
   ]
  },
  {
   "cell_type": "code",
   "execution_count": 39,
   "metadata": {},
   "outputs": [
    {
     "data": {
      "text/plain": [
       "140800.0"
      ]
     },
     "execution_count": 39,
     "metadata": {},
     "output_type": "execute_result"
    }
   ],
   "source": [
    "params.params[\"lambda_array\"] = [0, 0, 1, 0, 0, 0, 0]\n",
    "\n",
    "rusm_opt = RandomizedUSMOptimizer(obj_func, params)\n",
    "solution_set = rusm_opt.optimize()\n",
    "obj_func.evaluate(IDSRuleSet(solution_set))"
   ]
  },
  {
   "cell_type": "code",
   "execution_count": 40,
   "metadata": {},
   "outputs": [
    {
     "data": {
      "text/plain": [
       "{IDSRule {Passenger_Cat=1st_class,Age_Cat=child} => {Died=0} sup: 0.00 conf: 1.00, f1: 0.01, len: 3, id: 71,\n",
       " IDSRule {Gender=male,Passenger_Cat=1st_class,Age_Cat=child} => {Died=0} sup: 0.00 conf: 1.00, f1: 0.01, len: 4, id: 70,\n",
       " IDSRule {Passenger_Cat=2nd_class,Gender=male,Age_Cat=child} => {Died=0} sup: 0.01 conf: 1.00, f1: 0.01, len: 4, id: 72,\n",
       " IDSRule {Passenger_Cat=2nd_class,Age_Cat=child,Gender=female} => {Died=0} sup: 0.01 conf: 1.00, f1: 0.01, len: 4, id: 74,\n",
       " IDSRule {Passenger_Cat=2nd_class,Age_Cat=child} => {Died=0} sup: 0.01 conf: 1.00, f1: 0.02, len: 3, id: 73,\n",
       " IDSRule {Passenger_Cat=2nd_class,Gender=female,Age_Cat=adult} => {Died=0} sup: 0.04 conf: 0.87, f1: 0.07, len: 4, id: 56,\n",
       " IDSRule {Passenger_Cat=2nd_class,Gender=female} => {Died=0} sup: 0.04 conf: 0.88, f1: 0.08, len: 3, id: 57,\n",
       " IDSRule {Passenger_Cat=2nd_class,Gender=male} => {Died=1} sup: 0.05 conf: 0.82, f1: 0.10, len: 3, id: 48,\n",
       " IDSRule {Passenger_Cat=2nd_class,Gender=male,Age_Cat=adult} => {Died=1} sup: 0.05 conf: 0.90, f1: 0.10, len: 4, id: 47,\n",
       " IDSRule {Passenger_Cat=1st_class,Gender=female} => {Died=0} sup: 0.06 conf: 0.96, f1: 0.12, len: 3, id: 45,\n",
       " IDSRule {Passenger_Cat=1st_class,Gender=female,Age_Cat=adult} => {Died=0} sup: 0.06 conf: 0.96, f1: 0.12, len: 4, id: 44,\n",
       " IDSRule {Gender=male,Passenger_Cat=3rd_class,Age_Cat=adult} => {Died=1} sup: 0.18 conf: 0.84, f1: 0.30, len: 4, id: 15,\n",
       " IDSRule {Gender=male,Passenger_Cat=3rd_class} => {Died=1} sup: 0.20 conf: 0.80, f1: 0.32, len: 3, id: 16,\n",
       " IDSRule {Passenger_Cat=3rd_class,Age_Cat=adult} => {Died=1} sup: 0.22 conf: 0.76, f1: 0.35, len: 3, id: 14,\n",
       " IDSRule {Gender=male,Passenger_Cat=crew} => {Died=1} sup: 0.29 conf: 0.77, f1: 0.42, len: 3, id: 5,\n",
       " IDSRule {Gender=male,Passenger_Cat=crew,Age_Cat=adult} => {Died=1} sup: 0.29 conf: 0.77, f1: 0.42, len: 4, id: 4,\n",
       " IDSRule {Passenger_Cat=crew,Age_Cat=adult} => {Died=1} sup: 0.30 conf: 0.75, f1: 0.43, len: 3, id: 3,\n",
       " IDSRule {Passenger_Cat=crew} => {Died=1} sup: 0.30 conf: 0.75, f1: 0.43, len: 2, id: 6,\n",
       " IDSRule {Gender=male,Age_Cat=adult} => {Died=1} sup: 0.58 conf: 0.78, f1: 0.67, len: 3, id: 1,\n",
       " IDSRule {Gender=male} => {Died=1} sup: 0.60 conf: 0.76, f1: 0.67, len: 2, id: 2}"
      ]
     },
     "execution_count": 40,
     "metadata": {},
     "output_type": "execute_result"
    }
   ],
   "source": [
    "ids_ruleset.ruleset"
   ]
  },
  {
   "cell_type": "code",
   "execution_count": 41,
   "metadata": {},
   "outputs": [
    {
     "data": {
      "text/plain": [
       "{IDSRule {Passenger_Cat=1st_class,Age_Cat=child} => {Died=0} sup: 0.00 conf: 1.00, f1: 0.01, len: 3, id: 71,\n",
       " IDSRule {Passenger_Cat=2nd_class,Gender=male,Age_Cat=child} => {Died=0} sup: 0.01 conf: 1.00, f1: 0.01, len: 4, id: 72,\n",
       " IDSRule {Passenger_Cat=2nd_class,Gender=female} => {Died=0} sup: 0.04 conf: 0.88, f1: 0.08, len: 3, id: 57,\n",
       " IDSRule {Passenger_Cat=1st_class,Gender=female} => {Died=0} sup: 0.06 conf: 0.96, f1: 0.12, len: 3, id: 45,\n",
       " IDSRule {Passenger_Cat=3rd_class,Age_Cat=adult} => {Died=1} sup: 0.22 conf: 0.76, f1: 0.35, len: 3, id: 14,\n",
       " IDSRule {Passenger_Cat=crew,Age_Cat=adult} => {Died=1} sup: 0.30 conf: 0.75, f1: 0.43, len: 3, id: 3}"
      ]
     },
     "execution_count": 41,
     "metadata": {},
     "output_type": "execute_result"
    }
   ],
   "source": [
    "solution_set"
   ]
  },
  {
   "cell_type": "code",
   "execution_count": 42,
   "metadata": {},
   "outputs": [
    {
     "name": "stdout",
     "output_type": "stream",
     "text": [
      "cover cache prepared\n",
      "overlap cache prepared\n",
      "INFO - Number of input rules: 20\n",
      "INFO - RandomOptimizer estimated the OPTIMUM value as: 285428.0\n",
      "INFO - Threshold value (2/(n*n) * OPT) = 1427.14. This is the standard error treshold value.\n",
      "INFO - Estimating omega for rule: IDSRule {Passenger_Cat=2nd_class,Gender=male,Age_Cat=adult} => {Died=1} sup: 0.05 conf: 0.90, f1: 0.10, len: 4, id: 47\n",
      "INFO - stardard error of omega estimate: 314.7247527602492\n",
      "INFO - omega succesfully estimated\n",
      "INFO - Estimating omega for rule: IDSRule {Gender=male,Passenger_Cat=crew,Age_Cat=adult} => {Died=1} sup: 0.29 conf: 0.77, f1: 0.42, len: 4, id: 4\n",
      "INFO - stardard error of omega estimate: 350.94909887332665\n",
      "INFO - omega succesfully estimated\n",
      "INFO - Estimating omega for rule: IDSRule {Passenger_Cat=2nd_class,Age_Cat=child} => {Died=0} sup: 0.01 conf: 1.00, f1: 0.02, len: 3, id: 73\n",
      "INFO - stardard error of omega estimate: 305.4660128393992\n",
      "INFO - omega succesfully estimated\n",
      "INFO - Estimating omega for rule: IDSRule {Gender=male,Passenger_Cat=3rd_class,Age_Cat=adult} => {Died=1} sup: 0.18 conf: 0.84, f1: 0.30, len: 4, id: 15\n",
      "INFO - stardard error of omega estimate: 280.2333616827233\n",
      "INFO - omega succesfully estimated\n",
      "INFO - Estimating omega for rule: IDSRule {Passenger_Cat=2nd_class,Age_Cat=child,Gender=female} => {Died=0} sup: 0.01 conf: 1.00, f1: 0.01, len: 4, id: 74\n",
      "INFO - stardard error of omega estimate: 301.57196487737383\n",
      "INFO - omega succesfully estimated\n",
      "INFO - Estimating omega for rule: IDSRule {Passenger_Cat=2nd_class,Gender=male} => {Died=1} sup: 0.05 conf: 0.82, f1: 0.10, len: 3, id: 48\n",
      "INFO - stardard error of omega estimate: 495.79696751795484\n",
      "INFO - omega succesfully estimated\n",
      "INFO - Estimating omega for rule: IDSRule {Gender=male,Passenger_Cat=crew} => {Died=1} sup: 0.29 conf: 0.77, f1: 0.42, len: 3, id: 5\n",
      "INFO - stardard error of omega estimate: 323.185601473828\n",
      "INFO - omega succesfully estimated\n",
      "INFO - Estimating omega for rule: IDSRule {Gender=male,Passenger_Cat=3rd_class} => {Died=1} sup: 0.20 conf: 0.80, f1: 0.32, len: 3, id: 16\n",
      "INFO - stardard error of omega estimate: 441.11571837784237\n",
      "INFO - omega succesfully estimated\n",
      "INFO - Estimating omega for rule: IDSRule {Gender=male,Passenger_Cat=1st_class,Age_Cat=child} => {Died=0} sup: 0.00 conf: 1.00, f1: 0.01, len: 4, id: 70\n",
      "INFO - stardard error of omega estimate: 345.2052447457889\n",
      "INFO - omega succesfully estimated\n",
      "INFO - Estimating omega for rule: IDSRule {Passenger_Cat=1st_class,Gender=female,Age_Cat=adult} => {Died=0} sup: 0.06 conf: 0.96, f1: 0.12, len: 4, id: 44\n",
      "INFO - stardard error of omega estimate: 282.49128305135366\n",
      "INFO - omega succesfully estimated\n",
      "INFO - Estimating omega for rule: IDSRule {Gender=male,Age_Cat=adult} => {Died=1} sup: 0.58 conf: 0.78, f1: 0.67, len: 3, id: 1\n",
      "INFO - stardard error of omega estimate: 299.98258282773685\n",
      "INFO - omega succesfully estimated\n",
      "INFO - Estimating omega for rule: IDSRule {Passenger_Cat=crew} => {Died=1} sup: 0.30 conf: 0.75, f1: 0.43, len: 2, id: 6\n",
      "INFO - stardard error of omega estimate: 423.8097450507716\n",
      "INFO - omega succesfully estimated\n",
      "INFO - Estimating omega for rule: IDSRule {Passenger_Cat=2nd_class,Gender=female,Age_Cat=adult} => {Died=0} sup: 0.04 conf: 0.87, f1: 0.07, len: 4, id: 56\n",
      "INFO - stardard error of omega estimate: 417.7718767461496\n",
      "INFO - omega succesfully estimated\n",
      "INFO - Estimating omega for rule: IDSRule {Passenger_Cat=1st_class,Age_Cat=child} => {Died=0} sup: 0.00 conf: 1.00, f1: 0.01, len: 3, id: 71\n",
      "INFO - stardard error of omega estimate: 316.8777808556479\n",
      "INFO - omega succesfully estimated\n",
      "INFO - Estimating omega for rule: IDSRule {Gender=male} => {Died=1} sup: 0.60 conf: 0.76, f1: 0.67, len: 2, id: 2\n",
      "INFO - stardard error of omega estimate: 300.9166346349101\n",
      "INFO - omega succesfully estimated\n",
      "INFO - Estimating omega for rule: IDSRule {Passenger_Cat=1st_class,Gender=female} => {Died=0} sup: 0.06 conf: 0.96, f1: 0.12, len: 3, id: 45\n",
      "INFO - stardard error of omega estimate: 340.8789301203581\n",
      "INFO - omega succesfully estimated\n",
      "INFO - Estimating omega for rule: IDSRule {Passenger_Cat=2nd_class,Gender=female} => {Died=0} sup: 0.04 conf: 0.88, f1: 0.08, len: 3, id: 57\n",
      "INFO - stardard error of omega estimate: 413.9668827333897\n",
      "INFO - omega succesfully estimated\n",
      "INFO - Estimating omega for rule: IDSRule {Passenger_Cat=2nd_class,Gender=male,Age_Cat=child} => {Died=0} sup: 0.01 conf: 1.00, f1: 0.01, len: 4, id: 72\n",
      "INFO - stardard error of omega estimate: 356.6230783334135\n",
      "INFO - omega succesfully estimated\n",
      "INFO - Estimating omega for rule: IDSRule {Passenger_Cat=crew,Age_Cat=adult} => {Died=1} sup: 0.30 conf: 0.75, f1: 0.43, len: 3, id: 3\n",
      "INFO - stardard error of omega estimate: 283.1155594452555\n",
      "INFO - omega succesfully estimated\n",
      "INFO - Estimating omega for rule: IDSRule {Passenger_Cat=3rd_class,Age_Cat=adult} => {Died=1} sup: 0.22 conf: 0.76, f1: 0.35, len: 3, id: 14\n",
      "INFO - stardard error of omega estimate: 446.19014444516813\n",
      "INFO - omega succesfully estimated\n",
      "INFO - Number of input rules: 20\n",
      "INFO - RandomOptimizer estimated the OPTIMUM value as: 285255.0\n",
      "INFO - Threshold value (2/(n*n) * OPT) = 1426.275. This is the standard error treshold value.\n",
      "INFO - Estimating omega for rule: IDSRule {Passenger_Cat=2nd_class,Gender=male,Age_Cat=adult} => {Died=1} sup: 0.05 conf: 0.90, f1: 0.10, len: 4, id: 47\n",
      "INFO - stardard error of omega estimate: 251.13525041299957\n",
      "INFO - omega succesfully estimated\n",
      "INFO - Estimating omega for rule: IDSRule {Gender=male,Passenger_Cat=crew,Age_Cat=adult} => {Died=1} sup: 0.29 conf: 0.77, f1: 0.42, len: 4, id: 4\n",
      "INFO - stardard error of omega estimate: 310.0384895460562\n",
      "INFO - omega succesfully estimated\n",
      "INFO - Estimating omega for rule: IDSRule {Passenger_Cat=2nd_class,Age_Cat=child} => {Died=0} sup: 0.01 conf: 1.00, f1: 0.02, len: 3, id: 73\n",
      "INFO - stardard error of omega estimate: 279.3112815480248\n",
      "INFO - omega succesfully estimated\n",
      "INFO - Estimating omega for rule: IDSRule {Gender=male,Passenger_Cat=3rd_class,Age_Cat=adult} => {Died=1} sup: 0.18 conf: 0.84, f1: 0.30, len: 4, id: 15\n",
      "INFO - stardard error of omega estimate: 506.52860926111566\n",
      "INFO - omega succesfully estimated\n",
      "INFO - Estimating omega for rule: IDSRule {Passenger_Cat=2nd_class,Age_Cat=child,Gender=female} => {Died=0} sup: 0.01 conf: 1.00, f1: 0.01, len: 4, id: 74\n",
      "INFO - stardard error of omega estimate: 265.8217918079705\n",
      "INFO - omega succesfully estimated\n",
      "INFO - Estimating omega for rule: IDSRule {Passenger_Cat=2nd_class,Gender=male} => {Died=1} sup: 0.05 conf: 0.82, f1: 0.10, len: 3, id: 48\n",
      "INFO - stardard error of omega estimate: 316.1929663986851\n",
      "INFO - omega succesfully estimated\n",
      "INFO - Estimating omega for rule: IDSRule {Gender=male,Passenger_Cat=crew} => {Died=1} sup: 0.29 conf: 0.77, f1: 0.42, len: 3, id: 5\n",
      "INFO - stardard error of omega estimate: 383.65232959021637\n",
      "INFO - omega succesfully estimated\n",
      "INFO - Estimating omega for rule: IDSRule {Gender=male,Passenger_Cat=3rd_class} => {Died=1} sup: 0.20 conf: 0.80, f1: 0.32, len: 3, id: 16\n",
      "INFO - stardard error of omega estimate: 349.7307435728234\n",
      "INFO - omega succesfully estimated\n",
      "INFO - Estimating omega for rule: IDSRule {Gender=male,Passenger_Cat=1st_class,Age_Cat=child} => {Died=0} sup: 0.00 conf: 1.00, f1: 0.01, len: 4, id: 70\n",
      "INFO - stardard error of omega estimate: 357.67279600215613\n",
      "INFO - omega succesfully estimated\n",
      "INFO - Estimating omega for rule: IDSRule {Passenger_Cat=1st_class,Gender=female,Age_Cat=adult} => {Died=0} sup: 0.06 conf: 0.96, f1: 0.12, len: 4, id: 44\n",
      "INFO - stardard error of omega estimate: 249.19887640196134\n",
      "INFO - omega succesfully estimated\n",
      "INFO - Estimating omega for rule: IDSRule {Gender=male,Age_Cat=adult} => {Died=1} sup: 0.58 conf: 0.78, f1: 0.67, len: 3, id: 1\n",
      "INFO - stardard error of omega estimate: 364.55230077452535\n",
      "INFO - omega succesfully estimated\n",
      "INFO - Estimating omega for rule: IDSRule {Passenger_Cat=crew} => {Died=1} sup: 0.30 conf: 0.75, f1: 0.43, len: 2, id: 6\n",
      "INFO - stardard error of omega estimate: 325.4468466585596\n",
      "INFO - omega succesfully estimated\n",
      "INFO - Estimating omega for rule: IDSRule {Passenger_Cat=2nd_class,Gender=female,Age_Cat=adult} => {Died=0} sup: 0.04 conf: 0.87, f1: 0.07, len: 4, id: 56\n",
      "INFO - stardard error of omega estimate: 297.97548389087314\n",
      "INFO - omega succesfully estimated\n",
      "INFO - Estimating omega for rule: IDSRule {Passenger_Cat=1st_class,Age_Cat=child} => {Died=0} sup: 0.00 conf: 1.00, f1: 0.01, len: 3, id: 71\n",
      "INFO - stardard error of omega estimate: 435.8846097306029\n",
      "INFO - omega succesfully estimated\n",
      "INFO - Estimating omega for rule: IDSRule {Gender=male} => {Died=1} sup: 0.60 conf: 0.76, f1: 0.67, len: 2, id: 2\n",
      "INFO - stardard error of omega estimate: 370.9596217919142\n",
      "INFO - omega succesfully estimated\n",
      "INFO - Estimating omega for rule: IDSRule {Passenger_Cat=1st_class,Gender=female} => {Died=0} sup: 0.06 conf: 0.96, f1: 0.12, len: 3, id: 45\n",
      "INFO - stardard error of omega estimate: 320.33134407984494\n",
      "INFO - omega succesfully estimated\n",
      "INFO - Estimating omega for rule: IDSRule {Passenger_Cat=2nd_class,Gender=female} => {Died=0} sup: 0.04 conf: 0.88, f1: 0.08, len: 3, id: 57\n"
     ]
    },
    {
     "name": "stdout",
     "output_type": "stream",
     "text": [
      "INFO - stardard error of omega estimate: 334.3166253718172\n",
      "INFO - omega succesfully estimated\n",
      "INFO - Estimating omega for rule: IDSRule {Passenger_Cat=2nd_class,Gender=male,Age_Cat=child} => {Died=0} sup: 0.01 conf: 1.00, f1: 0.01, len: 4, id: 72\n",
      "INFO - stardard error of omega estimate: 378.8699684588368\n",
      "INFO - omega succesfully estimated\n",
      "INFO - Estimating omega for rule: IDSRule {Passenger_Cat=crew,Age_Cat=adult} => {Died=1} sup: 0.30 conf: 0.75, f1: 0.43, len: 3, id: 3\n",
      "INFO - stardard error of omega estimate: 351.2196421044814\n",
      "INFO - omega succesfully estimated\n",
      "INFO - Estimating omega for rule: IDSRule {Passenger_Cat=3rd_class,Age_Cat=adult} => {Died=1} sup: 0.22 conf: 0.76, f1: 0.35, len: 3, id: 14\n",
      "INFO - stardard error of omega estimate: 483.83557951022993\n",
      "INFO - omega succesfully estimated\n"
     ]
    },
    {
     "data": {
      "text/plain": [
       "<pyids.data_structures.ids_classifier.IDS at 0x109ff2cd438>"
      ]
     },
     "execution_count": 42,
     "metadata": {},
     "output_type": "execute_result"
    }
   ],
   "source": [
    "ids = IDS()\n",
    "ids.fit(quant_dataframe_train, class_association_rules=cars)"
   ]
  },
  {
   "cell_type": "code",
   "execution_count": 43,
   "metadata": {},
   "outputs": [
    {
     "data": {
      "text/plain": [
       "0.7471590909090909"
      ]
     },
     "execution_count": 43,
     "metadata": {},
     "output_type": "execute_result"
    }
   ],
   "source": [
    "ids.score(quant_dataframe_train)"
   ]
  },
  {
   "cell_type": "code",
   "execution_count": 44,
   "metadata": {},
   "outputs": [
    {
     "data": {
      "text/plain": [
       "array([1, 1, 1, 1, 1, 1])"
      ]
     },
     "execution_count": 44,
     "metadata": {},
     "output_type": "execute_result"
    }
   ],
   "source": [
    "np.where([True, True, True, False, False, True], [1, 1, 1, 0, 0, 1], [0, 0, 0, 1, 1, 0])"
   ]
  },
  {
   "cell_type": "code",
   "execution_count": 45,
   "metadata": {},
   "outputs": [
    {
     "data": {
      "text/plain": [
       "0.6855568673750493"
      ]
     },
     "execution_count": 45,
     "metadata": {},
     "output_type": "execute_result"
    }
   ],
   "source": [
    "ids.score_auc(quant_dataframe_train, confidence_based=True)"
   ]
  },
  {
   "cell_type": "code",
   "execution_count": 57,
   "metadata": {},
   "outputs": [
    {
     "name": "stdout",
     "output_type": "stream",
     "text": [
      "training class: Iris-setosa\n",
      "Running apriori with setting: confidence=0.5, support=0.0, minlen=2, maxlen=3, MAX_RULE_LEN=5\n",
      "Rule count: 54, Iteration: 1\n",
      "Increasing maxlen 4\n",
      "Running apriori with setting: confidence=0.5, support=0.0, minlen=2, maxlen=4, MAX_RULE_LEN=5\n",
      "Rule count: 98, Iteration: 2\n",
      "Increasing maxlen 5\n",
      "Running apriori with setting: confidence=0.5, support=0.0, minlen=2, maxlen=5, MAX_RULE_LEN=5\n",
      "Rule count: 115, Iteration: 3\n",
      "Decreasing confidence to 0.45\n",
      "Running apriori with setting: confidence=0.45, support=0.0, minlen=2, maxlen=5, MAX_RULE_LEN=5\n",
      "Rule count: 115, Iteration: 4\n",
      "Decreasing confidence to 0.4\n",
      "Running apriori with setting: confidence=0.4, support=0.0, minlen=2, maxlen=5, MAX_RULE_LEN=5\n",
      "Rule count: 115, Iteration: 5\n",
      "Decreasing confidence to 0.35000000000000003\n",
      "Running apriori with setting: confidence=0.35000000000000003, support=0.0, minlen=2, maxlen=5, MAX_RULE_LEN=5\n",
      "Rule count: 115, Iteration: 6\n",
      "Decreasing confidence to 0.30000000000000004\n",
      "Running apriori with setting: confidence=0.30000000000000004, support=0.0, minlen=2, maxlen=5, MAX_RULE_LEN=5\n",
      "Rule count: 115, Iteration: 7\n",
      "Decreasing confidence to 0.25000000000000006\n",
      "Running apriori with setting: confidence=0.25000000000000006, support=0.0, minlen=2, maxlen=5, MAX_RULE_LEN=5\n",
      "Rule count: 115, Iteration: 8\n",
      "Decreasing confidence to 0.20000000000000007\n",
      "Running apriori with setting: confidence=0.20000000000000007, support=0.0, minlen=2, maxlen=5, MAX_RULE_LEN=5\n",
      "Rule count: 115, Iteration: 9\n",
      "Decreasing confidence to 0.15000000000000008\n",
      "Running apriori with setting: confidence=0.15000000000000008, support=0.0, minlen=2, maxlen=5, MAX_RULE_LEN=5\n",
      "Rule count: 115, Iteration: 10\n",
      "Decreasing confidence to 0.10000000000000007\n",
      "Running apriori with setting: confidence=0.10000000000000007, support=0.0, minlen=2, maxlen=5, MAX_RULE_LEN=5\n",
      "Rule count: 115, Iteration: 11\n",
      "Decreasing confidence to 0.05000000000000007\n",
      "Running apriori with setting: confidence=0.05000000000000007, support=0.0, minlen=2, maxlen=5, MAX_RULE_LEN=5\n",
      "Rule count: 115, Iteration: 12\n",
      "Decreasing confidence to 6.938893903907228e-17\n",
      "Running apriori with setting: confidence=6.938893903907228e-17, support=0.0, minlen=2, maxlen=5, MAX_RULE_LEN=5\n",
      "Rule count: 115, Iteration: 13\n",
      "All options exhausted\n",
      "cover cache prepared\n",
      "overlap cache prepared\n",
      "training class: Iris-versicolor\n",
      "Running apriori with setting: confidence=0.5, support=0.0, minlen=2, maxlen=3, MAX_RULE_LEN=5\n",
      "Rule count: 77, Iteration: 1\n",
      "Increasing maxlen 4\n",
      "Running apriori with setting: confidence=0.5, support=0.0, minlen=2, maxlen=4, MAX_RULE_LEN=5\n",
      "Rule count: 134, Iteration: 2\n",
      "Increasing maxlen 5\n",
      "Running apriori with setting: confidence=0.5, support=0.0, minlen=2, maxlen=5, MAX_RULE_LEN=5\n",
      "Rule count: 153, Iteration: 3\n",
      "Decreasing confidence to 0.45\n",
      "Running apriori with setting: confidence=0.45, support=0.0, minlen=2, maxlen=5, MAX_RULE_LEN=5\n",
      "Rule count: 153, Iteration: 4\n",
      "Decreasing confidence to 0.4\n",
      "Running apriori with setting: confidence=0.4, support=0.0, minlen=2, maxlen=5, MAX_RULE_LEN=5\n",
      "Rule count: 153, Iteration: 5\n",
      "Decreasing confidence to 0.35000000000000003\n",
      "Running apriori with setting: confidence=0.35000000000000003, support=0.0, minlen=2, maxlen=5, MAX_RULE_LEN=5\n",
      "Rule count: 153, Iteration: 6\n",
      "Decreasing confidence to 0.30000000000000004\n",
      "Running apriori with setting: confidence=0.30000000000000004, support=0.0, minlen=2, maxlen=5, MAX_RULE_LEN=5\n",
      "Rule count: 153, Iteration: 7\n",
      "Decreasing confidence to 0.25000000000000006\n",
      "Running apriori with setting: confidence=0.25000000000000006, support=0.0, minlen=2, maxlen=5, MAX_RULE_LEN=5\n",
      "Rule count: 153, Iteration: 8\n",
      "Decreasing confidence to 0.20000000000000007\n",
      "Running apriori with setting: confidence=0.20000000000000007, support=0.0, minlen=2, maxlen=5, MAX_RULE_LEN=5\n",
      "Rule count: 153, Iteration: 9\n",
      "Decreasing confidence to 0.15000000000000008\n",
      "Running apriori with setting: confidence=0.15000000000000008, support=0.0, minlen=2, maxlen=5, MAX_RULE_LEN=5\n",
      "Rule count: 153, Iteration: 10\n",
      "Decreasing confidence to 0.10000000000000007\n",
      "Running apriori with setting: confidence=0.10000000000000007, support=0.0, minlen=2, maxlen=5, MAX_RULE_LEN=5\n",
      "Rule count: 153, Iteration: 11\n",
      "Decreasing confidence to 0.05000000000000007\n",
      "Running apriori with setting: confidence=0.05000000000000007, support=0.0, minlen=2, maxlen=5, MAX_RULE_LEN=5\n",
      "Rule count: 153, Iteration: 12\n",
      "Decreasing confidence to 6.938893903907228e-17\n",
      "Running apriori with setting: confidence=6.938893903907228e-17, support=0.0, minlen=2, maxlen=5, MAX_RULE_LEN=5\n",
      "Rule count: 153, Iteration: 13\n",
      "All options exhausted\n",
      "cover cache prepared\n",
      "overlap cache prepared\n",
      "training class: Iris-virginica\n",
      "Running apriori with setting: confidence=0.5, support=0.0, minlen=2, maxlen=3, MAX_RULE_LEN=5\n",
      "Rule count: 77, Iteration: 1\n",
      "Increasing maxlen 4\n",
      "Running apriori with setting: confidence=0.5, support=0.0, minlen=2, maxlen=4, MAX_RULE_LEN=5\n",
      "Rule count: 134, Iteration: 2\n",
      "Increasing maxlen 5\n",
      "Running apriori with setting: confidence=0.5, support=0.0, minlen=2, maxlen=5, MAX_RULE_LEN=5\n",
      "Rule count: 153, Iteration: 3\n",
      "Decreasing confidence to 0.45\n",
      "Running apriori with setting: confidence=0.45, support=0.0, minlen=2, maxlen=5, MAX_RULE_LEN=5\n",
      "Rule count: 153, Iteration: 4\n",
      "Decreasing confidence to 0.4\n",
      "Running apriori with setting: confidence=0.4, support=0.0, minlen=2, maxlen=5, MAX_RULE_LEN=5\n",
      "Rule count: 153, Iteration: 5\n",
      "Decreasing confidence to 0.35000000000000003\n",
      "Running apriori with setting: confidence=0.35000000000000003, support=0.0, minlen=2, maxlen=5, MAX_RULE_LEN=5\n",
      "Rule count: 153, Iteration: 6\n",
      "Decreasing confidence to 0.30000000000000004\n",
      "Running apriori with setting: confidence=0.30000000000000004, support=0.0, minlen=2, maxlen=5, MAX_RULE_LEN=5\n",
      "Rule count: 153, Iteration: 7\n",
      "Decreasing confidence to 0.25000000000000006\n",
      "Running apriori with setting: confidence=0.25000000000000006, support=0.0, minlen=2, maxlen=5, MAX_RULE_LEN=5\n",
      "Rule count: 153, Iteration: 8\n",
      "Decreasing confidence to 0.20000000000000007\n",
      "Running apriori with setting: confidence=0.20000000000000007, support=0.0, minlen=2, maxlen=5, MAX_RULE_LEN=5\n",
      "Rule count: 153, Iteration: 9\n",
      "Decreasing confidence to 0.15000000000000008\n",
      "Running apriori with setting: confidence=0.15000000000000008, support=0.0, minlen=2, maxlen=5, MAX_RULE_LEN=5\n",
      "Rule count: 153, Iteration: 10\n",
      "Decreasing confidence to 0.10000000000000007\n",
      "Running apriori with setting: confidence=0.10000000000000007, support=0.0, minlen=2, maxlen=5, MAX_RULE_LEN=5\n",
      "Rule count: 153, Iteration: 11\n",
      "Decreasing confidence to 0.05000000000000007\n",
      "Running apriori with setting: confidence=0.05000000000000007, support=0.0, minlen=2, maxlen=5, MAX_RULE_LEN=5\n",
      "Rule count: 153, Iteration: 12\n",
      "Decreasing confidence to 6.938893903907228e-17\n",
      "Running apriori with setting: confidence=6.938893903907228e-17, support=0.0, minlen=2, maxlen=5, MAX_RULE_LEN=5\n",
      "Rule count: 153, Iteration: 13\n",
      "All options exhausted\n",
      "cover cache prepared\n",
      "overlap cache prepared\n"
     ]
    }
   ],
   "source": [
    "mutliclass_quant_df = QuantitativeDataFrame(pd.read_csv(\"../data/iris1.csv\"))\n",
    "\n",
    "ids_one_vs_all = IDSOneVsAll()\n",
    "\n",
    "\n",
    "ids_one_vs_all.fit(mutliclass_quant_df)"
   ]
  },
  {
   "cell_type": "code",
   "execution_count": 59,
   "metadata": {},
   "outputs": [
    {
     "name": "stdout",
     "output_type": "stream",
     "text": [
      "scoring class: Iris-setosa\n",
      "scoring class: Iris-versicolor\n",
      "scoring class: Iris-virginica\n"
     ]
    },
    {
     "data": {
      "text/plain": [
       "0.9777777777777779"
      ]
     },
     "execution_count": 59,
     "metadata": {},
     "output_type": "execute_result"
    }
   ],
   "source": [
    "ids_one_vs_all.score_auc(mutliclass_quant_df)"
   ]
  }
 ],
 "metadata": {
  "kernelspec": {
   "display_name": "Python 3",
   "language": "python",
   "name": "python3"
  },
  "language_info": {
   "codemirror_mode": {
    "name": "ipython",
    "version": 3
   },
   "file_extension": ".py",
   "mimetype": "text/x-python",
   "name": "python",
   "nbconvert_exporter": "python",
   "pygments_lexer": "ipython3",
   "version": "3.7.3"
  }
 },
 "nbformat": 4,
 "nbformat_minor": 2
}
