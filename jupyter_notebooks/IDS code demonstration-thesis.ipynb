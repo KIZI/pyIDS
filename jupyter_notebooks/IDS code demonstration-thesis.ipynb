{
 "cells": [
  {
   "cell_type": "code",
   "execution_count": 3,
   "metadata": {},
   "outputs": [],
   "source": [
    "from pyarc.data_structures import ClassAssocationRule\n",
    "from pyids.data_structures import (\n",
    "    IDSRule,\n",
    "    IDSRuleSet,\n",
    "    IDSClassifier,\n",
    "    IDSObjectiveFunction,\n",
    "    ObjectiveFunctionParameters,\n",
    "    ObjectiveFunctionParameters,\n",
    "    RSOptimizer,\n",
    "    DLSOptimizer,\n",
    "    SLSOptimizer,\n",
    "    RandomizedUSMOptimizer,\n",
    "    DeterministicUSMOptimizer\n",
    ")"
   ]
  },
  {
   "cell_type": "code",
   "execution_count": 4,
   "metadata": {},
   "outputs": [],
   "source": [
    "def print_cars(ids_cars):\n",
    "    cars = ids_cars\n",
    "    is_ids = False\n",
    "    if type(ids_cars[0]) == IDSRule:\n",
    "        is_ids = [ r.calc_f1() for r in ids_cars ]\n",
    "        cars = [ r.car for r in ids_cars ]\n",
    "    latex = []\n",
    "    for idx, car in enumerate(cars):\n",
    "        if is_ids:\n",
    "            latex.append(car_to_latex(car, is_ids=is_ids[idx]))\n",
    "        else:\n",
    "            latex.append(car_to_latex(car))\n",
    "        \n",
    "    return \"\\n\\n\".join(latex)\n",
    "        \n",
    "def car_to_latex(car, is_ids=False):\n",
    "    trans = {\n",
    "        \"-\":  r\"\\-\",\n",
    "        \"_\":  r\"\\_\",\n",
    "        \"]\":  r\"\\]\",\n",
    "        \"\\\\\": r\"\\\\\",\n",
    "        \"^\":  r\"\\^\",\n",
    "        \"$\":  r\"\\$\",\n",
    "        \"*\":  r\"\\*\",\n",
    "        \".\":  r\"\\.\"\n",
    "    }\n",
    "    latex = []\n",
    "    \n",
    "    latex.append(\"If\")\n",
    "    \n",
    "    for idx, predicate in enumerate(car.antecedent):\n",
    "       \n",
    "        name, interval = predicate\n",
    "        name = name.translate(str.maketrans(trans))\n",
    "        \n",
    "        interval_string = interval.translate(str.maketrans(trans))\n",
    "        \n",
    "        if idx != 0:\n",
    "            latex.append(\"and\")\n",
    "        latex.append(\n",
    "            f\"\\\\textcolor{{blue}}{{{name}}}=\\\\textcolor{{gray}}{{{interval_string}}}\"\n",
    "        )\n",
    "\n",
    "        \n",
    "    class_name, class_value = car.consequent\n",
    "    \n",
    "    latex.append(\"then\")\n",
    "    latex.append(\n",
    "        f\"\\\\textcolor{{red}}{{{class_name}}}=\\\\textcolor{{gray}}{{{class_value}}}\"\n",
    "    )\n",
    "    \n",
    "    if is_ids:\n",
    "        latex.append(\n",
    "            f\"$\\mid$ f1-score: \\\\textit{{{round(is_ids, 2)}}}\"\n",
    "        )\n",
    "    \n",
    "    return \" \".join(latex)"
   ]
  },
  {
   "cell_type": "markdown",
   "metadata": {},
   "source": [
    "# IDS Demonstration"
   ]
  },
  {
   "cell_type": "markdown",
   "metadata": {},
   "source": [
    "## Importing required libraries"
   ]
  },
  {
   "cell_type": "code",
   "execution_count": 5,
   "metadata": {},
   "outputs": [],
   "source": [
    "import pandas as pd\n",
    "import pyarc\n",
    "from pyids import IDS\n",
    "from pyids.data_structures import mine_CARs\n",
    "from pyids.rule_mining import RuleMiner\n",
    "from pyarc.qcba.data_structures import QuantitativeDataFrame\n",
    "\n",
    "from sklearn.model_selection import train_test_split"
   ]
  },
  {
   "cell_type": "markdown",
   "metadata": {},
   "source": [
    "## Loading the test and train data"
   ]
  },
  {
   "cell_type": "code",
   "execution_count": 6,
   "metadata": {},
   "outputs": [],
   "source": [
    "data = pd.read_csv(\"../data/titanic.csv\").sample(frac=1).reset_index(drop=True)\n",
    "\n",
    "\n",
    "data_train, data_test = train_test_split(data, test_size=0.8)"
   ]
  },
  {
   "cell_type": "code",
   "execution_count": 7,
   "metadata": {},
   "outputs": [
    {
     "data": {
      "text/html": [
       "<div>\n",
       "<style scoped>\n",
       "    .dataframe tbody tr th:only-of-type {\n",
       "        vertical-align: middle;\n",
       "    }\n",
       "\n",
       "    .dataframe tbody tr th {\n",
       "        vertical-align: top;\n",
       "    }\n",
       "\n",
       "    .dataframe thead th {\n",
       "        text-align: right;\n",
       "    }\n",
       "</style>\n",
       "<table border=\"1\" class=\"dataframe\">\n",
       "  <thead>\n",
       "    <tr style=\"text-align: right;\">\n",
       "      <th></th>\n",
       "      <th>Passenger_Cat</th>\n",
       "      <th>Age_Cat</th>\n",
       "      <th>Gender</th>\n",
       "      <th>Died</th>\n",
       "    </tr>\n",
       "  </thead>\n",
       "  <tbody>\n",
       "    <tr>\n",
       "      <th>0</th>\n",
       "      <td>3rd_class</td>\n",
       "      <td>adult</td>\n",
       "      <td>male</td>\n",
       "      <td>1</td>\n",
       "    </tr>\n",
       "    <tr>\n",
       "      <th>1</th>\n",
       "      <td>1st_class</td>\n",
       "      <td>adult</td>\n",
       "      <td>male</td>\n",
       "      <td>0</td>\n",
       "    </tr>\n",
       "    <tr>\n",
       "      <th>2</th>\n",
       "      <td>3rd_class</td>\n",
       "      <td>adult</td>\n",
       "      <td>male</td>\n",
       "      <td>1</td>\n",
       "    </tr>\n",
       "    <tr>\n",
       "      <th>3</th>\n",
       "      <td>3rd_class</td>\n",
       "      <td>child</td>\n",
       "      <td>male</td>\n",
       "      <td>1</td>\n",
       "    </tr>\n",
       "    <tr>\n",
       "      <th>4</th>\n",
       "      <td>3rd_class</td>\n",
       "      <td>adult</td>\n",
       "      <td>male</td>\n",
       "      <td>1</td>\n",
       "    </tr>\n",
       "  </tbody>\n",
       "</table>\n",
       "</div>"
      ],
      "text/plain": [
       "  Passenger_Cat Age_Cat Gender  Died\n",
       "0     3rd_class   adult   male     1\n",
       "1     1st_class   adult   male     0\n",
       "2     3rd_class   adult   male     1\n",
       "3     3rd_class   child   male     1\n",
       "4     3rd_class   adult   male     1"
      ]
     },
     "execution_count": 7,
     "metadata": {},
     "output_type": "execute_result"
    }
   ],
   "source": [
    "data.head()"
   ]
  },
  {
   "cell_type": "code",
   "execution_count": 8,
   "metadata": {},
   "outputs": [
    {
     "name": "stdout",
     "output_type": "stream",
     "text": [
      "Running apriori with setting: confidence=0.5, support=0.0, minlen=2, maxlen=3, MAX_RULE_LEN=4\n",
      "Rule count: 50, Iteration: 1\n",
      "Increasing maxlen 4\n",
      "Running apriori with setting: confidence=0.5, support=0.0, minlen=2, maxlen=4, MAX_RULE_LEN=4\n",
      "Rule count: 71, Iteration: 2\n",
      "Decreasing confidence to 0.45\n",
      "Running apriori with setting: confidence=0.45, support=0.0, minlen=2, maxlen=4, MAX_RULE_LEN=4\n",
      "Rule count: 71, Iteration: 3\n",
      "Decreasing confidence to 0.4\n",
      "Running apriori with setting: confidence=0.4, support=0.0, minlen=2, maxlen=4, MAX_RULE_LEN=4\n",
      "Rule count: 71, Iteration: 4\n",
      "Decreasing confidence to 0.35000000000000003\n",
      "Running apriori with setting: confidence=0.35000000000000003, support=0.0, minlen=2, maxlen=4, MAX_RULE_LEN=4\n",
      "Rule count: 71, Iteration: 5\n",
      "Decreasing confidence to 0.30000000000000004\n",
      "Running apriori with setting: confidence=0.30000000000000004, support=0.0, minlen=2, maxlen=4, MAX_RULE_LEN=4\n",
      "Rule count: 71, Iteration: 6\n",
      "Decreasing confidence to 0.25000000000000006\n",
      "Running apriori with setting: confidence=0.25000000000000006, support=0.0, minlen=2, maxlen=4, MAX_RULE_LEN=4\n",
      "Rule count: 71, Iteration: 7\n",
      "Decreasing confidence to 0.20000000000000007\n",
      "Running apriori with setting: confidence=0.20000000000000007, support=0.0, minlen=2, maxlen=4, MAX_RULE_LEN=4\n",
      "Rule count: 71, Iteration: 8\n",
      "Decreasing confidence to 0.15000000000000008\n",
      "Running apriori with setting: confidence=0.15000000000000008, support=0.0, minlen=2, maxlen=4, MAX_RULE_LEN=4\n",
      "Rule count: 71, Iteration: 9\n",
      "Decreasing confidence to 0.10000000000000007\n",
      "Running apriori with setting: confidence=0.10000000000000007, support=0.0, minlen=2, maxlen=4, MAX_RULE_LEN=4\n",
      "Rule count: 71, Iteration: 10\n",
      "Decreasing confidence to 0.05000000000000007\n",
      "Running apriori with setting: confidence=0.05000000000000007, support=0.0, minlen=2, maxlen=4, MAX_RULE_LEN=4\n",
      "Rule count: 71, Iteration: 11\n",
      "Decreasing confidence to 6.938893903907228e-17\n",
      "Running apriori with setting: confidence=6.938893903907228e-17, support=0.0, minlen=2, maxlen=4, MAX_RULE_LEN=4\n",
      "Rule count: 71, Iteration: 12\n",
      "All options exhausted\n"
     ]
    }
   ],
   "source": [
    "cars = mine_CARs(data_train, 20)\n",
    "car = cars[0]"
   ]
  },
  {
   "cell_type": "code",
   "execution_count": 9,
   "metadata": {},
   "outputs": [],
   "source": [
    "ids_rule = IDSRule(car)"
   ]
  },
  {
   "cell_type": "code",
   "execution_count": 10,
   "metadata": {},
   "outputs": [
    {
     "name": "stderr",
     "output_type": "stream",
     "text": [
      "D:\\programy\\Anaconda\\lib\\site-packages\\pandas\\core\\indexing.py:543: SettingWithCopyWarning: \n",
      "A value is trying to be set on a copy of a slice from a DataFrame.\n",
      "Try using .loc[row_indexer,col_indexer] = value instead\n",
      "\n",
      "See the caveats in the documentation: http://pandas.pydata.org/pandas-docs/stable/indexing.html#indexing-view-versus-copy\n",
      "  self.obj[item] = s\n"
     ]
    }
   ],
   "source": [
    "quant_dataframe_train = QuantitativeDataFrame(data_train)\n",
    "quant_dataframe_test = QuantitativeDataFrame(data_test)"
   ]
  },
  {
   "cell_type": "code",
   "execution_count": 11,
   "metadata": {},
   "outputs": [
    {
     "data": {
      "text/plain": [
       "pyarc.qcba.data_structures.quant_dataset.QuantitativeDataFrame"
      ]
     },
     "execution_count": 11,
     "metadata": {},
     "output_type": "execute_result"
    }
   ],
   "source": [
    "type(quant_dataframe_train)"
   ]
  },
  {
   "cell_type": "code",
   "execution_count": 12,
   "metadata": {},
   "outputs": [
    {
     "data": {
      "text/plain": [
       "False"
      ]
     },
     "execution_count": 12,
     "metadata": {},
     "output_type": "execute_result"
    }
   ],
   "source": [
    "ids_rule.cache_prepared"
   ]
  },
  {
   "cell_type": "code",
   "execution_count": 13,
   "metadata": {},
   "outputs": [
    {
     "data": {
      "text/plain": [
       "{'cover': None,\n",
       " 'correct_cover': None,\n",
       " 'incorrect_cover': None,\n",
       " 'rule_cover': None}"
      ]
     },
     "execution_count": 13,
     "metadata": {},
     "output_type": "execute_result"
    }
   ],
   "source": [
    "ids_rule.cover_cache"
   ]
  },
  {
   "cell_type": "code",
   "execution_count": 14,
   "metadata": {},
   "outputs": [
    {
     "data": {
      "text/plain": [
       "{'cover': None,\n",
       " 'correct_cover': None,\n",
       " 'incorrect_cover': None,\n",
       " 'rule_cover': None}"
      ]
     },
     "execution_count": 14,
     "metadata": {},
     "output_type": "execute_result"
    }
   ],
   "source": [
    "ids_rule1 = IDSRule(cars[0])\n",
    "ids_rule1.cover_cache"
   ]
  },
  {
   "cell_type": "code",
   "execution_count": 15,
   "metadata": {},
   "outputs": [
    {
     "name": "stdout",
     "output_type": "stream",
     "text": [
      "IDSRule {Gender=female,Passenger_Cat=1st_class} => {Died=0} sup: 0.06 conf: 1.00, f1: 0.11, len: 3, id: 41\n",
      "IDSRule {Passenger_Cat=1st_class,Gender=female,Age_Cat=adult} => {Died=0} sup: 0.06 conf: 1.00, f1: 0.11, len: 4, id: 40\n"
     ]
    }
   ],
   "source": [
    "ids_rule1 = IDSRule(cars[0])\n",
    "ids_rule2 = IDSRule(cars[1])\n",
    "\n",
    "print(ids_rule1)\n",
    "print(ids_rule2)"
   ]
  },
  {
   "cell_type": "code",
   "execution_count": 16,
   "metadata": {},
   "outputs": [],
   "source": [
    "ids_rule1.calculate_cover(quant_dataframe_train)\n",
    "ids_rule2.calculate_cover(quant_dataframe_train)"
   ]
  },
  {
   "cell_type": "code",
   "execution_count": 17,
   "metadata": {},
   "outputs": [
    {
     "data": {
      "text/plain": [
       "array([False, False, False, False, False, False, False, False, False,\n",
       "       False, False, False,  True, False, False, False, False, False,\n",
       "       False, False, False, False, False, False, False, False, False,\n",
       "       False, False, False, False, False, False, False, False, False,\n",
       "       False, False, False, False, False, False, False, False, False,\n",
       "       False, False, False, False, False, False, False, False, False,\n",
       "       False, False, False, False, False, False,  True, False, False,\n",
       "       False, False, False, False, False, False, False, False, False,\n",
       "       False, False, False,  True, False, False, False, False, False,\n",
       "       False, False, False, False, False, False, False, False, False,\n",
       "       False, False, False, False, False, False, False, False, False,\n",
       "       False, False, False, False, False, False, False, False, False,\n",
       "       False, False, False, False, False, False, False, False, False,\n",
       "       False, False, False, False, False, False,  True, False, False,\n",
       "       False, False, False, False, False, False, False, False, False,\n",
       "       False, False, False, False, False, False, False, False, False,\n",
       "       False,  True, False, False, False,  True, False, False, False,\n",
       "       False, False, False, False, False, False, False, False, False,\n",
       "        True, False, False, False, False, False, False, False, False,\n",
       "       False, False, False, False,  True,  True, False, False, False,\n",
       "       False, False, False, False, False, False, False, False, False,\n",
       "       False, False, False,  True, False, False,  True, False, False,\n",
       "       False, False, False, False, False, False, False, False, False,\n",
       "       False, False, False, False, False, False, False, False, False,\n",
       "       False, False,  True,  True, False, False, False, False, False,\n",
       "       False, False, False, False,  True, False, False, False, False,\n",
       "       False, False, False, False,  True, False, False, False, False,\n",
       "       False, False, False, False, False, False, False, False, False,\n",
       "       False, False, False, False, False, False,  True, False, False,\n",
       "       False, False,  True, False, False, False, False, False, False,\n",
       "       False, False, False, False, False, False, False, False, False,\n",
       "       False, False, False, False, False, False, False, False, False,\n",
       "       False, False, False, False, False,  True, False, False, False,\n",
       "       False, False, False, False, False, False, False, False, False,\n",
       "       False, False, False, False, False, False, False, False, False,\n",
       "       False, False, False,  True, False, False,  True, False, False,\n",
       "       False, False, False, False, False, False, False, False, False,\n",
       "       False, False, False, False, False, False, False, False, False,\n",
       "       False, False, False, False, False, False, False, False, False,\n",
       "       False])"
      ]
     },
     "execution_count": 17,
     "metadata": {},
     "output_type": "execute_result"
    }
   ],
   "source": [
    "ids_rule1.rule_overlap(ids_rule2, quant_dataframe_train)"
   ]
  },
  {
   "cell_type": "code",
   "execution_count": 18,
   "metadata": {},
   "outputs": [
    {
     "data": {
      "text/plain": [
       "pandas.core.frame.DataFrame"
      ]
     },
     "execution_count": 18,
     "metadata": {},
     "output_type": "execute_result"
    }
   ],
   "source": [
    "type(data_train)"
   ]
  },
  {
   "cell_type": "code",
   "execution_count": 19,
   "metadata": {},
   "outputs": [
    {
     "name": "stdout",
     "output_type": "stream",
     "text": [
      "Running apriori with setting: confidence=0.5, support=0.0, minlen=2, maxlen=3, MAX_RULE_LEN=4\n",
      "Rule count: 50, Iteration: 1\n",
      "Increasing maxlen 4\n",
      "Running apriori with setting: confidence=0.5, support=0.0, minlen=2, maxlen=4, MAX_RULE_LEN=4\n",
      "Rule count: 71, Iteration: 2\n",
      "Decreasing confidence to 0.45\n",
      "Running apriori with setting: confidence=0.45, support=0.0, minlen=2, maxlen=4, MAX_RULE_LEN=4\n",
      "Rule count: 71, Iteration: 3\n",
      "Decreasing confidence to 0.4\n",
      "Running apriori with setting: confidence=0.4, support=0.0, minlen=2, maxlen=4, MAX_RULE_LEN=4\n",
      "Rule count: 71, Iteration: 4\n",
      "Decreasing confidence to 0.35000000000000003\n",
      "Running apriori with setting: confidence=0.35000000000000003, support=0.0, minlen=2, maxlen=4, MAX_RULE_LEN=4\n",
      "Rule count: 71, Iteration: 5\n",
      "Decreasing confidence to 0.30000000000000004\n",
      "Running apriori with setting: confidence=0.30000000000000004, support=0.0, minlen=2, maxlen=4, MAX_RULE_LEN=4\n",
      "Rule count: 71, Iteration: 6\n",
      "Decreasing confidence to 0.25000000000000006\n",
      "Running apriori with setting: confidence=0.25000000000000006, support=0.0, minlen=2, maxlen=4, MAX_RULE_LEN=4\n",
      "Rule count: 71, Iteration: 7\n",
      "Decreasing confidence to 0.20000000000000007\n",
      "Running apriori with setting: confidence=0.20000000000000007, support=0.0, minlen=2, maxlen=4, MAX_RULE_LEN=4\n",
      "Rule count: 71, Iteration: 8\n",
      "Decreasing confidence to 0.15000000000000008\n",
      "Running apriori with setting: confidence=0.15000000000000008, support=0.0, minlen=2, maxlen=4, MAX_RULE_LEN=4\n",
      "Rule count: 71, Iteration: 9\n",
      "Decreasing confidence to 0.10000000000000007\n",
      "Running apriori with setting: confidence=0.10000000000000007, support=0.0, minlen=2, maxlen=4, MAX_RULE_LEN=4\n",
      "Rule count: 71, Iteration: 10\n",
      "Decreasing confidence to 0.05000000000000007\n",
      "Running apriori with setting: confidence=0.05000000000000007, support=0.0, minlen=2, maxlen=4, MAX_RULE_LEN=4\n",
      "Rule count: 71, Iteration: 11\n",
      "Decreasing confidence to 6.938893903907228e-17\n",
      "Running apriori with setting: confidence=6.938893903907228e-17, support=0.0, minlen=2, maxlen=4, MAX_RULE_LEN=4\n",
      "Rule count: 71, Iteration: 12\n",
      "All options exhausted\n"
     ]
    },
    {
     "data": {
      "text/plain": [
       "pyarc.data_structures.car.ClassAssocationRule"
      ]
     },
     "execution_count": 19,
     "metadata": {},
     "output_type": "execute_result"
    }
   ],
   "source": [
    "type(mine_CARs(data_train, rule_cutoff=20)[0])"
   ]
  },
  {
   "cell_type": "code",
   "execution_count": 20,
   "metadata": {},
   "outputs": [],
   "source": [
    "ruleset = IDSRuleSet.from_cba_rules(cars)"
   ]
  },
  {
   "cell_type": "code",
   "execution_count": 21,
   "metadata": {},
   "outputs": [
    {
     "data": {
      "text/plain": [
       "(46, 3)"
      ]
     },
     "execution_count": 21,
     "metadata": {},
     "output_type": "execute_result"
    }
   ],
   "source": [
    "ruleset.sum_rule_length(), ruleset.max_rule_length()"
   ]
  },
  {
   "cell_type": "code",
   "execution_count": 22,
   "metadata": {},
   "outputs": [],
   "source": [
    "ids_ruleset = IDSRuleSet.from_cba_rules(cars)"
   ]
  },
  {
   "cell_type": "code",
   "execution_count": 23,
   "metadata": {},
   "outputs": [
    {
     "data": {
      "text/plain": [
       "pyids.data_structures.ids_ruleset.IDSRuleSet"
      ]
     },
     "execution_count": 23,
     "metadata": {},
     "output_type": "execute_result"
    }
   ],
   "source": [
    "type(ids_ruleset)"
   ]
  },
  {
   "cell_type": "code",
   "execution_count": 24,
   "metadata": {},
   "outputs": [],
   "source": [
    "params = ObjectiveFunctionParameters()\n",
    "\n",
    "params.params[\"all_rules\"] = ids_ruleset\n",
    "params.params[\"len_all_rules\"] = len(ids_ruleset.ruleset)\n",
    "params.params[\"quant_dataframe\"] = quant_dataframe_train\n",
    "params.params[\"lambda_array\"] = 7 * [1]\n"
   ]
  },
  {
   "cell_type": "code",
   "execution_count": 25,
   "metadata": {},
   "outputs": [
    {
     "name": "stdout",
     "output_type": "stream",
     "text": [
      "cover cache prepared\n",
      "overlap cache prepared\n"
     ]
    }
   ],
   "source": [
    "obj_func = IDSObjectiveFunction(params)"
   ]
  },
  {
   "cell_type": "code",
   "execution_count": 26,
   "metadata": {},
   "outputs": [],
   "source": [
    "rule_subset = IDSRuleSet(list(ids_ruleset.ruleset)[2:5])"
   ]
  },
  {
   "cell_type": "code",
   "execution_count": 27,
   "metadata": {},
   "outputs": [
    {
     "data": {
      "text/plain": [
       "{IDSRule {Passenger_Cat=2nd_class,Gender=male,Age_Cat=adult} => {Died=1} sup: 0.08 conf: 0.91, f1: 0.15, len: 4, id: 43,\n",
       " IDSRule {Passenger_Cat=2nd_class,Age_Cat=adult} => {Died=1} sup: 0.09 conf: 0.82, f1: 0.16, len: 3, id: 42,\n",
       " IDSRule {Passenger_Cat=crew,Gender=male,Age_Cat=adult} => {Died=1} sup: 0.31 conf: 0.77, f1: 0.44, len: 4, id: 4}"
      ]
     },
     "execution_count": 27,
     "metadata": {},
     "output_type": "execute_result"
    }
   ],
   "source": [
    "rule_subset.ruleset"
   ]
  },
  {
   "cell_type": "code",
   "execution_count": 28,
   "metadata": {},
   "outputs": [
    {
     "data": {
      "text/plain": [
       "280486.0"
      ]
     },
     "execution_count": 28,
     "metadata": {},
     "output_type": "execute_result"
    }
   ],
   "source": [
    "obj_func.evaluate(ids_ruleset)"
   ]
  },
  {
   "cell_type": "code",
   "execution_count": 29,
   "metadata": {},
   "outputs": [],
   "source": [
    "rs_opt = RSOptimizer(input_set=ids_ruleset.ruleset)\n",
    "\n",
    "solution_set = rs_opt.optimize()"
   ]
  },
  {
   "cell_type": "code",
   "execution_count": 30,
   "metadata": {},
   "outputs": [
    {
     "data": {
      "text/plain": [
       "{IDSRule {Passenger_Cat=1st_class,Gender=male,Age_Cat=child} => {Died=0} sup: 0.00 conf: 1.00, f1: 0.01, len: 4, id: 66,\n",
       " IDSRule {Gender=female,Passenger_Cat=crew} => {Died=0} sup: 0.00 conf: 1.00, f1: 0.01, len: 3, id: 28,\n",
       " IDSRule {Passenger_Cat=2nd_class,Age_Cat=child} => {Died=0} sup: 0.01 conf: 1.00, f1: 0.02, len: 3, id: 69,\n",
       " IDSRule {Passenger_Cat=1st_class,Gender=female,Age_Cat=adult} => {Died=0} sup: 0.06 conf: 1.00, f1: 0.11, len: 4, id: 40,\n",
       " IDSRule {Passenger_Cat=2nd_class,Gender=male} => {Died=1} sup: 0.08 conf: 0.85, f1: 0.15, len: 3, id: 44,\n",
       " IDSRule {Gender=male,Age_Cat=adult,Passenger_Cat=3rd_class} => {Died=1} sup: 0.17 conf: 0.85, f1: 0.29, len: 4, id: 8,\n",
       " IDSRule {Passenger_Cat=3rd_class,Gender=male} => {Died=1} sup: 0.19 conf: 0.82, f1: 0.31, len: 3, id: 9,\n",
       " IDSRule {Passenger_Cat=3rd_class,Age_Cat=adult} => {Died=1} sup: 0.21 conf: 0.77, f1: 0.33, len: 3, id: 7,\n",
       " IDSRule {Passenger_Cat=crew,Gender=male,Age_Cat=adult} => {Died=1} sup: 0.31 conf: 0.77, f1: 0.44, len: 4, id: 4,\n",
       " IDSRule {Passenger_Cat=crew,Gender=male} => {Died=1} sup: 0.31 conf: 0.77, f1: 0.44, len: 3, id: 5,\n",
       " IDSRule {Gender=male,Age_Cat=adult} => {Died=1} sup: 0.64 conf: 0.81, f1: 0.71, len: 3, id: 1,\n",
       " IDSRule {Gender=male} => {Died=1} sup: 0.66 conf: 0.79, f1: 0.72, len: 2, id: 2}"
      ]
     },
     "execution_count": 30,
     "metadata": {},
     "output_type": "execute_result"
    }
   ],
   "source": [
    "solution_set"
   ]
  },
  {
   "cell_type": "code",
   "execution_count": 31,
   "metadata": {},
   "outputs": [
    {
     "data": {
      "text/plain": [
       "283950.0"
      ]
     },
     "execution_count": 31,
     "metadata": {},
     "output_type": "execute_result"
    }
   ],
   "source": [
    "obj_func.evaluate(IDSRuleSet(solution_set))"
   ]
  },
  {
   "cell_type": "code",
   "execution_count": 32,
   "metadata": {},
   "outputs": [],
   "source": [
    "dls_opt = DLSOptimizer(obj_func, params)"
   ]
  },
  {
   "cell_type": "code",
   "execution_count": 33,
   "metadata": {},
   "outputs": [
    {
     "name": "stdout",
     "output_type": "stream",
     "text": [
      "Testing if rule is good to add IDSRule {Passenger_Cat=2nd_class,Gender=male,Age_Cat=child} => {Died=0} sup: 0.01 conf: 1.00, f1: 0.01, len: 4, id: 68\n",
      "Testing if rule is good to add IDSRule {Gender=female,Passenger_Cat=crew} => {Died=0} sup: 0.00 conf: 1.00, f1: 0.01, len: 3, id: 28\n",
      "Testing if rule is good to add IDSRule {Gender=male,Age_Cat=adult} => {Died=1} sup: 0.64 conf: 0.81, f1: 0.71, len: 3, id: 1\n",
      "Testing if rule is good to add IDSRule {Passenger_Cat=3rd_class,Gender=male} => {Died=1} sup: 0.19 conf: 0.82, f1: 0.31, len: 3, id: 9\n",
      "Testing if rule is good to add IDSRule {Passenger_Cat=2nd_class,Age_Cat=adult} => {Died=1} sup: 0.09 conf: 0.82, f1: 0.16, len: 3, id: 42\n",
      "Testing if rule is good to add IDSRule {Passenger_Cat=crew,Gender=male,Age_Cat=adult} => {Died=1} sup: 0.31 conf: 0.77, f1: 0.44, len: 4, id: 4\n",
      "Testing if rule is good to add IDSRule {Passenger_Cat=crew} => {Died=1} sup: 0.31 conf: 0.77, f1: 0.44, len: 2, id: 6\n",
      "Testing if rule is good to add IDSRule {Passenger_Cat=1st_class,Gender=male,Age_Cat=child} => {Died=0} sup: 0.00 conf: 1.00, f1: 0.01, len: 4, id: 66\n",
      "Testing if rule is good to add IDSRule {Passenger_Cat=1st_class,Gender=female,Age_Cat=adult} => {Died=0} sup: 0.06 conf: 1.00, f1: 0.11, len: 4, id: 40\n",
      "Testing if rule is good to add IDSRule {Passenger_Cat=2nd_class,Gender=male,Age_Cat=adult} => {Died=1} sup: 0.08 conf: 0.91, f1: 0.15, len: 4, id: 43\n",
      "Testing if rule is good to add IDSRule {Passenger_Cat=3rd_class,Age_Cat=adult} => {Died=1} sup: 0.21 conf: 0.77, f1: 0.33, len: 3, id: 7\n",
      "Testing if rule is good to add IDSRule {Passenger_Cat=2nd_class,Age_Cat=child} => {Died=0} sup: 0.01 conf: 1.00, f1: 0.02, len: 3, id: 69\n",
      "Testing if rule is good to add IDSRule {Passenger_Cat=1st_class,Age_Cat=child} => {Died=0} sup: 0.00 conf: 1.00, f1: 0.01, len: 3, id: 67\n",
      "Testing if rule is good to add IDSRule {Gender=male,Age_Cat=adult,Passenger_Cat=3rd_class} => {Died=1} sup: 0.17 conf: 0.85, f1: 0.29, len: 4, id: 8\n",
      "Testing if rule is good to add IDSRule {Passenger_Cat=crew,Gender=female,Age_Cat=adult} => {Died=0} sup: 0.00 conf: 1.00, f1: 0.01, len: 4, id: 27\n",
      "Testing if rule is good to add IDSRule {Passenger_Cat=crew,Gender=male} => {Died=1} sup: 0.31 conf: 0.77, f1: 0.44, len: 3, id: 5\n",
      "Testing if rule is good to add IDSRule {Gender=female,Passenger_Cat=1st_class} => {Died=0} sup: 0.06 conf: 1.00, f1: 0.11, len: 3, id: 41\n",
      "Testing if rule is good to add IDSRule {Gender=female,Passenger_Cat=2nd_class,Age_Cat=child} => {Died=0} sup: 0.01 conf: 1.00, f1: 0.01, len: 4, id: 70\n",
      "Testing if rule is good to add IDSRule {Passenger_Cat=2nd_class,Gender=male} => {Died=1} sup: 0.08 conf: 0.85, f1: 0.15, len: 3, id: 44\n",
      "Testing should remove rule IDSRule {Gender=male} => {Died=1} sup: 0.66 conf: 0.79, f1: 0.72, len: 2, id: 2\n",
      "Objective value of solution set: 288829.0\n"
     ]
    }
   ],
   "source": [
    "solution_set = dls_opt.optimize()"
   ]
  },
  {
   "cell_type": "code",
   "execution_count": 34,
   "metadata": {},
   "outputs": [
    {
     "data": {
      "text/plain": [
       "288829.0"
      ]
     },
     "execution_count": 34,
     "metadata": {},
     "output_type": "execute_result"
    }
   ],
   "source": [
    "obj_func.evaluate(IDSRuleSet(solution_set))"
   ]
  },
  {
   "cell_type": "code",
   "execution_count": 35,
   "metadata": {},
   "outputs": [
    {
     "name": "stdout",
     "output_type": "stream",
     "text": [
      "INFO - Number of input rules: 20\n",
      "INFO - RandomOptimizer estimated the OPTIMUM value as: 286314.0\n",
      "INFO - Threshold value (2/(n*n) * OPT) = 1431.57. This is the standard error treshold value.\n",
      "INFO - Estimating omega for rule: IDSRule {Passenger_Cat=2nd_class,Gender=male,Age_Cat=child} => {Died=0} sup: 0.01 conf: 1.00, f1: 0.01, len: 4, id: 68\n",
      "INFO - stardard error of omega estimate: 366.47879201940185\n",
      "INFO - omega succesfully estimated\n",
      "INFO - Estimating omega for rule: IDSRule {Passenger_Cat=3rd_class,Gender=male} => {Died=1} sup: 0.19 conf: 0.82, f1: 0.31, len: 3, id: 9\n",
      "INFO - stardard error of omega estimate: 336.93827476260395\n",
      "INFO - omega succesfully estimated\n",
      "INFO - Estimating omega for rule: IDSRule {Passenger_Cat=2nd_class,Age_Cat=adult} => {Died=1} sup: 0.09 conf: 0.82, f1: 0.16, len: 3, id: 42\n",
      "INFO - stardard error of omega estimate: 268.5010055847091\n",
      "INFO - omega succesfully estimated\n",
      "INFO - Estimating omega for rule: IDSRule {Passenger_Cat=crew,Gender=male,Age_Cat=adult} => {Died=1} sup: 0.31 conf: 0.77, f1: 0.44, len: 4, id: 4\n",
      "INFO - stardard error of omega estimate: 404.66607715497975\n",
      "INFO - omega succesfully estimated\n",
      "INFO - Estimating omega for rule: IDSRule {Passenger_Cat=2nd_class,Gender=male,Age_Cat=adult} => {Died=1} sup: 0.08 conf: 0.91, f1: 0.15, len: 4, id: 43\n",
      "INFO - stardard error of omega estimate: 365.6886995793007\n",
      "INFO - omega succesfully estimated\n",
      "INFO - Estimating omega for rule: IDSRule {Passenger_Cat=2nd_class,Age_Cat=child} => {Died=0} sup: 0.01 conf: 1.00, f1: 0.02, len: 3, id: 69\n",
      "INFO - stardard error of omega estimate: 333.0114532564909\n",
      "INFO - omega succesfully estimated\n",
      "INFO - Estimating omega for rule: IDSRule {Passenger_Cat=crew,Gender=female,Age_Cat=adult} => {Died=0} sup: 0.00 conf: 1.00, f1: 0.01, len: 4, id: 27\n",
      "INFO - stardard error of omega estimate: 354.0102837489329\n",
      "INFO - omega succesfully estimated\n",
      "INFO - Estimating omega for rule: IDSRule {Passenger_Cat=crew,Gender=male} => {Died=1} sup: 0.31 conf: 0.77, f1: 0.44, len: 3, id: 5\n",
      "INFO - stardard error of omega estimate: 251.80151905816615\n",
      "INFO - omega succesfully estimated\n",
      "INFO - Estimating omega for rule: IDSRule {Gender=female,Passenger_Cat=2nd_class,Age_Cat=child} => {Died=0} sup: 0.01 conf: 1.00, f1: 0.01, len: 4, id: 70\n",
      "INFO - stardard error of omega estimate: 399.2868605401385\n",
      "INFO - omega succesfully estimated\n",
      "INFO - Estimating omega for rule: IDSRule {Passenger_Cat=2nd_class,Gender=male} => {Died=1} sup: 0.08 conf: 0.85, f1: 0.15, len: 3, id: 44\n",
      "INFO - stardard error of omega estimate: 253.55436695115313\n",
      "INFO - omega succesfully estimated\n",
      "INFO - Estimating omega for rule: IDSRule {Gender=female,Passenger_Cat=crew} => {Died=0} sup: 0.00 conf: 1.00, f1: 0.01, len: 3, id: 28\n",
      "INFO - stardard error of omega estimate: 317.50978725072395\n",
      "INFO - omega succesfully estimated\n",
      "INFO - Estimating omega for rule: IDSRule {Gender=male,Age_Cat=adult} => {Died=1} sup: 0.64 conf: 0.81, f1: 0.71, len: 3, id: 1\n",
      "INFO - stardard error of omega estimate: 346.1206220380404\n",
      "INFO - omega succesfully estimated\n",
      "INFO - Estimating omega for rule: IDSRule {Passenger_Cat=crew} => {Died=1} sup: 0.31 conf: 0.77, f1: 0.44, len: 2, id: 6\n",
      "INFO - stardard error of omega estimate: 346.91825117742076\n",
      "INFO - omega succesfully estimated\n",
      "INFO - Estimating omega for rule: IDSRule {Passenger_Cat=1st_class,Gender=male,Age_Cat=child} => {Died=0} sup: 0.00 conf: 1.00, f1: 0.01, len: 4, id: 66\n",
      "INFO - stardard error of omega estimate: 445.5622302215483\n",
      "INFO - omega succesfully estimated\n",
      "INFO - Estimating omega for rule: IDSRule {Passenger_Cat=1st_class,Gender=female,Age_Cat=adult} => {Died=0} sup: 0.06 conf: 1.00, f1: 0.11, len: 4, id: 40\n",
      "INFO - stardard error of omega estimate: 338.8158526397488\n",
      "INFO - omega succesfully estimated\n",
      "INFO - Estimating omega for rule: IDSRule {Passenger_Cat=3rd_class,Age_Cat=adult} => {Died=1} sup: 0.21 conf: 0.77, f1: 0.33, len: 3, id: 7\n",
      "INFO - stardard error of omega estimate: 352.8830542828601\n",
      "INFO - omega succesfully estimated\n",
      "INFO - Estimating omega for rule: IDSRule {Gender=male} => {Died=1} sup: 0.66 conf: 0.79, f1: 0.72, len: 2, id: 2\n",
      "INFO - stardard error of omega estimate: 342.7460065412871\n",
      "INFO - omega succesfully estimated\n",
      "INFO - Estimating omega for rule: IDSRule {Passenger_Cat=1st_class,Age_Cat=child} => {Died=0} sup: 0.00 conf: 1.00, f1: 0.01, len: 3, id: 67\n",
      "INFO - stardard error of omega estimate: 418.80685882635686\n",
      "INFO - omega succesfully estimated\n",
      "INFO - Estimating omega for rule: IDSRule {Gender=male,Age_Cat=adult,Passenger_Cat=3rd_class} => {Died=1} sup: 0.17 conf: 0.85, f1: 0.29, len: 4, id: 8\n",
      "INFO - stardard error of omega estimate: 343.0791934816217\n",
      "INFO - omega succesfully estimated\n",
      "INFO - Estimating omega for rule: IDSRule {Gender=female,Passenger_Cat=1st_class} => {Died=0} sup: 0.06 conf: 1.00, f1: 0.11, len: 3, id: 41\n",
      "INFO - stardard error of omega estimate: 316.0909204643499\n",
      "INFO - omega succesfully estimated\n",
      "INFO - Number of input rules: 20\n",
      "INFO - RandomOptimizer estimated the OPTIMUM value as: 283953.0\n",
      "INFO - Threshold value (2/(n*n) * OPT) = 1419.765. This is the standard error treshold value.\n",
      "INFO - Estimating omega for rule: IDSRule {Passenger_Cat=2nd_class,Gender=male,Age_Cat=child} => {Died=0} sup: 0.01 conf: 1.00, f1: 0.01, len: 4, id: 68\n",
      "INFO - stardard error of omega estimate: 321.9603640201694\n",
      "INFO - omega succesfully estimated\n",
      "INFO - Estimating omega for rule: IDSRule {Passenger_Cat=3rd_class,Gender=male} => {Died=1} sup: 0.19 conf: 0.82, f1: 0.31, len: 3, id: 9\n",
      "INFO - stardard error of omega estimate: 318.1942645617611\n",
      "INFO - omega succesfully estimated\n",
      "INFO - Estimating omega for rule: IDSRule {Passenger_Cat=2nd_class,Age_Cat=adult} => {Died=1} sup: 0.09 conf: 0.82, f1: 0.16, len: 3, id: 42\n",
      "INFO - stardard error of omega estimate: 294.94624086433106\n",
      "INFO - omega succesfully estimated\n",
      "INFO - Estimating omega for rule: IDSRule {Passenger_Cat=crew,Gender=male,Age_Cat=adult} => {Died=1} sup: 0.31 conf: 0.77, f1: 0.44, len: 4, id: 4\n",
      "INFO - stardard error of omega estimate: 302.0361319445076\n",
      "INFO - omega succesfully estimated\n",
      "INFO - Estimating omega for rule: IDSRule {Passenger_Cat=2nd_class,Gender=male,Age_Cat=adult} => {Died=1} sup: 0.08 conf: 0.91, f1: 0.15, len: 4, id: 43\n",
      "INFO - stardard error of omega estimate: 318.67448752606475\n",
      "INFO - omega succesfully estimated\n",
      "INFO - Estimating omega for rule: IDSRule {Passenger_Cat=2nd_class,Age_Cat=child} => {Died=0} sup: 0.01 conf: 1.00, f1: 0.02, len: 3, id: 69\n",
      "INFO - stardard error of omega estimate: 336.4677607141582\n",
      "INFO - omega succesfully estimated\n",
      "INFO - Estimating omega for rule: IDSRule {Passenger_Cat=crew,Gender=female,Age_Cat=adult} => {Died=0} sup: 0.00 conf: 1.00, f1: 0.01, len: 4, id: 27\n",
      "INFO - stardard error of omega estimate: 381.5565239908761\n",
      "INFO - omega succesfully estimated\n",
      "INFO - Estimating omega for rule: IDSRule {Passenger_Cat=crew,Gender=male} => {Died=1} sup: 0.31 conf: 0.77, f1: 0.44, len: 3, id: 5\n",
      "INFO - stardard error of omega estimate: 461.1400936808683\n",
      "INFO - omega succesfully estimated\n",
      "INFO - Estimating omega for rule: IDSRule {Gender=female,Passenger_Cat=2nd_class,Age_Cat=child} => {Died=0} sup: 0.01 conf: 1.00, f1: 0.01, len: 4, id: 70\n",
      "INFO - stardard error of omega estimate: 450.40118783147096\n",
      "INFO - omega succesfully estimated\n",
      "INFO - Estimating omega for rule: IDSRule {Passenger_Cat=2nd_class,Gender=male} => {Died=1} sup: 0.08 conf: 0.85, f1: 0.15, len: 3, id: 44\n",
      "INFO - stardard error of omega estimate: 261.9839346219535\n",
      "INFO - omega succesfully estimated\n",
      "INFO - Estimating omega for rule: IDSRule {Gender=female,Passenger_Cat=crew} => {Died=0} sup: 0.00 conf: 1.00, f1: 0.01, len: 3, id: 28\n",
      "INFO - stardard error of omega estimate: 297.7004669126335\n",
      "INFO - omega succesfully estimated\n",
      "INFO - Estimating omega for rule: IDSRule {Gender=male,Age_Cat=adult} => {Died=1} sup: 0.64 conf: 0.81, f1: 0.71, len: 3, id: 1\n",
      "INFO - stardard error of omega estimate: 377.0978705853429\n",
      "INFO - omega succesfully estimated\n",
      "INFO - Estimating omega for rule: IDSRule {Passenger_Cat=crew} => {Died=1} sup: 0.31 conf: 0.77, f1: 0.44, len: 2, id: 6\n",
      "INFO - stardard error of omega estimate: 257.2693394091103\n",
      "INFO - omega succesfully estimated\n",
      "INFO - Estimating omega for rule: IDSRule {Passenger_Cat=1st_class,Gender=male,Age_Cat=child} => {Died=0} sup: 0.00 conf: 1.00, f1: 0.01, len: 4, id: 66\n",
      "INFO - stardard error of omega estimate: 493.1596901613107\n",
      "INFO - omega succesfully estimated\n",
      "INFO - Estimating omega for rule: IDSRule {Passenger_Cat=1st_class,Gender=female,Age_Cat=adult} => {Died=0} sup: 0.06 conf: 1.00, f1: 0.11, len: 4, id: 40\n",
      "INFO - stardard error of omega estimate: 335.0297598721642\n",
      "INFO - omega succesfully estimated\n",
      "INFO - Estimating omega for rule: IDSRule {Passenger_Cat=3rd_class,Age_Cat=adult} => {Died=1} sup: 0.21 conf: 0.77, f1: 0.33, len: 3, id: 7\n",
      "INFO - stardard error of omega estimate: 307.6880514417159\n",
      "INFO - omega succesfully estimated\n",
      "INFO - Estimating omega for rule: IDSRule {Gender=male} => {Died=1} sup: 0.66 conf: 0.79, f1: 0.72, len: 2, id: 2\n"
     ]
    },
    {
     "name": "stdout",
     "output_type": "stream",
     "text": [
      "INFO - stardard error of omega estimate: 305.41533851462015\n",
      "INFO - omega succesfully estimated\n",
      "INFO - Estimating omega for rule: IDSRule {Passenger_Cat=1st_class,Age_Cat=child} => {Died=0} sup: 0.00 conf: 1.00, f1: 0.01, len: 3, id: 67\n",
      "INFO - stardard error of omega estimate: 264.8289447926718\n",
      "INFO - omega succesfully estimated\n",
      "INFO - Estimating omega for rule: IDSRule {Gender=male,Age_Cat=adult,Passenger_Cat=3rd_class} => {Died=1} sup: 0.17 conf: 0.85, f1: 0.29, len: 4, id: 8\n",
      "INFO - stardard error of omega estimate: 404.41178148021356\n",
      "INFO - omega succesfully estimated\n",
      "INFO - Estimating omega for rule: IDSRule {Gender=female,Passenger_Cat=1st_class} => {Died=0} sup: 0.06 conf: 1.00, f1: 0.11, len: 3, id: 41\n",
      "INFO - stardard error of omega estimate: 318.30306313323473\n",
      "INFO - omega succesfully estimated\n"
     ]
    },
    {
     "data": {
      "text/plain": [
       "287226.0"
      ]
     },
     "execution_count": 35,
     "metadata": {},
     "output_type": "execute_result"
    }
   ],
   "source": [
    "sls_opt = SLSOptimizer(obj_func, params)\n",
    "solution_set = sls_opt.optimize()\n",
    "obj_func.evaluate(IDSRuleSet(solution_set))"
   ]
  },
  {
   "cell_type": "code",
   "execution_count": 36,
   "metadata": {},
   "outputs": [
    {
     "name": "stdout",
     "output_type": "stream",
     "text": [
      "['0', '0', '1', '1', '1', '1', '0', '1', '0', '0', '0', '1', '0', '1', '0', '1', '1', '1', '0', '1', '1', '1', '0', '1', '1', '1', '1', '0', '0', '1', '1', '1', '1', '1', '1', '1', '0', '1', '1', '1', '1', '0', '0', '0', '0', '1', '1', '1', '1', '1', '1', '1', '1', '1', '1', '1', '1', '0', '1', '0', '1', '0', '0', '1', '1', '0', '1', '1', '1', '0', '1', '0', '0', '1', '0', '1', '1', '1', '1', '1', '0', '1', '1', '1', '1', '1', '1', '0', '0', '1', '0', '0', '1', '0', '0', '1', '0', '1', '0', '1', '1', '1', '1', '0', '1', '1', '1', '1', '1', '1', '0', '0', '1', '0', '0', '1', '1', '0', '1', '1', '0', '1', '1', '0', '1', '1', '1', '1', '0', '1', '1', '0', '0', '1', '0', '1', '1', '0', '1', '1', '1', '0', '1', '0', '1', '1', '1', '0', '1', '0', '0', '1', '1', '0', '1', '1', '0', '1', '0', '0', '0', '0', '1', '1', '1', '1', '0', '1', '1', '0', '0', '1', '1', '1']\n"
     ]
    }
   ],
   "source": [
    "ids_clf = IDSClassifier(solution_set)\n",
    "\n",
    "ids_clf.quant_dataframe_train = quant_dataframe_train\n",
    "\n",
    "ids_clf.calculate_default_class()"
   ]
  },
  {
   "cell_type": "code",
   "execution_count": 37,
   "metadata": {},
   "outputs": [
    {
     "data": {
      "text/plain": [
       "'1'"
      ]
     },
     "execution_count": 37,
     "metadata": {},
     "output_type": "execute_result"
    }
   ],
   "source": [
    "ids_clf.default_class"
   ]
  },
  {
   "cell_type": "code",
   "execution_count": 38,
   "metadata": {},
   "outputs": [
    {
     "data": {
      "text/plain": [
       "0.6436781609195402"
      ]
     },
     "execution_count": 38,
     "metadata": {},
     "output_type": "execute_result"
    }
   ],
   "source": [
    "ids_clf.default_class_confidence"
   ]
  },
  {
   "cell_type": "code",
   "execution_count": 39,
   "metadata": {},
   "outputs": [
    {
     "ename": "AttributeError",
     "evalue": "'IDSClassifier' object has no attribute 'score_auc'",
     "output_type": "error",
     "traceback": [
      "\u001b[1;31m---------------------------------------------------------------------------\u001b[0m",
      "\u001b[1;31mAttributeError\u001b[0m                            Traceback (most recent call last)",
      "\u001b[1;32m<ipython-input-39-235fac3a0d2b>\u001b[0m in \u001b[0;36m<module>\u001b[1;34m\u001b[0m\n\u001b[1;32m----> 1\u001b[1;33m \u001b[0mids_clf\u001b[0m\u001b[1;33m.\u001b[0m\u001b[0mscore_auc\u001b[0m\u001b[1;33m(\u001b[0m\u001b[0mquant_dataframe\u001b[0m\u001b[1;33m)\u001b[0m\u001b[1;33m\u001b[0m\u001b[1;33m\u001b[0m\u001b[0m\n\u001b[0m",
      "\u001b[1;31mAttributeError\u001b[0m: 'IDSClassifier' object has no attribute 'score_auc'"
     ]
    }
   ],
   "source": [
    "ids_clf.score_auc(quant_dataframe)"
   ]
  },
  {
   "cell_type": "code",
   "execution_count": 40,
   "metadata": {},
   "outputs": [],
   "source": [
    "import numpy as np\n",
    "\n",
    "class RandomizedUSMOptimizer:\n",
    "\n",
    "    def __init__(self, objective_function, objective_func_params, debug=True, random_seed=None):\n",
    "        self.objective_function_params = objective_func_params \n",
    "        self.objective_function = objective_function\n",
    "        self.debug = debug\n",
    "\n",
    "        if random_seed:\n",
    "            np.random.seed(random_seed)\n",
    "\n",
    "    def optimize(self):\n",
    "        all_rules = self.objective_function_params.params[\"all_rules\"]\n",
    "\n",
    "        x0 = IDSRuleSet(set())\n",
    "        y0 = IDSRuleSet({rule for rule in all_rules.ruleset})\n",
    "\n",
    "        n = len(y0)\n",
    "\n",
    "        for rule in all_rules.ruleset:\n",
    "            a_set = IDSRuleSet(x0.ruleset | {rule})\n",
    "            b_set = IDSRuleSet(y0.ruleset - {rule})\n",
    "\n",
    "            a_value = self.objective_function.evaluate(a_set) - self.objective_function.evaluate(x0)\n",
    "            b_value = self.objective_function.evaluate(b_set) - self.objective_function.evaluate(y0)\n",
    "\n",
    "            a_max = max(a_value, 0)\n",
    "            b_max = max(b_value, 0)\n",
    "\n",
    "            x_probability = 1\n",
    "            y_probability = 0\n",
    "            \n",
    "            if not (a_max == 0 and b_max == 0):\n",
    "                x_probability = a_max / (a_max + b_max)\n",
    "                y_probability = b_max / (a_max + b_max)\n",
    "\n",
    "            if np.random.uniform() <= x_probability:\n",
    "                x0.ruleset.add(rule)\n",
    "\n",
    "            if np.random.uniform() <= y_probability:\n",
    "                y0.ruleset.remove(rule)                \n",
    "\n",
    "        x_value = self.objective_function.evaluate(x0)\n",
    "        y_value = self.objective_function.evaluate(y0)\n",
    "\n",
    "        if x_value > y_value:\n",
    "            return x0.ruleset\n",
    "        else:\n",
    "            return y0.ruleset"
   ]
  },
  {
   "cell_type": "code",
   "execution_count": 41,
   "metadata": {},
   "outputs": [
    {
     "data": {
      "text/plain": [
       "140800.0"
      ]
     },
     "execution_count": 41,
     "metadata": {},
     "output_type": "execute_result"
    }
   ],
   "source": [
    "params.params[\"lambda_array\"] = [0, 0, 1, 0, 0, 0, 0]\n",
    "\n",
    "rusm_opt = RandomizedUSMOptimizer(obj_func, params)\n",
    "solution_set = rusm_opt.optimize()\n",
    "obj_func.evaluate(IDSRuleSet(solution_set))"
   ]
  },
  {
   "cell_type": "code",
   "execution_count": 42,
   "metadata": {},
   "outputs": [
    {
     "data": {
      "text/plain": [
       "{IDSRule {Passenger_Cat=1st_class,Age_Cat=child} => {Died=0} sup: 0.00 conf: 1.00, f1: 0.01, len: 3, id: 67,\n",
       " IDSRule {Passenger_Cat=1st_class,Gender=male,Age_Cat=child} => {Died=0} sup: 0.00 conf: 1.00, f1: 0.01, len: 4, id: 66,\n",
       " IDSRule {Gender=female,Passenger_Cat=crew} => {Died=0} sup: 0.00 conf: 1.00, f1: 0.01, len: 3, id: 28,\n",
       " IDSRule {Passenger_Cat=crew,Gender=female,Age_Cat=adult} => {Died=0} sup: 0.00 conf: 1.00, f1: 0.01, len: 4, id: 27,\n",
       " IDSRule {Gender=female,Passenger_Cat=2nd_class,Age_Cat=child} => {Died=0} sup: 0.01 conf: 1.00, f1: 0.01, len: 4, id: 70,\n",
       " IDSRule {Passenger_Cat=2nd_class,Gender=male,Age_Cat=child} => {Died=0} sup: 0.01 conf: 1.00, f1: 0.01, len: 4, id: 68,\n",
       " IDSRule {Passenger_Cat=2nd_class,Age_Cat=child} => {Died=0} sup: 0.01 conf: 1.00, f1: 0.02, len: 3, id: 69,\n",
       " IDSRule {Gender=female,Passenger_Cat=1st_class} => {Died=0} sup: 0.06 conf: 1.00, f1: 0.11, len: 3, id: 41,\n",
       " IDSRule {Passenger_Cat=1st_class,Gender=female,Age_Cat=adult} => {Died=0} sup: 0.06 conf: 1.00, f1: 0.11, len: 4, id: 40,\n",
       " IDSRule {Passenger_Cat=2nd_class,Gender=male} => {Died=1} sup: 0.08 conf: 0.85, f1: 0.15, len: 3, id: 44,\n",
       " IDSRule {Passenger_Cat=2nd_class,Gender=male,Age_Cat=adult} => {Died=1} sup: 0.08 conf: 0.91, f1: 0.15, len: 4, id: 43,\n",
       " IDSRule {Passenger_Cat=2nd_class,Age_Cat=adult} => {Died=1} sup: 0.09 conf: 0.82, f1: 0.16, len: 3, id: 42,\n",
       " IDSRule {Gender=male,Age_Cat=adult,Passenger_Cat=3rd_class} => {Died=1} sup: 0.17 conf: 0.85, f1: 0.29, len: 4, id: 8,\n",
       " IDSRule {Passenger_Cat=3rd_class,Gender=male} => {Died=1} sup: 0.19 conf: 0.82, f1: 0.31, len: 3, id: 9,\n",
       " IDSRule {Passenger_Cat=3rd_class,Age_Cat=adult} => {Died=1} sup: 0.21 conf: 0.77, f1: 0.33, len: 3, id: 7,\n",
       " IDSRule {Passenger_Cat=crew} => {Died=1} sup: 0.31 conf: 0.77, f1: 0.44, len: 2, id: 6,\n",
       " IDSRule {Passenger_Cat=crew,Gender=male} => {Died=1} sup: 0.31 conf: 0.77, f1: 0.44, len: 3, id: 5,\n",
       " IDSRule {Passenger_Cat=crew,Gender=male,Age_Cat=adult} => {Died=1} sup: 0.31 conf: 0.77, f1: 0.44, len: 4, id: 4,\n",
       " IDSRule {Gender=male,Age_Cat=adult} => {Died=1} sup: 0.64 conf: 0.81, f1: 0.71, len: 3, id: 1,\n",
       " IDSRule {Gender=male} => {Died=1} sup: 0.66 conf: 0.79, f1: 0.72, len: 2, id: 2}"
      ]
     },
     "execution_count": 42,
     "metadata": {},
     "output_type": "execute_result"
    }
   ],
   "source": [
    "ids_ruleset.ruleset"
   ]
  },
  {
   "cell_type": "code",
   "execution_count": 43,
   "metadata": {},
   "outputs": [
    {
     "data": {
      "text/plain": [
       "{IDSRule {Passenger_Cat=1st_class,Age_Cat=child} => {Died=0} sup: 0.00 conf: 1.00, f1: 0.01, len: 3, id: 67,\n",
       " IDSRule {Gender=female,Passenger_Cat=crew} => {Died=0} sup: 0.00 conf: 1.00, f1: 0.01, len: 3, id: 28,\n",
       " IDSRule {Gender=female,Passenger_Cat=2nd_class,Age_Cat=child} => {Died=0} sup: 0.01 conf: 1.00, f1: 0.01, len: 4, id: 70,\n",
       " IDSRule {Gender=female,Passenger_Cat=1st_class} => {Died=0} sup: 0.06 conf: 1.00, f1: 0.11, len: 3, id: 41,\n",
       " IDSRule {Gender=male,Age_Cat=adult,Passenger_Cat=3rd_class} => {Died=1} sup: 0.17 conf: 0.85, f1: 0.29, len: 4, id: 8}"
      ]
     },
     "execution_count": 43,
     "metadata": {},
     "output_type": "execute_result"
    }
   ],
   "source": [
    "solution_set"
   ]
  },
  {
   "cell_type": "code",
   "execution_count": 44,
   "metadata": {},
   "outputs": [
    {
     "name": "stdout",
     "output_type": "stream",
     "text": [
      "cover cache prepared\n",
      "overlap cache prepared\n",
      "INFO - Number of input rules: 20\n",
      "INFO - RandomOptimizer estimated the OPTIMUM value as: 286110.0\n",
      "INFO - Threshold value (2/(n*n) * OPT) = 1430.55. This is the standard error treshold value.\n",
      "INFO - Estimating omega for rule: IDSRule {Passenger_Cat=2nd_class,Gender=male,Age_Cat=child} => {Died=0} sup: 0.01 conf: 1.00, f1: 0.01, len: 4, id: 68\n",
      "INFO - stardard error of omega estimate: 325.01567654499377\n",
      "INFO - omega succesfully estimated\n",
      "INFO - Estimating omega for rule: IDSRule {Passenger_Cat=3rd_class,Gender=male} => {Died=1} sup: 0.19 conf: 0.82, f1: 0.31, len: 3, id: 9\n",
      "INFO - stardard error of omega estimate: 286.1392685389407\n",
      "INFO - omega succesfully estimated\n",
      "INFO - Estimating omega for rule: IDSRule {Passenger_Cat=2nd_class,Age_Cat=adult} => {Died=1} sup: 0.09 conf: 0.82, f1: 0.16, len: 3, id: 42\n",
      "INFO - stardard error of omega estimate: 377.8773716432356\n",
      "INFO - omega succesfully estimated\n",
      "INFO - Estimating omega for rule: IDSRule {Passenger_Cat=crew,Gender=male,Age_Cat=adult} => {Died=1} sup: 0.31 conf: 0.77, f1: 0.44, len: 4, id: 4\n",
      "INFO - stardard error of omega estimate: 262.80927304796535\n",
      "INFO - omega succesfully estimated\n",
      "INFO - Estimating omega for rule: IDSRule {Passenger_Cat=2nd_class,Gender=male,Age_Cat=adult} => {Died=1} sup: 0.08 conf: 0.91, f1: 0.15, len: 4, id: 43\n",
      "INFO - stardard error of omega estimate: 300.85761416324505\n",
      "INFO - omega succesfully estimated\n",
      "INFO - Estimating omega for rule: IDSRule {Passenger_Cat=2nd_class,Age_Cat=child} => {Died=0} sup: 0.01 conf: 1.00, f1: 0.02, len: 3, id: 69\n",
      "INFO - stardard error of omega estimate: 282.2991321276068\n",
      "INFO - omega succesfully estimated\n",
      "INFO - Estimating omega for rule: IDSRule {Passenger_Cat=crew,Gender=female,Age_Cat=adult} => {Died=0} sup: 0.00 conf: 1.00, f1: 0.01, len: 4, id: 27\n",
      "INFO - stardard error of omega estimate: 317.5212197633412\n",
      "INFO - omega succesfully estimated\n",
      "INFO - Estimating omega for rule: IDSRule {Passenger_Cat=crew,Gender=male} => {Died=1} sup: 0.31 conf: 0.77, f1: 0.44, len: 3, id: 5\n",
      "INFO - stardard error of omega estimate: 355.7525488313471\n",
      "INFO - omega succesfully estimated\n",
      "INFO - Estimating omega for rule: IDSRule {Gender=female,Passenger_Cat=2nd_class,Age_Cat=child} => {Died=0} sup: 0.01 conf: 1.00, f1: 0.01, len: 4, id: 70\n",
      "INFO - stardard error of omega estimate: 368.35216030315337\n",
      "INFO - omega succesfully estimated\n",
      "INFO - Estimating omega for rule: IDSRule {Passenger_Cat=2nd_class,Gender=male} => {Died=1} sup: 0.08 conf: 0.85, f1: 0.15, len: 3, id: 44\n",
      "INFO - stardard error of omega estimate: 332.67297605907214\n",
      "INFO - omega succesfully estimated\n",
      "INFO - Estimating omega for rule: IDSRule {Gender=female,Passenger_Cat=crew} => {Died=0} sup: 0.00 conf: 1.00, f1: 0.01, len: 3, id: 28\n",
      "INFO - stardard error of omega estimate: 374.17116003241085\n",
      "INFO - omega succesfully estimated\n",
      "INFO - Estimating omega for rule: IDSRule {Gender=male,Age_Cat=adult} => {Died=1} sup: 0.64 conf: 0.81, f1: 0.71, len: 3, id: 1\n",
      "INFO - stardard error of omega estimate: 378.65261784384904\n",
      "INFO - omega succesfully estimated\n",
      "INFO - Estimating omega for rule: IDSRule {Passenger_Cat=crew} => {Died=1} sup: 0.31 conf: 0.77, f1: 0.44, len: 2, id: 6\n",
      "INFO - stardard error of omega estimate: 296.5408572186976\n",
      "INFO - omega succesfully estimated\n",
      "INFO - Estimating omega for rule: IDSRule {Passenger_Cat=1st_class,Gender=male,Age_Cat=child} => {Died=0} sup: 0.00 conf: 1.00, f1: 0.01, len: 4, id: 66\n",
      "INFO - stardard error of omega estimate: 288.02530791581495\n",
      "INFO - omega succesfully estimated\n",
      "INFO - Estimating omega for rule: IDSRule {Passenger_Cat=1st_class,Gender=female,Age_Cat=adult} => {Died=0} sup: 0.06 conf: 1.00, f1: 0.11, len: 4, id: 40\n",
      "INFO - stardard error of omega estimate: 374.85897214819335\n",
      "INFO - omega succesfully estimated\n",
      "INFO - Estimating omega for rule: IDSRule {Passenger_Cat=3rd_class,Age_Cat=adult} => {Died=1} sup: 0.21 conf: 0.77, f1: 0.33, len: 3, id: 7\n",
      "INFO - stardard error of omega estimate: 274.36220038481974\n",
      "INFO - omega succesfully estimated\n",
      "INFO - Estimating omega for rule: IDSRule {Gender=male} => {Died=1} sup: 0.66 conf: 0.79, f1: 0.72, len: 2, id: 2\n",
      "INFO - stardard error of omega estimate: 332.53397570774627\n",
      "INFO - omega succesfully estimated\n",
      "INFO - Estimating omega for rule: IDSRule {Passenger_Cat=1st_class,Age_Cat=child} => {Died=0} sup: 0.00 conf: 1.00, f1: 0.01, len: 3, id: 67\n",
      "INFO - stardard error of omega estimate: 308.133867012375\n",
      "INFO - omega succesfully estimated\n",
      "INFO - Estimating omega for rule: IDSRule {Gender=male,Age_Cat=adult,Passenger_Cat=3rd_class} => {Died=1} sup: 0.17 conf: 0.85, f1: 0.29, len: 4, id: 8\n",
      "INFO - stardard error of omega estimate: 402.74138600347493\n",
      "INFO - omega succesfully estimated\n",
      "INFO - Estimating omega for rule: IDSRule {Gender=female,Passenger_Cat=1st_class} => {Died=0} sup: 0.06 conf: 1.00, f1: 0.11, len: 3, id: 41\n",
      "INFO - stardard error of omega estimate: 282.4614557775981\n",
      "INFO - omega succesfully estimated\n",
      "INFO - Number of input rules: 20\n",
      "INFO - RandomOptimizer estimated the OPTIMUM value as: 283422.0\n",
      "INFO - Threshold value (2/(n*n) * OPT) = 1417.1100000000001. This is the standard error treshold value.\n",
      "INFO - Estimating omega for rule: IDSRule {Passenger_Cat=2nd_class,Gender=male,Age_Cat=child} => {Died=0} sup: 0.01 conf: 1.00, f1: 0.01, len: 4, id: 68\n",
      "INFO - stardard error of omega estimate: 376.211282393285\n",
      "INFO - omega succesfully estimated\n",
      "INFO - Estimating omega for rule: IDSRule {Passenger_Cat=3rd_class,Gender=male} => {Died=1} sup: 0.19 conf: 0.82, f1: 0.31, len: 3, id: 9\n",
      "INFO - stardard error of omega estimate: 330.4584421678466\n",
      "INFO - omega succesfully estimated\n",
      "INFO - Estimating omega for rule: IDSRule {Passenger_Cat=2nd_class,Age_Cat=adult} => {Died=1} sup: 0.09 conf: 0.82, f1: 0.16, len: 3, id: 42\n",
      "INFO - stardard error of omega estimate: 364.84326771916733\n",
      "INFO - omega succesfully estimated\n",
      "INFO - Estimating omega for rule: IDSRule {Passenger_Cat=crew,Gender=male,Age_Cat=adult} => {Died=1} sup: 0.31 conf: 0.77, f1: 0.44, len: 4, id: 4\n",
      "INFO - stardard error of omega estimate: 251.99294037730505\n",
      "INFO - omega succesfully estimated\n",
      "INFO - Estimating omega for rule: IDSRule {Passenger_Cat=2nd_class,Gender=male,Age_Cat=adult} => {Died=1} sup: 0.08 conf: 0.91, f1: 0.15, len: 4, id: 43\n",
      "INFO - stardard error of omega estimate: 411.17792985519054\n",
      "INFO - omega succesfully estimated\n",
      "INFO - Estimating omega for rule: IDSRule {Passenger_Cat=2nd_class,Age_Cat=child} => {Died=0} sup: 0.01 conf: 1.00, f1: 0.02, len: 3, id: 69\n",
      "INFO - stardard error of omega estimate: 391.94913573064554\n",
      "INFO - omega succesfully estimated\n",
      "INFO - Estimating omega for rule: IDSRule {Passenger_Cat=crew,Gender=female,Age_Cat=adult} => {Died=0} sup: 0.00 conf: 1.00, f1: 0.01, len: 4, id: 27\n",
      "INFO - stardard error of omega estimate: 514.3600081654871\n",
      "INFO - omega succesfully estimated\n",
      "INFO - Estimating omega for rule: IDSRule {Passenger_Cat=crew,Gender=male} => {Died=1} sup: 0.31 conf: 0.77, f1: 0.44, len: 3, id: 5\n",
      "INFO - stardard error of omega estimate: 311.03768421205814\n",
      "INFO - omega succesfully estimated\n",
      "INFO - Estimating omega for rule: IDSRule {Gender=female,Passenger_Cat=2nd_class,Age_Cat=child} => {Died=0} sup: 0.01 conf: 1.00, f1: 0.01, len: 4, id: 70\n",
      "INFO - stardard error of omega estimate: 278.1722649726245\n",
      "INFO - omega succesfully estimated\n",
      "INFO - Estimating omega for rule: IDSRule {Passenger_Cat=2nd_class,Gender=male} => {Died=1} sup: 0.08 conf: 0.85, f1: 0.15, len: 3, id: 44\n",
      "INFO - stardard error of omega estimate: 256.7754855900384\n",
      "INFO - omega succesfully estimated\n",
      "INFO - Estimating omega for rule: IDSRule {Gender=female,Passenger_Cat=crew} => {Died=0} sup: 0.00 conf: 1.00, f1: 0.01, len: 3, id: 28\n",
      "INFO - stardard error of omega estimate: 204.08798347771483\n",
      "INFO - omega succesfully estimated\n",
      "INFO - Estimating omega for rule: IDSRule {Gender=male,Age_Cat=adult} => {Died=1} sup: 0.64 conf: 0.81, f1: 0.71, len: 3, id: 1\n",
      "INFO - stardard error of omega estimate: 348.6385951096063\n",
      "INFO - omega succesfully estimated\n",
      "INFO - Estimating omega for rule: IDSRule {Passenger_Cat=crew} => {Died=1} sup: 0.31 conf: 0.77, f1: 0.44, len: 2, id: 6\n",
      "INFO - stardard error of omega estimate: 274.28324775676697\n",
      "INFO - omega succesfully estimated\n",
      "INFO - Estimating omega for rule: IDSRule {Passenger_Cat=1st_class,Gender=male,Age_Cat=child} => {Died=0} sup: 0.00 conf: 1.00, f1: 0.01, len: 4, id: 66\n"
     ]
    },
    {
     "name": "stdout",
     "output_type": "stream",
     "text": [
      "INFO - stardard error of omega estimate: 284.7242964694091\n",
      "INFO - omega succesfully estimated\n",
      "INFO - Estimating omega for rule: IDSRule {Passenger_Cat=1st_class,Gender=female,Age_Cat=adult} => {Died=0} sup: 0.06 conf: 1.00, f1: 0.11, len: 4, id: 40\n",
      "INFO - stardard error of omega estimate: 265.28184257502437\n",
      "INFO - omega succesfully estimated\n",
      "INFO - Estimating omega for rule: IDSRule {Passenger_Cat=3rd_class,Age_Cat=adult} => {Died=1} sup: 0.21 conf: 0.77, f1: 0.33, len: 3, id: 7\n",
      "INFO - stardard error of omega estimate: 287.0047525738903\n",
      "INFO - omega succesfully estimated\n",
      "INFO - Estimating omega for rule: IDSRule {Gender=male} => {Died=1} sup: 0.66 conf: 0.79, f1: 0.72, len: 2, id: 2\n",
      "INFO - stardard error of omega estimate: 213.43023216030105\n",
      "INFO - omega succesfully estimated\n",
      "INFO - Estimating omega for rule: IDSRule {Passenger_Cat=1st_class,Age_Cat=child} => {Died=0} sup: 0.00 conf: 1.00, f1: 0.01, len: 3, id: 67\n",
      "INFO - stardard error of omega estimate: 308.74894007915236\n",
      "INFO - omega succesfully estimated\n",
      "INFO - Estimating omega for rule: IDSRule {Gender=male,Age_Cat=adult,Passenger_Cat=3rd_class} => {Died=1} sup: 0.17 conf: 0.85, f1: 0.29, len: 4, id: 8\n",
      "INFO - stardard error of omega estimate: 324.12104220491454\n",
      "INFO - omega succesfully estimated\n",
      "INFO - Estimating omega for rule: IDSRule {Gender=female,Passenger_Cat=1st_class} => {Died=0} sup: 0.06 conf: 1.00, f1: 0.11, len: 3, id: 41\n",
      "INFO - stardard error of omega estimate: 299.47864865462446\n",
      "INFO - omega succesfully estimated\n",
      "['0', '0', '1', '1', '1', '1', '1', '0', '0', '0', '1', '0', '1', '0', '1', '1', '1', '0', '1', '1', '1', '0', '1', '1', '1', '1', '0', '1', '1', '1', '1', '1', '1', '1', '1', '1', '1', '1', '0', '0', '0', '1', '1', '1', '1', '1', '1', '1', '1', '1', '1', '1', '1', '0', '1', '0', '1', '0', '1', '1', '0', '1', '1', '1', '0', '1', '0', '0', '1', '0', '1', '1', '1', '1', '1', '1', '1', '1', '1', '1', '1', '1', '1', '0', '0', '1', '1', '1', '1', '1', '1', '0', '1', '1', '1', '1', '1', '1', '1', '0', '0', '1', '1', '1', '1', '0', '1', '1', '1', '1', '1', '1', '0', '1', '1', '0', '1', '1', '1', '0', '1', '1', '0', '1', '0', '1', '1', '1', '0', '1', '0', '1', '1', '0', '1', '0', '1', '1', '0', '0', '1', '1', '1', '0', '1', '1', '0', '0', '1', '1', '1']\n"
     ]
    },
    {
     "data": {
      "text/plain": [
       "<pyids.data_structures.ids_classifier.IDS at 0x28406e08ac8>"
      ]
     },
     "execution_count": 44,
     "metadata": {},
     "output_type": "execute_result"
    }
   ],
   "source": [
    "ids = IDS()\n",
    "ids.fit(quant_dataframe_train, class_association_rules=cars)"
   ]
  },
  {
   "cell_type": "code",
   "execution_count": 45,
   "metadata": {},
   "outputs": [
    {
     "data": {
      "text/plain": [
       "0.7698863636363636"
      ]
     },
     "execution_count": 45,
     "metadata": {},
     "output_type": "execute_result"
    }
   ],
   "source": [
    "ids.score(quant_dataframe_train)"
   ]
  },
  {
   "cell_type": "code",
   "execution_count": 50,
   "metadata": {},
   "outputs": [
    {
     "data": {
      "text/plain": [
       "array([1, 1, 1, 1, 1, 1])"
      ]
     },
     "execution_count": 50,
     "metadata": {},
     "output_type": "execute_result"
    }
   ],
   "source": [
    "np.where([True, True, True, False, False, True], [1, 1, 1, 0, 0, 1], [0, 0, 0, 1, 1, 0])"
   ]
  },
  {
   "cell_type": "code",
   "execution_count": 49,
   "metadata": {},
   "outputs": [
    {
     "ename": "KeyError",
     "evalue": "4",
     "output_type": "error",
     "traceback": [
      "\u001b[1;31m---------------------------------------------------------------------------\u001b[0m",
      "\u001b[1;31mKeyError\u001b[0m                                  Traceback (most recent call last)",
      "\u001b[1;32m<ipython-input-49-bb22f401ea9b>\u001b[0m in \u001b[0;36m<module>\u001b[1;34m\u001b[0m\n\u001b[1;32m----> 1\u001b[1;33m \u001b[0mids\u001b[0m\u001b[1;33m.\u001b[0m\u001b[0mscore_auc\u001b[0m\u001b[1;33m(\u001b[0m\u001b[0mquant_dataframe_train\u001b[0m\u001b[1;33m,\u001b[0m \u001b[0mconfidence_based\u001b[0m\u001b[1;33m=\u001b[0m\u001b[1;32mTrue\u001b[0m\u001b[1;33m)\u001b[0m\u001b[1;33m\u001b[0m\u001b[1;33m\u001b[0m\u001b[0m\n\u001b[0m",
      "\u001b[1;32mD:\\programy\\Anaconda\\lib\\site-packages\\pyids\\data_structures\\ids_classifier.py\u001b[0m in \u001b[0;36mscore_auc\u001b[1;34m(self, quant_dataframe, confidence_based)\u001b[0m\n\u001b[0;32m    260\u001b[0m     \u001b[1;32mdef\u001b[0m \u001b[0mscore_auc\u001b[0m\u001b[1;33m(\u001b[0m\u001b[0mself\u001b[0m\u001b[1;33m,\u001b[0m \u001b[0mquant_dataframe\u001b[0m\u001b[1;33m,\u001b[0m \u001b[0mconfidence_based\u001b[0m\u001b[1;33m=\u001b[0m\u001b[1;32mFalse\u001b[0m\u001b[1;33m)\u001b[0m\u001b[1;33m:\u001b[0m\u001b[1;33m\u001b[0m\u001b[1;33m\u001b[0m\u001b[0m\n\u001b[0;32m    261\u001b[0m         \u001b[1;32mif\u001b[0m \u001b[0mconfidence_based\u001b[0m\u001b[1;33m:\u001b[0m\u001b[1;33m\u001b[0m\u001b[1;33m\u001b[0m\u001b[0m\n\u001b[1;32m--> 262\u001b[1;33m             \u001b[1;32mreturn\u001b[0m \u001b[0mself\u001b[0m\u001b[1;33m.\u001b[0m\u001b[0m_calculate_auc_for_ruleconf\u001b[0m\u001b[1;33m(\u001b[0m\u001b[0mquant_dataframe\u001b[0m\u001b[1;33m)\u001b[0m\u001b[1;33m\u001b[0m\u001b[1;33m\u001b[0m\u001b[0m\n\u001b[0m\u001b[0;32m    263\u001b[0m         \u001b[1;32melse\u001b[0m\u001b[1;33m:\u001b[0m\u001b[1;33m\u001b[0m\u001b[1;33m\u001b[0m\u001b[0m\n\u001b[0;32m    264\u001b[0m             \u001b[1;32mreturn\u001b[0m \u001b[0mself\u001b[0m\u001b[1;33m.\u001b[0m\u001b[0m_calcutate_auc_classical\u001b[0m\u001b[1;33m(\u001b[0m\u001b[0mquant_dataframe\u001b[0m\u001b[1;33m)\u001b[0m\u001b[1;33m\u001b[0m\u001b[1;33m\u001b[0m\u001b[0m\n",
      "\u001b[1;32mD:\\programy\\Anaconda\\lib\\site-packages\\pyids\\data_structures\\ids_classifier.py\u001b[0m in \u001b[0;36m_calculate_auc_for_ruleconf\u001b[1;34m(self, quant_dataframe)\u001b[0m\n\u001b[0;32m    220\u001b[0m \u001b[1;33m\u001b[0m\u001b[0m\n\u001b[0;32m    221\u001b[0m     \u001b[1;32mdef\u001b[0m \u001b[0m_calculate_auc_for_ruleconf\u001b[0m\u001b[1;33m(\u001b[0m\u001b[0mself\u001b[0m\u001b[1;33m,\u001b[0m \u001b[0mquant_dataframe\u001b[0m\u001b[1;33m)\u001b[0m\u001b[1;33m:\u001b[0m\u001b[1;33m\u001b[0m\u001b[1;33m\u001b[0m\u001b[0m\n\u001b[1;32m--> 222\u001b[1;33m         \u001b[0mconf_pred\u001b[0m \u001b[1;33m=\u001b[0m \u001b[0mself\u001b[0m\u001b[1;33m.\u001b[0m\u001b[0mclf\u001b[0m\u001b[1;33m.\u001b[0m\u001b[0mget_prediction_rules\u001b[0m\u001b[1;33m(\u001b[0m\u001b[0mquant_dataframe\u001b[0m\u001b[1;33m)\u001b[0m\u001b[1;33m\u001b[0m\u001b[1;33m\u001b[0m\u001b[0m\n\u001b[0m\u001b[0;32m    223\u001b[0m \u001b[1;33m\u001b[0m\u001b[0m\n\u001b[0;32m    224\u001b[0m         \u001b[0mconfidences\u001b[0m \u001b[1;33m=\u001b[0m \u001b[1;33m[\u001b[0m\u001b[1;33m]\u001b[0m\u001b[1;33m\u001b[0m\u001b[1;33m\u001b[0m\u001b[0m\n",
      "\u001b[1;32mD:\\programy\\Anaconda\\lib\\site-packages\\pyids\\data_structures\\ids_classifier.py\u001b[0m in \u001b[0;36mget_prediction_rules\u001b[1;34m(self, quant_dataframe)\u001b[0m\n\u001b[0;32m     85\u001b[0m                 \u001b[0mall_NA\u001b[0m \u001b[1;33m=\u001b[0m \u001b[0mnp\u001b[0m\u001b[1;33m.\u001b[0m\u001b[0mall\u001b[0m\u001b[1;33m(\u001b[0m\u001b[0my_pred_array\u001b[0m\u001b[1;33m[\u001b[0m\u001b[1;33m:\u001b[0m\u001b[1;33m,\u001b[0m\u001b[0mi\u001b[0m\u001b[1;33m]\u001b[0m \u001b[1;33m==\u001b[0m \u001b[0mIDSRule\u001b[0m\u001b[1;33m.\u001b[0m\u001b[0mDUMMY_LABEL\u001b[0m\u001b[1;33m)\u001b[0m\u001b[1;33m\u001b[0m\u001b[1;33m\u001b[0m\u001b[0m\n\u001b[0;32m     86\u001b[0m                 \u001b[1;32mif\u001b[0m \u001b[0mall_NA\u001b[0m\u001b[1;33m:\u001b[0m\u001b[1;33m\u001b[0m\u001b[1;33m\u001b[0m\u001b[0m\n\u001b[1;32m---> 87\u001b[1;33m                     \u001b[0mminority_classes\u001b[0m\u001b[1;33m.\u001b[0m\u001b[0mappend\u001b[0m\u001b[1;33m(\u001b[0m\u001b[0mY\u001b[0m\u001b[1;33m[\u001b[0m\u001b[0mi\u001b[0m\u001b[1;33m]\u001b[0m\u001b[1;33m)\u001b[0m\u001b[1;33m\u001b[0m\u001b[1;33m\u001b[0m\u001b[0m\n\u001b[0m\u001b[0;32m     88\u001b[0m \u001b[1;33m\u001b[0m\u001b[0m\n\u001b[0;32m     89\u001b[0m             \u001b[1;31m# if the ruleset covers all instances\u001b[0m\u001b[1;33m\u001b[0m\u001b[1;33m\u001b[0m\u001b[1;33m\u001b[0m\u001b[0m\n",
      "\u001b[1;32mD:\\programy\\Anaconda\\lib\\site-packages\\pandas\\core\\series.py\u001b[0m in \u001b[0;36m__getitem__\u001b[1;34m(self, key)\u001b[0m\n\u001b[0;32m    866\u001b[0m         \u001b[0mkey\u001b[0m \u001b[1;33m=\u001b[0m \u001b[0mcom\u001b[0m\u001b[1;33m.\u001b[0m\u001b[0mapply_if_callable\u001b[0m\u001b[1;33m(\u001b[0m\u001b[0mkey\u001b[0m\u001b[1;33m,\u001b[0m \u001b[0mself\u001b[0m\u001b[1;33m)\u001b[0m\u001b[1;33m\u001b[0m\u001b[1;33m\u001b[0m\u001b[0m\n\u001b[0;32m    867\u001b[0m         \u001b[1;32mtry\u001b[0m\u001b[1;33m:\u001b[0m\u001b[1;33m\u001b[0m\u001b[1;33m\u001b[0m\u001b[0m\n\u001b[1;32m--> 868\u001b[1;33m             \u001b[0mresult\u001b[0m \u001b[1;33m=\u001b[0m \u001b[0mself\u001b[0m\u001b[1;33m.\u001b[0m\u001b[0mindex\u001b[0m\u001b[1;33m.\u001b[0m\u001b[0mget_value\u001b[0m\u001b[1;33m(\u001b[0m\u001b[0mself\u001b[0m\u001b[1;33m,\u001b[0m \u001b[0mkey\u001b[0m\u001b[1;33m)\u001b[0m\u001b[1;33m\u001b[0m\u001b[1;33m\u001b[0m\u001b[0m\n\u001b[0m\u001b[0;32m    869\u001b[0m \u001b[1;33m\u001b[0m\u001b[0m\n\u001b[0;32m    870\u001b[0m             \u001b[1;32mif\u001b[0m \u001b[1;32mnot\u001b[0m \u001b[0mis_scalar\u001b[0m\u001b[1;33m(\u001b[0m\u001b[0mresult\u001b[0m\u001b[1;33m)\u001b[0m\u001b[1;33m:\u001b[0m\u001b[1;33m\u001b[0m\u001b[1;33m\u001b[0m\u001b[0m\n",
      "\u001b[1;32mD:\\programy\\Anaconda\\lib\\site-packages\\pandas\\core\\indexes\\base.py\u001b[0m in \u001b[0;36mget_value\u001b[1;34m(self, series, key)\u001b[0m\n\u001b[0;32m   4373\u001b[0m         \u001b[1;32mtry\u001b[0m\u001b[1;33m:\u001b[0m\u001b[1;33m\u001b[0m\u001b[1;33m\u001b[0m\u001b[0m\n\u001b[0;32m   4374\u001b[0m             return self._engine.get_value(s, k,\n\u001b[1;32m-> 4375\u001b[1;33m                                           tz=getattr(series.dtype, 'tz', None))\n\u001b[0m\u001b[0;32m   4376\u001b[0m         \u001b[1;32mexcept\u001b[0m \u001b[0mKeyError\u001b[0m \u001b[1;32mas\u001b[0m \u001b[0me1\u001b[0m\u001b[1;33m:\u001b[0m\u001b[1;33m\u001b[0m\u001b[1;33m\u001b[0m\u001b[0m\n\u001b[0;32m   4377\u001b[0m             \u001b[1;32mif\u001b[0m \u001b[0mlen\u001b[0m\u001b[1;33m(\u001b[0m\u001b[0mself\u001b[0m\u001b[1;33m)\u001b[0m \u001b[1;33m>\u001b[0m \u001b[1;36m0\u001b[0m \u001b[1;32mand\u001b[0m \u001b[1;33m(\u001b[0m\u001b[0mself\u001b[0m\u001b[1;33m.\u001b[0m\u001b[0mholds_integer\u001b[0m\u001b[1;33m(\u001b[0m\u001b[1;33m)\u001b[0m \u001b[1;32mor\u001b[0m \u001b[0mself\u001b[0m\u001b[1;33m.\u001b[0m\u001b[0mis_boolean\u001b[0m\u001b[1;33m(\u001b[0m\u001b[1;33m)\u001b[0m\u001b[1;33m)\u001b[0m\u001b[1;33m:\u001b[0m\u001b[1;33m\u001b[0m\u001b[1;33m\u001b[0m\u001b[0m\n",
      "\u001b[1;32mpandas/_libs/index.pyx\u001b[0m in \u001b[0;36mpandas._libs.index.IndexEngine.get_value\u001b[1;34m()\u001b[0m\n",
      "\u001b[1;32mpandas/_libs/index.pyx\u001b[0m in \u001b[0;36mpandas._libs.index.IndexEngine.get_value\u001b[1;34m()\u001b[0m\n",
      "\u001b[1;32mpandas/_libs/index.pyx\u001b[0m in \u001b[0;36mpandas._libs.index.IndexEngine.get_loc\u001b[1;34m()\u001b[0m\n",
      "\u001b[1;32mpandas/_libs/hashtable_class_helper.pxi\u001b[0m in \u001b[0;36mpandas._libs.hashtable.Int64HashTable.get_item\u001b[1;34m()\u001b[0m\n",
      "\u001b[1;32mpandas/_libs/hashtable_class_helper.pxi\u001b[0m in \u001b[0;36mpandas._libs.hashtable.Int64HashTable.get_item\u001b[1;34m()\u001b[0m\n",
      "\u001b[1;31mKeyError\u001b[0m: 4"
     ]
    }
   ],
   "source": [
    "ids.score_auc(quant_dataframe_train, confidence_based=True)"
   ]
  },
  {
   "cell_type": "markdown",
   "metadata": {},
   "source": [
    "## Mining the Class Association Rules (CARs)"
   ]
  },
  {
   "cell_type": "markdown",
   "metadata": {},
   "source": [
    "## Training the IDS Model"
   ]
  },
  {
   "cell_type": "code",
   "execution_count": 23,
   "metadata": {},
   "outputs": [
    {
     "ename": "NameError",
     "evalue": "name 'rules' is not defined",
     "output_type": "error",
     "traceback": [
      "\u001b[1;31m---------------------------------------------------------------------------\u001b[0m",
      "\u001b[1;31mNameError\u001b[0m                                 Traceback (most recent call last)",
      "\u001b[1;32m<ipython-input-23-cdf873680cb9>\u001b[0m in \u001b[0;36m<module>\u001b[1;34m\u001b[0m\n\u001b[0;32m      1\u001b[0m \u001b[0mids\u001b[0m \u001b[1;33m=\u001b[0m \u001b[0mIDS\u001b[0m\u001b[1;33m(\u001b[0m\u001b[1;33m)\u001b[0m\u001b[1;33m\u001b[0m\u001b[1;33m\u001b[0m\u001b[0m\n\u001b[1;32m----> 2\u001b[1;33m \u001b[0mids\u001b[0m\u001b[1;33m.\u001b[0m\u001b[0mfit\u001b[0m\u001b[1;33m(\u001b[0m\u001b[0mclass_association_rules\u001b[0m\u001b[1;33m=\u001b[0m\u001b[0mrules\u001b[0m\u001b[1;33m,\u001b[0m \u001b[0mquant_dataframe\u001b[0m\u001b[1;33m=\u001b[0m\u001b[0mquant_dataframe_train\u001b[0m\u001b[1;33m,\u001b[0m \u001b[0mdebug\u001b[0m\u001b[1;33m=\u001b[0m\u001b[1;32mTrue\u001b[0m\u001b[1;33m,\u001b[0m \u001b[0mrandom_seed\u001b[0m\u001b[1;33m=\u001b[0m\u001b[1;36m5\u001b[0m\u001b[1;33m)\u001b[0m\u001b[1;33m\u001b[0m\u001b[1;33m\u001b[0m\u001b[0m\n\u001b[0m",
      "\u001b[1;31mNameError\u001b[0m: name 'rules' is not defined"
     ]
    }
   ],
   "source": [
    "ids = IDS()\n",
    "ids.fit(class_association_rules=rules, quant_dataframe=quant_dataframe_train, debug=True, random_seed=5)"
   ]
  },
  {
   "cell_type": "code",
   "execution_count": null,
   "metadata": {},
   "outputs": [],
   "source": [
    "print(print_cars(ids.clf.rules))"
   ]
  },
  {
   "cell_type": "code",
   "execution_count": 24,
   "metadata": {},
   "outputs": [
    {
     "ename": "AttributeError",
     "evalue": "'NoneType' object has no attribute 'default_class'",
     "output_type": "error",
     "traceback": [
      "\u001b[1;31m---------------------------------------------------------------------------\u001b[0m",
      "\u001b[1;31mAttributeError\u001b[0m                            Traceback (most recent call last)",
      "\u001b[1;32m<ipython-input-24-19d4b117c84a>\u001b[0m in \u001b[0;36m<module>\u001b[1;34m\u001b[0m\n\u001b[1;32m----> 1\u001b[1;33m \u001b[0mids\u001b[0m\u001b[1;33m.\u001b[0m\u001b[0mclf\u001b[0m\u001b[1;33m.\u001b[0m\u001b[0mdefault_class\u001b[0m\u001b[1;33m\u001b[0m\u001b[1;33m\u001b[0m\u001b[0m\n\u001b[0m",
      "\u001b[1;31mAttributeError\u001b[0m: 'NoneType' object has no attribute 'default_class'"
     ]
    }
   ],
   "source": [
    "ids.clf.default_class"
   ]
  },
  {
   "cell_type": "code",
   "execution_count": 13,
   "metadata": {},
   "outputs": [
    {
     "data": {
      "text/plain": [
       "1"
      ]
     },
     "execution_count": 13,
     "metadata": {},
     "output_type": "execute_result"
    }
   ],
   "source": [
    "ids.clf.default_class_confidence"
   ]
  },
  {
   "cell_type": "markdown",
   "metadata": {},
   "source": [
    "## Evaluating the IDS model"
   ]
  },
  {
   "cell_type": "code",
   "execution_count": 30,
   "metadata": {},
   "outputs": [
    {
     "name": "stdout",
     "output_type": "stream",
     "text": [
      "Accuracy on train data:  0.6590909090909091\n",
      "Accuracy on test data:  0.681334279630944\n"
     ]
    }
   ],
   "source": [
    "print(\"Accuracy on train data: \", ids.score(quant_dataframe_train))\n",
    "print(\"Accuracy on test data: \", ids.score(quant_dataframe_test))"
   ]
  },
  {
   "cell_type": "code",
   "execution_count": 15,
   "metadata": {},
   "outputs": [
    {
     "name": "stdout",
     "output_type": "stream",
     "text": [
      "AUC on train data:  0.6735958005249345\n"
     ]
    },
    {
     "ename": "IndexError",
     "evalue": "index 352 is out of bounds for axis 1 with size 352",
     "output_type": "error",
     "traceback": [
      "\u001b[1;31m---------------------------------------------------------------------------\u001b[0m",
      "\u001b[1;31mIndexError\u001b[0m                                Traceback (most recent call last)",
      "\u001b[1;32m<ipython-input-15-475e4ceebe60>\u001b[0m in \u001b[0;36m<module>\u001b[1;34m\u001b[0m\n\u001b[0;32m      1\u001b[0m \u001b[0mprint\u001b[0m\u001b[1;33m(\u001b[0m\u001b[1;34m\"AUC on train data: \"\u001b[0m\u001b[1;33m,\u001b[0m \u001b[0mids\u001b[0m\u001b[1;33m.\u001b[0m\u001b[0mscore_auc\u001b[0m\u001b[1;33m(\u001b[0m\u001b[0mquant_dataframe_train\u001b[0m\u001b[1;33m,\u001b[0m \u001b[0mconfidence_based\u001b[0m\u001b[1;33m=\u001b[0m\u001b[1;32mTrue\u001b[0m\u001b[1;33m)\u001b[0m\u001b[1;33m)\u001b[0m\u001b[1;33m\u001b[0m\u001b[1;33m\u001b[0m\u001b[0m\n\u001b[1;32m----> 2\u001b[1;33m \u001b[0mprint\u001b[0m\u001b[1;33m(\u001b[0m\u001b[1;34m\"AUC on test data: \"\u001b[0m\u001b[1;33m,\u001b[0m \u001b[0mids\u001b[0m\u001b[1;33m.\u001b[0m\u001b[0mscore_auc\u001b[0m\u001b[1;33m(\u001b[0m\u001b[0mquant_dataframe_test\u001b[0m\u001b[1;33m,\u001b[0m \u001b[0mconfidence_based\u001b[0m\u001b[1;33m=\u001b[0m\u001b[1;32mTrue\u001b[0m\u001b[1;33m)\u001b[0m\u001b[1;33m)\u001b[0m\u001b[1;33m\u001b[0m\u001b[1;33m\u001b[0m\u001b[0m\n\u001b[0m",
      "\u001b[1;32mD:\\programy\\Anaconda\\lib\\site-packages\\pyids\\data_structures\\ids_classifier.py\u001b[0m in \u001b[0;36mscore_auc\u001b[1;34m(self, quant_dataframe, confidence_based)\u001b[0m\n\u001b[0;32m    257\u001b[0m     \u001b[1;32mdef\u001b[0m \u001b[0mscore_auc\u001b[0m\u001b[1;33m(\u001b[0m\u001b[0mself\u001b[0m\u001b[1;33m,\u001b[0m \u001b[0mquant_dataframe\u001b[0m\u001b[1;33m,\u001b[0m \u001b[0mconfidence_based\u001b[0m\u001b[1;33m=\u001b[0m\u001b[1;32mFalse\u001b[0m\u001b[1;33m)\u001b[0m\u001b[1;33m:\u001b[0m\u001b[1;33m\u001b[0m\u001b[1;33m\u001b[0m\u001b[0m\n\u001b[0;32m    258\u001b[0m         \u001b[1;32mif\u001b[0m \u001b[0mconfidence_based\u001b[0m\u001b[1;33m:\u001b[0m\u001b[1;33m\u001b[0m\u001b[1;33m\u001b[0m\u001b[0m\n\u001b[1;32m--> 259\u001b[1;33m             \u001b[1;32mreturn\u001b[0m \u001b[0mself\u001b[0m\u001b[1;33m.\u001b[0m\u001b[0m_calculate_auc_for_ruleconf\u001b[0m\u001b[1;33m(\u001b[0m\u001b[0mquant_dataframe\u001b[0m\u001b[1;33m)\u001b[0m\u001b[1;33m\u001b[0m\u001b[1;33m\u001b[0m\u001b[0m\n\u001b[0m\u001b[0;32m    260\u001b[0m         \u001b[1;32melse\u001b[0m\u001b[1;33m:\u001b[0m\u001b[1;33m\u001b[0m\u001b[1;33m\u001b[0m\u001b[0m\n\u001b[0;32m    261\u001b[0m             \u001b[1;32mreturn\u001b[0m \u001b[0mself\u001b[0m\u001b[1;33m.\u001b[0m\u001b[0m_calcutate_auc_classical\u001b[0m\u001b[1;33m(\u001b[0m\u001b[0mquant_dataframe\u001b[0m\u001b[1;33m)\u001b[0m\u001b[1;33m\u001b[0m\u001b[1;33m\u001b[0m\u001b[0m\n",
      "\u001b[1;32mD:\\programy\\Anaconda\\lib\\site-packages\\pyids\\data_structures\\ids_classifier.py\u001b[0m in \u001b[0;36m_calculate_auc_for_ruleconf\u001b[1;34m(self, quant_dataframe)\u001b[0m\n\u001b[0;32m    217\u001b[0m \u001b[1;33m\u001b[0m\u001b[0m\n\u001b[0;32m    218\u001b[0m     \u001b[1;32mdef\u001b[0m \u001b[0m_calculate_auc_for_ruleconf\u001b[0m\u001b[1;33m(\u001b[0m\u001b[0mself\u001b[0m\u001b[1;33m,\u001b[0m \u001b[0mquant_dataframe\u001b[0m\u001b[1;33m)\u001b[0m\u001b[1;33m:\u001b[0m\u001b[1;33m\u001b[0m\u001b[1;33m\u001b[0m\u001b[0m\n\u001b[1;32m--> 219\u001b[1;33m         \u001b[0mconf_pred\u001b[0m \u001b[1;33m=\u001b[0m \u001b[0mself\u001b[0m\u001b[1;33m.\u001b[0m\u001b[0mclf\u001b[0m\u001b[1;33m.\u001b[0m\u001b[0mget_prediction_rules\u001b[0m\u001b[1;33m(\u001b[0m\u001b[0mquant_dataframe\u001b[0m\u001b[1;33m)\u001b[0m\u001b[1;33m\u001b[0m\u001b[1;33m\u001b[0m\u001b[0m\n\u001b[0m\u001b[0;32m    220\u001b[0m \u001b[1;33m\u001b[0m\u001b[0m\n\u001b[0;32m    221\u001b[0m         \u001b[0mconfidences\u001b[0m \u001b[1;33m=\u001b[0m \u001b[1;33m[\u001b[0m\u001b[1;33m]\u001b[0m\u001b[1;33m\u001b[0m\u001b[1;33m\u001b[0m\u001b[0m\n",
      "\u001b[1;32mD:\\programy\\Anaconda\\lib\\site-packages\\pyids\\data_structures\\ids_classifier.py\u001b[0m in \u001b[0;36mget_prediction_rules\u001b[1;34m(self, quant_dataframe)\u001b[0m\n\u001b[0;32m     82\u001b[0m         \u001b[1;32mif\u001b[0m \u001b[0my_pred_dict\u001b[0m\u001b[1;33m:\u001b[0m\u001b[1;33m\u001b[0m\u001b[1;33m\u001b[0m\u001b[0m\n\u001b[0;32m     83\u001b[0m             \u001b[1;32mfor\u001b[0m \u001b[0mi\u001b[0m \u001b[1;32min\u001b[0m \u001b[0mrange\u001b[0m\u001b[1;33m(\u001b[0m\u001b[0mlen\u001b[0m\u001b[1;33m(\u001b[0m\u001b[0mY\u001b[0m\u001b[1;33m)\u001b[0m\u001b[1;33m)\u001b[0m\u001b[1;33m:\u001b[0m\u001b[1;33m\u001b[0m\u001b[1;33m\u001b[0m\u001b[0m\n\u001b[1;32m---> 84\u001b[1;33m                 \u001b[0mall_NA\u001b[0m \u001b[1;33m=\u001b[0m \u001b[0mnp\u001b[0m\u001b[1;33m.\u001b[0m\u001b[0mall\u001b[0m\u001b[1;33m(\u001b[0m\u001b[0my_pred_array\u001b[0m\u001b[1;33m[\u001b[0m\u001b[1;33m:\u001b[0m\u001b[1;33m,\u001b[0m\u001b[0mi\u001b[0m\u001b[1;33m]\u001b[0m \u001b[1;33m==\u001b[0m \u001b[0mIDSRule\u001b[0m\u001b[1;33m.\u001b[0m\u001b[0mDUMMY_LABEL\u001b[0m\u001b[1;33m)\u001b[0m\u001b[1;33m\u001b[0m\u001b[1;33m\u001b[0m\u001b[0m\n\u001b[0m\u001b[0;32m     85\u001b[0m                 \u001b[1;32mif\u001b[0m \u001b[0mall_NA\u001b[0m\u001b[1;33m:\u001b[0m\u001b[1;33m\u001b[0m\u001b[1;33m\u001b[0m\u001b[0m\n\u001b[0;32m     86\u001b[0m                     \u001b[0mminority_classes\u001b[0m\u001b[1;33m.\u001b[0m\u001b[0mappend\u001b[0m\u001b[1;33m(\u001b[0m\u001b[0mY\u001b[0m\u001b[1;33m[\u001b[0m\u001b[0mi\u001b[0m\u001b[1;33m]\u001b[0m\u001b[1;33m)\u001b[0m\u001b[1;33m\u001b[0m\u001b[1;33m\u001b[0m\u001b[0m\n",
      "\u001b[1;31mIndexError\u001b[0m: index 352 is out of bounds for axis 1 with size 352"
     ]
    }
   ],
   "source": [
    "print(\"AUC on train data: \", ids.score_auc(quant_dataframe_train, confidence_based=True))\n",
    "print(\"AUC on test data: \", ids.score_auc(quant_dataframe_test, confidence_based=True))"
   ]
  },
  {
   "cell_type": "code",
   "execution_count": 32,
   "metadata": {},
   "outputs": [
    {
     "data": {
      "text/plain": [
       "{'fraction_overlap': 0.1952651515151515,\n",
       " 'fraction_classes': 1.0,\n",
       " 'fraction_uncovered': 0.14204545454545447,\n",
       " 'average_rule_width': 1.8333333333333333,\n",
       " 'ruleset_length': 6}"
      ]
     },
     "execution_count": 32,
     "metadata": {},
     "output_type": "execute_result"
    }
   ],
   "source": [
    "ids.score_interpretable_metrics(quant_dataframe_train)"
   ]
  },
  {
   "cell_type": "code",
   "execution_count": 67,
   "metadata": {},
   "outputs": [
    {
     "data": {
      "text/plain": [
       "{'fraction_overlap': 0.32008516678495386,\n",
       " 'fraction_classes': 1.0,\n",
       " 'fraction_uncovered': 0.00709723207948898,\n",
       " 'average_rule_width': 1.4285714285714286,\n",
       " 'ruleset_length': 7}"
      ]
     },
     "execution_count": 67,
     "metadata": {},
     "output_type": "execute_result"
    }
   ],
   "source": [
    "ids.score_interpretable_metrics(quant_dataframe_test)"
   ]
  }
 ],
 "metadata": {
  "kernelspec": {
   "display_name": "Python 3",
   "language": "python",
   "name": "python3"
  }
 },
 "nbformat": 4,
 "nbformat_minor": 2
}
