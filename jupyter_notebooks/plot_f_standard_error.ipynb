{
 "cells": [
  {
   "cell_type": "code",
   "execution_count": 9,
   "metadata": {},
   "outputs": [],
   "source": [
    "import json\n",
    "import pandas as pd\n",
    "import numpy as np\n",
    "import matplotlib.pyplot as plt"
   ]
  },
  {
   "cell_type": "code",
   "execution_count": 8,
   "metadata": {},
   "outputs": [],
   "source": [
    "benchmark_json = json.load(open(\"../output_data/benchmark_f_se.json\", \"r\"))"
   ]
  },
  {
   "cell_type": "code",
   "execution_count": 28,
   "metadata": {},
   "outputs": [],
   "source": [
    "benchmark_df = pd.DataFrame(benchmark_json).applymap(lambda x: x[0])\n",
    "benchmark_df.columns = [\"Upravená procedura\", \"Původní procedura\"]\n",
    "benchmark_df.index = [f\"$f_{x}$\" for x in range(1, 8)]"
   ]
  },
  {
   "cell_type": "code",
   "execution_count": 29,
   "metadata": {},
   "outputs": [
    {
     "data": {
      "text/plain": [
       "Text(0, 0.5, 'Čas odhadu')"
      ]
     },
     "execution_count": 29,
     "metadata": {},
     "output_type": "execute_result"
    },
    {
     "data": {
      "image/png": "[encoded data removed]",
      "text/plain": [
       "<Figure size 432x288 with 1 Axes>"
      ]
     },
     "metadata": {
      "needs_background": "light"
     },
     "output_type": "display_data"
    }
   ],
   "source": [
    "benchmark_df.plot.bar(log=True)\n",
    "plt.xlabel(\"f kritérium\")\n",
    "plt.ylabel(\"Čas odhadu\")"
   ]
  },
  {
   "cell_type": "code",
   "execution_count": 36,
   "metadata": {},
   "outputs": [
    {
     "name": "stdout",
     "output_type": "stream",
     "text": [
      "\\begin{tabular}{lr}\n",
      "\\toprule\n",
      "{} &  Původní procedura \\\\\n",
      "\\midrule\n",
      "$f_1$ &              82.79 \\\\\n",
      "$f_2$ &               7.40 \\\\\n",
      "$f_3$ &               0.45 \\\\\n",
      "$f_4$ &               0.40 \\\\\n",
      "$f_5$ &            3460.71 \\\\\n",
      "$f_6$ &             157.44 \\\\\n",
      "$f_7$ &            9726.75 \\\\\n",
      "\\bottomrule\n",
      "\\end{tabular}\n",
      "\n"
     ]
    }
   ],
   "source": [
    "print(benchmark_df.applymap(lambda x: round(x, 2))[\"Původní procedura\"].to_latex(escape=False))"
   ]
  },
  {
   "cell_type": "code",
   "execution_count": 37,
   "metadata": {},
   "outputs": [
    {
     "name": "stdout",
     "output_type": "stream",
     "text": [
      "\\begin{tabular}{lrr}\n",
      "\\toprule\n",
      "{} &  Upravená procedura &  Původní procedura \\\\\n",
      "\\midrule\n",
      "$f_1$ &               15.73 &              82.79 \\\\\n",
      "$f_2$ &                1.69 &               7.40 \\\\\n",
      "$f_3$ &                0.44 &               0.45 \\\\\n",
      "$f_4$ &                0.43 &               0.40 \\\\\n",
      "$f_5$ &               18.45 &            3460.71 \\\\\n",
      "$f_6$ &               14.12 &             157.44 \\\\\n",
      "$f_7$ &               10.63 &            9726.75 \\\\\n",
      "\\bottomrule\n",
      "\\end{tabular}\n",
      "\n"
     ]
    }
   ],
   "source": [
    "print(benchmark_df.applymap(lambda x: round(x, 2)).to_latex(escape=False))"
   ]
  }
 ],
 "metadata": {
  "kernelspec": {
   "display_name": "Python 3",
   "language": "python",
   "name": "python3"
  },
  "language_info": {
   "codemirror_mode": {
    "name": "ipython",
    "version": 3
   },
   "file_extension": ".py",
   "mimetype": "text/x-python",
   "name": "python",
   "nbconvert_exporter": "python",
   "pygments_lexer": "ipython3",
   "version": "3.7.3"
  }
 },
 "nbformat": 4,
 "nbformat_minor": 2
}
