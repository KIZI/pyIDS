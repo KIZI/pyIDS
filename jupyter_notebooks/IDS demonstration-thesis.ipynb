{
 "cells": [
  {
   "cell_type": "code",
   "execution_count": 55,
   "metadata": {},
   "outputs": [],
   "source": [
    "from pyarc.data_structures import ClassAssocationRule\n",
    "from pyids.data_structures import IDSRule\n",
    "from pyids.model_selection.utils import encode_label\n",
    "from sklearn.metrics import roc_auc_score\n",
    "import logging\n",
    "import numpy as np\n",
    "\n",
    "logging.basicConfig(level=logging.INFO)"
   ]
  },
  {
   "cell_type": "code",
   "execution_count": 2,
   "metadata": {},
   "outputs": [],
   "source": [
    "def print_cars(ids_cars):\n",
    "    cars = ids_cars\n",
    "    is_ids = False\n",
    "    if type(ids_cars[0]) == IDSRule:\n",
    "        is_ids = [ r.f1 for r in ids_cars ]\n",
    "        cars = [ r.car for r in ids_cars ]\n",
    "    latex = []\n",
    "    for idx, car in enumerate(cars):\n",
    "        if is_ids:\n",
    "            latex.append(car_to_latex(car, is_ids=is_ids[idx]))\n",
    "        else:\n",
    "            latex.append(car_to_latex(car))\n",
    "        \n",
    "    return \"\\n\\n\".join(latex)\n",
    "        \n",
    "def car_to_latex(car, is_ids=False):\n",
    "    trans = {\n",
    "        \"-\":  r\"\\-\",\n",
    "        \"_\":  r\"\\_\",\n",
    "        \"]\":  r\"\\]\",\n",
    "        \"\\\\\": r\"\\\\\",\n",
    "        \"^\":  r\"\\^\",\n",
    "        \"$\":  r\"\\$\",\n",
    "        \"*\":  r\"\\*\",\n",
    "        \".\":  r\"\\.\"\n",
    "    }\n",
    "    latex = []\n",
    "    \n",
    "    latex.append(\"If\")\n",
    "    \n",
    "    for idx, predicate in enumerate(car.antecedent):\n",
    "       \n",
    "        name, interval = predicate\n",
    "        name = name.translate(str.maketrans(trans))\n",
    "        \n",
    "        interval_string = interval.translate(str.maketrans(trans))\n",
    "        \n",
    "        if idx != 0:\n",
    "            latex.append(\"and\")\n",
    "        latex.append(\n",
    "            f\"\\\\textcolor{{blue}}{{{name}}}=\\\\textcolor{{gray}}{{{interval_string}}}\"\n",
    "        )\n",
    "\n",
    "        \n",
    "    class_name, class_value = car.consequent\n",
    "    \n",
    "    latex.append(\"then\")\n",
    "    latex.append(\n",
    "        f\"\\\\textcolor{{red}}{{{class_name}}}=\\\\textcolor{{gray}}{{{class_value}}}\"\n",
    "    )\n",
    "    \n",
    "    if is_ids:\n",
    "        latex.append(\n",
    "            f\"$\\mid$ f1-score: \\\\textit{{{round(is_ids, 2)}}}\"\n",
    "        )\n",
    "    \n",
    "    return \" \".join(latex)"
   ]
  },
  {
   "cell_type": "markdown",
   "metadata": {},
   "source": [
    "# IDS Demonstration"
   ]
  },
  {
   "cell_type": "markdown",
   "metadata": {},
   "source": [
    "## Importing required libraries"
   ]
  },
  {
   "cell_type": "code",
   "execution_count": 3,
   "metadata": {},
   "outputs": [],
   "source": [
    "import pandas as pd\n",
    "import pyarc\n",
    "from pyids import IDS\n",
    "from pyids.algorithms.ids_classifier import mine_CARs\n",
    "from pyids.rule_mining import RuleMiner\n",
    "from pyarc.qcba.data_structures import QuantitativeDataFrame\n",
    "\n",
    "from sklearn.model_selection import train_test_split"
   ]
  },
  {
   "cell_type": "markdown",
   "metadata": {},
   "source": [
    "## Loading the test and train data"
   ]
  },
  {
   "cell_type": "code",
   "execution_count": 4,
   "metadata": {},
   "outputs": [],
   "source": [
    "data = pd.read_csv(\"../data/titanic.csv\").sample(frac=1).reset_index(drop=True)\n",
    "\n",
    "\n",
    "data_train, data_test = train_test_split(data, test_size=0.8)"
   ]
  },
  {
   "cell_type": "code",
   "execution_count": 5,
   "metadata": {},
   "outputs": [
    {
     "data": {
      "text/html": [
       "<div>\n",
       "<style scoped>\n",
       "    .dataframe tbody tr th:only-of-type {\n",
       "        vertical-align: middle;\n",
       "    }\n",
       "\n",
       "    .dataframe tbody tr th {\n",
       "        vertical-align: top;\n",
       "    }\n",
       "\n",
       "    .dataframe thead th {\n",
       "        text-align: right;\n",
       "    }\n",
       "</style>\n",
       "<table border=\"1\" class=\"dataframe\">\n",
       "  <thead>\n",
       "    <tr style=\"text-align: right;\">\n",
       "      <th></th>\n",
       "      <th>Passenger_Cat</th>\n",
       "      <th>Age_Cat</th>\n",
       "      <th>Gender</th>\n",
       "      <th>Died</th>\n",
       "    </tr>\n",
       "  </thead>\n",
       "  <tbody>\n",
       "    <tr>\n",
       "      <th>0</th>\n",
       "      <td>3rd_class</td>\n",
       "      <td>adult</td>\n",
       "      <td>male</td>\n",
       "      <td>1</td>\n",
       "    </tr>\n",
       "    <tr>\n",
       "      <th>1</th>\n",
       "      <td>crew</td>\n",
       "      <td>adult</td>\n",
       "      <td>male</td>\n",
       "      <td>1</td>\n",
       "    </tr>\n",
       "    <tr>\n",
       "      <th>2</th>\n",
       "      <td>3rd_class</td>\n",
       "      <td>child</td>\n",
       "      <td>female</td>\n",
       "      <td>1</td>\n",
       "    </tr>\n",
       "    <tr>\n",
       "      <th>3</th>\n",
       "      <td>crew</td>\n",
       "      <td>adult</td>\n",
       "      <td>male</td>\n",
       "      <td>1</td>\n",
       "    </tr>\n",
       "    <tr>\n",
       "      <th>4</th>\n",
       "      <td>2nd_class</td>\n",
       "      <td>adult</td>\n",
       "      <td>male</td>\n",
       "      <td>1</td>\n",
       "    </tr>\n",
       "  </tbody>\n",
       "</table>\n",
       "</div>"
      ],
      "text/plain": [
       "  Passenger_Cat Age_Cat  Gender  Died\n",
       "0     3rd_class   adult    male     1\n",
       "1          crew   adult    male     1\n",
       "2     3rd_class   child  female     1\n",
       "3          crew   adult    male     1\n",
       "4     2nd_class   adult    male     1"
      ]
     },
     "execution_count": 5,
     "metadata": {},
     "output_type": "execute_result"
    }
   ],
   "source": [
    "data.head()"
   ]
  },
  {
   "cell_type": "code",
   "execution_count": 6,
   "metadata": {},
   "outputs": [
    {
     "name": "stdout",
     "output_type": "stream",
     "text": [
      "[CAR {Age_Cat=adult} => {Died=1} sup: 0.95 conf: 0.00 len: 2, id: 24, CAR {Age_Cat=adult} => {Died=0} sup: 0.95 conf: 0.00 len: 2, id: 25, CAR {Gender=male} => {Died=1} sup: 0.78 conf: 0.00 len: 2, id: 20, CAR {Gender=male} => {Died=0} sup: 0.78 conf: 0.00 len: 2, id: 21, CAR {Gender=male,Age_Cat=adult} => {Died=1} sup: 0.74 conf: 0.00 len: 3, id: 22, CAR {Gender=male,Age_Cat=adult} => {Died=0} sup: 0.74 conf: 0.00 len: 3, id: 23, CAR {Passenger_Cat=crew} => {Died=1} sup: 0.38 conf: 0.00 len: 2, id: 14, CAR {Passenger_Cat=crew} => {Died=0} sup: 0.38 conf: 0.00 len: 2, id: 15, CAR {Passenger_Cat=crew,Age_Cat=adult} => {Died=1} sup: 0.38 conf: 0.00 len: 3, id: 12, CAR {Passenger_Cat=crew,Age_Cat=adult} => {Died=0} sup: 0.38 conf: 0.00 len: 3, id: 13, CAR {Gender=male,Passenger_Cat=crew} => {Died=1} sup: 0.36 conf: 0.00 len: 3, id: 18, CAR {Gender=male,Passenger_Cat=crew} => {Died=0} sup: 0.36 conf: 0.00 len: 3, id: 19, CAR {Gender=male,Passenger_Cat=crew,Age_Cat=adult} => {Died=1} sup: 0.36 conf: 0.00 len: 4, id: 16, CAR {Gender=male,Passenger_Cat=crew,Age_Cat=adult} => {Died=0} sup: 0.36 conf: 0.00 len: 4, id: 17, CAR {Passenger_Cat=3rd_class} => {Died=1} sup: 0.32 conf: 0.00 len: 2, id: 4, CAR {Passenger_Cat=3rd_class} => {Died=0} sup: 0.32 conf: 0.00 len: 2, id: 5, CAR {Passenger_Cat=3rd_class,Age_Cat=adult} => {Died=1} sup: 0.28 conf: 0.00 len: 3, id: 10, CAR {Passenger_Cat=3rd_class,Age_Cat=adult} => {Died=0} sup: 0.28 conf: 0.00 len: 3, id: 11, CAR {Gender=male,Passenger_Cat=3rd_class} => {Died=1} sup: 0.23 conf: 0.00 len: 3, id: 6, CAR {Gender=male,Passenger_Cat=3rd_class} => {Died=0} sup: 0.23 conf: 0.00 len: 3, id: 7, CAR {Gender=female} => {Died=1} sup: 0.22 conf: 0.00 len: 2, id: 0, CAR {Gender=female} => {Died=0} sup: 0.22 conf: 0.00 len: 2, id: 1, CAR {Gender=male,Passenger_Cat=3rd_class,Age_Cat=adult} => {Died=1} sup: 0.21 conf: 0.00 len: 4, id: 8, CAR {Gender=male,Passenger_Cat=3rd_class,Age_Cat=adult} => {Died=0} sup: 0.21 conf: 0.00 len: 4, id: 9, CAR {Gender=female,Age_Cat=adult} => {Died=1} sup: 0.20 conf: 0.00 len: 3, id: 2, CAR {Gender=female,Age_Cat=adult} => {Died=0} sup: 0.20 conf: 0.00 len: 3, id: 3]\n"
     ]
    },
    {
     "name": "stderr",
     "output_type": "stream",
     "text": [
      "D:\\programy\\Anaconda\\lib\\site-packages\\pandas\\core\\indexing.py:543: SettingWithCopyWarning: \n",
      "A value is trying to be set on a copy of a slice from a DataFrame.\n",
      "Try using .loc[row_indexer,col_indexer] = value instead\n",
      "\n",
      "See the caveats in the documentation: http://pandas.pydata.org/pandas-docs/stable/indexing.html#indexing-view-versus-copy\n",
      "  self.obj[item] = s\n",
      "D:\\programy\\Anaconda\\lib\\site-packages\\pandas\\core\\indexing.py:635: SettingWithCopyWarning: \n",
      "A value is trying to be set on a copy of a slice from a DataFrame.\n",
      "Try using .loc[row_indexer,col_indexer] = value instead\n",
      "\n",
      "See the caveats in the documentation: http://pandas.pydata.org/pandas-docs/stable/indexing.html#indexing-view-versus-copy\n",
      "  self.obj[item_labels[indexer[info_axis]]] = value\n"
     ]
    }
   ],
   "source": [
    "rm = RuleMiner()\n",
    "rules = rm.mine_rules(data_train)"
   ]
  },
  {
   "cell_type": "code",
   "execution_count": 7,
   "metadata": {},
   "outputs": [
    {
     "name": "stdout",
     "output_type": "stream",
     "text": [
      "If \\textcolor{blue}{Age\\_Cat}=\\textcolor{gray}{adult} then \\textcolor{red}{Died}=\\textcolor{gray}{1}\n",
      "\n",
      "If \\textcolor{blue}{Age\\_Cat}=\\textcolor{gray}{adult} then \\textcolor{red}{Died}=\\textcolor{gray}{0}\n",
      "\n",
      "If \\textcolor{blue}{Gender}=\\textcolor{gray}{male} then \\textcolor{red}{Died}=\\textcolor{gray}{1}\n",
      "\n",
      "If \\textcolor{blue}{Gender}=\\textcolor{gray}{male} then \\textcolor{red}{Died}=\\textcolor{gray}{0}\n",
      "\n",
      "If \\textcolor{blue}{Gender}=\\textcolor{gray}{male} and \\textcolor{blue}{Age\\_Cat}=\\textcolor{gray}{adult} then \\textcolor{red}{Died}=\\textcolor{gray}{1}\n",
      "\n",
      "If \\textcolor{blue}{Gender}=\\textcolor{gray}{male} and \\textcolor{blue}{Age\\_Cat}=\\textcolor{gray}{adult} then \\textcolor{red}{Died}=\\textcolor{gray}{0}\n",
      "\n",
      "If \\textcolor{blue}{Passenger\\_Cat}=\\textcolor{gray}{crew} then \\textcolor{red}{Died}=\\textcolor{gray}{1}\n",
      "\n",
      "If \\textcolor{blue}{Passenger\\_Cat}=\\textcolor{gray}{crew} then \\textcolor{red}{Died}=\\textcolor{gray}{0}\n",
      "\n",
      "If \\textcolor{blue}{Passenger\\_Cat}=\\textcolor{gray}{crew} and \\textcolor{blue}{Age\\_Cat}=\\textcolor{gray}{adult} then \\textcolor{red}{Died}=\\textcolor{gray}{1}\n",
      "\n",
      "If \\textcolor{blue}{Passenger\\_Cat}=\\textcolor{gray}{crew} and \\textcolor{blue}{Age\\_Cat}=\\textcolor{gray}{adult} then \\textcolor{red}{Died}=\\textcolor{gray}{0}\n",
      "\n",
      "If \\textcolor{blue}{Gender}=\\textcolor{gray}{male} and \\textcolor{blue}{Passenger\\_Cat}=\\textcolor{gray}{crew} then \\textcolor{red}{Died}=\\textcolor{gray}{1}\n",
      "\n",
      "If \\textcolor{blue}{Gender}=\\textcolor{gray}{male} and \\textcolor{blue}{Passenger\\_Cat}=\\textcolor{gray}{crew} then \\textcolor{red}{Died}=\\textcolor{gray}{0}\n",
      "\n",
      "If \\textcolor{blue}{Gender}=\\textcolor{gray}{male} and \\textcolor{blue}{Passenger\\_Cat}=\\textcolor{gray}{crew} and \\textcolor{blue}{Age\\_Cat}=\\textcolor{gray}{adult} then \\textcolor{red}{Died}=\\textcolor{gray}{1}\n",
      "\n",
      "If \\textcolor{blue}{Gender}=\\textcolor{gray}{male} and \\textcolor{blue}{Passenger\\_Cat}=\\textcolor{gray}{crew} and \\textcolor{blue}{Age\\_Cat}=\\textcolor{gray}{adult} then \\textcolor{red}{Died}=\\textcolor{gray}{0}\n",
      "\n",
      "If \\textcolor{blue}{Passenger\\_Cat}=\\textcolor{gray}{3rd\\_class} then \\textcolor{red}{Died}=\\textcolor{gray}{1}\n",
      "\n",
      "If \\textcolor{blue}{Passenger\\_Cat}=\\textcolor{gray}{3rd\\_class} then \\textcolor{red}{Died}=\\textcolor{gray}{0}\n",
      "\n",
      "If \\textcolor{blue}{Passenger\\_Cat}=\\textcolor{gray}{3rd\\_class} and \\textcolor{blue}{Age\\_Cat}=\\textcolor{gray}{adult} then \\textcolor{red}{Died}=\\textcolor{gray}{1}\n",
      "\n",
      "If \\textcolor{blue}{Passenger\\_Cat}=\\textcolor{gray}{3rd\\_class} and \\textcolor{blue}{Age\\_Cat}=\\textcolor{gray}{adult} then \\textcolor{red}{Died}=\\textcolor{gray}{0}\n",
      "\n",
      "If \\textcolor{blue}{Gender}=\\textcolor{gray}{male} and \\textcolor{blue}{Passenger\\_Cat}=\\textcolor{gray}{3rd\\_class} then \\textcolor{red}{Died}=\\textcolor{gray}{1}\n",
      "\n",
      "If \\textcolor{blue}{Gender}=\\textcolor{gray}{male} and \\textcolor{blue}{Passenger\\_Cat}=\\textcolor{gray}{3rd\\_class} then \\textcolor{red}{Died}=\\textcolor{gray}{0}\n",
      "\n",
      "If \\textcolor{blue}{Gender}=\\textcolor{gray}{female} then \\textcolor{red}{Died}=\\textcolor{gray}{1}\n",
      "\n",
      "If \\textcolor{blue}{Gender}=\\textcolor{gray}{female} then \\textcolor{red}{Died}=\\textcolor{gray}{0}\n",
      "\n",
      "If \\textcolor{blue}{Gender}=\\textcolor{gray}{male} and \\textcolor{blue}{Passenger\\_Cat}=\\textcolor{gray}{3rd\\_class} and \\textcolor{blue}{Age\\_Cat}=\\textcolor{gray}{adult} then \\textcolor{red}{Died}=\\textcolor{gray}{1}\n",
      "\n",
      "If \\textcolor{blue}{Gender}=\\textcolor{gray}{male} and \\textcolor{blue}{Passenger\\_Cat}=\\textcolor{gray}{3rd\\_class} and \\textcolor{blue}{Age\\_Cat}=\\textcolor{gray}{adult} then \\textcolor{red}{Died}=\\textcolor{gray}{0}\n",
      "\n",
      "If \\textcolor{blue}{Gender}=\\textcolor{gray}{female} and \\textcolor{blue}{Age\\_Cat}=\\textcolor{gray}{adult} then \\textcolor{red}{Died}=\\textcolor{gray}{1}\n",
      "\n",
      "If \\textcolor{blue}{Gender}=\\textcolor{gray}{female} and \\textcolor{blue}{Age\\_Cat}=\\textcolor{gray}{adult} then \\textcolor{red}{Died}=\\textcolor{gray}{0}\n"
     ]
    }
   ],
   "source": [
    "print(print_cars(rules))"
   ]
  },
  {
   "cell_type": "code",
   "execution_count": 8,
   "metadata": {},
   "outputs": [],
   "source": [
    "quant_dataframe_train = QuantitativeDataFrame(data_train)\n",
    "quant_dataframe_test = QuantitativeDataFrame(data_test)"
   ]
  },
  {
   "cell_type": "code",
   "execution_count": 9,
   "metadata": {},
   "outputs": [
    {
     "data": {
      "text/html": [
       "<div>\n",
       "<style scoped>\n",
       "    .dataframe tbody tr th:only-of-type {\n",
       "        vertical-align: middle;\n",
       "    }\n",
       "\n",
       "    .dataframe tbody tr th {\n",
       "        vertical-align: top;\n",
       "    }\n",
       "\n",
       "    .dataframe thead th {\n",
       "        text-align: right;\n",
       "    }\n",
       "</style>\n",
       "<table border=\"1\" class=\"dataframe\">\n",
       "  <thead>\n",
       "    <tr style=\"text-align: right;\">\n",
       "      <th></th>\n",
       "      <th>Passenger_Cat</th>\n",
       "      <th>Age_Cat</th>\n",
       "      <th>Gender</th>\n",
       "      <th>Died</th>\n",
       "    </tr>\n",
       "  </thead>\n",
       "  <tbody>\n",
       "    <tr>\n",
       "      <th>389</th>\n",
       "      <td>crew</td>\n",
       "      <td>adult</td>\n",
       "      <td>male</td>\n",
       "      <td>1</td>\n",
       "    </tr>\n",
       "    <tr>\n",
       "      <th>1472</th>\n",
       "      <td>1st_class</td>\n",
       "      <td>adult</td>\n",
       "      <td>male</td>\n",
       "      <td>0</td>\n",
       "    </tr>\n",
       "    <tr>\n",
       "      <th>523</th>\n",
       "      <td>3rd_class</td>\n",
       "      <td>adult</td>\n",
       "      <td>male</td>\n",
       "      <td>1</td>\n",
       "    </tr>\n",
       "    <tr>\n",
       "      <th>509</th>\n",
       "      <td>3rd_class</td>\n",
       "      <td>adult</td>\n",
       "      <td>female</td>\n",
       "      <td>0</td>\n",
       "    </tr>\n",
       "    <tr>\n",
       "      <th>335</th>\n",
       "      <td>crew</td>\n",
       "      <td>adult</td>\n",
       "      <td>male</td>\n",
       "      <td>0</td>\n",
       "    </tr>\n",
       "    <tr>\n",
       "      <th>1724</th>\n",
       "      <td>crew</td>\n",
       "      <td>adult</td>\n",
       "      <td>male</td>\n",
       "      <td>1</td>\n",
       "    </tr>\n",
       "    <tr>\n",
       "      <th>1694</th>\n",
       "      <td>3rd_class</td>\n",
       "      <td>adult</td>\n",
       "      <td>male</td>\n",
       "      <td>1</td>\n",
       "    </tr>\n",
       "    <tr>\n",
       "      <th>927</th>\n",
       "      <td>3rd_class</td>\n",
       "      <td>adult</td>\n",
       "      <td>male</td>\n",
       "      <td>1</td>\n",
       "    </tr>\n",
       "    <tr>\n",
       "      <th>1206</th>\n",
       "      <td>1st_class</td>\n",
       "      <td>adult</td>\n",
       "      <td>male</td>\n",
       "      <td>1</td>\n",
       "    </tr>\n",
       "    <tr>\n",
       "      <th>792</th>\n",
       "      <td>crew</td>\n",
       "      <td>adult</td>\n",
       "      <td>male</td>\n",
       "      <td>0</td>\n",
       "    </tr>\n",
       "    <tr>\n",
       "      <th>661</th>\n",
       "      <td>1st_class</td>\n",
       "      <td>adult</td>\n",
       "      <td>male</td>\n",
       "      <td>0</td>\n",
       "    </tr>\n",
       "    <tr>\n",
       "      <th>1078</th>\n",
       "      <td>1st_class</td>\n",
       "      <td>adult</td>\n",
       "      <td>female</td>\n",
       "      <td>1</td>\n",
       "    </tr>\n",
       "    <tr>\n",
       "      <th>193</th>\n",
       "      <td>crew</td>\n",
       "      <td>adult</td>\n",
       "      <td>male</td>\n",
       "      <td>1</td>\n",
       "    </tr>\n",
       "    <tr>\n",
       "      <th>1492</th>\n",
       "      <td>crew</td>\n",
       "      <td>adult</td>\n",
       "      <td>male</td>\n",
       "      <td>1</td>\n",
       "    </tr>\n",
       "    <tr>\n",
       "      <th>162</th>\n",
       "      <td>3rd_class</td>\n",
       "      <td>adult</td>\n",
       "      <td>female</td>\n",
       "      <td>0</td>\n",
       "    </tr>\n",
       "    <tr>\n",
       "      <th>1619</th>\n",
       "      <td>3rd_class</td>\n",
       "      <td>adult</td>\n",
       "      <td>male</td>\n",
       "      <td>1</td>\n",
       "    </tr>\n",
       "    <tr>\n",
       "      <th>1178</th>\n",
       "      <td>crew</td>\n",
       "      <td>adult</td>\n",
       "      <td>male</td>\n",
       "      <td>1</td>\n",
       "    </tr>\n",
       "    <tr>\n",
       "      <th>1397</th>\n",
       "      <td>3rd_class</td>\n",
       "      <td>adult</td>\n",
       "      <td>male</td>\n",
       "      <td>1</td>\n",
       "    </tr>\n",
       "    <tr>\n",
       "      <th>1568</th>\n",
       "      <td>1st_class</td>\n",
       "      <td>adult</td>\n",
       "      <td>female</td>\n",
       "      <td>0</td>\n",
       "    </tr>\n",
       "    <tr>\n",
       "      <th>383</th>\n",
       "      <td>3rd_class</td>\n",
       "      <td>adult</td>\n",
       "      <td>male</td>\n",
       "      <td>1</td>\n",
       "    </tr>\n",
       "  </tbody>\n",
       "</table>\n",
       "</div>"
      ],
      "text/plain": [
       "     Passenger_Cat Age_Cat  Gender Died\n",
       "389           crew   adult    male    1\n",
       "1472     1st_class   adult    male    0\n",
       "523      3rd_class   adult    male    1\n",
       "509      3rd_class   adult  female    0\n",
       "335           crew   adult    male    0\n",
       "1724          crew   adult    male    1\n",
       "1694     3rd_class   adult    male    1\n",
       "927      3rd_class   adult    male    1\n",
       "1206     1st_class   adult    male    1\n",
       "792           crew   adult    male    0\n",
       "661      1st_class   adult    male    0\n",
       "1078     1st_class   adult  female    1\n",
       "193           crew   adult    male    1\n",
       "1492          crew   adult    male    1\n",
       "162      3rd_class   adult  female    0\n",
       "1619     3rd_class   adult    male    1\n",
       "1178          crew   adult    male    1\n",
       "1397     3rd_class   adult    male    1\n",
       "1568     1st_class   adult  female    0\n",
       "383      3rd_class   adult    male    1"
      ]
     },
     "execution_count": 9,
     "metadata": {},
     "output_type": "execute_result"
    }
   ],
   "source": [
    "data_train.sample(len(data_train)).head(20)"
   ]
  },
  {
   "cell_type": "markdown",
   "metadata": {},
   "source": [
    "## Mining the Class Association Rules (CARs)"
   ]
  },
  {
   "cell_type": "markdown",
   "metadata": {},
   "source": [
    "## Training the IDS Model"
   ]
  },
  {
   "cell_type": "code",
   "execution_count": 10,
   "metadata": {},
   "outputs": [
    {
     "data": {
      "text/plain": [
       "<pyids.algorithms.ids.IDS at 0x26abff5a860>"
      ]
     },
     "execution_count": 10,
     "metadata": {},
     "output_type": "execute_result"
    }
   ],
   "source": [
    "ids = IDS()\n",
    "ids.fit(class_association_rules=rules, quant_dataframe=quant_dataframe_train, random_seed=5)"
   ]
  },
  {
   "cell_type": "code",
   "execution_count": 11,
   "metadata": {},
   "outputs": [
    {
     "name": "stdout",
     "output_type": "stream",
     "text": [
      "If \\textcolor{blue}{Age\\_Cat}=\\textcolor{gray}{adult} then \\textcolor{red}{Died}=\\textcolor{gray}{1} $\\mid$ f1-score: \\textit{0.61}\n",
      "\n",
      "If \\textcolor{blue}{Gender}=\\textcolor{gray}{male} and \\textcolor{blue}{Age\\_Cat}=\\textcolor{gray}{adult} then \\textcolor{red}{Died}=\\textcolor{gray}{1} $\\mid$ f1-score: \\textit{0.57}\n",
      "\n",
      "If \\textcolor{blue}{Passenger\\_Cat}=\\textcolor{gray}{3rd\\_class} and \\textcolor{blue}{Age\\_Cat}=\\textcolor{gray}{adult} then \\textcolor{red}{Died}=\\textcolor{gray}{1} $\\mid$ f1-score: \\textit{0.2}\n",
      "\n",
      "If \\textcolor{blue}{Gender}=\\textcolor{gray}{male} and \\textcolor{blue}{Passenger\\_Cat}=\\textcolor{gray}{3rd\\_class} then \\textcolor{red}{Died}=\\textcolor{gray}{1} $\\mid$ f1-score: \\textit{0.18}\n",
      "\n",
      "If \\textcolor{blue}{Gender}=\\textcolor{gray}{male} and \\textcolor{blue}{Age\\_Cat}=\\textcolor{gray}{adult} then \\textcolor{red}{Died}=\\textcolor{gray}{0} $\\mid$ f1-score: \\textit{0.18}\n",
      "\n",
      "If \\textcolor{blue}{Passenger\\_Cat}=\\textcolor{gray}{3rd\\_class} then \\textcolor{red}{Died}=\\textcolor{gray}{0} $\\mid$ f1-score: \\textit{0.09}\n",
      "\n",
      "If \\textcolor{blue}{Passenger\\_Cat}=\\textcolor{gray}{3rd\\_class} and \\textcolor{blue}{Age\\_Cat}=\\textcolor{gray}{adult} then \\textcolor{red}{Died}=\\textcolor{gray}{0} $\\mid$ f1-score: \\textit{0.08}\n",
      "\n",
      "If \\textcolor{blue}{Gender}=\\textcolor{gray}{female} then \\textcolor{red}{Died}=\\textcolor{gray}{1} $\\mid$ f1-score: \\textit{0.06}\n",
      "\n",
      "If \\textcolor{blue}{Gender}=\\textcolor{gray}{male} and \\textcolor{blue}{Passenger\\_Cat}=\\textcolor{gray}{3rd\\_class} then \\textcolor{red}{Died}=\\textcolor{gray}{0} $\\mid$ f1-score: \\textit{0.05}\n",
      "\n",
      "If \\textcolor{blue}{Gender}=\\textcolor{gray}{female} and \\textcolor{blue}{Age\\_Cat}=\\textcolor{gray}{adult} then \\textcolor{red}{Died}=\\textcolor{gray}{1} $\\mid$ f1-score: \\textit{0.05}\n",
      "\n",
      "If \\textcolor{blue}{Gender}=\\textcolor{gray}{male} and \\textcolor{blue}{Passenger\\_Cat}=\\textcolor{gray}{3rd\\_class} and \\textcolor{blue}{Age\\_Cat}=\\textcolor{gray}{adult} then \\textcolor{red}{Died}=\\textcolor{gray}{0} $\\mid$ f1-score: \\textit{0.04}\n"
     ]
    }
   ],
   "source": [
    "print(print_cars(ids.clf.rules))"
   ]
  },
  {
   "cell_type": "code",
   "execution_count": 12,
   "metadata": {},
   "outputs": [
    {
     "data": {
      "text/plain": [
       "'0'"
      ]
     },
     "execution_count": 12,
     "metadata": {},
     "output_type": "execute_result"
    }
   ],
   "source": [
    "ids.clf.default_class"
   ]
  },
  {
   "cell_type": "code",
   "execution_count": 31,
   "metadata": {},
   "outputs": [
    {
     "data": {
      "text/plain": [
       "1.0"
      ]
     },
     "execution_count": 31,
     "metadata": {},
     "output_type": "execute_result"
    }
   ],
   "source": [
    "ids.clf.default_class_confidence"
   ]
  },
  {
   "cell_type": "code",
   "execution_count": 49,
   "metadata": {},
   "outputs": [
    {
     "data": {
      "text/plain": [
       "0.5726744186046512"
      ]
     },
     "execution_count": 49,
     "metadata": {},
     "output_type": "execute_result"
    }
   ],
   "source": [
    "pred = np.array(ids.predict(quant_dataframe_train)).astype(float)\n",
    "real = data_train[\"Died\"].astype(float)\n",
    "\n",
    "roc_auc_score(pred, real)"
   ]
  },
  {
   "cell_type": "markdown",
   "metadata": {},
   "source": [
    "## Evaluating the IDS model"
   ]
  },
  {
   "cell_type": "code",
   "execution_count": 42,
   "metadata": {},
   "outputs": [
    {
     "name": "stdout",
     "output_type": "stream",
     "text": [
      "Accuracy on train data:  0.6420454545454546\n",
      "Accuracy on test data:  0.6834634492547906\n"
     ]
    }
   ],
   "source": [
    "print(\"Accuracy on train data: \", ids.score(quant_dataframe_train))\n",
    "print(\"Accuracy on test data: \", ids.score(quant_dataframe_test))"
   ]
  },
  {
   "cell_type": "code",
   "execution_count": 43,
   "metadata": {},
   "outputs": [
    {
     "name": "stdout",
     "output_type": "stream",
     "text": [
      "AUC on train data:  0.5\n",
      "AUC on test data:  0.5\n"
     ]
    }
   ],
   "source": [
    "print(\"AUC on train data: \", ids.score_auc(quant_dataframe_train, confidence_based=False))\n",
    "print(\"AUC on test data: \", ids.score_auc(quant_dataframe_test, confidence_based=False))"
   ]
  },
  {
   "cell_type": "code",
   "execution_count": 44,
   "metadata": {},
   "outputs": [
    {
     "name": "stdout",
     "output_type": "stream",
     "text": [
      "AUC on train data:  0.4996839443742098\n",
      "AUC on test data:  0.49391694740523917\n"
     ]
    }
   ],
   "source": [
    "print(\"AUC on train data: \", ids.score_auc(quant_dataframe_train, confidence_based=True))\n",
    "print(\"AUC on test data: \", ids.score_auc(quant_dataframe_test, confidence_based=True))"
   ]
  },
  {
   "cell_type": "code",
   "execution_count": 17,
   "metadata": {},
   "outputs": [
    {
     "data": {
      "text/plain": [
       "{'fraction_overlap': 0.1932334710743801,\n",
       " 'fraction_classes': 1.0,\n",
       " 'fraction_uncovered': 0.005681818181818121,\n",
       " 'average_rule_width': 1.8181818181818181,\n",
       " 'ruleset_length': 11}"
      ]
     },
     "execution_count": 17,
     "metadata": {},
     "output_type": "execute_result"
    }
   ],
   "source": [
    "ids.score_interpretability_metrics(quant_dataframe_train)"
   ]
  },
  {
   "cell_type": "code",
   "execution_count": 18,
   "metadata": {},
   "outputs": [
    {
     "data": {
      "text/plain": [
       "{'fraction_overlap': 0.19488999290276787,\n",
       " 'fraction_classes': 1.0,\n",
       " 'fraction_uncovered': 0.00709723207948898,\n",
       " 'average_rule_width': 1.8181818181818181,\n",
       " 'ruleset_length': 11}"
      ]
     },
     "execution_count": 18,
     "metadata": {},
     "output_type": "execute_result"
    }
   ],
   "source": [
    "ids.score_interpretability_metrics(quant_dataframe_test)"
   ]
  },
  {
   "cell_type": "code",
   "execution_count": null,
   "metadata": {},
   "outputs": [],
   "source": []
  },
  {
   "cell_type": "code",
   "execution_count": 88,
   "metadata": {},
   "outputs": [],
   "source": [
    "def train_ids(lambda_array):\n",
    "    ids = IDS()\n",
    "    ids.fit(class_association_rules=rules, quant_dataframe=quant_dataframe_train, lambda_array=lambda_array)\n",
    "    \n",
    "    score_dict = dict()\n",
    "    score_dict[\"acc_train\"] = ids.score(quant_dataframe_train)\n",
    "    score_dict[\"acc_test\"] = ids.score(quant_dataframe_test)\n",
    "    score_dict[\"auc_train_classbased\"] = ids.score_auc(quant_dataframe_train, confidence_based=False)\n",
    "    score_dict[\"auc_train_confbased\"] = ids.score_auc(quant_dataframe_train, confidence_based=True)\n",
    "    score_dict[\"auc_test_classbased\"] = ids.score_auc(quant_dataframe_test, confidence_based=False) \n",
    "    score_dict[\"auc_test_confbased\"] = ids.score_auc(quant_dataframe_test, confidence_based=True)\n",
    "    \n",
    "    pred1 = np.array(ids.predict(quant_dataframe_train))\n",
    "    pred2 = np.array(ids.predict(quant_dataframe_train))\n",
    "    \n",
    "    pred_np = pred1.astype(float)\n",
    "    real_np = data_train[\"Died\"].astype(float)\n",
    "\n",
    "    print(roc_auc_score(real_np, pred_np))\n",
    "    \n",
    "    real, pred = encode_label(data_train[\"Died\"], pred2)\n",
    "    print(pred)\n",
    "    print(real)\n",
    "    print(roc_auc_score(real, pred))\n",
    "    \n",
    "    print(pred_np == pred)\n",
    "    \n",
    "    score_dict.update(ids.score_interpretability_metrics(quant_dataframe_test))\n",
    "    \n",
    "    return score_dict\n",
    "    "
   ]
  },
  {
   "cell_type": "code",
   "execution_count": 89,
   "metadata": {},
   "outputs": [
    {
     "name": "stdout",
     "output_type": "stream",
     "text": [
      "0.6449992976541649\n",
      "[1 1 1 1 1 1 1 1 1 1 1 1 1 1 1 1 1 1 1 1 1 1 1 1 1 1 1 1 1 1 1 1 1 1 1 1 1\n",
      " 1 1 1 1 1 1 1 1 1 1 1 1 1 1 1 1 1 1 1 1 1 1 1 1 1 1 1 1 1 1 1 1 1 1 1 1 1\n",
      " 1 1 1 1 1 1 1 1 1 1 1 1 1 1 1 1 1 1 1 1 1 1 1 1 1 1 1 1 1 1 1 1 1 1 1 1 1\n",
      " 1 1 1 1 1 1 1 1 1 1 1 1 1 1 1 1 1 1 1 1 1 1 1 1 1 1 1 1 1 1 1 1 1 1 1 1 1\n",
      " 1 1 1 1 1 1 1 1 1 1 1 1 1 1 1 1 1 1 1 1 1 1 1 1 1 1 1 1 1 1 1 1 1 1 1 1 1\n",
      " 1 1 1 1 1 1 1 1 1 1 1 1 1 1 1 1 1 1 1 1 1 1 1 1 1 1 1 1 1 1 1 1 1 1 1 1 1\n",
      " 1 1 1 1 1 1 1 1 1 1 1 1 1 1 1 1 1 1 1 1 1 1 1 1 1 1 1 1 1 1 1 1 1 1 1 1 1\n",
      " 1 1 1 1 1 1 1 1 1 1 1 1 1 1 1 1 1 1 1 1 1 1 1 1 1 1 1 1 1 1 1 1 1 1 1 1 1\n",
      " 1 1 1 1 1 1 1 1 1 1 1 1 1 1 1 1 1 1 1 1 1 1 1 1 1 1 1 1 1 1 1 1 1 1 1 1 1\n",
      " 1 1 1 1 1 1 1 1 1 1 1 1 1 1 1 1 1 1 1]\n",
      "[0 0 0 0 0 1 0 0 0 0 0 0 1 0 1 1 0 0 0 1 1 0 0 0 0 0 0 0 1 1 0 0 0 0 0 0 0\n",
      " 1 1 1 1 0 1 1 0 0 0 1 0 1 0 1 0 0 0 0 1 1 0 0 0 0 0 0 0 0 0 0 1 1 0 1 0 1\n",
      " 1 1 1 1 1 0 0 1 0 0 0 1 0 0 0 0 1 0 0 1 0 0 0 0 0 1 0 1 1 1 1 1 1 0 0 0 0\n",
      " 0 1 1 1 1 0 0 0 0 1 0 0 0 0 0 0 1 0 0 0 1 0 0 0 0 0 0 0 0 0 0 0 0 1 1 0 0\n",
      " 0 1 0 0 0 0 1 0 0 0 0 0 0 0 1 1 0 1 0 0 1 0 1 0 1 0 0 1 1 0 1 0 0 1 1 1 0\n",
      " 1 0 0 0 0 1 0 0 0 1 0 1 1 1 1 0 1 1 0 0 1 1 0 0 0 0 0 0 0 0 1 0 1 0 1 0 0\n",
      " 1 0 1 1 1 0 0 0 1 0 0 0 0 0 0 0 0 1 0 1 1 0 1 1 0 1 0 0 1 1 1 0 0 1 0 0 0\n",
      " 0 1 0 0 0 0 1 0 1 0 0 1 0 1 0 0 0 0 0 1 0 0 0 1 0 0 1 1 0 0 0 0 1 1 0 0 1\n",
      " 0 0 0 1 1 1 0 0 1 1 1 0 0 0 1 0 0 1 0 0 0 0 1 0 1 0 0 1 0 1 0 1 1 0 1 1 0\n",
      " 1 0 1 0 1 0 0 0 1 0 0 0 0 1 0 1 0 0 1]\n",
      "0.5\n",
      "[ True  True  True  True  True  True  True  True  True  True  True  True\n",
      "  True  True False  True  True  True  True  True  True  True  True  True\n",
      "  True  True  True  True False  True False  True  True  True  True  True\n",
      "  True  True  True False  True  True  True  True  True  True  True False\n",
      "  True False  True  True  True False  True  True  True False  True  True\n",
      "  True  True  True  True  True  True  True  True  True  True  True  True\n",
      "  True False False False  True  True  True  True  True False  True  True\n",
      "  True  True  True  True  True  True  True  True  True  True  True  True\n",
      "  True  True  True  True  True  True  True  True  True  True  True  True\n",
      "  True  True  True  True  True False  True False  True  True  True  True\n",
      " False  True  True  True  True  True  True  True  True  True  True  True\n",
      "  True  True  True  True  True  True  True  True  True  True  True  True\n",
      "  True False  True  True  True  True  True  True  True  True False  True\n",
      "  True  True  True  True  True  True  True False  True  True  True  True\n",
      "  True  True  True  True False  True  True False False  True False  True\n",
      "  True  True  True False  True  True  True  True  True  True  True  True\n",
      "  True  True  True  True  True  True  True False  True False  True  True\n",
      "  True False  True  True False  True  True  True  True  True  True  True\n",
      " False  True  True  True  True  True  True  True False  True  True  True\n",
      "  True  True False  True  True  True  True  True  True  True  True False\n",
      "  True  True False  True  True  True  True False  True  True False False\n",
      " False False  True  True  True  True  True  True  True  True  True  True\n",
      "  True False  True  True  True  True  True  True  True  True False  True\n",
      "  True  True  True  True  True  True  True False  True  True False  True\n",
      "  True  True  True  True  True  True  True False  True False  True  True\n",
      "  True  True  True  True  True  True  True  True  True  True  True  True\n",
      "  True  True  True  True  True  True  True  True  True  True  True  True\n",
      "  True  True  True  True False  True False  True  True False  True False\n",
      "  True  True  True  True  True False  True  True  True  True  True  True\n",
      " False  True  True  True]\n"
     ]
    },
    {
     "data": {
      "text/plain": [
       "{'acc_train': 0.7357954545454546,\n",
       " 'acc_test': 0.7750177430801988,\n",
       " 'auc_train_classbased': 0.5,\n",
       " 'auc_train_confbased': 0.31517769349627756,\n",
       " 'auc_test_classbased': 0.5,\n",
       " 'auc_test_confbased': 0.31170610813497546,\n",
       " 'fraction_overlap': 0.1332758795498327,\n",
       " 'fraction_classes': 1.0,\n",
       " 'fraction_uncovered': 0.0,\n",
       " 'average_rule_width': 1.875,\n",
       " 'ruleset_length': 8}"
      ]
     },
     "execution_count": 89,
     "metadata": {},
     "output_type": "execute_result"
    }
   ],
   "source": [
    "train_ids([1, 1, 1, 1, 1, 1, 1])"
   ]
  },
  {
   "cell_type": "code",
   "execution_count": 104,
   "metadata": {},
   "outputs": [],
   "source": [
    "def encode_label(actual, predicted):\n",
    "    levels = set(actual) | set(predicted)\n",
    "    \n",
    "    actual_copy = np.copy(actual)\n",
    "    predicted_copy = np.copy(predicted)\n",
    "\n",
    "    for idx, level in enumerate(levels):\n",
    "        print(idx, level)\n",
    "        actual_copy[actual == level] = idx\n",
    "        predicted_copy[predicted == level] = idx\n",
    "\n",
    "    actual_copy = actual_copy.astype(int)\n",
    "    predicted_copy = predicted_copy.astype(int)\n",
    "        \n",
    "    return actual_copy, predicted_copy"
   ]
  },
  {
   "cell_type": "code",
   "execution_count": 97,
   "metadata": {},
   "outputs": [
    {
     "data": {
      "text/plain": [
       "<pyids.algorithms.ids.IDS at 0x26acb5f8cc0>"
      ]
     },
     "execution_count": 97,
     "metadata": {},
     "output_type": "execute_result"
    }
   ],
   "source": [
    "ids = IDS()\n",
    "ids.fit(class_association_rules=rules, quant_dataframe=quant_dataframe_train)"
   ]
  },
  {
   "cell_type": "code",
   "execution_count": 105,
   "metadata": {},
   "outputs": [
    {
     "data": {
      "text/plain": [
       "array(['1', '1', '1', '1', '1', '1', '1', '1', '1', '0', '1', '1', '0',\n",
       "       '1', '0', '1', '1', '1', '0', '1', '1', '1', '1', '1', '1', '1',\n",
       "       '1', '1', '0', '1', '0', '1', '1', '1', '1', '0', '0', '1', '1',\n",
       "       '0', '1', '1', '0', '1', '1', '1', '1', '0', '1', '0', '1', '0',\n",
       "       '1', '0', '1', '1', '0', '0', '1', '1', '1', '1', '1', '1', '1',\n",
       "       '1', '1', '1', '1', '1', '0', '1', '1', '0', '0', '0', '0', '1',\n",
       "       '1', '1', '1', '0', '0', '1', '1', '1', '1', '1', '1', '1', '0',\n",
       "       '1', '1', '1', '1', '1', '1', '1', '1', '0', '1', '0', '1', '1',\n",
       "       '1', '0', '0', '1', '1', '1', '0', '1', '1', '0', '1', '0', '1',\n",
       "       '1', '1', '0', '0', '1', '1', '1', '1', '1', '1', '1', '1', '1',\n",
       "       '1', '1', '1', '1', '0', '1', '1', '1', '1', '1', '1', '1', '1',\n",
       "       '1', '1', '0', '1', '1', '1', '1', '1', '1', '1', '1', '0', '1',\n",
       "       '0', '1', '1', '1', '1', '0', '1', '0', '1', '1', '1', '1', '0',\n",
       "       '1', '1', '1', '0', '1', '1', '0', '0', '1', '0', '1', '1', '1',\n",
       "       '1', '0', '1', '1', '1', '1', '1', '1', '1', '1', '1', '1', '1',\n",
       "       '1', '1', '0', '1', '0', '1', '0', '1', '1', '1', '0', '0', '1',\n",
       "       '0', '1', '1', '1', '1', '1', '1', '1', '0', '1', '0', '1', '1',\n",
       "       '0', '1', '1', '0', '1', '1', '1', '1', '1', '0', '0', '1', '1',\n",
       "       '1', '1', '1', '1', '0', '0', '1', '1', '0', '1', '1', '1', '1',\n",
       "       '0', '1', '0', '0', '0', '0', '0', '1', '1', '1', '1', '1', '1',\n",
       "       '0', '1', '1', '1', '1', '0', '1', '1', '1', '1', '1', '0', '1',\n",
       "       '1', '0', '1', '1', '1', '1', '1', '1', '1', '0', '0', '0', '1',\n",
       "       '0', '1', '1', '1', '1', '0', '0', '1', '1', '0', '1', '0', '1',\n",
       "       '0', '1', '1', '1', '1', '1', '0', '1', '1', '1', '1', '1', '1',\n",
       "       '1', '0', '1', '1', '1', '1', '0', '1', '1', '1', '1', '0', '1',\n",
       "       '1', '1', '0', '0', '1', '0', '1', '1', '0', '1', '0', '1', '1',\n",
       "       '1', '1', '1', '0', '1', '1', '1', '1', '1', '1', '0', '1', '1',\n",
       "       '1'], dtype='<U1')"
      ]
     },
     "execution_count": 105,
     "metadata": {},
     "output_type": "execute_result"
    }
   ],
   "source": [
    "pred_enc"
   ]
  },
  {
   "cell_type": "code",
   "execution_count": 106,
   "metadata": {},
   "outputs": [
    {
     "name": "stdout",
     "output_type": "stream",
     "text": [
      "0.6964461300744487\n",
      "0 1\n",
      "1 0\n",
      "0.6964461300744487\n",
      "[False False False False False False False False False False False False\n",
      " False False False False False False False False False False False False\n",
      " False False False False False False False False False False False False\n",
      " False False False False False False False False False False False False\n",
      " False False False False False False False False False False False False\n",
      " False False False False False False False False False False False False\n",
      " False False False False False False False False False False False False\n",
      " False False False False False False False False False False False False\n",
      " False False False False False False False False False False False False\n",
      " False False False False False False False False False False False False\n",
      " False False False False False False False False False False False False\n",
      " False False False False False False False False False False False False\n",
      " False False False False False False False False False False False False\n",
      " False False False False False False False False False False False False\n",
      " False False False False False False False False False False False False\n",
      " False False False False False False False False False False False False\n",
      " False False False False False False False False False False False False\n",
      " False False False False False False False False False False False False\n",
      " False False False False False False False False False False False False\n",
      " False False False False False False False False False False False False\n",
      " False False False False False False False False False False False False\n",
      " False False False False False False False False False False False False\n",
      " False False False False False False False False False False False False\n",
      " False False False False False False False False False False False False\n",
      " False False False False False False False False False False False False\n",
      " False False False False False False False False False False False False\n",
      " False False False False False False False False False False False False\n",
      " False False False False False False False False False False False False\n",
      " False False False False False False False False False False False False\n",
      " False False False False]\n"
     ]
    }
   ],
   "source": [
    "pred1 = np.array(ids.predict(quant_dataframe_train))\n",
    "pred2 = np.array(ids.predict(quant_dataframe_train))\n",
    "\n",
    "pred_np = pred1.astype(float)\n",
    "real_np = data_train[\"Died\"].astype(float)\n",
    "\n",
    "print(roc_auc_score(real_np, pred_np))\n",
    "\n",
    "real_enc, pred_enc = encode_label(data_train[\"Died\"], pred2)\n",
    "print(roc_auc_score(real_enc, pred_enc))\n",
    "\n",
    "print(pred_np == pred_enc)"
   ]
  },
  {
   "cell_type": "code",
   "execution_count": 73,
   "metadata": {},
   "outputs": [],
   "source": [
    "pred1 = np.array(ids.predict(quant_dataframe_train))\n",
    "pred2 = np.array(ids.predict(quant_dataframe_train))\n",
    "real = data_train[\"Died\"]"
   ]
  },
  {
   "cell_type": "code",
   "execution_count": 76,
   "metadata": {},
   "outputs": [
    {
     "data": {
      "text/plain": [
       "array(['1', '1', '1', '1', '1', '1', '1', '1', '1', '1', '1', '1', '1',\n",
       "       '1', '1', '1', '1', '1', '1', '1', '1', '1', '1', '1', '1', '1',\n",
       "       '1', '1', '1', '1', '1', '1', '1', '1', '1', '1', '1', '1', '1',\n",
       "       '1', '1', '1', '1', '1', '1', '1', '1', '1', '1', '1', '1', '1',\n",
       "       '1', '1', '1', '1', '0', '1', '1', '1', '1', '1', '1', '1', '1',\n",
       "       '1', '1', '1', '1', '1', '1', '1', '1', '1', '1', '0', '1', '1',\n",
       "       '1', '1', '1', '1', '1', '1', '1', '1', '1', '1', '1', '1', '1',\n",
       "       '1', '1', '1', '1', '1', '1', '1', '1', '1', '1', '1', '1', '1',\n",
       "       '1', '1', '0', '1', '1', '1', '1', '1', '1', '1', '1', '1', '1',\n",
       "       '1', '1', '1', '1', '1', '1', '1', '1', '1', '1', '1', '1', '1',\n",
       "       '1', '1', '1', '1', '1', '1', '1', '1', '1', '1', '1', '1', '1',\n",
       "       '1', '1', '1', '1', '1', '1', '1', '1', '1', '1', '1', '1', '1',\n",
       "       '1', '1', '1', '1', '1', '1', '1', '1', '1', '1', '1', '1', '1',\n",
       "       '1', '1', '1', '1', '1', '1', '1', '1', '1', '1', '1', '1', '1',\n",
       "       '1', '1', '1', '1', '1', '1', '1', '1', '1', '1', '1', '1', '1',\n",
       "       '1', '1', '1', '1', '1', '1', '1', '1', '1', '1', '1', '1', '1',\n",
       "       '0', '1', '1', '1', '1', '1', '1', '1', '1', '1', '1', '1', '1',\n",
       "       '1', '1', '1', '1', '1', '1', '1', '1', '1', '1', '1', '1', '1',\n",
       "       '1', '1', '1', '1', '1', '1', '1', '1', '1', '1', '1', '1', '1',\n",
       "       '1', '1', '1', '1', '0', '1', '0', '1', '1', '1', '1', '1', '1',\n",
       "       '1', '1', '1', '1', '1', '1', '1', '1', '1', '1', '1', '1', '1',\n",
       "       '1', '1', '1', '1', '1', '1', '1', '1', '1', '1', '0', '1', '1',\n",
       "       '1', '1', '1', '1', '1', '1', '1', '1', '1', '1', '1', '0', '1',\n",
       "       '1', '1', '1', '1', '1', '1', '1', '1', '1', '1', '1', '1', '1',\n",
       "       '1', '1', '1', '1', '1', '1', '1', '1', '1', '1', '1', '1', '1',\n",
       "       '1', '1', '1', '1', '1', '1', '1', '1', '1', '1', '1', '1', '1',\n",
       "       '1', '1', '1', '1', '1', '1', '1', '1', '1', '1', '1', '1', '1',\n",
       "       '1'], dtype='<U1')"
      ]
     },
     "execution_count": 76,
     "metadata": {},
     "output_type": "execute_result"
    }
   ],
   "source": [
    "pred1"
   ]
  },
  {
   "cell_type": "code",
   "execution_count": 79,
   "metadata": {},
   "outputs": [
    {
     "data": {
      "text/plain": [
       "(array([0, 0, 0, 0, 0, 1, 0, 0, 0, 0, 0, 0, 1, 0, 1, 1, 0, 0, 0, 1, 1, 0,\n",
       "        0, 0, 0, 0, 0, 0, 1, 1, 0, 0, 0, 0, 0, 0, 0, 1, 1, 1, 1, 0, 1, 1,\n",
       "        0, 0, 0, 1, 0, 1, 0, 1, 0, 0, 0, 0, 1, 1, 0, 0, 0, 0, 0, 0, 0, 0,\n",
       "        0, 0, 1, 1, 0, 1, 0, 1, 1, 1, 1, 1, 1, 0, 0, 1, 0, 0, 0, 1, 0, 0,\n",
       "        0, 0, 1, 0, 0, 1, 0, 0, 0, 0, 0, 1, 0, 1, 1, 1, 1, 1, 1, 0, 0, 0,\n",
       "        0, 0, 1, 1, 1, 1, 0, 0, 0, 0, 1, 0, 0, 0, 0, 0, 0, 1, 0, 0, 0, 1,\n",
       "        0, 0, 0, 0, 0, 0, 0, 0, 0, 0, 0, 0, 1, 1, 0, 0, 0, 1, 0, 0, 0, 0,\n",
       "        1, 0, 0, 0, 0, 0, 0, 0, 1, 1, 0, 1, 0, 0, 1, 0, 1, 0, 1, 0, 0, 1,\n",
       "        1, 0, 1, 0, 0, 1, 1, 1, 0, 1, 0, 0, 0, 0, 1, 0, 0, 0, 1, 0, 1, 1,\n",
       "        1, 1, 0, 1, 1, 0, 0, 1, 1, 0, 0, 0, 0, 0, 0, 0, 0, 1, 0, 1, 0, 1,\n",
       "        0, 0, 1, 0, 1, 1, 1, 0, 0, 0, 1, 0, 0, 0, 0, 0, 0, 0, 0, 1, 0, 1,\n",
       "        1, 0, 1, 1, 0, 1, 0, 0, 1, 1, 1, 0, 0, 1, 0, 0, 0, 0, 1, 0, 0, 0,\n",
       "        0, 1, 0, 1, 0, 0, 1, 0, 1, 0, 0, 0, 0, 0, 1, 0, 0, 0, 1, 0, 0, 1,\n",
       "        1, 0, 0, 0, 0, 1, 1, 0, 0, 1, 0, 0, 0, 1, 1, 1, 0, 0, 1, 1, 1, 0,\n",
       "        0, 0, 1, 0, 0, 1, 0, 0, 0, 0, 1, 0, 1, 0, 0, 1, 0, 1, 0, 1, 1, 0,\n",
       "        1, 1, 0, 1, 0, 1, 0, 1, 0, 0, 0, 1, 0, 0, 0, 0, 1, 0, 1, 0, 0, 1]),\n",
       " array([1, 1, 1, 1, 1, 1, 1, 1, 1, 1, 1, 1, 1, 1, 1, 1, 1, 1, 1, 1, 1, 1,\n",
       "        1, 1, 1, 1, 1, 1, 1, 1, 1, 1, 1, 1, 1, 1, 1, 1, 1, 1, 1, 1, 1, 1,\n",
       "        1, 1, 1, 1, 1, 1, 1, 1, 1, 1, 1, 1, 0, 1, 1, 1, 1, 1, 1, 1, 1, 1,\n",
       "        1, 1, 1, 1, 1, 1, 1, 1, 1, 0, 1, 1, 1, 1, 1, 1, 1, 1, 1, 1, 1, 1,\n",
       "        1, 1, 1, 1, 1, 1, 1, 1, 1, 1, 1, 1, 1, 1, 1, 1, 1, 1, 0, 1, 1, 1,\n",
       "        1, 1, 1, 1, 1, 1, 1, 1, 1, 1, 1, 1, 1, 1, 1, 1, 1, 1, 1, 1, 1, 1,\n",
       "        1, 1, 1, 1, 1, 1, 1, 1, 1, 1, 1, 1, 1, 1, 1, 1, 1, 1, 1, 1, 1, 1,\n",
       "        1, 1, 1, 1, 1, 1, 1, 1, 1, 1, 1, 1, 1, 1, 1, 1, 1, 1, 1, 1, 1, 1,\n",
       "        1, 1, 1, 1, 1, 1, 1, 1, 1, 1, 1, 1, 1, 1, 1, 1, 1, 1, 1, 1, 1, 1,\n",
       "        1, 1, 1, 1, 1, 1, 1, 1, 1, 1, 0, 1, 1, 1, 1, 1, 1, 1, 1, 1, 1, 1,\n",
       "        1, 1, 1, 1, 1, 1, 1, 1, 1, 1, 1, 1, 1, 1, 1, 1, 1, 1, 1, 1, 1, 1,\n",
       "        1, 1, 1, 1, 1, 1, 1, 1, 1, 0, 1, 0, 1, 1, 1, 1, 1, 1, 1, 1, 1, 1,\n",
       "        1, 1, 1, 1, 1, 1, 1, 1, 1, 1, 1, 1, 1, 1, 1, 1, 1, 1, 1, 0, 1, 1,\n",
       "        1, 1, 1, 1, 1, 1, 1, 1, 1, 1, 1, 0, 1, 1, 1, 1, 1, 1, 1, 1, 1, 1,\n",
       "        1, 1, 1, 1, 1, 1, 1, 1, 1, 1, 1, 1, 1, 1, 1, 1, 1, 1, 1, 1, 1, 1,\n",
       "        1, 1, 1, 1, 1, 1, 1, 1, 1, 1, 1, 1, 1, 1, 1, 1, 1, 1, 1, 1, 1, 1]))"
      ]
     },
     "execution_count": 79,
     "metadata": {},
     "output_type": "execute_result"
    }
   ],
   "source": [
    "encode_label(real, pred)"
   ]
  },
  {
   "cell_type": "code",
   "execution_count": 27,
   "metadata": {},
   "outputs": [
    {
     "name": "stdout",
     "output_type": "stream",
     "text": [
      "1    0.642045\n",
      "0    0.357955\n",
      "Name: Died, dtype: float64\n",
      "1    0.676366\n",
      "0    0.323634\n",
      "Name: Died, dtype: float64\n"
     ]
    }
   ],
   "source": [
    "print(data_train[\"Died\"].value_counts(True))\n",
    "print(data_test[\"Died\"].value_counts(True))"
   ]
  }
 ],
 "metadata": {
  "kernelspec": {
   "display_name": "Python 3",
   "language": "python",
   "name": "python3"
  },
  "language_info": {
   "codemirror_mode": {
    "name": "ipython",
    "version": 3
   },
   "file_extension": ".py",
   "mimetype": "text/x-python",
   "name": "python",
   "nbconvert_exporter": "python",
   "pygments_lexer": "ipython3",
   "version": "3.7.3"
  }
 },
 "nbformat": 4,
 "nbformat_minor": 2
}
