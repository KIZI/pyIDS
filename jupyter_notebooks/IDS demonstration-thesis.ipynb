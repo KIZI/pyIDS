{
 "cells": [
  {
   "cell_type": "code",
   "execution_count": 1,
   "metadata": {},
   "outputs": [],
   "source": [
    "from pyarc.data_structures import ClassAssocationRule\n",
    "from pyids.data_structures import IDSRule"
   ]
  },
  {
   "cell_type": "code",
   "execution_count": 2,
   "metadata": {},
   "outputs": [],
   "source": [
    "def print_cars(ids_cars):\n",
    "    cars = ids_cars\n",
    "    is_ids = False\n",
    "    if type(ids_cars[0]) == IDSRule:\n",
    "        is_ids = [ r.calc_f1() for r in ids_cars ]\n",
    "        cars = [ r.car for r in ids_cars ]\n",
    "    latex = []\n",
    "    for idx, car in enumerate(cars):\n",
    "        if is_ids:\n",
    "            latex.append(car_to_latex(car, is_ids=is_ids[idx]))\n",
    "        else:\n",
    "            latex.append(car_to_latex(car))\n",
    "        \n",
    "    return \"\\n\\n\".join(latex)\n",
    "        \n",
    "def car_to_latex(car, is_ids=False):\n",
    "    trans = {\n",
    "        \"-\":  r\"\\-\",\n",
    "        \"_\":  r\"\\_\",\n",
    "        \"]\":  r\"\\]\",\n",
    "        \"\\\\\": r\"\\\\\",\n",
    "        \"^\":  r\"\\^\",\n",
    "        \"$\":  r\"\\$\",\n",
    "        \"*\":  r\"\\*\",\n",
    "        \".\":  r\"\\.\"\n",
    "    }\n",
    "    latex = []\n",
    "    \n",
    "    latex.append(\"If\")\n",
    "    \n",
    "    for idx, predicate in enumerate(car.antecedent):\n",
    "       \n",
    "        name, interval = predicate\n",
    "        name = name.translate(str.maketrans(trans))\n",
    "        \n",
    "        interval_string = interval.translate(str.maketrans(trans))\n",
    "        \n",
    "        if idx != 0:\n",
    "            latex.append(\"and\")\n",
    "        latex.append(\n",
    "            f\"\\\\textcolor{{blue}}{{{name}}}=\\\\textcolor{{gray}}{{{interval_string}}}\"\n",
    "        )\n",
    "\n",
    "        \n",
    "    class_name, class_value = car.consequent\n",
    "    \n",
    "    latex.append(\"then\")\n",
    "    latex.append(\n",
    "        f\"\\\\textcolor{{red}}{{{class_name}}}=\\\\textcolor{{gray}}{{{class_value}}}\"\n",
    "    )\n",
    "    \n",
    "    if is_ids:\n",
    "        latex.append(\n",
    "            f\"$\\mid$ f1-score: \\\\textit{{{round(is_ids, 2)}}}\"\n",
    "        )\n",
    "    \n",
    "    return \" \".join(latex)"
   ]
  },
  {
   "cell_type": "markdown",
   "metadata": {},
   "source": [
    "# IDS Demonstration"
   ]
  },
  {
   "cell_type": "markdown",
   "metadata": {},
   "source": [
    "## Importing required libraries"
   ]
  },
  {
   "cell_type": "code",
   "execution_count": 3,
   "metadata": {},
   "outputs": [],
   "source": [
    "import pandas as pd\n",
    "import pyarc\n",
    "from pyids import IDS\n",
    "from pyids.data_structures import mine_CARs\n",
    "from pyids.rule_mining import RuleMiner\n",
    "from pyarc.qcba.data_structures import QuantitativeDataFrame\n",
    "\n",
    "from sklearn.model_selection import train_test_split"
   ]
  },
  {
   "cell_type": "markdown",
   "metadata": {},
   "source": [
    "## Loading the test and train data"
   ]
  },
  {
   "cell_type": "code",
   "execution_count": 4,
   "metadata": {},
   "outputs": [],
   "source": [
    "data = pd.read_csv(\"../data/titanic.csv\").sample(frac=1).reset_index(drop=True)\n",
    "\n",
    "\n",
    "data_train, data_test = train_test_split(data, test_size=0.8)"
   ]
  },
  {
   "cell_type": "code",
   "execution_count": 5,
   "metadata": {},
   "outputs": [
    {
     "data": {
      "text/html": [
       "<div>\n",
       "<style scoped>\n",
       "    .dataframe tbody tr th:only-of-type {\n",
       "        vertical-align: middle;\n",
       "    }\n",
       "\n",
       "    .dataframe tbody tr th {\n",
       "        vertical-align: top;\n",
       "    }\n",
       "\n",
       "    .dataframe thead th {\n",
       "        text-align: right;\n",
       "    }\n",
       "</style>\n",
       "<table border=\"1\" class=\"dataframe\">\n",
       "  <thead>\n",
       "    <tr style=\"text-align: right;\">\n",
       "      <th></th>\n",
       "      <th>Passenger_Cat</th>\n",
       "      <th>Age_Cat</th>\n",
       "      <th>Gender</th>\n",
       "      <th>Died</th>\n",
       "    </tr>\n",
       "  </thead>\n",
       "  <tbody>\n",
       "    <tr>\n",
       "      <th>0</th>\n",
       "      <td>3rd_class</td>\n",
       "      <td>adult</td>\n",
       "      <td>female</td>\n",
       "      <td>1</td>\n",
       "    </tr>\n",
       "    <tr>\n",
       "      <th>1</th>\n",
       "      <td>2nd_class</td>\n",
       "      <td>adult</td>\n",
       "      <td>male</td>\n",
       "      <td>1</td>\n",
       "    </tr>\n",
       "    <tr>\n",
       "      <th>2</th>\n",
       "      <td>3rd_class</td>\n",
       "      <td>adult</td>\n",
       "      <td>male</td>\n",
       "      <td>1</td>\n",
       "    </tr>\n",
       "    <tr>\n",
       "      <th>3</th>\n",
       "      <td>crew</td>\n",
       "      <td>adult</td>\n",
       "      <td>male</td>\n",
       "      <td>1</td>\n",
       "    </tr>\n",
       "    <tr>\n",
       "      <th>4</th>\n",
       "      <td>3rd_class</td>\n",
       "      <td>adult</td>\n",
       "      <td>male</td>\n",
       "      <td>1</td>\n",
       "    </tr>\n",
       "  </tbody>\n",
       "</table>\n",
       "</div>"
      ],
      "text/plain": [
       "  Passenger_Cat Age_Cat  Gender  Died\n",
       "0     3rd_class   adult  female     1\n",
       "1     2nd_class   adult    male     1\n",
       "2     3rd_class   adult    male     1\n",
       "3          crew   adult    male     1\n",
       "4     3rd_class   adult    male     1"
      ]
     },
     "execution_count": 5,
     "metadata": {},
     "output_type": "execute_result"
    }
   ],
   "source": [
    "data.head()"
   ]
  },
  {
   "cell_type": "code",
   "execution_count": 6,
   "metadata": {},
   "outputs": [
    {
     "name": "stdout",
     "output_type": "stream",
     "text": [
      "[CAR {Age_Cat=adult} => {Died=1} sup: 0.97 conf: 0.00 len: 2, id: 22, CAR {Age_Cat=adult} => {Died=0} sup: 0.97 conf: 0.00 len: 2, id: 23, CAR {Gender=male} => {Died=1} sup: 0.78 conf: 0.00 len: 2, id: 18, CAR {Gender=male} => {Died=0} sup: 0.78 conf: 0.00 len: 2, id: 19, CAR {Gender=male,Age_Cat=adult} => {Died=1} sup: 0.76 conf: 0.00 len: 3, id: 20, CAR {Gender=male,Age_Cat=adult} => {Died=0} sup: 0.76 conf: 0.00 len: 3, id: 21, CAR {Passenger_Cat=crew} => {Died=1} sup: 0.43 conf: 0.00 len: 2, id: 12, CAR {Passenger_Cat=crew} => {Died=0} sup: 0.43 conf: 0.00 len: 2, id: 13, CAR {Passenger_Cat=crew,Age_Cat=adult} => {Died=1} sup: 0.43 conf: 0.00 len: 3, id: 10, CAR {Passenger_Cat=crew,Age_Cat=adult} => {Died=0} sup: 0.43 conf: 0.00 len: 3, id: 11, CAR {Passenger_Cat=crew,Gender=male} => {Died=1} sup: 0.42 conf: 0.00 len: 3, id: 16, CAR {Passenger_Cat=crew,Gender=male} => {Died=0} sup: 0.42 conf: 0.00 len: 3, id: 17, CAR {Passenger_Cat=crew,Gender=male,Age_Cat=adult} => {Died=1} sup: 0.42 conf: 0.00 len: 4, id: 14, CAR {Passenger_Cat=crew,Gender=male,Age_Cat=adult} => {Died=0} sup: 0.42 conf: 0.00 len: 4, id: 15, CAR {Passenger_Cat=3rd_class} => {Died=1} sup: 0.28 conf: 0.00 len: 2, id: 4, CAR {Passenger_Cat=3rd_class} => {Died=0} sup: 0.28 conf: 0.00 len: 2, id: 5, CAR {Passenger_Cat=3rd_class,Age_Cat=adult} => {Died=1} sup: 0.27 conf: 0.00 len: 3, id: 8, CAR {Passenger_Cat=3rd_class,Age_Cat=adult} => {Died=0} sup: 0.27 conf: 0.00 len: 3, id: 9, CAR {Gender=female} => {Died=1} sup: 0.22 conf: 0.00 len: 2, id: 0, CAR {Gender=female} => {Died=0} sup: 0.22 conf: 0.00 len: 2, id: 1, CAR {Age_Cat=adult,Gender=female} => {Died=1} sup: 0.21 conf: 0.00 len: 3, id: 2, CAR {Age_Cat=adult,Gender=female} => {Died=0} sup: 0.21 conf: 0.00 len: 3, id: 3, CAR {Passenger_Cat=3rd_class,Gender=male} => {Died=1} sup: 0.20 conf: 0.00 len: 3, id: 6, CAR {Passenger_Cat=3rd_class,Gender=male} => {Died=0} sup: 0.20 conf: 0.00 len: 3, id: 7]\n"
     ]
    },
    {
     "name": "stderr",
     "output_type": "stream",
     "text": [
      "D:\\programy\\Anaconda\\lib\\site-packages\\pandas\\core\\indexing.py:543: SettingWithCopyWarning: \n",
      "A value is trying to be set on a copy of a slice from a DataFrame.\n",
      "Try using .loc[row_indexer,col_indexer] = value instead\n",
      "\n",
      "See the caveats in the documentation: http://pandas.pydata.org/pandas-docs/stable/indexing.html#indexing-view-versus-copy\n",
      "  self.obj[item] = s\n",
      "D:\\programy\\Anaconda\\lib\\site-packages\\pandas\\core\\indexing.py:635: SettingWithCopyWarning: \n",
      "A value is trying to be set on a copy of a slice from a DataFrame.\n",
      "Try using .loc[row_indexer,col_indexer] = value instead\n",
      "\n",
      "See the caveats in the documentation: http://pandas.pydata.org/pandas-docs/stable/indexing.html#indexing-view-versus-copy\n",
      "  self.obj[item_labels[indexer[info_axis]]] = value\n"
     ]
    }
   ],
   "source": [
    "rm = RuleMiner()\n",
    "rules = rm.mine_rules(data_train)"
   ]
  },
  {
   "cell_type": "code",
   "execution_count": 7,
   "metadata": {},
   "outputs": [
    {
     "name": "stdout",
     "output_type": "stream",
     "text": [
      "If \\textcolor{blue}{Age\\_Cat}=\\textcolor{gray}{adult} then \\textcolor{red}{Died}=\\textcolor{gray}{1}\n",
      "\n",
      "If \\textcolor{blue}{Age\\_Cat}=\\textcolor{gray}{adult} then \\textcolor{red}{Died}=\\textcolor{gray}{0}\n",
      "\n",
      "If \\textcolor{blue}{Gender}=\\textcolor{gray}{male} then \\textcolor{red}{Died}=\\textcolor{gray}{1}\n",
      "\n",
      "If \\textcolor{blue}{Gender}=\\textcolor{gray}{male} then \\textcolor{red}{Died}=\\textcolor{gray}{0}\n",
      "\n",
      "If \\textcolor{blue}{Gender}=\\textcolor{gray}{male} and \\textcolor{blue}{Age\\_Cat}=\\textcolor{gray}{adult} then \\textcolor{red}{Died}=\\textcolor{gray}{1}\n",
      "\n",
      "If \\textcolor{blue}{Gender}=\\textcolor{gray}{male} and \\textcolor{blue}{Age\\_Cat}=\\textcolor{gray}{adult} then \\textcolor{red}{Died}=\\textcolor{gray}{0}\n",
      "\n",
      "If \\textcolor{blue}{Passenger\\_Cat}=\\textcolor{gray}{crew} then \\textcolor{red}{Died}=\\textcolor{gray}{1}\n",
      "\n",
      "If \\textcolor{blue}{Passenger\\_Cat}=\\textcolor{gray}{crew} then \\textcolor{red}{Died}=\\textcolor{gray}{0}\n",
      "\n",
      "If \\textcolor{blue}{Passenger\\_Cat}=\\textcolor{gray}{crew} and \\textcolor{blue}{Age\\_Cat}=\\textcolor{gray}{adult} then \\textcolor{red}{Died}=\\textcolor{gray}{1}\n",
      "\n",
      "If \\textcolor{blue}{Passenger\\_Cat}=\\textcolor{gray}{crew} and \\textcolor{blue}{Age\\_Cat}=\\textcolor{gray}{adult} then \\textcolor{red}{Died}=\\textcolor{gray}{0}\n",
      "\n",
      "If \\textcolor{blue}{Passenger\\_Cat}=\\textcolor{gray}{crew} and \\textcolor{blue}{Gender}=\\textcolor{gray}{male} then \\textcolor{red}{Died}=\\textcolor{gray}{1}\n",
      "\n",
      "If \\textcolor{blue}{Passenger\\_Cat}=\\textcolor{gray}{crew} and \\textcolor{blue}{Gender}=\\textcolor{gray}{male} then \\textcolor{red}{Died}=\\textcolor{gray}{0}\n",
      "\n",
      "If \\textcolor{blue}{Passenger\\_Cat}=\\textcolor{gray}{crew} and \\textcolor{blue}{Gender}=\\textcolor{gray}{male} and \\textcolor{blue}{Age\\_Cat}=\\textcolor{gray}{adult} then \\textcolor{red}{Died}=\\textcolor{gray}{1}\n",
      "\n",
      "If \\textcolor{blue}{Passenger\\_Cat}=\\textcolor{gray}{crew} and \\textcolor{blue}{Gender}=\\textcolor{gray}{male} and \\textcolor{blue}{Age\\_Cat}=\\textcolor{gray}{adult} then \\textcolor{red}{Died}=\\textcolor{gray}{0}\n",
      "\n",
      "If \\textcolor{blue}{Passenger\\_Cat}=\\textcolor{gray}{3rd\\_class} then \\textcolor{red}{Died}=\\textcolor{gray}{1}\n",
      "\n",
      "If \\textcolor{blue}{Passenger\\_Cat}=\\textcolor{gray}{3rd\\_class} then \\textcolor{red}{Died}=\\textcolor{gray}{0}\n",
      "\n",
      "If \\textcolor{blue}{Passenger\\_Cat}=\\textcolor{gray}{3rd\\_class} and \\textcolor{blue}{Age\\_Cat}=\\textcolor{gray}{adult} then \\textcolor{red}{Died}=\\textcolor{gray}{1}\n",
      "\n",
      "If \\textcolor{blue}{Passenger\\_Cat}=\\textcolor{gray}{3rd\\_class} and \\textcolor{blue}{Age\\_Cat}=\\textcolor{gray}{adult} then \\textcolor{red}{Died}=\\textcolor{gray}{0}\n",
      "\n",
      "If \\textcolor{blue}{Gender}=\\textcolor{gray}{female} then \\textcolor{red}{Died}=\\textcolor{gray}{1}\n",
      "\n",
      "If \\textcolor{blue}{Gender}=\\textcolor{gray}{female} then \\textcolor{red}{Died}=\\textcolor{gray}{0}\n",
      "\n",
      "If \\textcolor{blue}{Age\\_Cat}=\\textcolor{gray}{adult} and \\textcolor{blue}{Gender}=\\textcolor{gray}{female} then \\textcolor{red}{Died}=\\textcolor{gray}{1}\n",
      "\n",
      "If \\textcolor{blue}{Age\\_Cat}=\\textcolor{gray}{adult} and \\textcolor{blue}{Gender}=\\textcolor{gray}{female} then \\textcolor{red}{Died}=\\textcolor{gray}{0}\n",
      "\n",
      "If \\textcolor{blue}{Passenger\\_Cat}=\\textcolor{gray}{3rd\\_class} and \\textcolor{blue}{Gender}=\\textcolor{gray}{male} then \\textcolor{red}{Died}=\\textcolor{gray}{1}\n",
      "\n",
      "If \\textcolor{blue}{Passenger\\_Cat}=\\textcolor{gray}{3rd\\_class} and \\textcolor{blue}{Gender}=\\textcolor{gray}{male} then \\textcolor{red}{Died}=\\textcolor{gray}{0}\n"
     ]
    }
   ],
   "source": [
    "print(print_cars(rules))"
   ]
  },
  {
   "cell_type": "code",
   "execution_count": 8,
   "metadata": {},
   "outputs": [],
   "source": [
    "quant_dataframe_train = QuantitativeDataFrame(data_train)\n",
    "quant_dataframe_test = QuantitativeDataFrame(data_test)"
   ]
  },
  {
   "cell_type": "code",
   "execution_count": 9,
   "metadata": {},
   "outputs": [
    {
     "data": {
      "text/html": [
       "<div>\n",
       "<style scoped>\n",
       "    .dataframe tbody tr th:only-of-type {\n",
       "        vertical-align: middle;\n",
       "    }\n",
       "\n",
       "    .dataframe tbody tr th {\n",
       "        vertical-align: top;\n",
       "    }\n",
       "\n",
       "    .dataframe thead th {\n",
       "        text-align: right;\n",
       "    }\n",
       "</style>\n",
       "<table border=\"1\" class=\"dataframe\">\n",
       "  <thead>\n",
       "    <tr style=\"text-align: right;\">\n",
       "      <th></th>\n",
       "      <th>Passenger_Cat</th>\n",
       "      <th>Age_Cat</th>\n",
       "      <th>Gender</th>\n",
       "      <th>Died</th>\n",
       "    </tr>\n",
       "  </thead>\n",
       "  <tbody>\n",
       "    <tr>\n",
       "      <th>1502</th>\n",
       "      <td>crew</td>\n",
       "      <td>adult</td>\n",
       "      <td>male</td>\n",
       "      <td>1</td>\n",
       "    </tr>\n",
       "    <tr>\n",
       "      <th>662</th>\n",
       "      <td>crew</td>\n",
       "      <td>adult</td>\n",
       "      <td>male</td>\n",
       "      <td>1</td>\n",
       "    </tr>\n",
       "    <tr>\n",
       "      <th>1458</th>\n",
       "      <td>crew</td>\n",
       "      <td>adult</td>\n",
       "      <td>male</td>\n",
       "      <td>1</td>\n",
       "    </tr>\n",
       "    <tr>\n",
       "      <th>1183</th>\n",
       "      <td>2nd_class</td>\n",
       "      <td>adult</td>\n",
       "      <td>female</td>\n",
       "      <td>0</td>\n",
       "    </tr>\n",
       "    <tr>\n",
       "      <th>86</th>\n",
       "      <td>crew</td>\n",
       "      <td>adult</td>\n",
       "      <td>male</td>\n",
       "      <td>1</td>\n",
       "    </tr>\n",
       "    <tr>\n",
       "      <th>746</th>\n",
       "      <td>crew</td>\n",
       "      <td>adult</td>\n",
       "      <td>male</td>\n",
       "      <td>1</td>\n",
       "    </tr>\n",
       "    <tr>\n",
       "      <th>1387</th>\n",
       "      <td>crew</td>\n",
       "      <td>adult</td>\n",
       "      <td>male</td>\n",
       "      <td>1</td>\n",
       "    </tr>\n",
       "    <tr>\n",
       "      <th>528</th>\n",
       "      <td>1st_class</td>\n",
       "      <td>adult</td>\n",
       "      <td>female</td>\n",
       "      <td>0</td>\n",
       "    </tr>\n",
       "    <tr>\n",
       "      <th>250</th>\n",
       "      <td>crew</td>\n",
       "      <td>adult</td>\n",
       "      <td>male</td>\n",
       "      <td>1</td>\n",
       "    </tr>\n",
       "    <tr>\n",
       "      <th>592</th>\n",
       "      <td>3rd_class</td>\n",
       "      <td>adult</td>\n",
       "      <td>female</td>\n",
       "      <td>0</td>\n",
       "    </tr>\n",
       "    <tr>\n",
       "      <th>495</th>\n",
       "      <td>3rd_class</td>\n",
       "      <td>adult</td>\n",
       "      <td>male</td>\n",
       "      <td>0</td>\n",
       "    </tr>\n",
       "    <tr>\n",
       "      <th>415</th>\n",
       "      <td>3rd_class</td>\n",
       "      <td>adult</td>\n",
       "      <td>male</td>\n",
       "      <td>1</td>\n",
       "    </tr>\n",
       "    <tr>\n",
       "      <th>163</th>\n",
       "      <td>crew</td>\n",
       "      <td>adult</td>\n",
       "      <td>male</td>\n",
       "      <td>1</td>\n",
       "    </tr>\n",
       "    <tr>\n",
       "      <th>319</th>\n",
       "      <td>crew</td>\n",
       "      <td>adult</td>\n",
       "      <td>male</td>\n",
       "      <td>1</td>\n",
       "    </tr>\n",
       "    <tr>\n",
       "      <th>485</th>\n",
       "      <td>3rd_class</td>\n",
       "      <td>child</td>\n",
       "      <td>male</td>\n",
       "      <td>0</td>\n",
       "    </tr>\n",
       "    <tr>\n",
       "      <th>1684</th>\n",
       "      <td>3rd_class</td>\n",
       "      <td>adult</td>\n",
       "      <td>male</td>\n",
       "      <td>1</td>\n",
       "    </tr>\n",
       "    <tr>\n",
       "      <th>1272</th>\n",
       "      <td>1st_class</td>\n",
       "      <td>adult</td>\n",
       "      <td>female</td>\n",
       "      <td>0</td>\n",
       "    </tr>\n",
       "    <tr>\n",
       "      <th>455</th>\n",
       "      <td>1st_class</td>\n",
       "      <td>adult</td>\n",
       "      <td>male</td>\n",
       "      <td>0</td>\n",
       "    </tr>\n",
       "    <tr>\n",
       "      <th>1001</th>\n",
       "      <td>crew</td>\n",
       "      <td>adult</td>\n",
       "      <td>male</td>\n",
       "      <td>1</td>\n",
       "    </tr>\n",
       "    <tr>\n",
       "      <th>1723</th>\n",
       "      <td>crew</td>\n",
       "      <td>adult</td>\n",
       "      <td>male</td>\n",
       "      <td>1</td>\n",
       "    </tr>\n",
       "  </tbody>\n",
       "</table>\n",
       "</div>"
      ],
      "text/plain": [
       "     Passenger_Cat Age_Cat  Gender Died\n",
       "1502          crew   adult    male    1\n",
       "662           crew   adult    male    1\n",
       "1458          crew   adult    male    1\n",
       "1183     2nd_class   adult  female    0\n",
       "86            crew   adult    male    1\n",
       "746           crew   adult    male    1\n",
       "1387          crew   adult    male    1\n",
       "528      1st_class   adult  female    0\n",
       "250           crew   adult    male    1\n",
       "592      3rd_class   adult  female    0\n",
       "495      3rd_class   adult    male    0\n",
       "415      3rd_class   adult    male    1\n",
       "163           crew   adult    male    1\n",
       "319           crew   adult    male    1\n",
       "485      3rd_class   child    male    0\n",
       "1684     3rd_class   adult    male    1\n",
       "1272     1st_class   adult  female    0\n",
       "455      1st_class   adult    male    0\n",
       "1001          crew   adult    male    1\n",
       "1723          crew   adult    male    1"
      ]
     },
     "execution_count": 9,
     "metadata": {},
     "output_type": "execute_result"
    }
   ],
   "source": [
    "data_train.sample(len(data_train)).head(20)"
   ]
  },
  {
   "cell_type": "markdown",
   "metadata": {},
   "source": [
    "## Mining the Class Association Rules (CARs)"
   ]
  },
  {
   "cell_type": "markdown",
   "metadata": {},
   "source": [
    "## Training the IDS Model"
   ]
  },
  {
   "cell_type": "code",
   "execution_count": 10,
   "metadata": {},
   "outputs": [
    {
     "name": "stdout",
     "output_type": "stream",
     "text": [
      "cover cache prepared\n",
      "overlap cache prepared\n",
      "INFO - Number of input rules: 24\n",
      "INFO - RandomOptimizer estimated the OPTIMUM value as: 404959.0\n",
      "INFO - Threshold value (2/(n*n) * OPT) = 1406.107638888889. This is the standard error treshold value.\n",
      "INFO - Estimating omega for rule: CAR {Age_Cat=adult} => {Died=1} sup: 0.97 conf: 0.65, f1: 0.78, len: 2, id: 22\n",
      "INFO - stardard error of omega estimate: 666.0749087002151\n",
      "INFO - omega succesfully estimated\n",
      "INFO - Estimating omega for rule: CAR {Passenger_Cat=3rd_class,Gender=male} => {Died=1} sup: 0.20 conf: 0.78, f1: 0.32, len: 3, id: 6\n",
      "INFO - stardard error of omega estimate: 715.3484255941296\n",
      "INFO - 715.3484255941296 > 703.0538194444445 => omega estimation continues\n",
      "INFO - stardard error of omega estimate: 487.3468399148598\n",
      "INFO - omega succesfully estimated\n",
      "INFO - Estimating omega for rule: CAR {Passenger_Cat=crew} => {Died=1} sup: 0.43 conf: 0.75, f1: 0.55, len: 2, id: 12\n",
      "INFO - stardard error of omega estimate: 1021.8076164327608\n",
      "INFO - 1021.8076164327608 > 703.0538194444445 => omega estimation continues\n",
      "INFO - stardard error of omega estimate: 779.00963649367\n",
      "INFO - 779.00963649367 > 703.0538194444445 => omega estimation continues\n",
      "INFO - stardard error of omega estimate: 675.2940673294637\n",
      "INFO - omega succesfully estimated\n",
      "INFO - Estimating omega for rule: CAR {Passenger_Cat=crew,Gender=male} => {Died=0} sup: 0.42 conf: 0.23, f1: 0.30, len: 3, id: 17\n",
      "INFO - stardard error of omega estimate: 889.1970765808893\n",
      "INFO - 889.1970765808893 > 703.0538194444445 => omega estimation continues\n",
      "INFO - stardard error of omega estimate: 574.8868574554475\n",
      "INFO - omega succesfully estimated\n",
      "INFO - Estimating omega for rule: CAR {Passenger_Cat=3rd_class,Gender=male} => {Died=0} sup: 0.20 conf: 0.22, f1: 0.21, len: 3, id: 7\n",
      "INFO - stardard error of omega estimate: 977.9648240095346\n",
      "INFO - 977.9648240095346 > 703.0538194444445 => omega estimation continues\n",
      "INFO - stardard error of omega estimate: 670.916844232577\n",
      "INFO - omega succesfully estimated\n",
      "INFO - Estimating omega for rule: CAR {Age_Cat=adult} => {Died=0} sup: 0.97 conf: 0.35, f1: 0.52, len: 2, id: 23\n",
      "INFO - stardard error of omega estimate: 604.0682759423805\n",
      "INFO - omega succesfully estimated\n",
      "INFO - Estimating omega for rule: CAR {Passenger_Cat=crew} => {Died=0} sup: 0.43 conf: 0.25, f1: 0.32, len: 2, id: 13\n",
      "INFO - stardard error of omega estimate: 872.1668561691622\n",
      "INFO - 872.1668561691622 > 703.0538194444445 => omega estimation continues\n",
      "INFO - stardard error of omega estimate: 618.2035076534263\n",
      "INFO - omega succesfully estimated\n",
      "INFO - Estimating omega for rule: CAR {Gender=male} => {Died=1} sup: 0.78 conf: 0.75, f1: 0.76, len: 2, id: 18\n",
      "INFO - stardard error of omega estimate: 755.605230924191\n",
      "INFO - 755.605230924191 > 703.0538194444445 => omega estimation continues\n",
      "INFO - stardard error of omega estimate: 521.9192781216268\n",
      "INFO - omega succesfully estimated\n",
      "INFO - Estimating omega for rule: CAR {Age_Cat=adult,Gender=female} => {Died=1} sup: 0.21 conf: 0.23, f1: 0.22, len: 3, id: 2\n",
      "INFO - stardard error of omega estimate: 619.6897328502386\n",
      "INFO - omega succesfully estimated\n",
      "INFO - Estimating omega for rule: CAR {Gender=female} => {Died=0} sup: 0.22 conf: 0.76, f1: 0.35, len: 2, id: 1\n",
      "INFO - stardard error of omega estimate: 904.9289502496866\n",
      "INFO - 904.9289502496866 > 703.0538194444445 => omega estimation continues\n",
      "INFO - stardard error of omega estimate: 737.7651515726396\n",
      "INFO - 737.7651515726396 > 703.0538194444445 => omega estimation continues\n",
      "INFO - stardard error of omega estimate: 562.5345529799002\n",
      "INFO - omega succesfully estimated\n",
      "INFO - Estimating omega for rule: CAR {Passenger_Cat=3rd_class,Age_Cat=adult} => {Died=1} sup: 0.27 conf: 0.73, f1: 0.39, len: 3, id: 8\n",
      "INFO - stardard error of omega estimate: 995.8037617924527\n",
      "INFO - 995.8037617924527 > 703.0538194444445 => omega estimation continues\n",
      "INFO - stardard error of omega estimate: 747.9910078837847\n",
      "INFO - 747.9910078837847 > 703.0538194444445 => omega estimation continues\n",
      "INFO - stardard error of omega estimate: 593.5096815335653\n",
      "INFO - omega succesfully estimated\n",
      "INFO - Estimating omega for rule: CAR {Passenger_Cat=crew,Gender=male,Age_Cat=adult} => {Died=1} sup: 0.42 conf: 0.77, f1: 0.54, len: 4, id: 14\n",
      "INFO - stardard error of omega estimate: 971.1903500344306\n",
      "INFO - 971.1903500344306 > 703.0538194444445 => omega estimation continues\n",
      "INFO - stardard error of omega estimate: 709.1669545142385\n",
      "INFO - 709.1669545142385 > 703.0538194444445 => omega estimation continues\n",
      "INFO - stardard error of omega estimate: 579.4977643199773\n",
      "INFO - omega succesfully estimated\n",
      "INFO - Estimating omega for rule: CAR {Gender=male} => {Died=0} sup: 0.78 conf: 0.25, f1: 0.37, len: 2, id: 19\n",
      "INFO - stardard error of omega estimate: 942.3137863790383\n",
      "INFO - 942.3137863790383 > 703.0538194444445 => omega estimation continues\n",
      "INFO - stardard error of omega estimate: 682.9941857365991\n",
      "INFO - omega succesfully estimated\n",
      "INFO - Estimating omega for rule: CAR {Passenger_Cat=3rd_class} => {Died=0} sup: 0.28 conf: 0.27, f1: 0.28, len: 2, id: 5\n",
      "INFO - stardard error of omega estimate: 976.5621685279438\n",
      "INFO - 976.5621685279438 > 703.0538194444445 => omega estimation continues\n",
      "INFO - stardard error of omega estimate: 643.7633757833697\n",
      "INFO - omega succesfully estimated\n",
      "INFO - Estimating omega for rule: CAR {Passenger_Cat=3rd_class,Age_Cat=adult} => {Died=0} sup: 0.27 conf: 0.27, f1: 0.27, len: 3, id: 9\n",
      "INFO - stardard error of omega estimate: 617.8822946160539\n",
      "INFO - omega succesfully estimated\n",
      "INFO - Estimating omega for rule: CAR {Passenger_Cat=crew,Gender=male,Age_Cat=adult} => {Died=0} sup: 0.42 conf: 0.23, f1: 0.30, len: 4, id: 15\n",
      "INFO - stardard error of omega estimate: 859.3956975689372\n",
      "INFO - 859.3956975689372 > 703.0538194444445 => omega estimation continues\n",
      "INFO - stardard error of omega estimate: 699.9936930965878\n",
      "INFO - omega succesfully estimated\n",
      "INFO - Estimating omega for rule: CAR {Gender=male,Age_Cat=adult} => {Died=1} sup: 0.76 conf: 0.76, f1: 0.76, len: 3, id: 20\n",
      "INFO - stardard error of omega estimate: 899.9380873148997\n",
      "INFO - 899.9380873148997 > 703.0538194444445 => omega estimation continues\n",
      "INFO - stardard error of omega estimate: 622.9847355674134\n",
      "INFO - omega succesfully estimated\n",
      "INFO - Estimating omega for rule: CAR {Age_Cat=adult,Gender=female} => {Died=0} sup: 0.21 conf: 0.77, f1: 0.33, len: 3, id: 3\n",
      "INFO - stardard error of omega estimate: 695.7113194421951\n",
      "INFO - omega succesfully estimated\n",
      "INFO - Estimating omega for rule: CAR {Passenger_Cat=crew,Age_Cat=adult} => {Died=1} sup: 0.43 conf: 0.75, f1: 0.55, len: 3, id: 10\n",
      "INFO - stardard error of omega estimate: 670.911038066896\n",
      "INFO - omega succesfully estimated\n",
      "INFO - Estimating omega for rule: CAR {Gender=male,Age_Cat=adult} => {Died=0} sup: 0.76 conf: 0.24, f1: 0.36, len: 3, id: 21\n",
      "INFO - stardard error of omega estimate: 929.3624852553496\n",
      "INFO - 929.3624852553496 > 703.0538194444445 => omega estimation continues\n",
      "INFO - stardard error of omega estimate: 625.2889985838548\n",
      "INFO - omega succesfully estimated\n",
      "INFO - Estimating omega for rule: CAR {Gender=female} => {Died=1} sup: 0.22 conf: 0.24, f1: 0.23, len: 2, id: 0\n",
      "INFO - stardard error of omega estimate: 800.0487441400055\n",
      "INFO - 800.0487441400055 > 703.0538194444445 => omega estimation continues\n",
      "INFO - stardard error of omega estimate: 709.9231630078004\n",
      "INFO - 709.9231630078004 > 703.0538194444445 => omega estimation continues\n",
      "INFO - stardard error of omega estimate: 546.7675381190261\n",
      "INFO - omega succesfully estimated\n",
      "INFO - Estimating omega for rule: CAR {Passenger_Cat=crew,Gender=male} => {Died=1} sup: 0.42 conf: 0.77, f1: 0.54, len: 3, id: 16\n",
      "INFO - stardard error of omega estimate: 961.5092615258576\n",
      "INFO - 961.5092615258576 > 703.0538194444445 => omega estimation continues\n",
      "INFO - stardard error of omega estimate: 787.8180015079625\n",
      "INFO - 787.8180015079625 > 703.0538194444445 => omega estimation continues\n",
      "INFO - stardard error of omega estimate: 602.2508171050528\n",
      "INFO - omega succesfully estimated\n",
      "INFO - Estimating omega for rule: CAR {Passenger_Cat=3rd_class} => {Died=1} sup: 0.28 conf: 0.73, f1: 0.41, len: 2, id: 4\n",
      "INFO - stardard error of omega estimate: 1049.7393014458398\n",
      "INFO - 1049.7393014458398 > 703.0538194444445 => omega estimation continues\n"
     ]
    },
    {
     "name": "stdout",
     "output_type": "stream",
     "text": [
      "INFO - stardard error of omega estimate: 715.5630747879602\n",
      "INFO - 715.5630747879602 > 703.0538194444445 => omega estimation continues\n",
      "INFO - stardard error of omega estimate: 510.76843825604425\n",
      "INFO - omega succesfully estimated\n",
      "INFO - Estimating omega for rule: CAR {Passenger_Cat=crew,Age_Cat=adult} => {Died=0} sup: 0.43 conf: 0.25, f1: 0.32, len: 3, id: 11\n",
      "INFO - stardard error of omega estimate: 617.816429046687\n",
      "INFO - omega succesfully estimated\n",
      "INFO - Number of input rules: 24\n",
      "INFO - RandomOptimizer estimated the OPTIMUM value as: 409948.0\n",
      "INFO - Threshold value (2/(n*n) * OPT) = 1423.4305555555554. This is the standard error treshold value.\n",
      "INFO - Estimating omega for rule: CAR {Age_Cat=adult} => {Died=1} sup: 0.97 conf: 0.65, f1: 0.78, len: 2, id: 22\n",
      "INFO - stardard error of omega estimate: 642.6780974951613\n",
      "INFO - omega succesfully estimated\n",
      "INFO - Estimating omega for rule: CAR {Passenger_Cat=3rd_class,Gender=male} => {Died=1} sup: 0.20 conf: 0.78, f1: 0.32, len: 3, id: 6\n",
      "INFO - stardard error of omega estimate: 950.0151640895002\n",
      "INFO - 950.0151640895002 > 711.7152777777777 => omega estimation continues\n",
      "INFO - stardard error of omega estimate: 567.9873021247922\n",
      "INFO - omega succesfully estimated\n",
      "INFO - Estimating omega for rule: CAR {Passenger_Cat=crew} => {Died=1} sup: 0.43 conf: 0.75, f1: 0.55, len: 2, id: 12\n",
      "INFO - stardard error of omega estimate: 823.6801594065503\n",
      "INFO - 823.6801594065503 > 711.7152777777777 => omega estimation continues\n",
      "INFO - stardard error of omega estimate: 558.7762784648254\n",
      "INFO - omega succesfully estimated\n",
      "INFO - Estimating omega for rule: CAR {Passenger_Cat=crew,Gender=male} => {Died=0} sup: 0.42 conf: 0.23, f1: 0.30, len: 3, id: 17\n",
      "INFO - stardard error of omega estimate: 726.2104274932989\n",
      "INFO - 726.2104274932989 > 711.7152777777777 => omega estimation continues\n",
      "INFO - stardard error of omega estimate: 529.9882958613332\n",
      "INFO - omega succesfully estimated\n",
      "INFO - Estimating omega for rule: CAR {Passenger_Cat=3rd_class,Gender=male} => {Died=0} sup: 0.20 conf: 0.22, f1: 0.21, len: 3, id: 7\n",
      "INFO - stardard error of omega estimate: 1167.0129960715947\n",
      "INFO - 1167.0129960715947 > 711.7152777777777 => omega estimation continues\n",
      "INFO - stardard error of omega estimate: 705.198732539275\n",
      "INFO - omega succesfully estimated\n",
      "INFO - Estimating omega for rule: CAR {Age_Cat=adult} => {Died=0} sup: 0.97 conf: 0.35, f1: 0.52, len: 2, id: 23\n",
      "INFO - stardard error of omega estimate: 1111.003653009296\n",
      "INFO - 1111.003653009296 > 711.7152777777777 => omega estimation continues\n",
      "INFO - stardard error of omega estimate: 658.4428102538594\n",
      "INFO - omega succesfully estimated\n",
      "INFO - Estimating omega for rule: CAR {Passenger_Cat=crew} => {Died=0} sup: 0.43 conf: 0.25, f1: 0.32, len: 2, id: 13\n",
      "INFO - stardard error of omega estimate: 956.0836626571966\n",
      "INFO - 956.0836626571966 > 711.7152777777777 => omega estimation continues\n",
      "INFO - stardard error of omega estimate: 599.3073831515844\n",
      "INFO - omega succesfully estimated\n",
      "INFO - Estimating omega for rule: CAR {Gender=male} => {Died=1} sup: 0.78 conf: 0.75, f1: 0.76, len: 2, id: 18\n",
      "INFO - stardard error of omega estimate: 1002.2803125872523\n",
      "INFO - 1002.2803125872523 > 711.7152777777777 => omega estimation continues\n",
      "INFO - stardard error of omega estimate: 704.7737185614969\n",
      "INFO - omega succesfully estimated\n",
      "INFO - Estimating omega for rule: CAR {Age_Cat=adult,Gender=female} => {Died=1} sup: 0.21 conf: 0.23, f1: 0.22, len: 3, id: 2\n",
      "INFO - stardard error of omega estimate: 1218.302165310396\n",
      "INFO - 1218.302165310396 > 711.7152777777777 => omega estimation continues\n",
      "INFO - stardard error of omega estimate: 721.0445034808878\n",
      "INFO - 721.0445034808878 > 711.7152777777777 => omega estimation continues\n",
      "INFO - stardard error of omega estimate: 581.5143877395882\n",
      "INFO - omega succesfully estimated\n",
      "INFO - Estimating omega for rule: CAR {Gender=female} => {Died=0} sup: 0.22 conf: 0.76, f1: 0.35, len: 2, id: 1\n",
      "INFO - stardard error of omega estimate: 789.4070268245654\n",
      "INFO - 789.4070268245654 > 711.7152777777777 => omega estimation continues\n",
      "INFO - stardard error of omega estimate: 596.7884338272652\n",
      "INFO - omega succesfully estimated\n",
      "INFO - Estimating omega for rule: CAR {Passenger_Cat=3rd_class,Age_Cat=adult} => {Died=1} sup: 0.27 conf: 0.73, f1: 0.39, len: 3, id: 8\n",
      "INFO - stardard error of omega estimate: 724.5139232616583\n",
      "INFO - 724.5139232616583 > 711.7152777777777 => omega estimation continues\n",
      "INFO - stardard error of omega estimate: 701.5867732326486\n",
      "INFO - omega succesfully estimated\n",
      "INFO - Estimating omega for rule: CAR {Passenger_Cat=crew,Gender=male,Age_Cat=adult} => {Died=1} sup: 0.42 conf: 0.77, f1: 0.54, len: 4, id: 14\n",
      "INFO - stardard error of omega estimate: 816.0868244249505\n",
      "INFO - 816.0868244249505 > 711.7152777777777 => omega estimation continues\n",
      "INFO - stardard error of omega estimate: 718.9943141291175\n",
      "INFO - 718.9943141291175 > 711.7152777777777 => omega estimation continues\n",
      "INFO - stardard error of omega estimate: 568.0353211826806\n",
      "INFO - omega succesfully estimated\n",
      "INFO - Estimating omega for rule: CAR {Gender=male} => {Died=0} sup: 0.78 conf: 0.25, f1: 0.37, len: 2, id: 19\n",
      "INFO - stardard error of omega estimate: 871.5554256615009\n",
      "INFO - 871.5554256615009 > 711.7152777777777 => omega estimation continues\n",
      "INFO - stardard error of omega estimate: 615.8202534019159\n",
      "INFO - omega succesfully estimated\n",
      "INFO - Estimating omega for rule: CAR {Passenger_Cat=3rd_class} => {Died=0} sup: 0.28 conf: 0.27, f1: 0.28, len: 2, id: 5\n",
      "INFO - stardard error of omega estimate: 969.5378579508899\n",
      "INFO - 969.5378579508899 > 711.7152777777777 => omega estimation continues\n",
      "INFO - stardard error of omega estimate: 677.3165005187752\n",
      "INFO - omega succesfully estimated\n",
      "INFO - Estimating omega for rule: CAR {Passenger_Cat=3rd_class,Age_Cat=adult} => {Died=0} sup: 0.27 conf: 0.27, f1: 0.27, len: 3, id: 9\n",
      "INFO - stardard error of omega estimate: 975.5195523412127\n",
      "INFO - 975.5195523412127 > 711.7152777777777 => omega estimation continues\n",
      "INFO - stardard error of omega estimate: 584.994409268157\n",
      "INFO - omega succesfully estimated\n",
      "INFO - Estimating omega for rule: CAR {Passenger_Cat=crew,Gender=male,Age_Cat=adult} => {Died=0} sup: 0.42 conf: 0.23, f1: 0.30, len: 4, id: 15\n",
      "INFO - stardard error of omega estimate: 868.0835195993528\n",
      "INFO - 868.0835195993528 > 711.7152777777777 => omega estimation continues\n",
      "INFO - stardard error of omega estimate: 693.8421981077541\n",
      "INFO - omega succesfully estimated\n",
      "INFO - Estimating omega for rule: CAR {Gender=male,Age_Cat=adult} => {Died=1} sup: 0.76 conf: 0.76, f1: 0.76, len: 3, id: 20\n",
      "INFO - stardard error of omega estimate: 847.8510771356017\n",
      "INFO - 847.8510771356017 > 711.7152777777777 => omega estimation continues\n",
      "INFO - stardard error of omega estimate: 662.4057370675469\n",
      "INFO - omega succesfully estimated\n",
      "INFO - Estimating omega for rule: CAR {Age_Cat=adult,Gender=female} => {Died=0} sup: 0.21 conf: 0.77, f1: 0.33, len: 3, id: 3\n",
      "INFO - stardard error of omega estimate: 905.165316392536\n",
      "INFO - 905.165316392536 > 711.7152777777777 => omega estimation continues\n",
      "INFO - stardard error of omega estimate: 665.6361967133398\n",
      "INFO - omega succesfully estimated\n",
      "INFO - Estimating omega for rule: CAR {Passenger_Cat=crew,Age_Cat=adult} => {Died=1} sup: 0.43 conf: 0.75, f1: 0.55, len: 3, id: 10\n",
      "INFO - stardard error of omega estimate: 689.7379538636395\n",
      "INFO - omega succesfully estimated\n",
      "INFO - Estimating omega for rule: CAR {Gender=male,Age_Cat=adult} => {Died=0} sup: 0.76 conf: 0.24, f1: 0.36, len: 3, id: 21\n",
      "INFO - stardard error of omega estimate: 690.370067427608\n",
      "INFO - omega succesfully estimated\n",
      "INFO - Estimating omega for rule: CAR {Gender=female} => {Died=1} sup: 0.22 conf: 0.24, f1: 0.23, len: 2, id: 0\n",
      "INFO - stardard error of omega estimate: 919.5250801364799\n",
      "INFO - 919.5250801364799 > 711.7152777777777 => omega estimation continues\n",
      "INFO - stardard error of omega estimate: 712.1595397100288\n",
      "INFO - 712.1595397100288 > 711.7152777777777 => omega estimation continues\n",
      "INFO - stardard error of omega estimate: 580.330780165422\n",
      "INFO - omega succesfully estimated\n",
      "INFO - Estimating omega for rule: CAR {Passenger_Cat=crew,Gender=male} => {Died=1} sup: 0.42 conf: 0.77, f1: 0.54, len: 3, id: 16\n",
      "INFO - stardard error of omega estimate: 793.0148327742679\n",
      "INFO - 793.0148327742679 > 711.7152777777777 => omega estimation continues\n"
     ]
    },
    {
     "name": "stdout",
     "output_type": "stream",
     "text": [
      "INFO - stardard error of omega estimate: 629.1212990155396\n",
      "INFO - omega succesfully estimated\n",
      "INFO - Estimating omega for rule: CAR {Passenger_Cat=3rd_class} => {Died=1} sup: 0.28 conf: 0.73, f1: 0.41, len: 2, id: 4\n",
      "INFO - stardard error of omega estimate: 1079.1756298212076\n",
      "INFO - 1079.1756298212076 > 711.7152777777777 => omega estimation continues\n",
      "INFO - stardard error of omega estimate: 775.4885639872454\n",
      "INFO - 775.4885639872454 > 711.7152777777777 => omega estimation continues\n",
      "INFO - stardard error of omega estimate: 584.5074723724747\n",
      "INFO - omega succesfully estimated\n",
      "INFO - Estimating omega for rule: CAR {Passenger_Cat=crew,Age_Cat=adult} => {Died=0} sup: 0.43 conf: 0.25, f1: 0.32, len: 3, id: 11\n",
      "INFO - stardard error of omega estimate: 799.9446955883889\n",
      "INFO - 799.9446955883889 > 711.7152777777777 => omega estimation continues\n",
      "INFO - stardard error of omega estimate: 833.5978813252826\n",
      "INFO - 833.5978813252826 > 711.7152777777777 => omega estimation continues\n",
      "INFO - stardard error of omega estimate: 705.4704347428715\n",
      "INFO - omega succesfully estimated\n"
     ]
    },
    {
     "data": {
      "text/plain": [
       "<pyids.data_structures.ids_classifier.IDS at 0x14890e20668>"
      ]
     },
     "execution_count": 10,
     "metadata": {},
     "output_type": "execute_result"
    }
   ],
   "source": [
    "ids = IDS()\n",
    "ids.fit(class_association_rules=rules, quant_dataframe=quant_dataframe_train, debug=True, random_seed=5)"
   ]
  },
  {
   "cell_type": "code",
   "execution_count": 11,
   "metadata": {},
   "outputs": [
    {
     "name": "stdout",
     "output_type": "stream",
     "text": [
      "If \\textcolor{blue}{Passenger\\_Cat}=\\textcolor{gray}{crew} then \\textcolor{red}{Died}=\\textcolor{gray}{1} $\\mid$ f1-score: \\textit{0.55}\n",
      "\n",
      "If \\textcolor{blue}{Gender}=\\textcolor{gray}{male} then \\textcolor{red}{Died}=\\textcolor{gray}{0} $\\mid$ f1-score: \\textit{0.37}\n",
      "\n",
      "If \\textcolor{blue}{Gender}=\\textcolor{gray}{female} then \\textcolor{red}{Died}=\\textcolor{gray}{0} $\\mid$ f1-score: \\textit{0.35}\n",
      "\n",
      "If \\textcolor{blue}{Passenger\\_Cat}=\\textcolor{gray}{3rd\\_class} and \\textcolor{blue}{Gender}=\\textcolor{gray}{male} then \\textcolor{red}{Died}=\\textcolor{gray}{1} $\\mid$ f1-score: \\textit{0.32}\n",
      "\n",
      "If \\textcolor{blue}{Passenger\\_Cat}=\\textcolor{gray}{3rd\\_class} and \\textcolor{blue}{Age\\_Cat}=\\textcolor{gray}{adult} then \\textcolor{red}{Died}=\\textcolor{gray}{0} $\\mid$ f1-score: \\textit{0.27}\n",
      "\n",
      "If \\textcolor{blue}{Gender}=\\textcolor{gray}{female} then \\textcolor{red}{Died}=\\textcolor{gray}{1} $\\mid$ f1-score: \\textit{0.23}\n",
      "\n",
      "If \\textcolor{blue}{Passenger\\_Cat}=\\textcolor{gray}{3rd\\_class} and \\textcolor{blue}{Gender}=\\textcolor{gray}{male} then \\textcolor{red}{Died}=\\textcolor{gray}{0} $\\mid$ f1-score: \\textit{0.21}\n"
     ]
    }
   ],
   "source": [
    "print(print_cars(ids.clf.rules))"
   ]
  },
  {
   "cell_type": "code",
   "execution_count": 12,
   "metadata": {},
   "outputs": [
    {
     "data": {
      "text/plain": [
       "'1'"
      ]
     },
     "execution_count": 12,
     "metadata": {},
     "output_type": "execute_result"
    }
   ],
   "source": [
    "ids.clf.default_class"
   ]
  },
  {
   "cell_type": "code",
   "execution_count": 13,
   "metadata": {},
   "outputs": [
    {
     "data": {
      "text/plain": [
       "1"
      ]
     },
     "execution_count": 13,
     "metadata": {},
     "output_type": "execute_result"
    }
   ],
   "source": [
    "ids.clf.default_class_confidence"
   ]
  },
  {
   "cell_type": "markdown",
   "metadata": {},
   "source": [
    "## Evaluating the IDS model"
   ]
  },
  {
   "cell_type": "code",
   "execution_count": 30,
   "metadata": {},
   "outputs": [
    {
     "name": "stdout",
     "output_type": "stream",
     "text": [
      "Accuracy on train data:  0.6590909090909091\n",
      "Accuracy on test data:  0.681334279630944\n"
     ]
    }
   ],
   "source": [
    "print(\"Accuracy on train data: \", ids.score(quant_dataframe_train))\n",
    "print(\"Accuracy on test data: \", ids.score(quant_dataframe_test))"
   ]
  },
  {
   "cell_type": "code",
   "execution_count": 15,
   "metadata": {},
   "outputs": [
    {
     "name": "stdout",
     "output_type": "stream",
     "text": [
      "AUC on train data:  0.6735958005249345\n"
     ]
    },
    {
     "ename": "IndexError",
     "evalue": "index 352 is out of bounds for axis 1 with size 352",
     "output_type": "error",
     "traceback": [
      "\u001b[1;31m---------------------------------------------------------------------------\u001b[0m",
      "\u001b[1;31mIndexError\u001b[0m                                Traceback (most recent call last)",
      "\u001b[1;32m<ipython-input-15-475e4ceebe60>\u001b[0m in \u001b[0;36m<module>\u001b[1;34m\u001b[0m\n\u001b[0;32m      1\u001b[0m \u001b[0mprint\u001b[0m\u001b[1;33m(\u001b[0m\u001b[1;34m\"AUC on train data: \"\u001b[0m\u001b[1;33m,\u001b[0m \u001b[0mids\u001b[0m\u001b[1;33m.\u001b[0m\u001b[0mscore_auc\u001b[0m\u001b[1;33m(\u001b[0m\u001b[0mquant_dataframe_train\u001b[0m\u001b[1;33m,\u001b[0m \u001b[0mconfidence_based\u001b[0m\u001b[1;33m=\u001b[0m\u001b[1;32mTrue\u001b[0m\u001b[1;33m)\u001b[0m\u001b[1;33m)\u001b[0m\u001b[1;33m\u001b[0m\u001b[1;33m\u001b[0m\u001b[0m\n\u001b[1;32m----> 2\u001b[1;33m \u001b[0mprint\u001b[0m\u001b[1;33m(\u001b[0m\u001b[1;34m\"AUC on test data: \"\u001b[0m\u001b[1;33m,\u001b[0m \u001b[0mids\u001b[0m\u001b[1;33m.\u001b[0m\u001b[0mscore_auc\u001b[0m\u001b[1;33m(\u001b[0m\u001b[0mquant_dataframe_test\u001b[0m\u001b[1;33m,\u001b[0m \u001b[0mconfidence_based\u001b[0m\u001b[1;33m=\u001b[0m\u001b[1;32mTrue\u001b[0m\u001b[1;33m)\u001b[0m\u001b[1;33m)\u001b[0m\u001b[1;33m\u001b[0m\u001b[1;33m\u001b[0m\u001b[0m\n\u001b[0m",
      "\u001b[1;32mD:\\programy\\Anaconda\\lib\\site-packages\\pyids\\data_structures\\ids_classifier.py\u001b[0m in \u001b[0;36mscore_auc\u001b[1;34m(self, quant_dataframe, confidence_based)\u001b[0m\n\u001b[0;32m    257\u001b[0m     \u001b[1;32mdef\u001b[0m \u001b[0mscore_auc\u001b[0m\u001b[1;33m(\u001b[0m\u001b[0mself\u001b[0m\u001b[1;33m,\u001b[0m \u001b[0mquant_dataframe\u001b[0m\u001b[1;33m,\u001b[0m \u001b[0mconfidence_based\u001b[0m\u001b[1;33m=\u001b[0m\u001b[1;32mFalse\u001b[0m\u001b[1;33m)\u001b[0m\u001b[1;33m:\u001b[0m\u001b[1;33m\u001b[0m\u001b[1;33m\u001b[0m\u001b[0m\n\u001b[0;32m    258\u001b[0m         \u001b[1;32mif\u001b[0m \u001b[0mconfidence_based\u001b[0m\u001b[1;33m:\u001b[0m\u001b[1;33m\u001b[0m\u001b[1;33m\u001b[0m\u001b[0m\n\u001b[1;32m--> 259\u001b[1;33m             \u001b[1;32mreturn\u001b[0m \u001b[0mself\u001b[0m\u001b[1;33m.\u001b[0m\u001b[0m_calculate_auc_for_ruleconf\u001b[0m\u001b[1;33m(\u001b[0m\u001b[0mquant_dataframe\u001b[0m\u001b[1;33m)\u001b[0m\u001b[1;33m\u001b[0m\u001b[1;33m\u001b[0m\u001b[0m\n\u001b[0m\u001b[0;32m    260\u001b[0m         \u001b[1;32melse\u001b[0m\u001b[1;33m:\u001b[0m\u001b[1;33m\u001b[0m\u001b[1;33m\u001b[0m\u001b[0m\n\u001b[0;32m    261\u001b[0m             \u001b[1;32mreturn\u001b[0m \u001b[0mself\u001b[0m\u001b[1;33m.\u001b[0m\u001b[0m_calcutate_auc_classical\u001b[0m\u001b[1;33m(\u001b[0m\u001b[0mquant_dataframe\u001b[0m\u001b[1;33m)\u001b[0m\u001b[1;33m\u001b[0m\u001b[1;33m\u001b[0m\u001b[0m\n",
      "\u001b[1;32mD:\\programy\\Anaconda\\lib\\site-packages\\pyids\\data_structures\\ids_classifier.py\u001b[0m in \u001b[0;36m_calculate_auc_for_ruleconf\u001b[1;34m(self, quant_dataframe)\u001b[0m\n\u001b[0;32m    217\u001b[0m \u001b[1;33m\u001b[0m\u001b[0m\n\u001b[0;32m    218\u001b[0m     \u001b[1;32mdef\u001b[0m \u001b[0m_calculate_auc_for_ruleconf\u001b[0m\u001b[1;33m(\u001b[0m\u001b[0mself\u001b[0m\u001b[1;33m,\u001b[0m \u001b[0mquant_dataframe\u001b[0m\u001b[1;33m)\u001b[0m\u001b[1;33m:\u001b[0m\u001b[1;33m\u001b[0m\u001b[1;33m\u001b[0m\u001b[0m\n\u001b[1;32m--> 219\u001b[1;33m         \u001b[0mconf_pred\u001b[0m \u001b[1;33m=\u001b[0m \u001b[0mself\u001b[0m\u001b[1;33m.\u001b[0m\u001b[0mclf\u001b[0m\u001b[1;33m.\u001b[0m\u001b[0mget_prediction_rules\u001b[0m\u001b[1;33m(\u001b[0m\u001b[0mquant_dataframe\u001b[0m\u001b[1;33m)\u001b[0m\u001b[1;33m\u001b[0m\u001b[1;33m\u001b[0m\u001b[0m\n\u001b[0m\u001b[0;32m    220\u001b[0m \u001b[1;33m\u001b[0m\u001b[0m\n\u001b[0;32m    221\u001b[0m         \u001b[0mconfidences\u001b[0m \u001b[1;33m=\u001b[0m \u001b[1;33m[\u001b[0m\u001b[1;33m]\u001b[0m\u001b[1;33m\u001b[0m\u001b[1;33m\u001b[0m\u001b[0m\n",
      "\u001b[1;32mD:\\programy\\Anaconda\\lib\\site-packages\\pyids\\data_structures\\ids_classifier.py\u001b[0m in \u001b[0;36mget_prediction_rules\u001b[1;34m(self, quant_dataframe)\u001b[0m\n\u001b[0;32m     82\u001b[0m         \u001b[1;32mif\u001b[0m \u001b[0my_pred_dict\u001b[0m\u001b[1;33m:\u001b[0m\u001b[1;33m\u001b[0m\u001b[1;33m\u001b[0m\u001b[0m\n\u001b[0;32m     83\u001b[0m             \u001b[1;32mfor\u001b[0m \u001b[0mi\u001b[0m \u001b[1;32min\u001b[0m \u001b[0mrange\u001b[0m\u001b[1;33m(\u001b[0m\u001b[0mlen\u001b[0m\u001b[1;33m(\u001b[0m\u001b[0mY\u001b[0m\u001b[1;33m)\u001b[0m\u001b[1;33m)\u001b[0m\u001b[1;33m:\u001b[0m\u001b[1;33m\u001b[0m\u001b[1;33m\u001b[0m\u001b[0m\n\u001b[1;32m---> 84\u001b[1;33m                 \u001b[0mall_NA\u001b[0m \u001b[1;33m=\u001b[0m \u001b[0mnp\u001b[0m\u001b[1;33m.\u001b[0m\u001b[0mall\u001b[0m\u001b[1;33m(\u001b[0m\u001b[0my_pred_array\u001b[0m\u001b[1;33m[\u001b[0m\u001b[1;33m:\u001b[0m\u001b[1;33m,\u001b[0m\u001b[0mi\u001b[0m\u001b[1;33m]\u001b[0m \u001b[1;33m==\u001b[0m \u001b[0mIDSRule\u001b[0m\u001b[1;33m.\u001b[0m\u001b[0mDUMMY_LABEL\u001b[0m\u001b[1;33m)\u001b[0m\u001b[1;33m\u001b[0m\u001b[1;33m\u001b[0m\u001b[0m\n\u001b[0m\u001b[0;32m     85\u001b[0m                 \u001b[1;32mif\u001b[0m \u001b[0mall_NA\u001b[0m\u001b[1;33m:\u001b[0m\u001b[1;33m\u001b[0m\u001b[1;33m\u001b[0m\u001b[0m\n\u001b[0;32m     86\u001b[0m                     \u001b[0mminority_classes\u001b[0m\u001b[1;33m.\u001b[0m\u001b[0mappend\u001b[0m\u001b[1;33m(\u001b[0m\u001b[0mY\u001b[0m\u001b[1;33m[\u001b[0m\u001b[0mi\u001b[0m\u001b[1;33m]\u001b[0m\u001b[1;33m)\u001b[0m\u001b[1;33m\u001b[0m\u001b[1;33m\u001b[0m\u001b[0m\n",
      "\u001b[1;31mIndexError\u001b[0m: index 352 is out of bounds for axis 1 with size 352"
     ]
    }
   ],
   "source": [
    "print(\"AUC on train data: \", ids.score_auc(quant_dataframe_train, confidence_based=True))\n",
    "print(\"AUC on test data: \", ids.score_auc(quant_dataframe_test, confidence_based=True))"
   ]
  },
  {
   "cell_type": "code",
   "execution_count": 32,
   "metadata": {},
   "outputs": [
    {
     "data": {
      "text/plain": [
       "{'fraction_overlap': 0.1952651515151515,\n",
       " 'fraction_classes': 1.0,\n",
       " 'fraction_uncovered': 0.14204545454545447,\n",
       " 'average_rule_width': 1.8333333333333333,\n",
       " 'ruleset_length': 6}"
      ]
     },
     "execution_count": 32,
     "metadata": {},
     "output_type": "execute_result"
    }
   ],
   "source": [
    "ids.score_interpretable_metrics(quant_dataframe_train)"
   ]
  },
  {
   "cell_type": "code",
   "execution_count": 67,
   "metadata": {},
   "outputs": [
    {
     "data": {
      "text/plain": [
       "{'fraction_overlap': 0.32008516678495386,\n",
       " 'fraction_classes': 1.0,\n",
       " 'fraction_uncovered': 0.00709723207948898,\n",
       " 'average_rule_width': 1.4285714285714286,\n",
       " 'ruleset_length': 7}"
      ]
     },
     "execution_count": 67,
     "metadata": {},
     "output_type": "execute_result"
    }
   ],
   "source": [
    "ids.score_interpretable_metrics(quant_dataframe_test)"
   ]
  }
 ],
 "metadata": {
  "kernelspec": {
   "display_name": "Python 3",
   "language": "python",
   "name": "python3"
  },
  "language_info": {
   "codemirror_mode": {
    "name": "ipython",
    "version": 3
   },
   "file_extension": ".py",
   "mimetype": "text/x-python",
   "name": "python",
   "nbconvert_exporter": "python",
   "pygments_lexer": "ipython3",
   "version": "3.7.3"
  }
 },
 "nbformat": 4,
 "nbformat_minor": 2
}
