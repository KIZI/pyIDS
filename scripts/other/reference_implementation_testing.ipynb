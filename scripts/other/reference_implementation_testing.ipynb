{
 "cells": [
  {
   "cell_type": "markdown",
   "metadata": {},
   "source": [
    "# DLS Testing and comparison with pyIDS"
   ]
  },
  {
   "cell_type": "code",
   "execution_count": 1,
   "metadata": {
    "collapsed": true
   },
   "outputs": [],
   "source": [
    "RULES_CUTOFF = 20"
   ]
  },
  {
   "cell_type": "code",
   "execution_count": 2,
   "metadata": {
    "collapsed": true
   },
   "outputs": [],
   "source": [
    "from pyarc.data_structures import TransactionDB\n",
    "from pyarc.algorithms import top_rules, createCARs"
   ]
  },
  {
   "cell_type": "markdown",
   "metadata": {},
   "source": [
    "# Guide to use lvhimabindu/interpretable_decision_sets\n",
    "\n",
    "* git pull https://github.com/lvhimabindu/interpretable_decision_sets interpretable_decision_sets_lakkaraju\n",
    "* locate your python *site_packages* directory\n",
    "* copy *interpretable_decision_sets_lakkaraju* into *site_packages*\n",
    "* correct errors in code to allow it to run (wrong identation etc.)"
   ]
  },
  {
   "cell_type": "markdown",
   "metadata": {},
   "source": [
    "# Interpretable Decision Sets - setup"
   ]
  },
  {
   "cell_type": "code",
   "execution_count": 3,
   "metadata": {
    "collapsed": true
   },
   "outputs": [],
   "source": [
    "import interpretable_decision_sets_lakkaraju.IDS_smooth_local as sls_lakk\n",
    "from interpretable_decision_sets_lakkaraju.IDS_deterministic_local import run_apriori, createrules, deterministic_local_search, func_evaluation, rule"
   ]
  },
  {
   "cell_type": "code",
   "execution_count": 4,
   "metadata": {
    "collapsed": true
   },
   "outputs": [],
   "source": [
    "import pandas as pd\n",
    "import numpy as np\n",
    "import time"
   ]
  },
  {
   "cell_type": "markdown",
   "metadata": {},
   "source": [
    "## Lakkaraju DLS"
   ]
  },
  {
   "cell_type": "code",
   "execution_count": 5,
   "metadata": {
    "collapsed": true
   },
   "outputs": [],
   "source": [
    "def get_IDS_rules_representation(pyARC_rules):\n",
    "    IDS_rules = []\n",
    "    \n",
    "    for pyARC_rule in pyARC_rules:\n",
    "        feature_list = list(dict(pyARC_rule.antecedent).keys())\n",
    "        value_list = list(dict(pyARC_rule.antecedent).values())\n",
    "        \n",
    "        class_value = pyARC_rule.consequent[1]\n",
    "        \n",
    "        support = pyARC_rule.support\n",
    "        confidence = pyARC_rule.confidence\n",
    "        \n",
    "        IDS_rule = rule(feature_list, value_list, class_value)\n",
    "        \n",
    "        IDS_rules.append(IDS_rule)\n",
    "        \n",
    "    return IDS_rules"
   ]
  },
  {
   "cell_type": "code",
   "execution_count": 6,
   "metadata": {},
   "outputs": [
    {
     "name": "stdout",
     "output_type": "stream",
     "text": [
      "Running apriori with setting: confidence=0.5, support=0.0, minlen=2, maxlen=3, MAX_RULE_LEN=4\n",
      "Rule count: 52, Iteration: 1\n",
      "Increasing maxlen 4\n",
      "Running apriori with setting: confidence=0.5, support=0.0, minlen=2, maxlen=4, MAX_RULE_LEN=4\n",
      "Rule count: 76, Iteration: 2\n",
      "Decreasing confidence to 0.45\n",
      "Running apriori with setting: confidence=0.45, support=0.0, minlen=2, maxlen=4, MAX_RULE_LEN=4\n",
      "Rule count: 76, Iteration: 3\n",
      "Decreasing confidence to 0.4\n",
      "Running apriori with setting: confidence=0.4, support=0.0, minlen=2, maxlen=4, MAX_RULE_LEN=4\n",
      "Rule count: 76, Iteration: 4\n",
      "Decreasing confidence to 0.35000000000000003\n",
      "Running apriori with setting: confidence=0.35000000000000003, support=0.0, minlen=2, maxlen=4, MAX_RULE_LEN=4\n",
      "Rule count: 76, Iteration: 5\n",
      "Decreasing confidence to 0.30000000000000004\n",
      "Running apriori with setting: confidence=0.30000000000000004, support=0.0, minlen=2, maxlen=4, MAX_RULE_LEN=4\n",
      "Rule count: 76, Iteration: 6\n",
      "Decreasing confidence to 0.25000000000000006\n",
      "Running apriori with setting: confidence=0.25000000000000006, support=0.0, minlen=2, maxlen=4, MAX_RULE_LEN=4\n",
      "Rule count: 76, Iteration: 7\n",
      "Decreasing confidence to 0.20000000000000007\n",
      "Running apriori with setting: confidence=0.20000000000000007, support=0.0, minlen=2, maxlen=4, MAX_RULE_LEN=4\n",
      "Rule count: 76, Iteration: 8\n",
      "Decreasing confidence to 0.15000000000000008\n",
      "Running apriori with setting: confidence=0.15000000000000008, support=0.0, minlen=2, maxlen=4, MAX_RULE_LEN=4\n",
      "Rule count: 76, Iteration: 9\n",
      "Decreasing confidence to 0.10000000000000007\n",
      "Running apriori with setting: confidence=0.10000000000000007, support=0.0, minlen=2, maxlen=4, MAX_RULE_LEN=4\n",
      "Rule count: 76, Iteration: 10\n",
      "Decreasing confidence to 0.05000000000000007\n",
      "Running apriori with setting: confidence=0.05000000000000007, support=0.0, minlen=2, maxlen=4, MAX_RULE_LEN=4\n",
      "Rule count: 76, Iteration: 11\n",
      "Decreasing confidence to 6.938893903907228e-17\n",
      "Running apriori with setting: confidence=6.938893903907228e-17, support=0.0, minlen=2, maxlen=4, MAX_RULE_LEN=4\n",
      "Rule count: 76, Iteration: 12\n",
      "All options exhausted\n"
     ]
    }
   ],
   "source": [
    "df = pd.read_csv(\"C:/code/python/pyids/data/titanic.csv\")\n",
    "df[\"Died\"] = df[\"Died\"].astype(str) + \"_\"\n",
    "Y = df[\"Died\"]\n",
    "txns = TransactionDB.from_DataFrame(df)\n",
    "\n",
    "rules = top_rules(txns.string_representation, appearance=txns.appeardict)\n",
    "cars = createCARs(rules)\n",
    "\n",
    "list_of_rules = get_IDS_rules_representation(cars)\n"
   ]
  },
  {
   "cell_type": "code",
   "execution_count": 7,
   "metadata": {},
   "outputs": [
    {
     "name": "stdout",
     "output_type": "stream",
     "text": [
      "If Age_Cat == child and Passenger_Cat == 2nd_class, then 0_\n",
      "If Age_Cat == child and Passenger_Cat == 2nd_class and Gender == female, then 0_\n",
      "If Gender == male and Age_Cat == child and Passenger_Cat == 2nd_class, then 0_\n",
      "If Age_Cat == child and Passenger_Cat == 1st_class, then 0_\n",
      "If Gender == male and Age_Cat == child and Passenger_Cat == 1st_class, then 0_\n",
      "If Age_Cat == child and Passenger_Cat == 1st_class and Gender == female, then 0_\n",
      "If Gender == female and Passenger_Cat == 1st_class, then 0_\n",
      "If Age_Cat == adult and Gender == female and Passenger_Cat == 1st_class, then 0_\n",
      "If Age_Cat == adult and Gender == male and Passenger_Cat == 2nd_class, then 1_\n",
      "If Gender == female and Passenger_Cat == 2nd_class, then 0_\n",
      "If Age_Cat == adult and Gender == female and Passenger_Cat == 2nd_class, then 0_\n",
      "If Gender == male and Passenger_Cat == 2nd_class, then 1_\n",
      "If Gender == female and Passenger_Cat == crew, then 0_\n",
      "If Age_Cat == adult and Gender == female and Passenger_Cat == crew, then 0_\n",
      "If Age_Cat == adult and Gender == male and Passenger_Cat == 3rd_class, then 1_\n",
      "If Gender == male and Passenger_Cat == 3rd_class, then 1_\n",
      "If Age_Cat == adult and Gender == male, then 1_\n",
      "If Gender == male, then 1_\n",
      "If Gender == male and Passenger_Cat == crew, then 1_\n",
      "If Age_Cat == adult and Gender == male and Passenger_Cat == crew, then 1_\n"
     ]
    }
   ],
   "source": [
    "for r in list_of_rules[:RULES_CUTOFF]:\n",
    "    r.print_rule()"
   ]
  },
  {
   "cell_type": "code",
   "execution_count": 8,
   "metadata": {},
   "outputs": [
    {
     "name": "stdout",
     "output_type": "stream",
     "text": [
      "722435.5\n",
      "720350.0\n",
      "{17}\n",
      "722435.5\n"
     ]
    }
   ],
   "source": [
    "lambda_array = [0.5]*7     # use separate hyperparamter search routine\n",
    "epsilon = 0.05\n",
    "soln_set, obj_val = deterministic_local_search(list_of_rules[:RULES_CUTOFF], df, Y, lambda_array, epsilon)\n",
    "print(soln_set)\n",
    "print(obj_val)"
   ]
  },
  {
   "cell_type": "markdown",
   "metadata": {},
   "source": [
    "## Final solution set"
   ]
  },
  {
   "cell_type": "code",
   "execution_count": 9,
   "metadata": {},
   "outputs": [
    {
     "name": "stdout",
     "output_type": "stream",
     "text": [
      "If Gender == male, then 1_\n"
     ]
    }
   ],
   "source": [
    "solution_rules = np.array(list_of_rules)[list(soln_set)]\n",
    "\n",
    "for r in solution_rules:\n",
    "    r.print_rule()"
   ]
  },
  {
   "cell_type": "markdown",
   "metadata": {},
   "source": [
    "# PyIDS"
   ]
  },
  {
   "cell_type": "markdown",
   "metadata": {},
   "source": [
    "## PyIDS setup"
   ]
  },
  {
   "cell_type": "code",
   "execution_count": 10,
   "metadata": {},
   "outputs": [],
   "source": [
    "import time\n",
    "\n",
    "%matplotlib inline\n",
    "\n",
    "import numpy as np\n",
    "import matplotlib.pyplot as plt\n",
    "import pandas as pd\n",
    "import random\n",
    "\n",
    "%run C:/code/python/pyids/main.py\n",
    "\n",
    "from sklearn.metrics import accuracy_score, auc, roc_auc_score\n",
    "\n",
    "from pyids.ids_rule import IDSRule\n",
    "from pyids.ids_ruleset import IDSRuleSet\n",
    "from pyids.ids_objective_function import ObjectiveFunctionParameters, IDSObjectiveFunction\n",
    "from pyids.ids_optimizer import RSOptimizer, SLSOptimizer\n",
    "from pyids.ids_cacher import IDSCacher\n",
    "from pyids.ids_classifier import IDS, mine_CARs\n",
    "\n",
    "\n",
    "from pyarc.qcba import *\n",
    "\n",
    "from pyarc.algorithms import createCARs, top_rules\n",
    "from pyarc import TransactionDB"
   ]
  },
  {
   "cell_type": "code",
   "execution_count": 11,
   "metadata": {
    "collapsed": true
   },
   "outputs": [],
   "source": [
    "quant_df = QuantitativeDataFrame(df)"
   ]
  },
  {
   "cell_type": "markdown",
   "metadata": {},
   "source": [
    "## PyIDS DLS"
   ]
  },
  {
   "cell_type": "code",
   "execution_count": 12,
   "metadata": {},
   "outputs": [
    {
     "data": {
      "text/plain": [
       "[CAR {Age_Cat=child,Passenger_Cat=2nd_class} => {Died=0_} sup: 0.01 conf: 1.00 len: 3, id: 74,\n",
       " CAR {Age_Cat=child,Passenger_Cat=2nd_class,Gender=female} => {Died=0_} sup: 0.01 conf: 1.00 len: 4, id: 75,\n",
       " CAR {Gender=male,Age_Cat=child,Passenger_Cat=2nd_class} => {Died=0_} sup: 0.01 conf: 1.00 len: 4, id: 73,\n",
       " CAR {Age_Cat=child,Passenger_Cat=1st_class} => {Died=0_} sup: 0.00 conf: 1.00 len: 3, id: 71,\n",
       " CAR {Gender=male,Age_Cat=child,Passenger_Cat=1st_class} => {Died=0_} sup: 0.00 conf: 1.00 len: 4, id: 70,\n",
       " CAR {Age_Cat=child,Passenger_Cat=1st_class,Gender=female} => {Died=0_} sup: 0.00 conf: 1.00 len: 4, id: 72,\n",
       " CAR {Gender=female,Passenger_Cat=1st_class} => {Died=0_} sup: 0.06 conf: 0.97 len: 3, id: 45,\n",
       " CAR {Age_Cat=adult,Gender=female,Passenger_Cat=1st_class} => {Died=0_} sup: 0.06 conf: 0.97 len: 4, id: 44,\n",
       " CAR {Age_Cat=adult,Gender=male,Passenger_Cat=2nd_class} => {Died=1_} sup: 0.07 conf: 0.90 len: 4, id: 47,\n",
       " CAR {Gender=female,Passenger_Cat=2nd_class} => {Died=0_} sup: 0.04 conf: 0.89 len: 3, id: 57,\n",
       " CAR {Age_Cat=adult,Gender=female,Passenger_Cat=2nd_class} => {Died=0_} sup: 0.04 conf: 0.87 len: 4, id: 56,\n",
       " CAR {Gender=male,Passenger_Cat=2nd_class} => {Died=1_} sup: 0.07 conf: 0.85 len: 3, id: 48,\n",
       " CAR {Gender=female,Passenger_Cat=crew} => {Died=0_} sup: 0.01 conf: 0.84 len: 3, id: 28,\n",
       " CAR {Age_Cat=adult,Gender=female,Passenger_Cat=crew} => {Died=0_} sup: 0.01 conf: 0.84 len: 4, id: 27,\n",
       " CAR {Age_Cat=adult,Gender=male,Passenger_Cat=3rd_class} => {Died=1_} sup: 0.17 conf: 0.83 len: 4, id: 15,\n",
       " CAR {Gender=male,Passenger_Cat=3rd_class} => {Died=1_} sup: 0.19 conf: 0.82 len: 3, id: 16,\n",
       " CAR {Age_Cat=adult,Gender=male} => {Died=1_} sup: 0.60 conf: 0.79 len: 3, id: 1,\n",
       " CAR {Gender=male} => {Died=1_} sup: 0.61 conf: 0.78 len: 2, id: 2,\n",
       " CAR {Gender=male,Passenger_Cat=crew} => {Died=1_} sup: 0.30 conf: 0.77 len: 3, id: 5,\n",
       " CAR {Age_Cat=adult,Gender=male,Passenger_Cat=crew} => {Died=1_} sup: 0.30 conf: 0.77 len: 4, id: 4]"
      ]
     },
     "execution_count": 12,
     "metadata": {},
     "output_type": "execute_result"
    }
   ],
   "source": [
    "cars[:RULES_CUTOFF]"
   ]
  },
  {
   "cell_type": "code",
   "execution_count": 16,
   "metadata": {},
   "outputs": [
    {
     "name": "stdout",
     "output_type": "stream",
     "text": [
      "cover cache prepared\n",
      "overlap cache prepared\n",
      "Testing if rule is good to add IDS-CAR {Age_Cat=adult,Gender=male,Passenger_Cat=crew} => {Died=1_} sup: 0.30 conf: 0.77 len: 4, id: 4\n",
      "Testing if rule is good to add IDS-CAR {Age_Cat=adult,Gender=female,Passenger_Cat=2nd_class} => {Died=0_} sup: 0.04 conf: 0.87 len: 4, id: 56\n",
      "Testing if rule is good to add IDS-CAR {Age_Cat=child,Passenger_Cat=2nd_class} => {Died=0_} sup: 0.01 conf: 1.00 len: 3, id: 74\n",
      "Testing if rule is good to add IDS-CAR {Gender=female,Passenger_Cat=2nd_class} => {Died=0_} sup: 0.04 conf: 0.89 len: 3, id: 57\n",
      "Testing if rule is good to add IDS-CAR {Gender=female,Passenger_Cat=crew} => {Died=0_} sup: 0.01 conf: 0.84 len: 3, id: 28\n",
      "Testing if rule is good to add IDS-CAR {Age_Cat=adult,Gender=male,Passenger_Cat=2nd_class} => {Died=1_} sup: 0.07 conf: 0.90 len: 4, id: 47\n",
      "Testing if rule is good to add IDS-CAR {Gender=male,Age_Cat=child,Passenger_Cat=1st_class} => {Died=0_} sup: 0.00 conf: 1.00 len: 4, id: 70\n",
      "Testing if rule is good to add IDS-CAR {Gender=male,Passenger_Cat=crew} => {Died=1_} sup: 0.30 conf: 0.77 len: 3, id: 5\n",
      "Testing if rule is good to add IDS-CAR {Age_Cat=child,Passenger_Cat=2nd_class,Gender=female} => {Died=0_} sup: 0.01 conf: 1.00 len: 4, id: 75\n",
      "Testing if rule is good to add IDS-CAR {Age_Cat=adult,Gender=male,Passenger_Cat=3rd_class} => {Died=1_} sup: 0.17 conf: 0.83 len: 4, id: 15\n",
      "Testing if rule is good to add IDS-CAR {Gender=male,Passenger_Cat=2nd_class} => {Died=1_} sup: 0.07 conf: 0.85 len: 3, id: 48\n",
      "Testing if rule is good to add IDS-CAR {Age_Cat=child,Passenger_Cat=1st_class} => {Died=0_} sup: 0.00 conf: 1.00 len: 3, id: 71\n",
      "Testing if rule is good to add IDS-CAR {Age_Cat=adult,Gender=male} => {Died=1_} sup: 0.60 conf: 0.79 len: 3, id: 1\n",
      "Testing if rule is good to add IDS-CAR {Age_Cat=adult,Gender=female,Passenger_Cat=1st_class} => {Died=0_} sup: 0.06 conf: 0.97 len: 4, id: 44\n",
      "Testing if rule is good to add IDS-CAR {Gender=male,Passenger_Cat=3rd_class} => {Died=1_} sup: 0.19 conf: 0.82 len: 3, id: 16\n",
      "Testing if rule is good to add IDS-CAR {Age_Cat=child,Passenger_Cat=1st_class,Gender=female} => {Died=0_} sup: 0.00 conf: 1.00 len: 4, id: 72\n",
      "Testing if rule is good to add IDS-CAR {Gender=female,Passenger_Cat=1st_class} => {Died=0_} sup: 0.06 conf: 0.97 len: 3, id: 45\n",
      "Testing if rule is good to add IDS-CAR {Gender=male,Age_Cat=child,Passenger_Cat=2nd_class} => {Died=0_} sup: 0.01 conf: 1.00 len: 4, id: 73\n",
      "Testing if rule is good to add IDS-CAR {Age_Cat=adult,Gender=female,Passenger_Cat=crew} => {Died=0_} sup: 0.01 conf: 0.84 len: 4, id: 27\n",
      "Testing should remove rule IDS-CAR {Gender=male} => {Died=1_} sup: 0.61 conf: 0.78 len: 2, id: 2\n",
      "Objective value of solution set: 722566.0\n"
     ]
    },
    {
     "data": {
      "text/plain": [
       "<pyids.ids_classifier.IDS at 0x256f3e37198>"
      ]
     },
     "execution_count": 16,
     "metadata": {},
     "output_type": "execute_result"
    }
   ],
   "source": [
    "ids = IDS()\n",
    "ids.fit(class_association_rules=cars[:RULES_CUTOFF], quant_dataframe=quant_df, algorithm=\"DLS\", lambda_array=[0.5]*7)"
   ]
  },
  {
   "cell_type": "code",
   "execution_count": 17,
   "metadata": {},
   "outputs": [
    {
     "data": {
      "text/plain": [
       "0.696455584411042"
      ]
     },
     "execution_count": 17,
     "metadata": {},
     "output_type": "execute_result"
    }
   ],
   "source": [
    "ids.score_auc(quant_df)"
   ]
  },
  {
   "cell_type": "code",
   "execution_count": 18,
   "metadata": {},
   "outputs": [
    {
     "data": {
      "text/plain": [
       "{IDS-CAR {Gender=male} => {Died=1_} sup: 0.61 conf: 0.78 len: 2, id: 2}"
      ]
     },
     "execution_count": 18,
     "metadata": {},
     "output_type": "execute_result"
    }
   ],
   "source": [
    "ids.clf.rules"
   ]
  }
 ],
 "metadata": {
  "kernelspec": {
   "display_name": "Python 3",
   "language": "python",
   "name": "python3"
  },
  "language_info": {
   "codemirror_mode": {
    "name": "ipython",
    "version": 3
   },
   "file_extension": ".py",
   "mimetype": "text/x-python",
   "name": "python",
   "nbconvert_exporter": "python",
   "pygments_lexer": "ipython3",
   "version": "3.6.1"
  }
 },
 "nbformat": 4,
 "nbformat_minor": 2
}
